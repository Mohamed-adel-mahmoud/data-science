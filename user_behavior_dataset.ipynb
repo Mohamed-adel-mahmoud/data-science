{
 "cells": [
  {
   "cell_type": "markdown",
   "id": "3277141d-432c-4832-a075-63a4f6fcc47c",
   "metadata": {},
   "source": [
    "# import lirbraries"
   ]
  },
  {
   "cell_type": "code",
   "execution_count": 116,
   "id": "075fbe32-c733-4126-8eaa-00a81db735b7",
   "metadata": {},
   "outputs": [],
   "source": [
    "import numpy as np\n",
    "import pandas as pd\n",
    "import seaborn as sns\n",
    "import matplotlib.pyplot as plt\n",
    "import plotly.express as px\n",
    "plt.style.use(\"ggplot\")\n",
    "pd.set_option('display.max_columns', 200)"
   ]
  },
  {
   "cell_type": "markdown",
   "id": "c7ebe8e0-b842-43c9-9d65-b94b0cac3a7b",
   "metadata": {},
   "source": [
    "# read the data"
   ]
  },
  {
   "cell_type": "code",
   "execution_count": 118,
   "id": "82eadadd-4725-4d31-8147-20a49654e50b",
   "metadata": {},
   "outputs": [],
   "source": [
    "df = pd.read_csv(\"user_behavior_dataset.csv\")"
   ]
  },
  {
   "cell_type": "markdown",
   "id": "25faddd9-34c8-497e-baa6-7e8fe2efd97f",
   "metadata": {},
   "source": [
    "# Explore the data"
   ]
  },
  {
   "cell_type": "code",
   "execution_count": 120,
   "id": "8e434586-6fc1-4f09-a247-2a54443bcd29",
   "metadata": {},
   "outputs": [
    {
     "data": {
      "text/plain": [
       "(700, 11)"
      ]
     },
     "execution_count": 120,
     "metadata": {},
     "output_type": "execute_result"
    }
   ],
   "source": [
    "df.shape"
   ]
  },
  {
   "cell_type": "code",
   "execution_count": 121,
   "id": "d6099d7c-9e8c-4914-ac0c-f17314387fc3",
   "metadata": {},
   "outputs": [
    {
     "data": {
      "text/html": [
       "<div>\n",
       "<style scoped>\n",
       "    .dataframe tbody tr th:only-of-type {\n",
       "        vertical-align: middle;\n",
       "    }\n",
       "\n",
       "    .dataframe tbody tr th {\n",
       "        vertical-align: top;\n",
       "    }\n",
       "\n",
       "    .dataframe thead th {\n",
       "        text-align: right;\n",
       "    }\n",
       "</style>\n",
       "<table border=\"1\" class=\"dataframe\">\n",
       "  <thead>\n",
       "    <tr style=\"text-align: right;\">\n",
       "      <th></th>\n",
       "      <th>User ID</th>\n",
       "      <th>Device Model</th>\n",
       "      <th>Operating System</th>\n",
       "      <th>App Usage Time (min/day)</th>\n",
       "      <th>Screen On Time (hours/day)</th>\n",
       "      <th>Battery Drain (mAh/day)</th>\n",
       "      <th>Number of Apps Installed</th>\n",
       "      <th>Data Usage (MB/day)</th>\n",
       "      <th>Age</th>\n",
       "      <th>Gender</th>\n",
       "      <th>User Behavior Class</th>\n",
       "    </tr>\n",
       "  </thead>\n",
       "  <tbody>\n",
       "    <tr>\n",
       "      <th>0</th>\n",
       "      <td>1</td>\n",
       "      <td>Google Pixel 5</td>\n",
       "      <td>Android</td>\n",
       "      <td>393</td>\n",
       "      <td>6.4</td>\n",
       "      <td>1872</td>\n",
       "      <td>67</td>\n",
       "      <td>1122</td>\n",
       "      <td>40</td>\n",
       "      <td>Male</td>\n",
       "      <td>4</td>\n",
       "    </tr>\n",
       "    <tr>\n",
       "      <th>1</th>\n",
       "      <td>2</td>\n",
       "      <td>OnePlus 9</td>\n",
       "      <td>Android</td>\n",
       "      <td>268</td>\n",
       "      <td>4.7</td>\n",
       "      <td>1331</td>\n",
       "      <td>42</td>\n",
       "      <td>944</td>\n",
       "      <td>47</td>\n",
       "      <td>Female</td>\n",
       "      <td>3</td>\n",
       "    </tr>\n",
       "    <tr>\n",
       "      <th>2</th>\n",
       "      <td>3</td>\n",
       "      <td>Xiaomi Mi 11</td>\n",
       "      <td>Android</td>\n",
       "      <td>154</td>\n",
       "      <td>4.0</td>\n",
       "      <td>761</td>\n",
       "      <td>32</td>\n",
       "      <td>322</td>\n",
       "      <td>42</td>\n",
       "      <td>Male</td>\n",
       "      <td>2</td>\n",
       "    </tr>\n",
       "    <tr>\n",
       "      <th>3</th>\n",
       "      <td>4</td>\n",
       "      <td>Google Pixel 5</td>\n",
       "      <td>Android</td>\n",
       "      <td>239</td>\n",
       "      <td>4.8</td>\n",
       "      <td>1676</td>\n",
       "      <td>56</td>\n",
       "      <td>871</td>\n",
       "      <td>20</td>\n",
       "      <td>Male</td>\n",
       "      <td>3</td>\n",
       "    </tr>\n",
       "    <tr>\n",
       "      <th>4</th>\n",
       "      <td>5</td>\n",
       "      <td>iPhone 12</td>\n",
       "      <td>iOS</td>\n",
       "      <td>187</td>\n",
       "      <td>4.3</td>\n",
       "      <td>1367</td>\n",
       "      <td>58</td>\n",
       "      <td>988</td>\n",
       "      <td>31</td>\n",
       "      <td>Female</td>\n",
       "      <td>3</td>\n",
       "    </tr>\n",
       "  </tbody>\n",
       "</table>\n",
       "</div>"
      ],
      "text/plain": [
       "   User ID    Device Model Operating System  App Usage Time (min/day)  \\\n",
       "0        1  Google Pixel 5          Android                       393   \n",
       "1        2       OnePlus 9          Android                       268   \n",
       "2        3    Xiaomi Mi 11          Android                       154   \n",
       "3        4  Google Pixel 5          Android                       239   \n",
       "4        5       iPhone 12              iOS                       187   \n",
       "\n",
       "   Screen On Time (hours/day)  Battery Drain (mAh/day)  \\\n",
       "0                         6.4                     1872   \n",
       "1                         4.7                     1331   \n",
       "2                         4.0                      761   \n",
       "3                         4.8                     1676   \n",
       "4                         4.3                     1367   \n",
       "\n",
       "   Number of Apps Installed  Data Usage (MB/day)  Age  Gender  \\\n",
       "0                        67                 1122   40    Male   \n",
       "1                        42                  944   47  Female   \n",
       "2                        32                  322   42    Male   \n",
       "3                        56                  871   20    Male   \n",
       "4                        58                  988   31  Female   \n",
       "\n",
       "   User Behavior Class  \n",
       "0                    4  \n",
       "1                    3  \n",
       "2                    2  \n",
       "3                    3  \n",
       "4                    3  "
      ]
     },
     "execution_count": 121,
     "metadata": {},
     "output_type": "execute_result"
    }
   ],
   "source": [
    "df.head()"
   ]
  },
  {
   "cell_type": "code",
   "execution_count": 122,
   "id": "f7b6f893-2802-478d-902c-aa929cff6c53",
   "metadata": {},
   "outputs": [
    {
     "data": {
      "text/html": [
       "<div>\n",
       "<style scoped>\n",
       "    .dataframe tbody tr th:only-of-type {\n",
       "        vertical-align: middle;\n",
       "    }\n",
       "\n",
       "    .dataframe tbody tr th {\n",
       "        vertical-align: top;\n",
       "    }\n",
       "\n",
       "    .dataframe thead th {\n",
       "        text-align: right;\n",
       "    }\n",
       "</style>\n",
       "<table border=\"1\" class=\"dataframe\">\n",
       "  <thead>\n",
       "    <tr style=\"text-align: right;\">\n",
       "      <th></th>\n",
       "      <th>count</th>\n",
       "      <th>mean</th>\n",
       "      <th>std</th>\n",
       "      <th>min</th>\n",
       "      <th>25%</th>\n",
       "      <th>50%</th>\n",
       "      <th>75%</th>\n",
       "      <th>max</th>\n",
       "    </tr>\n",
       "  </thead>\n",
       "  <tbody>\n",
       "    <tr>\n",
       "      <th>User ID</th>\n",
       "      <td>700.0</td>\n",
       "      <td>350.500000</td>\n",
       "      <td>202.216880</td>\n",
       "      <td>1.0</td>\n",
       "      <td>175.75</td>\n",
       "      <td>350.5</td>\n",
       "      <td>525.25</td>\n",
       "      <td>700.0</td>\n",
       "    </tr>\n",
       "    <tr>\n",
       "      <th>App Usage Time (min/day)</th>\n",
       "      <td>700.0</td>\n",
       "      <td>271.128571</td>\n",
       "      <td>177.199484</td>\n",
       "      <td>30.0</td>\n",
       "      <td>113.25</td>\n",
       "      <td>227.5</td>\n",
       "      <td>434.25</td>\n",
       "      <td>598.0</td>\n",
       "    </tr>\n",
       "    <tr>\n",
       "      <th>Screen On Time (hours/day)</th>\n",
       "      <td>700.0</td>\n",
       "      <td>5.272714</td>\n",
       "      <td>3.068584</td>\n",
       "      <td>1.0</td>\n",
       "      <td>2.50</td>\n",
       "      <td>4.9</td>\n",
       "      <td>7.40</td>\n",
       "      <td>12.0</td>\n",
       "    </tr>\n",
       "    <tr>\n",
       "      <th>Battery Drain (mAh/day)</th>\n",
       "      <td>700.0</td>\n",
       "      <td>1525.158571</td>\n",
       "      <td>819.136414</td>\n",
       "      <td>302.0</td>\n",
       "      <td>722.25</td>\n",
       "      <td>1502.5</td>\n",
       "      <td>2229.50</td>\n",
       "      <td>2993.0</td>\n",
       "    </tr>\n",
       "    <tr>\n",
       "      <th>Number of Apps Installed</th>\n",
       "      <td>700.0</td>\n",
       "      <td>50.681429</td>\n",
       "      <td>26.943324</td>\n",
       "      <td>10.0</td>\n",
       "      <td>26.00</td>\n",
       "      <td>49.0</td>\n",
       "      <td>74.00</td>\n",
       "      <td>99.0</td>\n",
       "    </tr>\n",
       "    <tr>\n",
       "      <th>Data Usage (MB/day)</th>\n",
       "      <td>700.0</td>\n",
       "      <td>929.742857</td>\n",
       "      <td>640.451729</td>\n",
       "      <td>102.0</td>\n",
       "      <td>373.00</td>\n",
       "      <td>823.5</td>\n",
       "      <td>1341.00</td>\n",
       "      <td>2497.0</td>\n",
       "    </tr>\n",
       "    <tr>\n",
       "      <th>Age</th>\n",
       "      <td>700.0</td>\n",
       "      <td>38.482857</td>\n",
       "      <td>12.012916</td>\n",
       "      <td>18.0</td>\n",
       "      <td>28.00</td>\n",
       "      <td>38.0</td>\n",
       "      <td>49.00</td>\n",
       "      <td>59.0</td>\n",
       "    </tr>\n",
       "    <tr>\n",
       "      <th>User Behavior Class</th>\n",
       "      <td>700.0</td>\n",
       "      <td>2.990000</td>\n",
       "      <td>1.401476</td>\n",
       "      <td>1.0</td>\n",
       "      <td>2.00</td>\n",
       "      <td>3.0</td>\n",
       "      <td>4.00</td>\n",
       "      <td>5.0</td>\n",
       "    </tr>\n",
       "  </tbody>\n",
       "</table>\n",
       "</div>"
      ],
      "text/plain": [
       "                            count         mean         std    min     25%  \\\n",
       "User ID                     700.0   350.500000  202.216880    1.0  175.75   \n",
       "App Usage Time (min/day)    700.0   271.128571  177.199484   30.0  113.25   \n",
       "Screen On Time (hours/day)  700.0     5.272714    3.068584    1.0    2.50   \n",
       "Battery Drain (mAh/day)     700.0  1525.158571  819.136414  302.0  722.25   \n",
       "Number of Apps Installed    700.0    50.681429   26.943324   10.0   26.00   \n",
       "Data Usage (MB/day)         700.0   929.742857  640.451729  102.0  373.00   \n",
       "Age                         700.0    38.482857   12.012916   18.0   28.00   \n",
       "User Behavior Class         700.0     2.990000    1.401476    1.0    2.00   \n",
       "\n",
       "                               50%      75%     max  \n",
       "User ID                      350.5   525.25   700.0  \n",
       "App Usage Time (min/day)     227.5   434.25   598.0  \n",
       "Screen On Time (hours/day)     4.9     7.40    12.0  \n",
       "Battery Drain (mAh/day)     1502.5  2229.50  2993.0  \n",
       "Number of Apps Installed      49.0    74.00    99.0  \n",
       "Data Usage (MB/day)          823.5  1341.00  2497.0  \n",
       "Age                           38.0    49.00    59.0  \n",
       "User Behavior Class            3.0     4.00     5.0  "
      ]
     },
     "execution_count": 122,
     "metadata": {},
     "output_type": "execute_result"
    }
   ],
   "source": [
    "df.describe().T"
   ]
  },
  {
   "cell_type": "code",
   "execution_count": 123,
   "id": "c0c0b3b6-c8a3-4fe9-be51-3e08cef68916",
   "metadata": {},
   "outputs": [
    {
     "data": {
      "text/plain": [
       "User ID                       700\n",
       "Device Model                    5\n",
       "Operating System                2\n",
       "App Usage Time (min/day)      387\n",
       "Screen On Time (hours/day)    108\n",
       "Battery Drain (mAh/day)       628\n",
       "Number of Apps Installed       86\n",
       "Data Usage (MB/day)           585\n",
       "Age                            42\n",
       "Gender                          2\n",
       "User Behavior Class             5\n",
       "dtype: int64"
      ]
     },
     "execution_count": 123,
     "metadata": {},
     "output_type": "execute_result"
    }
   ],
   "source": [
    "df.nunique()"
   ]
  },
  {
   "cell_type": "code",
   "execution_count": 124,
   "id": "7339163e-9dd2-4223-856d-cd0cf98231d3",
   "metadata": {},
   "outputs": [
    {
     "name": "stdout",
     "output_type": "stream",
     "text": [
      "<class 'pandas.core.frame.DataFrame'>\n",
      "RangeIndex: 700 entries, 0 to 699\n",
      "Data columns (total 11 columns):\n",
      " #   Column                      Non-Null Count  Dtype  \n",
      "---  ------                      --------------  -----  \n",
      " 0   User ID                     700 non-null    int64  \n",
      " 1   Device Model                700 non-null    object \n",
      " 2   Operating System            700 non-null    object \n",
      " 3   App Usage Time (min/day)    700 non-null    int64  \n",
      " 4   Screen On Time (hours/day)  700 non-null    float64\n",
      " 5   Battery Drain (mAh/day)     700 non-null    int64  \n",
      " 6   Number of Apps Installed    700 non-null    int64  \n",
      " 7   Data Usage (MB/day)         700 non-null    int64  \n",
      " 8   Age                         700 non-null    int64  \n",
      " 9   Gender                      700 non-null    object \n",
      " 10  User Behavior Class         700 non-null    int64  \n",
      "dtypes: float64(1), int64(7), object(3)\n",
      "memory usage: 60.3+ KB\n"
     ]
    }
   ],
   "source": [
    "df.info()"
   ]
  },
  {
   "cell_type": "markdown",
   "id": "abfa07e6-d90d-4c07-8e46-55d072519045",
   "metadata": {},
   "source": [
    "### drop irrelevant columns"
   ]
  },
  {
   "cell_type": "code",
   "execution_count": 126,
   "id": "bc0637e9-2739-4cde-99e4-cc25703a8558",
   "metadata": {},
   "outputs": [],
   "source": [
    "df.drop(\"User ID\", axis = 1, inplace = True)"
   ]
  },
  {
   "cell_type": "markdown",
   "id": "302edfe4-0239-4e68-bb4f-bdf62568d840",
   "metadata": {},
   "source": [
    "### duplicated"
   ]
  },
  {
   "cell_type": "code",
   "execution_count": 128,
   "id": "492a9bd5-0701-4fe5-aeef-75829235767d",
   "metadata": {},
   "outputs": [
    {
     "data": {
      "text/plain": [
       "0"
      ]
     },
     "execution_count": 128,
     "metadata": {},
     "output_type": "execute_result"
    }
   ],
   "source": [
    "df.duplicated().sum()"
   ]
  },
  {
   "cell_type": "markdown",
   "id": "e2c55f8d-ffa4-4069-8ebc-3afad97fddec",
   "metadata": {},
   "source": [
    "### null values"
   ]
  },
  {
   "cell_type": "code",
   "execution_count": 130,
   "id": "ecfb7ff4-afc0-49d6-bbe5-5c758060e025",
   "metadata": {},
   "outputs": [
    {
     "data": {
      "text/plain": [
       "Device Model                  0\n",
       "Operating System              0\n",
       "App Usage Time (min/day)      0\n",
       "Screen On Time (hours/day)    0\n",
       "Battery Drain (mAh/day)       0\n",
       "Number of Apps Installed      0\n",
       "Data Usage (MB/day)           0\n",
       "Age                           0\n",
       "Gender                        0\n",
       "User Behavior Class           0\n",
       "dtype: int64"
      ]
     },
     "execution_count": 130,
     "metadata": {},
     "output_type": "execute_result"
    }
   ],
   "source": [
    "df.isnull().sum()"
   ]
  },
  {
   "cell_type": "markdown",
   "id": "44e50712-2995-4510-a2b0-053dea3b6151",
   "metadata": {},
   "source": [
    "# heatmap corrolation"
   ]
  },
  {
   "cell_type": "code",
   "execution_count": 132,
   "id": "fb8306cb-7188-4a32-97a0-e692ddde22b6",
   "metadata": {},
   "outputs": [
    {
     "data": {
      "text/plain": [
       "<Axes: >"
      ]
     },
     "execution_count": 132,
     "metadata": {},
     "output_type": "execute_result"
    },
    {
     "data": {
      "image/png": "[encoded data removed]",
      "text/plain": [
       "<Figure size 700x500 with 2 Axes>"
      ]
     },
     "metadata": {},
     "output_type": "display_data"
    }
   ],
   "source": [
    "plt.figure(figsize = (7,5))\n",
    "sns.heatmap(data = df.corr(numeric_only=True), annot = True, fmt=\".2f\")"
   ]
  },
  {
   "cell_type": "code",
   "execution_count": 133,
   "id": "457b5248-dd31-4cc8-88e9-0e9fbd562ec8",
   "metadata": {},
   "outputs": [],
   "source": [
    "# drop the weak corrolation \n",
    "df.drop(\"Age\", axis = 1, inplace = True)\n",
    "# i can also drop the columns that have a strong corrolation with the y and keep one of them"
   ]
  },
  {
   "cell_type": "markdown",
   "id": "76df7dfc-213d-4b90-9c95-1e41329dad9a",
   "metadata": {},
   "source": [
    "# vasualization"
   ]
  },
  {
   "cell_type": "code",
   "execution_count": 135,
   "id": "7c2994ad-a520-4449-bfb5-39353bb838bb",
   "metadata": {},
   "outputs": [
    {
     "data": {
      "application/vnd.plotly.v1+json": {
       "config": {
        "plotlyServerURL": "https://plot.ly"
       },
       "data": [
        {
         "alignmentgroup": "True",
         "hovertemplate": "x=%{x}<br>y=%{y}<br>text=%{text}<br>color=%{marker.color}<extra></extra>",
         "legendgroup": "",
         "marker": {
          "color": [
           133,
           133,
           142,
           146,
           146
          ],
          "coloraxis": "coloraxis",
          "pattern": {
           "shape": ""
          }
         },
         "name": "",
         "offsetgroup": "",
         "orientation": "v",
         "showlegend": false,
         "text": [
          133,
          133,
          142,
          146,
          146
         ],
         "textposition": "auto",
         "type": "bar",
         "x": [
          "OnePlus 9",
          "Samsung Galaxy S21",
          "Google Pixel 5",
          "Xiaomi Mi 11",
          "iPhone 12"
         ],
         "xaxis": "x",
         "y": [
          133,
          133,
          142,
          146,
          146
         ],
         "yaxis": "y"
        }
       ],
       "layout": {
        "autosize": true,
        "barmode": "relative",
        "coloraxis": {
         "colorbar": {
          "title": {
           "text": "color"
          }
         },
         "colorscale": [
          [
           0,
           "#0d0887"
          ],
          [
           0.1111111111111111,
           "#46039f"
          ],
          [
           0.2222222222222222,
           "#7201a8"
          ],
          [
           0.3333333333333333,
           "#9c179e"
          ],
          [
           0.4444444444444444,
           "#bd3786"
          ],
          [
           0.5555555555555556,
           "#d8576b"
          ],
          [
           0.6666666666666666,
           "#ed7953"
          ],
          [
           0.7777777777777778,
           "#fb9f3a"
          ],
          [
           0.8888888888888888,
           "#fdca26"
          ],
          [
           1,
           "#f0f921"
          ]
         ]
        },
        "legend": {
         "tracegroupgap": 0
        },
        "margin": {
         "t": 60
        },
        "template": {
         "data": {
          "bar": [
           {
            "error_x": {
             "color": "#2a3f5f"
            },
            "error_y": {
             "color": "#2a3f5f"
            },
            "marker": {
             "line": {
              "color": "#E5ECF6",
              "width": 0.5
             },
             "pattern": {
              "fillmode": "overlay",
              "size": 10,
              "solidity": 0.2
             }
            },
            "type": "bar"
           }
          ],
          "barpolar": [
           {
            "marker": {
             "line": {
              "color": "#E5ECF6",
              "width": 0.5
             },
             "pattern": {
              "fillmode": "overlay",
              "size": 10,
              "solidity": 0.2
             }
            },
            "type": "barpolar"
           }
          ],
          "carpet": [
           {
            "aaxis": {
             "endlinecolor": "#2a3f5f",
             "gridcolor": "white",
             "linecolor": "white",
             "minorgridcolor": "white",
             "startlinecolor": "#2a3f5f"
            },
            "baxis": {
             "endlinecolor": "#2a3f5f",
             "gridcolor": "white",
             "linecolor": "white",
             "minorgridcolor": "white",
             "startlinecolor": "#2a3f5f"
            },
            "type": "carpet"
           }
          ],
          "choropleth": [
           {
            "colorbar": {
             "outlinewidth": 0,
             "ticks": ""
            },
            "type": "choropleth"
           }
          ],
          "contour": [
           {
            "colorbar": {
             "outlinewidth": 0,
             "ticks": ""
            },
            "colorscale": [
             [
              0,
              "#0d0887"
             ],
             [
              0.1111111111111111,
              "#46039f"
             ],
             [
              0.2222222222222222,
              "#7201a8"
             ],
             [
              0.3333333333333333,
              "#9c179e"
             ],
             [
              0.4444444444444444,
              "#bd3786"
             ],
             [
              0.5555555555555556,
              "#d8576b"
             ],
             [
              0.6666666666666666,
              "#ed7953"
             ],
             [
              0.7777777777777778,
              "#fb9f3a"
             ],
             [
              0.8888888888888888,
              "#fdca26"
             ],
             [
              1,
              "#f0f921"
             ]
            ],
            "type": "contour"
           }
          ],
          "contourcarpet": [
           {
            "colorbar": {
             "outlinewidth": 0,
             "ticks": ""
            },
            "type": "contourcarpet"
           }
          ],
          "heatmap": [
           {
            "colorbar": {
             "outlinewidth": 0,
             "ticks": ""
            },
            "colorscale": [
             [
              0,
              "#0d0887"
             ],
             [
              0.1111111111111111,
              "#46039f"
             ],
             [
              0.2222222222222222,
              "#7201a8"
             ],
             [
              0.3333333333333333,
              "#9c179e"
             ],
             [
              0.4444444444444444,
              "#bd3786"
             ],
             [
              0.5555555555555556,
              "#d8576b"
             ],
             [
              0.6666666666666666,
              "#ed7953"
             ],
             [
              0.7777777777777778,
              "#fb9f3a"
             ],
             [
              0.8888888888888888,
              "#fdca26"
             ],
             [
              1,
              "#f0f921"
             ]
            ],
            "type": "heatmap"
           }
          ],
          "heatmapgl": [
           {
            "colorbar": {
             "outlinewidth": 0,
             "ticks": ""
            },
            "colorscale": [
             [
              0,
              "#0d0887"
             ],
             [
              0.1111111111111111,
              "#46039f"
             ],
             [
              0.2222222222222222,
              "#7201a8"
             ],
             [
              0.3333333333333333,
              "#9c179e"
             ],
             [
              0.4444444444444444,
              "#bd3786"
             ],
             [
              0.5555555555555556,
              "#d8576b"
             ],
             [
              0.6666666666666666,
              "#ed7953"
             ],
             [
              0.7777777777777778,
              "#fb9f3a"
             ],
             [
              0.8888888888888888,
              "#fdca26"
             ],
             [
              1,
              "#f0f921"
             ]
            ],
            "type": "heatmapgl"
           }
          ],
          "histogram": [
           {
            "marker": {
             "pattern": {
              "fillmode": "overlay",
              "size": 10,
              "solidity": 0.2
             }
            },
            "type": "histogram"
           }
          ],
          "histogram2d": [
           {
            "colorbar": {
             "outlinewidth": 0,
             "ticks": ""
            },
            "colorscale": [
             [
              0,
              "#0d0887"
             ],
             [
              0.1111111111111111,
              "#46039f"
             ],
             [
              0.2222222222222222,
              "#7201a8"
             ],
             [
              0.3333333333333333,
              "#9c179e"
             ],
             [
              0.4444444444444444,
              "#bd3786"
             ],
             [
              0.5555555555555556,
              "#d8576b"
             ],
             [
              0.6666666666666666,
              "#ed7953"
             ],
             [
              0.7777777777777778,
              "#fb9f3a"
             ],
             [
              0.8888888888888888,
              "#fdca26"
             ],
             [
              1,
              "#f0f921"
             ]
            ],
            "type": "histogram2d"
           }
          ],
          "histogram2dcontour": [
           {
            "colorbar": {
             "outlinewidth": 0,
             "ticks": ""
            },
            "colorscale": [
             [
              0,
              "#0d0887"
             ],
             [
              0.1111111111111111,
              "#46039f"
             ],
             [
              0.2222222222222222,
              "#7201a8"
             ],
             [
              0.3333333333333333,
              "#9c179e"
             ],
             [
              0.4444444444444444,
              "#bd3786"
             ],
             [
              0.5555555555555556,
              "#d8576b"
             ],
             [
              0.6666666666666666,
              "#ed7953"
             ],
             [
              0.7777777777777778,
              "#fb9f3a"
             ],
             [
              0.8888888888888888,
              "#fdca26"
             ],
             [
              1,
              "#f0f921"
             ]
            ],
            "type": "histogram2dcontour"
           }
          ],
          "mesh3d": [
           {
            "colorbar": {
             "outlinewidth": 0,
             "ticks": ""
            },
            "type": "mesh3d"
           }
          ],
          "parcoords": [
           {
            "line": {
             "colorbar": {
              "outlinewidth": 0,
              "ticks": ""
             }
            },
            "type": "parcoords"
           }
          ],
          "pie": [
           {
            "automargin": true,
            "type": "pie"
           }
          ],
          "scatter": [
           {
            "fillpattern": {
             "fillmode": "overlay",
             "size": 10,
             "solidity": 0.2
            },
            "type": "scatter"
           }
          ],
          "scatter3d": [
           {
            "line": {
             "colorbar": {
              "outlinewidth": 0,
              "ticks": ""
             }
            },
            "marker": {
             "colorbar": {
              "outlinewidth": 0,
              "ticks": ""
             }
            },
            "type": "scatter3d"
           }
          ],
          "scattercarpet": [
           {
            "marker": {
             "colorbar": {
              "outlinewidth": 0,
              "ticks": ""
             }
            },
            "type": "scattercarpet"
           }
          ],
          "scattergeo": [
           {
            "marker": {
             "colorbar": {
              "outlinewidth": 0,
              "ticks": ""
             }
            },
            "type": "scattergeo"
           }
          ],
          "scattergl": [
           {
            "marker": {
             "colorbar": {
              "outlinewidth": 0,
              "ticks": ""
             }
            },
            "type": "scattergl"
           }
          ],
          "scattermapbox": [
           {
            "marker": {
             "colorbar": {
              "outlinewidth": 0,
              "ticks": ""
             }
            },
            "type": "scattermapbox"
           }
          ],
          "scatterpolar": [
           {
            "marker": {
             "colorbar": {
              "outlinewidth": 0,
              "ticks": ""
             }
            },
            "type": "scatterpolar"
           }
          ],
          "scatterpolargl": [
           {
            "marker": {
             "colorbar": {
              "outlinewidth": 0,
              "ticks": ""
             }
            },
            "type": "scatterpolargl"
           }
          ],
          "scatterternary": [
           {
            "marker": {
             "colorbar": {
              "outlinewidth": 0,
              "ticks": ""
             }
            },
            "type": "scatterternary"
           }
          ],
          "surface": [
           {
            "colorbar": {
             "outlinewidth": 0,
             "ticks": ""
            },
            "colorscale": [
             [
              0,
              "#0d0887"
             ],
             [
              0.1111111111111111,
              "#46039f"
             ],
             [
              0.2222222222222222,
              "#7201a8"
             ],
             [
              0.3333333333333333,
              "#9c179e"
             ],
             [
              0.4444444444444444,
              "#bd3786"
             ],
             [
              0.5555555555555556,
              "#d8576b"
             ],
             [
              0.6666666666666666,
              "#ed7953"
             ],
             [
              0.7777777777777778,
              "#fb9f3a"
             ],
             [
              0.8888888888888888,
              "#fdca26"
             ],
             [
              1,
              "#f0f921"
             ]
            ],
            "type": "surface"
           }
          ],
          "table": [
           {
            "cells": {
             "fill": {
              "color": "#EBF0F8"
             },
             "line": {
              "color": "white"
             }
            },
            "header": {
             "fill": {
              "color": "#C8D4E3"
             },
             "line": {
              "color": "white"
             }
            },
            "type": "table"
           }
          ]
         },
         "layout": {
          "annotationdefaults": {
           "arrowcolor": "#2a3f5f",
           "arrowhead": 0,
           "arrowwidth": 1
          },
          "autotypenumbers": "strict",
          "coloraxis": {
           "colorbar": {
            "outlinewidth": 0,
            "ticks": ""
           }
          },
          "colorscale": {
           "diverging": [
            [
             0,
             "#8e0152"
            ],
            [
             0.1,
             "#c51b7d"
            ],
            [
             0.2,
             "#de77ae"
            ],
            [
             0.3,
             "#f1b6da"
            ],
            [
             0.4,
             "#fde0ef"
            ],
            [
             0.5,
             "#f7f7f7"
            ],
            [
             0.6,
             "#e6f5d0"
            ],
            [
             0.7,
             "#b8e186"
            ],
            [
             0.8,
             "#7fbc41"
            ],
            [
             0.9,
             "#4d9221"
            ],
            [
             1,
             "#276419"
            ]
           ],
           "sequential": [
            [
             0,
             "#0d0887"
            ],
            [
             0.1111111111111111,
             "#46039f"
            ],
            [
             0.2222222222222222,
             "#7201a8"
            ],
            [
             0.3333333333333333,
             "#9c179e"
            ],
            [
             0.4444444444444444,
             "#bd3786"
            ],
            [
             0.5555555555555556,
             "#d8576b"
            ],
            [
             0.6666666666666666,
             "#ed7953"
            ],
            [
             0.7777777777777778,
             "#fb9f3a"
            ],
            [
             0.8888888888888888,
             "#fdca26"
            ],
            [
             1,
             "#f0f921"
            ]
           ],
           "sequentialminus": [
            [
             0,
             "#0d0887"
            ],
            [
             0.1111111111111111,
             "#46039f"
            ],
            [
             0.2222222222222222,
             "#7201a8"
            ],
            [
             0.3333333333333333,
             "#9c179e"
            ],
            [
             0.4444444444444444,
             "#bd3786"
            ],
            [
             0.5555555555555556,
             "#d8576b"
            ],
            [
             0.6666666666666666,
             "#ed7953"
            ],
            [
             0.7777777777777778,
             "#fb9f3a"
            ],
            [
             0.8888888888888888,
             "#fdca26"
            ],
            [
             1,
             "#f0f921"
            ]
           ]
          },
          "colorway": [
           "#636efa",
           "#EF553B",
           "#00cc96",
           "#ab63fa",
           "#FFA15A",
           "#19d3f3",
           "#FF6692",
           "#B6E880",
           "#FF97FF",
           "#FECB52"
          ],
          "font": {
           "color": "#2a3f5f"
          },
          "geo": {
           "bgcolor": "white",
           "lakecolor": "white",
           "landcolor": "#E5ECF6",
           "showlakes": true,
           "showland": true,
           "subunitcolor": "white"
          },
          "hoverlabel": {
           "align": "left"
          },
          "hovermode": "closest",
          "mapbox": {
           "style": "light"
          },
          "paper_bgcolor": "white",
          "plot_bgcolor": "#E5ECF6",
          "polar": {
           "angularaxis": {
            "gridcolor": "white",
            "linecolor": "white",
            "ticks": ""
           },
           "bgcolor": "#E5ECF6",
           "radialaxis": {
            "gridcolor": "white",
            "linecolor": "white",
            "ticks": ""
           }
          },
          "scene": {
           "xaxis": {
            "backgroundcolor": "#E5ECF6",
            "gridcolor": "white",
            "gridwidth": 2,
            "linecolor": "white",
            "showbackground": true,
            "ticks": "",
            "zerolinecolor": "white"
           },
           "yaxis": {
            "backgroundcolor": "#E5ECF6",
            "gridcolor": "white",
            "gridwidth": 2,
            "linecolor": "white",
            "showbackground": true,
            "ticks": "",
            "zerolinecolor": "white"
           },
           "zaxis": {
            "backgroundcolor": "#E5ECF6",
            "gridcolor": "white",
            "gridwidth": 2,
            "linecolor": "white",
            "showbackground": true,
            "ticks": "",
            "zerolinecolor": "white"
           }
          },
          "shapedefaults": {
           "line": {
            "color": "#2a3f5f"
           }
          },
          "ternary": {
           "aaxis": {
            "gridcolor": "white",
            "linecolor": "white",
            "ticks": ""
           },
           "baxis": {
            "gridcolor": "white",
            "linecolor": "white",
            "ticks": ""
           },
           "bgcolor": "#E5ECF6",
           "caxis": {
            "gridcolor": "white",
            "linecolor": "white",
            "ticks": ""
           }
          },
          "title": {
           "x": 0.05
          },
          "xaxis": {
           "automargin": true,
           "gridcolor": "white",
           "linecolor": "white",
           "ticks": "",
           "title": {
            "standoff": 15
           },
           "zerolinecolor": "white",
           "zerolinewidth": 2
          },
          "yaxis": {
           "automargin": true,
           "gridcolor": "white",
           "linecolor": "white",
           "ticks": "",
           "title": {
            "standoff": 15
           },
           "zerolinecolor": "white",
           "zerolinewidth": 2
          }
         }
        },
        "xaxis": {
         "anchor": "y",
         "autorange": true,
         "domain": [
          0,
          1
         ],
         "range": [
          -0.5,
          4.5
         ],
         "title": {
          "text": "x"
         },
         "type": "category"
        },
        "yaxis": {
         "anchor": "x",
         "autorange": true,
         "domain": [
          0,
          1
         ],
         "range": [
          0,
          153.68421052631578
         ],
         "title": {
          "text": "y"
         },
         "type": "linear"
        }
       }
      },
      "image/png": "[encoded data removed]",
      "text/html": [
       "<div>                            <div id=\"1ebaf3d6-c43b-4e5c-9903-3f715eb51bf7\" class=\"plotly-graph-div\" style=\"height:525px; width:100%;\"></div>            <script type=\"text/javascript\">                require([\"plotly\"], function(Plotly) {                    window.PLOTLYENV=window.PLOTLYENV || {};                                    if (document.getElementById(\"1ebaf3d6-c43b-4e5c-9903-3f715eb51bf7\")) {                    Plotly.newPlot(                        \"1ebaf3d6-c43b-4e5c-9903-3f715eb51bf7\",                        [{\"alignmentgroup\":\"True\",\"hovertemplate\":\"x=%{x}\\u003cbr\\u003ey=%{y}\\u003cbr\\u003etext=%{text}\\u003cbr\\u003ecolor=%{marker.color}\\u003cextra\\u003e\\u003c\\u002fextra\\u003e\",\"legendgroup\":\"\",\"marker\":{\"color\":[133,133,142,146,146],\"coloraxis\":\"coloraxis\",\"pattern\":{\"shape\":\"\"}},\"name\":\"\",\"offsetgroup\":\"\",\"orientation\":\"v\",\"showlegend\":false,\"text\":[133.0,133.0,142.0,146.0,146.0],\"textposition\":\"auto\",\"x\":[\"OnePlus 9\",\"Samsung Galaxy S21\",\"Google Pixel 5\",\"Xiaomi Mi 11\",\"iPhone 12\"],\"xaxis\":\"x\",\"y\":[133,133,142,146,146],\"yaxis\":\"y\",\"type\":\"bar\"}],                        {\"template\":{\"data\":{\"histogram2dcontour\":[{\"type\":\"histogram2dcontour\",\"colorbar\":{\"outlinewidth\":0,\"ticks\":\"\"},\"colorscale\":[[0.0,\"#0d0887\"],[0.1111111111111111,\"#46039f\"],[0.2222222222222222,\"#7201a8\"],[0.3333333333333333,\"#9c179e\"],[0.4444444444444444,\"#bd3786\"],[0.5555555555555556,\"#d8576b\"],[0.6666666666666666,\"#ed7953\"],[0.7777777777777778,\"#fb9f3a\"],[0.8888888888888888,\"#fdca26\"],[1.0,\"#f0f921\"]]}],\"choropleth\":[{\"type\":\"choropleth\",\"colorbar\":{\"outlinewidth\":0,\"ticks\":\"\"}}],\"histogram2d\":[{\"type\":\"histogram2d\",\"colorbar\":{\"outlinewidth\":0,\"ticks\":\"\"},\"colorscale\":[[0.0,\"#0d0887\"],[0.1111111111111111,\"#46039f\"],[0.2222222222222222,\"#7201a8\"],[0.3333333333333333,\"#9c179e\"],[0.4444444444444444,\"#bd3786\"],[0.5555555555555556,\"#d8576b\"],[0.6666666666666666,\"#ed7953\"],[0.7777777777777778,\"#fb9f3a\"],[0.8888888888888888,\"#fdca26\"],[1.0,\"#f0f921\"]]}],\"heatmap\":[{\"type\":\"heatmap\",\"colorbar\":{\"outlinewidth\":0,\"ticks\":\"\"},\"colorscale\":[[0.0,\"#0d0887\"],[0.1111111111111111,\"#46039f\"],[0.2222222222222222,\"#7201a8\"],[0.3333333333333333,\"#9c179e\"],[0.4444444444444444,\"#bd3786\"],[0.5555555555555556,\"#d8576b\"],[0.6666666666666666,\"#ed7953\"],[0.7777777777777778,\"#fb9f3a\"],[0.8888888888888888,\"#fdca26\"],[1.0,\"#f0f921\"]]}],\"heatmapgl\":[{\"type\":\"heatmapgl\",\"colorbar\":{\"outlinewidth\":0,\"ticks\":\"\"},\"colorscale\":[[0.0,\"#0d0887\"],[0.1111111111111111,\"#46039f\"],[0.2222222222222222,\"#7201a8\"],[0.3333333333333333,\"#9c179e\"],[0.4444444444444444,\"#bd3786\"],[0.5555555555555556,\"#d8576b\"],[0.6666666666666666,\"#ed7953\"],[0.7777777777777778,\"#fb9f3a\"],[0.8888888888888888,\"#fdca26\"],[1.0,\"#f0f921\"]]}],\"contourcarpet\":[{\"type\":\"contourcarpet\",\"colorbar\":{\"outlinewidth\":0,\"ticks\":\"\"}}],\"contour\":[{\"type\":\"contour\",\"colorbar\":{\"outlinewidth\":0,\"ticks\":\"\"},\"colorscale\":[[0.0,\"#0d0887\"],[0.1111111111111111,\"#46039f\"],[0.2222222222222222,\"#7201a8\"],[0.3333333333333333,\"#9c179e\"],[0.4444444444444444,\"#bd3786\"],[0.5555555555555556,\"#d8576b\"],[0.6666666666666666,\"#ed7953\"],[0.7777777777777778,\"#fb9f3a\"],[0.8888888888888888,\"#fdca26\"],[1.0,\"#f0f921\"]]}],\"surface\":[{\"type\":\"surface\",\"colorbar\":{\"outlinewidth\":0,\"ticks\":\"\"},\"colorscale\":[[0.0,\"#0d0887\"],[0.1111111111111111,\"#46039f\"],[0.2222222222222222,\"#7201a8\"],[0.3333333333333333,\"#9c179e\"],[0.4444444444444444,\"#bd3786\"],[0.5555555555555556,\"#d8576b\"],[0.6666666666666666,\"#ed7953\"],[0.7777777777777778,\"#fb9f3a\"],[0.8888888888888888,\"#fdca26\"],[1.0,\"#f0f921\"]]}],\"mesh3d\":[{\"type\":\"mesh3d\",\"colorbar\":{\"outlinewidth\":0,\"ticks\":\"\"}}],\"scatter\":[{\"fillpattern\":{\"fillmode\":\"overlay\",\"size\":10,\"solidity\":0.2},\"type\":\"scatter\"}],\"parcoords\":[{\"type\":\"parcoords\",\"line\":{\"colorbar\":{\"outlinewidth\":0,\"ticks\":\"\"}}}],\"scatterpolargl\":[{\"type\":\"scatterpolargl\",\"marker\":{\"colorbar\":{\"outlinewidth\":0,\"ticks\":\"\"}}}],\"bar\":[{\"error_x\":{\"color\":\"#2a3f5f\"},\"error_y\":{\"color\":\"#2a3f5f\"},\"marker\":{\"line\":{\"color\":\"#E5ECF6\",\"width\":0.5},\"pattern\":{\"fillmode\":\"overlay\",\"size\":10,\"solidity\":0.2}},\"type\":\"bar\"}],\"scattergeo\":[{\"type\":\"scattergeo\",\"marker\":{\"colorbar\":{\"outlinewidth\":0,\"ticks\":\"\"}}}],\"scatterpolar\":[{\"type\":\"scatterpolar\",\"marker\":{\"colorbar\":{\"outlinewidth\":0,\"ticks\":\"\"}}}],\"histogram\":[{\"marker\":{\"pattern\":{\"fillmode\":\"overlay\",\"size\":10,\"solidity\":0.2}},\"type\":\"histogram\"}],\"scattergl\":[{\"type\":\"scattergl\",\"marker\":{\"colorbar\":{\"outlinewidth\":0,\"ticks\":\"\"}}}],\"scatter3d\":[{\"type\":\"scatter3d\",\"line\":{\"colorbar\":{\"outlinewidth\":0,\"ticks\":\"\"}},\"marker\":{\"colorbar\":{\"outlinewidth\":0,\"ticks\":\"\"}}}],\"scattermapbox\":[{\"type\":\"scattermapbox\",\"marker\":{\"colorbar\":{\"outlinewidth\":0,\"ticks\":\"\"}}}],\"scatterternary\":[{\"type\":\"scatterternary\",\"marker\":{\"colorbar\":{\"outlinewidth\":0,\"ticks\":\"\"}}}],\"scattercarpet\":[{\"type\":\"scattercarpet\",\"marker\":{\"colorbar\":{\"outlinewidth\":0,\"ticks\":\"\"}}}],\"carpet\":[{\"aaxis\":{\"endlinecolor\":\"#2a3f5f\",\"gridcolor\":\"white\",\"linecolor\":\"white\",\"minorgridcolor\":\"white\",\"startlinecolor\":\"#2a3f5f\"},\"baxis\":{\"endlinecolor\":\"#2a3f5f\",\"gridcolor\":\"white\",\"linecolor\":\"white\",\"minorgridcolor\":\"white\",\"startlinecolor\":\"#2a3f5f\"},\"type\":\"carpet\"}],\"table\":[{\"cells\":{\"fill\":{\"color\":\"#EBF0F8\"},\"line\":{\"color\":\"white\"}},\"header\":{\"fill\":{\"color\":\"#C8D4E3\"},\"line\":{\"color\":\"white\"}},\"type\":\"table\"}],\"barpolar\":[{\"marker\":{\"line\":{\"color\":\"#E5ECF6\",\"width\":0.5},\"pattern\":{\"fillmode\":\"overlay\",\"size\":10,\"solidity\":0.2}},\"type\":\"barpolar\"}],\"pie\":[{\"automargin\":true,\"type\":\"pie\"}]},\"layout\":{\"autotypenumbers\":\"strict\",\"colorway\":[\"#636efa\",\"#EF553B\",\"#00cc96\",\"#ab63fa\",\"#FFA15A\",\"#19d3f3\",\"#FF6692\",\"#B6E880\",\"#FF97FF\",\"#FECB52\"],\"font\":{\"color\":\"#2a3f5f\"},\"hovermode\":\"closest\",\"hoverlabel\":{\"align\":\"left\"},\"paper_bgcolor\":\"white\",\"plot_bgcolor\":\"#E5ECF6\",\"polar\":{\"bgcolor\":\"#E5ECF6\",\"angularaxis\":{\"gridcolor\":\"white\",\"linecolor\":\"white\",\"ticks\":\"\"},\"radialaxis\":{\"gridcolor\":\"white\",\"linecolor\":\"white\",\"ticks\":\"\"}},\"ternary\":{\"bgcolor\":\"#E5ECF6\",\"aaxis\":{\"gridcolor\":\"white\",\"linecolor\":\"white\",\"ticks\":\"\"},\"baxis\":{\"gridcolor\":\"white\",\"linecolor\":\"white\",\"ticks\":\"\"},\"caxis\":{\"gridcolor\":\"white\",\"linecolor\":\"white\",\"ticks\":\"\"}},\"coloraxis\":{\"colorbar\":{\"outlinewidth\":0,\"ticks\":\"\"}},\"colorscale\":{\"sequential\":[[0.0,\"#0d0887\"],[0.1111111111111111,\"#46039f\"],[0.2222222222222222,\"#7201a8\"],[0.3333333333333333,\"#9c179e\"],[0.4444444444444444,\"#bd3786\"],[0.5555555555555556,\"#d8576b\"],[0.6666666666666666,\"#ed7953\"],[0.7777777777777778,\"#fb9f3a\"],[0.8888888888888888,\"#fdca26\"],[1.0,\"#f0f921\"]],\"sequentialminus\":[[0.0,\"#0d0887\"],[0.1111111111111111,\"#46039f\"],[0.2222222222222222,\"#7201a8\"],[0.3333333333333333,\"#9c179e\"],[0.4444444444444444,\"#bd3786\"],[0.5555555555555556,\"#d8576b\"],[0.6666666666666666,\"#ed7953\"],[0.7777777777777778,\"#fb9f3a\"],[0.8888888888888888,\"#fdca26\"],[1.0,\"#f0f921\"]],\"diverging\":[[0,\"#8e0152\"],[0.1,\"#c51b7d\"],[0.2,\"#de77ae\"],[0.3,\"#f1b6da\"],[0.4,\"#fde0ef\"],[0.5,\"#f7f7f7\"],[0.6,\"#e6f5d0\"],[0.7,\"#b8e186\"],[0.8,\"#7fbc41\"],[0.9,\"#4d9221\"],[1,\"#276419\"]]},\"xaxis\":{\"gridcolor\":\"white\",\"linecolor\":\"white\",\"ticks\":\"\",\"title\":{\"standoff\":15},\"zerolinecolor\":\"white\",\"automargin\":true,\"zerolinewidth\":2},\"yaxis\":{\"gridcolor\":\"white\",\"linecolor\":\"white\",\"ticks\":\"\",\"title\":{\"standoff\":15},\"zerolinecolor\":\"white\",\"automargin\":true,\"zerolinewidth\":2},\"scene\":{\"xaxis\":{\"backgroundcolor\":\"#E5ECF6\",\"gridcolor\":\"white\",\"linecolor\":\"white\",\"showbackground\":true,\"ticks\":\"\",\"zerolinecolor\":\"white\",\"gridwidth\":2},\"yaxis\":{\"backgroundcolor\":\"#E5ECF6\",\"gridcolor\":\"white\",\"linecolor\":\"white\",\"showbackground\":true,\"ticks\":\"\",\"zerolinecolor\":\"white\",\"gridwidth\":2},\"zaxis\":{\"backgroundcolor\":\"#E5ECF6\",\"gridcolor\":\"white\",\"linecolor\":\"white\",\"showbackground\":true,\"ticks\":\"\",\"zerolinecolor\":\"white\",\"gridwidth\":2}},\"shapedefaults\":{\"line\":{\"color\":\"#2a3f5f\"}},\"annotationdefaults\":{\"arrowcolor\":\"#2a3f5f\",\"arrowhead\":0,\"arrowwidth\":1},\"geo\":{\"bgcolor\":\"white\",\"landcolor\":\"#E5ECF6\",\"subunitcolor\":\"white\",\"showland\":true,\"showlakes\":true,\"lakecolor\":\"white\"},\"title\":{\"x\":0.05},\"mapbox\":{\"style\":\"light\"}}},\"xaxis\":{\"anchor\":\"y\",\"domain\":[0.0,1.0],\"title\":{\"text\":\"x\"}},\"yaxis\":{\"anchor\":\"x\",\"domain\":[0.0,1.0],\"title\":{\"text\":\"y\"}},\"coloraxis\":{\"colorbar\":{\"title\":{\"text\":\"color\"}},\"colorscale\":[[0.0,\"#0d0887\"],[0.1111111111111111,\"#46039f\"],[0.2222222222222222,\"#7201a8\"],[0.3333333333333333,\"#9c179e\"],[0.4444444444444444,\"#bd3786\"],[0.5555555555555556,\"#d8576b\"],[0.6666666666666666,\"#ed7953\"],[0.7777777777777778,\"#fb9f3a\"],[0.8888888888888888,\"#fdca26\"],[1.0,\"#f0f921\"]]},\"legend\":{\"tracegroupgap\":0},\"margin\":{\"t\":60},\"barmode\":\"relative\"},                        {\"responsive\": true}                    ).then(function(){\n",
       "                            \n",
       "var gd = document.getElementById('1ebaf3d6-c43b-4e5c-9903-3f715eb51bf7');\n",
       "var x = new MutationObserver(function (mutations, observer) {{\n",
       "        var display = window.getComputedStyle(gd).display;\n",
       "        if (!display || display === 'none') {{\n",
       "            console.log([gd, 'removed!']);\n",
       "            Plotly.purge(gd);\n",
       "            observer.disconnect();\n",
       "        }}\n",
       "}});\n",
       "\n",
       "// Listen for the removal of the full notebook cells\n",
       "var notebookContainer = gd.closest('#notebook-container');\n",
       "if (notebookContainer) {{\n",
       "    x.observe(notebookContainer, {childList: true});\n",
       "}}\n",
       "\n",
       "// Listen for the clearing of the current output cell\n",
       "var outputEl = gd.closest('.output');\n",
       "if (outputEl) {{\n",
       "    x.observe(outputEl, {childList: true});\n",
       "}}\n",
       "\n",
       "                        })                };                });            </script>        </div>"
      ]
     },
     "metadata": {},
     "output_type": "display_data"
    }
   ],
   "source": [
    "\n",
    "Device_Model = df[\"Device Model\"].value_counts().sort_values()\n",
    "fig = px.bar(df,\n",
    "             x = Device_Model.index.astype(\"str\"),\n",
    "             y = Device_Model.values,\n",
    "             text = Device_Model.values,\n",
    "             color = Device_Model.values)\n",
    "\n",
    "fig.show()"
   ]
  },
  {
   "cell_type": "code",
   "execution_count": 136,
   "id": "3ef5e5f6-480e-4167-bbd1-9f0ae96a79af",
   "metadata": {},
   "outputs": [
    {
     "data": {
      "application/vnd.plotly.v1+json": {
       "config": {
        "plotlyServerURL": "https://plot.ly"
       },
       "data": [
        {
         "alignmentgroup": "True",
         "hovertemplate": "x=%{x}<br>y=%{y}<br>text=%{text}<br>color=%{marker.color}<extra></extra>",
         "legendgroup": "",
         "marker": {
          "color": [
           336,
           364
          ],
          "coloraxis": "coloraxis",
          "pattern": {
           "shape": ""
          }
         },
         "name": "",
         "offsetgroup": "",
         "orientation": "v",
         "showlegend": false,
         "text": [
          336,
          364
         ],
         "textposition": "auto",
         "type": "bar",
         "x": [
          "Female",
          "Male"
         ],
         "xaxis": "x",
         "y": [
          336,
          364
         ],
         "yaxis": "y"
        }
       ],
       "layout": {
        "autosize": true,
        "barmode": "relative",
        "coloraxis": {
         "colorbar": {
          "title": {
           "text": "color"
          }
         },
         "colorscale": [
          [
           0,
           "#0d0887"
          ],
          [
           0.1111111111111111,
           "#46039f"
          ],
          [
           0.2222222222222222,
           "#7201a8"
          ],
          [
           0.3333333333333333,
           "#9c179e"
          ],
          [
           0.4444444444444444,
           "#bd3786"
          ],
          [
           0.5555555555555556,
           "#d8576b"
          ],
          [
           0.6666666666666666,
           "#ed7953"
          ],
          [
           0.7777777777777778,
           "#fb9f3a"
          ],
          [
           0.8888888888888888,
           "#fdca26"
          ],
          [
           1,
           "#f0f921"
          ]
         ]
        },
        "legend": {
         "tracegroupgap": 0
        },
        "margin": {
         "t": 60
        },
        "template": {
         "data": {
          "bar": [
           {
            "error_x": {
             "color": "#2a3f5f"
            },
            "error_y": {
             "color": "#2a3f5f"
            },
            "marker": {
             "line": {
              "color": "#E5ECF6",
              "width": 0.5
             },
             "pattern": {
              "fillmode": "overlay",
              "size": 10,
              "solidity": 0.2
             }
            },
            "type": "bar"
           }
          ],
          "barpolar": [
           {
            "marker": {
             "line": {
              "color": "#E5ECF6",
              "width": 0.5
             },
             "pattern": {
              "fillmode": "overlay",
              "size": 10,
              "solidity": 0.2
             }
            },
            "type": "barpolar"
           }
          ],
          "carpet": [
           {
            "aaxis": {
             "endlinecolor": "#2a3f5f",
             "gridcolor": "white",
             "linecolor": "white",
             "minorgridcolor": "white",
             "startlinecolor": "#2a3f5f"
            },
            "baxis": {
             "endlinecolor": "#2a3f5f",
             "gridcolor": "white",
             "linecolor": "white",
             "minorgridcolor": "white",
             "startlinecolor": "#2a3f5f"
            },
            "type": "carpet"
           }
          ],
          "choropleth": [
           {
            "colorbar": {
             "outlinewidth": 0,
             "ticks": ""
            },
            "type": "choropleth"
           }
          ],
          "contour": [
           {
            "colorbar": {
             "outlinewidth": 0,
             "ticks": ""
            },
            "colorscale": [
             [
              0,
              "#0d0887"
             ],
             [
              0.1111111111111111,
              "#46039f"
             ],
             [
              0.2222222222222222,
              "#7201a8"
             ],
             [
              0.3333333333333333,
              "#9c179e"
             ],
             [
              0.4444444444444444,
              "#bd3786"
             ],
             [
              0.5555555555555556,
              "#d8576b"
             ],
             [
              0.6666666666666666,
              "#ed7953"
             ],
             [
              0.7777777777777778,
              "#fb9f3a"
             ],
             [
              0.8888888888888888,
              "#fdca26"
             ],
             [
              1,
              "#f0f921"
             ]
            ],
            "type": "contour"
           }
          ],
          "contourcarpet": [
           {
            "colorbar": {
             "outlinewidth": 0,
             "ticks": ""
            },
            "type": "contourcarpet"
           }
          ],
          "heatmap": [
           {
            "colorbar": {
             "outlinewidth": 0,
             "ticks": ""
            },
            "colorscale": [
             [
              0,
              "#0d0887"
             ],
             [
              0.1111111111111111,
              "#46039f"
             ],
             [
              0.2222222222222222,
              "#7201a8"
             ],
             [
              0.3333333333333333,
              "#9c179e"
             ],
             [
              0.4444444444444444,
              "#bd3786"
             ],
             [
              0.5555555555555556,
              "#d8576b"
             ],
             [
              0.6666666666666666,
              "#ed7953"
             ],
             [
              0.7777777777777778,
              "#fb9f3a"
             ],
             [
              0.8888888888888888,
              "#fdca26"
             ],
             [
              1,
              "#f0f921"
             ]
            ],
            "type": "heatmap"
           }
          ],
          "heatmapgl": [
           {
            "colorbar": {
             "outlinewidth": 0,
             "ticks": ""
            },
            "colorscale": [
             [
              0,
              "#0d0887"
             ],
             [
              0.1111111111111111,
              "#46039f"
             ],
             [
              0.2222222222222222,
              "#7201a8"
             ],
             [
              0.3333333333333333,
              "#9c179e"
             ],
             [
              0.4444444444444444,
              "#bd3786"
             ],
             [
              0.5555555555555556,
              "#d8576b"
             ],
             [
              0.6666666666666666,
              "#ed7953"
             ],
             [
              0.7777777777777778,
              "#fb9f3a"
             ],
             [
              0.8888888888888888,
              "#fdca26"
             ],
             [
              1,
              "#f0f921"
             ]
            ],
            "type": "heatmapgl"
           }
          ],
          "histogram": [
           {
            "marker": {
             "pattern": {
              "fillmode": "overlay",
              "size": 10,
              "solidity": 0.2
             }
            },
            "type": "histogram"
           }
          ],
          "histogram2d": [
           {
            "colorbar": {
             "outlinewidth": 0,
             "ticks": ""
            },
            "colorscale": [
             [
              0,
              "#0d0887"
             ],
             [
              0.1111111111111111,
              "#46039f"
             ],
             [
              0.2222222222222222,
              "#7201a8"
             ],
             [
              0.3333333333333333,
              "#9c179e"
             ],
             [
              0.4444444444444444,
              "#bd3786"
             ],
             [
              0.5555555555555556,
              "#d8576b"
             ],
             [
              0.6666666666666666,
              "#ed7953"
             ],
             [
              0.7777777777777778,
              "#fb9f3a"
             ],
             [
              0.8888888888888888,
              "#fdca26"
             ],
             [
              1,
              "#f0f921"
             ]
            ],
            "type": "histogram2d"
           }
          ],
          "histogram2dcontour": [
           {
            "colorbar": {
             "outlinewidth": 0,
             "ticks": ""
            },
            "colorscale": [
             [
              0,
              "#0d0887"
             ],
             [
              0.1111111111111111,
              "#46039f"
             ],
             [
              0.2222222222222222,
              "#7201a8"
             ],
             [
              0.3333333333333333,
              "#9c179e"
             ],
             [
              0.4444444444444444,
              "#bd3786"
             ],
             [
              0.5555555555555556,
              "#d8576b"
             ],
             [
              0.6666666666666666,
              "#ed7953"
             ],
             [
              0.7777777777777778,
              "#fb9f3a"
             ],
             [
              0.8888888888888888,
              "#fdca26"
             ],
             [
              1,
              "#f0f921"
             ]
            ],
            "type": "histogram2dcontour"
           }
          ],
          "mesh3d": [
           {
            "colorbar": {
             "outlinewidth": 0,
             "ticks": ""
            },
            "type": "mesh3d"
           }
          ],
          "parcoords": [
           {
            "line": {
             "colorbar": {
              "outlinewidth": 0,
              "ticks": ""
             }
            },
            "type": "parcoords"
           }
          ],
          "pie": [
           {
            "automargin": true,
            "type": "pie"
           }
          ],
          "scatter": [
           {
            "fillpattern": {
             "fillmode": "overlay",
             "size": 10,
             "solidity": 0.2
            },
            "type": "scatter"
           }
          ],
          "scatter3d": [
           {
            "line": {
             "colorbar": {
              "outlinewidth": 0,
              "ticks": ""
             }
            },
            "marker": {
             "colorbar": {
              "outlinewidth": 0,
              "ticks": ""
             }
            },
            "type": "scatter3d"
           }
          ],
          "scattercarpet": [
           {
            "marker": {
             "colorbar": {
              "outlinewidth": 0,
              "ticks": ""
             }
            },
            "type": "scattercarpet"
           }
          ],
          "scattergeo": [
           {
            "marker": {
             "colorbar": {
              "outlinewidth": 0,
              "ticks": ""
             }
            },
            "type": "scattergeo"
           }
          ],
          "scattergl": [
           {
            "marker": {
             "colorbar": {
              "outlinewidth": 0,
              "ticks": ""
             }
            },
            "type": "scattergl"
           }
          ],
          "scattermapbox": [
           {
            "marker": {
             "colorbar": {
              "outlinewidth": 0,
              "ticks": ""
             }
            },
            "type": "scattermapbox"
           }
          ],
          "scatterpolar": [
           {
            "marker": {
             "colorbar": {
              "outlinewidth": 0,
              "ticks": ""
             }
            },
            "type": "scatterpolar"
           }
          ],
          "scatterpolargl": [
           {
            "marker": {
             "colorbar": {
              "outlinewidth": 0,
              "ticks": ""
             }
            },
            "type": "scatterpolargl"
           }
          ],
          "scatterternary": [
           {
            "marker": {
             "colorbar": {
              "outlinewidth": 0,
              "ticks": ""
             }
            },
            "type": "scatterternary"
           }
          ],
          "surface": [
           {
            "colorbar": {
             "outlinewidth": 0,
             "ticks": ""
            },
            "colorscale": [
             [
              0,
              "#0d0887"
             ],
             [
              0.1111111111111111,
              "#46039f"
             ],
             [
              0.2222222222222222,
              "#7201a8"
             ],
             [
              0.3333333333333333,
              "#9c179e"
             ],
             [
              0.4444444444444444,
              "#bd3786"
             ],
             [
              0.5555555555555556,
              "#d8576b"
             ],
             [
              0.6666666666666666,
              "#ed7953"
             ],
             [
              0.7777777777777778,
              "#fb9f3a"
             ],
             [
              0.8888888888888888,
              "#fdca26"
             ],
             [
              1,
              "#f0f921"
             ]
            ],
            "type": "surface"
           }
          ],
          "table": [
           {
            "cells": {
             "fill": {
              "color": "#EBF0F8"
             },
             "line": {
              "color": "white"
             }
            },
            "header": {
             "fill": {
              "color": "#C8D4E3"
             },
             "line": {
              "color": "white"
             }
            },
            "type": "table"
           }
          ]
         },
         "layout": {
          "annotationdefaults": {
           "arrowcolor": "#2a3f5f",
           "arrowhead": 0,
           "arrowwidth": 1
          },
          "autotypenumbers": "strict",
          "coloraxis": {
           "colorbar": {
            "outlinewidth": 0,
            "ticks": ""
           }
          },
          "colorscale": {
           "diverging": [
            [
             0,
             "#8e0152"
            ],
            [
             0.1,
             "#c51b7d"
            ],
            [
             0.2,
             "#de77ae"
            ],
            [
             0.3,
             "#f1b6da"
            ],
            [
             0.4,
             "#fde0ef"
            ],
            [
             0.5,
             "#f7f7f7"
            ],
            [
             0.6,
             "#e6f5d0"
            ],
            [
             0.7,
             "#b8e186"
            ],
            [
             0.8,
             "#7fbc41"
            ],
            [
             0.9,
             "#4d9221"
            ],
            [
             1,
             "#276419"
            ]
           ],
           "sequential": [
            [
             0,
             "#0d0887"
            ],
            [
             0.1111111111111111,
             "#46039f"
            ],
            [
             0.2222222222222222,
             "#7201a8"
            ],
            [
             0.3333333333333333,
             "#9c179e"
            ],
            [
             0.4444444444444444,
             "#bd3786"
            ],
            [
             0.5555555555555556,
             "#d8576b"
            ],
            [
             0.6666666666666666,
             "#ed7953"
            ],
            [
             0.7777777777777778,
             "#fb9f3a"
            ],
            [
             0.8888888888888888,
             "#fdca26"
            ],
            [
             1,
             "#f0f921"
            ]
           ],
           "sequentialminus": [
            [
             0,
             "#0d0887"
            ],
            [
             0.1111111111111111,
             "#46039f"
            ],
            [
             0.2222222222222222,
             "#7201a8"
            ],
            [
             0.3333333333333333,
             "#9c179e"
            ],
            [
             0.4444444444444444,
             "#bd3786"
            ],
            [
             0.5555555555555556,
             "#d8576b"
            ],
            [
             0.6666666666666666,
             "#ed7953"
            ],
            [
             0.7777777777777778,
             "#fb9f3a"
            ],
            [
             0.8888888888888888,
             "#fdca26"
            ],
            [
             1,
             "#f0f921"
            ]
           ]
          },
          "colorway": [
           "#636efa",
           "#EF553B",
           "#00cc96",
           "#ab63fa",
           "#FFA15A",
           "#19d3f3",
           "#FF6692",
           "#B6E880",
           "#FF97FF",
           "#FECB52"
          ],
          "font": {
           "color": "#2a3f5f"
          },
          "geo": {
           "bgcolor": "white",
           "lakecolor": "white",
           "landcolor": "#E5ECF6",
           "showlakes": true,
           "showland": true,
           "subunitcolor": "white"
          },
          "hoverlabel": {
           "align": "left"
          },
          "hovermode": "closest",
          "mapbox": {
           "style": "light"
          },
          "paper_bgcolor": "white",
          "plot_bgcolor": "#E5ECF6",
          "polar": {
           "angularaxis": {
            "gridcolor": "white",
            "linecolor": "white",
            "ticks": ""
           },
           "bgcolor": "#E5ECF6",
           "radialaxis": {
            "gridcolor": "white",
            "linecolor": "white",
            "ticks": ""
           }
          },
          "scene": {
           "xaxis": {
            "backgroundcolor": "#E5ECF6",
            "gridcolor": "white",
            "gridwidth": 2,
            "linecolor": "white",
            "showbackground": true,
            "ticks": "",
            "zerolinecolor": "white"
           },
           "yaxis": {
            "backgroundcolor": "#E5ECF6",
            "gridcolor": "white",
            "gridwidth": 2,
            "linecolor": "white",
            "showbackground": true,
            "ticks": "",
            "zerolinecolor": "white"
           },
           "zaxis": {
            "backgroundcolor": "#E5ECF6",
            "gridcolor": "white",
            "gridwidth": 2,
            "linecolor": "white",
            "showbackground": true,
            "ticks": "",
            "zerolinecolor": "white"
           }
          },
          "shapedefaults": {
           "line": {
            "color": "#2a3f5f"
           }
          },
          "ternary": {
           "aaxis": {
            "gridcolor": "white",
            "linecolor": "white",
            "ticks": ""
           },
           "baxis": {
            "gridcolor": "white",
            "linecolor": "white",
            "ticks": ""
           },
           "bgcolor": "#E5ECF6",
           "caxis": {
            "gridcolor": "white",
            "linecolor": "white",
            "ticks": ""
           }
          },
          "title": {
           "x": 0.05
          },
          "xaxis": {
           "automargin": true,
           "gridcolor": "white",
           "linecolor": "white",
           "ticks": "",
           "title": {
            "standoff": 15
           },
           "zerolinecolor": "white",
           "zerolinewidth": 2
          },
          "yaxis": {
           "automargin": true,
           "gridcolor": "white",
           "linecolor": "white",
           "ticks": "",
           "title": {
            "standoff": 15
           },
           "zerolinecolor": "white",
           "zerolinewidth": 2
          }
         }
        },
        "xaxis": {
         "anchor": "y",
         "autorange": true,
         "domain": [
          0,
          1
         ],
         "range": [
          -0.5,
          1.5
         ],
         "title": {
          "text": "x"
         },
         "type": "category"
        },
        "yaxis": {
         "anchor": "x",
         "autorange": true,
         "domain": [
          0,
          1
         ],
         "range": [
          0,
          383.1578947368421
         ],
         "title": {
          "text": "y"
         },
         "type": "linear"
        }
       }
      },
      "image/png": "[encoded data removed]",
      "text/html": [
       "<div>                            <div id=\"239a6b51-f74d-4090-ad5c-98537a9b4833\" class=\"plotly-graph-div\" style=\"height:525px; width:100%;\"></div>            <script type=\"text/javascript\">                require([\"plotly\"], function(Plotly) {                    window.PLOTLYENV=window.PLOTLYENV || {};                                    if (document.getElementById(\"239a6b51-f74d-4090-ad5c-98537a9b4833\")) {                    Plotly.newPlot(                        \"239a6b51-f74d-4090-ad5c-98537a9b4833\",                        [{\"alignmentgroup\":\"True\",\"hovertemplate\":\"x=%{x}\\u003cbr\\u003ey=%{y}\\u003cbr\\u003etext=%{text}\\u003cbr\\u003ecolor=%{marker.color}\\u003cextra\\u003e\\u003c\\u002fextra\\u003e\",\"legendgroup\":\"\",\"marker\":{\"color\":[336,364],\"coloraxis\":\"coloraxis\",\"pattern\":{\"shape\":\"\"}},\"name\":\"\",\"offsetgroup\":\"\",\"orientation\":\"v\",\"showlegend\":false,\"text\":[336.0,364.0],\"textposition\":\"auto\",\"x\":[\"Female\",\"Male\"],\"xaxis\":\"x\",\"y\":[336,364],\"yaxis\":\"y\",\"type\":\"bar\"}],                        {\"template\":{\"data\":{\"histogram2dcontour\":[{\"type\":\"histogram2dcontour\",\"colorbar\":{\"outlinewidth\":0,\"ticks\":\"\"},\"colorscale\":[[0.0,\"#0d0887\"],[0.1111111111111111,\"#46039f\"],[0.2222222222222222,\"#7201a8\"],[0.3333333333333333,\"#9c179e\"],[0.4444444444444444,\"#bd3786\"],[0.5555555555555556,\"#d8576b\"],[0.6666666666666666,\"#ed7953\"],[0.7777777777777778,\"#fb9f3a\"],[0.8888888888888888,\"#fdca26\"],[1.0,\"#f0f921\"]]}],\"choropleth\":[{\"type\":\"choropleth\",\"colorbar\":{\"outlinewidth\":0,\"ticks\":\"\"}}],\"histogram2d\":[{\"type\":\"histogram2d\",\"colorbar\":{\"outlinewidth\":0,\"ticks\":\"\"},\"colorscale\":[[0.0,\"#0d0887\"],[0.1111111111111111,\"#46039f\"],[0.2222222222222222,\"#7201a8\"],[0.3333333333333333,\"#9c179e\"],[0.4444444444444444,\"#bd3786\"],[0.5555555555555556,\"#d8576b\"],[0.6666666666666666,\"#ed7953\"],[0.7777777777777778,\"#fb9f3a\"],[0.8888888888888888,\"#fdca26\"],[1.0,\"#f0f921\"]]}],\"heatmap\":[{\"type\":\"heatmap\",\"colorbar\":{\"outlinewidth\":0,\"ticks\":\"\"},\"colorscale\":[[0.0,\"#0d0887\"],[0.1111111111111111,\"#46039f\"],[0.2222222222222222,\"#7201a8\"],[0.3333333333333333,\"#9c179e\"],[0.4444444444444444,\"#bd3786\"],[0.5555555555555556,\"#d8576b\"],[0.6666666666666666,\"#ed7953\"],[0.7777777777777778,\"#fb9f3a\"],[0.8888888888888888,\"#fdca26\"],[1.0,\"#f0f921\"]]}],\"heatmapgl\":[{\"type\":\"heatmapgl\",\"colorbar\":{\"outlinewidth\":0,\"ticks\":\"\"},\"colorscale\":[[0.0,\"#0d0887\"],[0.1111111111111111,\"#46039f\"],[0.2222222222222222,\"#7201a8\"],[0.3333333333333333,\"#9c179e\"],[0.4444444444444444,\"#bd3786\"],[0.5555555555555556,\"#d8576b\"],[0.6666666666666666,\"#ed7953\"],[0.7777777777777778,\"#fb9f3a\"],[0.8888888888888888,\"#fdca26\"],[1.0,\"#f0f921\"]]}],\"contourcarpet\":[{\"type\":\"contourcarpet\",\"colorbar\":{\"outlinewidth\":0,\"ticks\":\"\"}}],\"contour\":[{\"type\":\"contour\",\"colorbar\":{\"outlinewidth\":0,\"ticks\":\"\"},\"colorscale\":[[0.0,\"#0d0887\"],[0.1111111111111111,\"#46039f\"],[0.2222222222222222,\"#7201a8\"],[0.3333333333333333,\"#9c179e\"],[0.4444444444444444,\"#bd3786\"],[0.5555555555555556,\"#d8576b\"],[0.6666666666666666,\"#ed7953\"],[0.7777777777777778,\"#fb9f3a\"],[0.8888888888888888,\"#fdca26\"],[1.0,\"#f0f921\"]]}],\"surface\":[{\"type\":\"surface\",\"colorbar\":{\"outlinewidth\":0,\"ticks\":\"\"},\"colorscale\":[[0.0,\"#0d0887\"],[0.1111111111111111,\"#46039f\"],[0.2222222222222222,\"#7201a8\"],[0.3333333333333333,\"#9c179e\"],[0.4444444444444444,\"#bd3786\"],[0.5555555555555556,\"#d8576b\"],[0.6666666666666666,\"#ed7953\"],[0.7777777777777778,\"#fb9f3a\"],[0.8888888888888888,\"#fdca26\"],[1.0,\"#f0f921\"]]}],\"mesh3d\":[{\"type\":\"mesh3d\",\"colorbar\":{\"outlinewidth\":0,\"ticks\":\"\"}}],\"scatter\":[{\"fillpattern\":{\"fillmode\":\"overlay\",\"size\":10,\"solidity\":0.2},\"type\":\"scatter\"}],\"parcoords\":[{\"type\":\"parcoords\",\"line\":{\"colorbar\":{\"outlinewidth\":0,\"ticks\":\"\"}}}],\"scatterpolargl\":[{\"type\":\"scatterpolargl\",\"marker\":{\"colorbar\":{\"outlinewidth\":0,\"ticks\":\"\"}}}],\"bar\":[{\"error_x\":{\"color\":\"#2a3f5f\"},\"error_y\":{\"color\":\"#2a3f5f\"},\"marker\":{\"line\":{\"color\":\"#E5ECF6\",\"width\":0.5},\"pattern\":{\"fillmode\":\"overlay\",\"size\":10,\"solidity\":0.2}},\"type\":\"bar\"}],\"scattergeo\":[{\"type\":\"scattergeo\",\"marker\":{\"colorbar\":{\"outlinewidth\":0,\"ticks\":\"\"}}}],\"scatterpolar\":[{\"type\":\"scatterpolar\",\"marker\":{\"colorbar\":{\"outlinewidth\":0,\"ticks\":\"\"}}}],\"histogram\":[{\"marker\":{\"pattern\":{\"fillmode\":\"overlay\",\"size\":10,\"solidity\":0.2}},\"type\":\"histogram\"}],\"scattergl\":[{\"type\":\"scattergl\",\"marker\":{\"colorbar\":{\"outlinewidth\":0,\"ticks\":\"\"}}}],\"scatter3d\":[{\"type\":\"scatter3d\",\"line\":{\"colorbar\":{\"outlinewidth\":0,\"ticks\":\"\"}},\"marker\":{\"colorbar\":{\"outlinewidth\":0,\"ticks\":\"\"}}}],\"scattermapbox\":[{\"type\":\"scattermapbox\",\"marker\":{\"colorbar\":{\"outlinewidth\":0,\"ticks\":\"\"}}}],\"scatterternary\":[{\"type\":\"scatterternary\",\"marker\":{\"colorbar\":{\"outlinewidth\":0,\"ticks\":\"\"}}}],\"scattercarpet\":[{\"type\":\"scattercarpet\",\"marker\":{\"colorbar\":{\"outlinewidth\":0,\"ticks\":\"\"}}}],\"carpet\":[{\"aaxis\":{\"endlinecolor\":\"#2a3f5f\",\"gridcolor\":\"white\",\"linecolor\":\"white\",\"minorgridcolor\":\"white\",\"startlinecolor\":\"#2a3f5f\"},\"baxis\":{\"endlinecolor\":\"#2a3f5f\",\"gridcolor\":\"white\",\"linecolor\":\"white\",\"minorgridcolor\":\"white\",\"startlinecolor\":\"#2a3f5f\"},\"type\":\"carpet\"}],\"table\":[{\"cells\":{\"fill\":{\"color\":\"#EBF0F8\"},\"line\":{\"color\":\"white\"}},\"header\":{\"fill\":{\"color\":\"#C8D4E3\"},\"line\":{\"color\":\"white\"}},\"type\":\"table\"}],\"barpolar\":[{\"marker\":{\"line\":{\"color\":\"#E5ECF6\",\"width\":0.5},\"pattern\":{\"fillmode\":\"overlay\",\"size\":10,\"solidity\":0.2}},\"type\":\"barpolar\"}],\"pie\":[{\"automargin\":true,\"type\":\"pie\"}]},\"layout\":{\"autotypenumbers\":\"strict\",\"colorway\":[\"#636efa\",\"#EF553B\",\"#00cc96\",\"#ab63fa\",\"#FFA15A\",\"#19d3f3\",\"#FF6692\",\"#B6E880\",\"#FF97FF\",\"#FECB52\"],\"font\":{\"color\":\"#2a3f5f\"},\"hovermode\":\"closest\",\"hoverlabel\":{\"align\":\"left\"},\"paper_bgcolor\":\"white\",\"plot_bgcolor\":\"#E5ECF6\",\"polar\":{\"bgcolor\":\"#E5ECF6\",\"angularaxis\":{\"gridcolor\":\"white\",\"linecolor\":\"white\",\"ticks\":\"\"},\"radialaxis\":{\"gridcolor\":\"white\",\"linecolor\":\"white\",\"ticks\":\"\"}},\"ternary\":{\"bgcolor\":\"#E5ECF6\",\"aaxis\":{\"gridcolor\":\"white\",\"linecolor\":\"white\",\"ticks\":\"\"},\"baxis\":{\"gridcolor\":\"white\",\"linecolor\":\"white\",\"ticks\":\"\"},\"caxis\":{\"gridcolor\":\"white\",\"linecolor\":\"white\",\"ticks\":\"\"}},\"coloraxis\":{\"colorbar\":{\"outlinewidth\":0,\"ticks\":\"\"}},\"colorscale\":{\"sequential\":[[0.0,\"#0d0887\"],[0.1111111111111111,\"#46039f\"],[0.2222222222222222,\"#7201a8\"],[0.3333333333333333,\"#9c179e\"],[0.4444444444444444,\"#bd3786\"],[0.5555555555555556,\"#d8576b\"],[0.6666666666666666,\"#ed7953\"],[0.7777777777777778,\"#fb9f3a\"],[0.8888888888888888,\"#fdca26\"],[1.0,\"#f0f921\"]],\"sequentialminus\":[[0.0,\"#0d0887\"],[0.1111111111111111,\"#46039f\"],[0.2222222222222222,\"#7201a8\"],[0.3333333333333333,\"#9c179e\"],[0.4444444444444444,\"#bd3786\"],[0.5555555555555556,\"#d8576b\"],[0.6666666666666666,\"#ed7953\"],[0.7777777777777778,\"#fb9f3a\"],[0.8888888888888888,\"#fdca26\"],[1.0,\"#f0f921\"]],\"diverging\":[[0,\"#8e0152\"],[0.1,\"#c51b7d\"],[0.2,\"#de77ae\"],[0.3,\"#f1b6da\"],[0.4,\"#fde0ef\"],[0.5,\"#f7f7f7\"],[0.6,\"#e6f5d0\"],[0.7,\"#b8e186\"],[0.8,\"#7fbc41\"],[0.9,\"#4d9221\"],[1,\"#276419\"]]},\"xaxis\":{\"gridcolor\":\"white\",\"linecolor\":\"white\",\"ticks\":\"\",\"title\":{\"standoff\":15},\"zerolinecolor\":\"white\",\"automargin\":true,\"zerolinewidth\":2},\"yaxis\":{\"gridcolor\":\"white\",\"linecolor\":\"white\",\"ticks\":\"\",\"title\":{\"standoff\":15},\"zerolinecolor\":\"white\",\"automargin\":true,\"zerolinewidth\":2},\"scene\":{\"xaxis\":{\"backgroundcolor\":\"#E5ECF6\",\"gridcolor\":\"white\",\"linecolor\":\"white\",\"showbackground\":true,\"ticks\":\"\",\"zerolinecolor\":\"white\",\"gridwidth\":2},\"yaxis\":{\"backgroundcolor\":\"#E5ECF6\",\"gridcolor\":\"white\",\"linecolor\":\"white\",\"showbackground\":true,\"ticks\":\"\",\"zerolinecolor\":\"white\",\"gridwidth\":2},\"zaxis\":{\"backgroundcolor\":\"#E5ECF6\",\"gridcolor\":\"white\",\"linecolor\":\"white\",\"showbackground\":true,\"ticks\":\"\",\"zerolinecolor\":\"white\",\"gridwidth\":2}},\"shapedefaults\":{\"line\":{\"color\":\"#2a3f5f\"}},\"annotationdefaults\":{\"arrowcolor\":\"#2a3f5f\",\"arrowhead\":0,\"arrowwidth\":1},\"geo\":{\"bgcolor\":\"white\",\"landcolor\":\"#E5ECF6\",\"subunitcolor\":\"white\",\"showland\":true,\"showlakes\":true,\"lakecolor\":\"white\"},\"title\":{\"x\":0.05},\"mapbox\":{\"style\":\"light\"}}},\"xaxis\":{\"anchor\":\"y\",\"domain\":[0.0,1.0],\"title\":{\"text\":\"x\"}},\"yaxis\":{\"anchor\":\"x\",\"domain\":[0.0,1.0],\"title\":{\"text\":\"y\"}},\"coloraxis\":{\"colorbar\":{\"title\":{\"text\":\"color\"}},\"colorscale\":[[0.0,\"#0d0887\"],[0.1111111111111111,\"#46039f\"],[0.2222222222222222,\"#7201a8\"],[0.3333333333333333,\"#9c179e\"],[0.4444444444444444,\"#bd3786\"],[0.5555555555555556,\"#d8576b\"],[0.6666666666666666,\"#ed7953\"],[0.7777777777777778,\"#fb9f3a\"],[0.8888888888888888,\"#fdca26\"],[1.0,\"#f0f921\"]]},\"legend\":{\"tracegroupgap\":0},\"margin\":{\"t\":60},\"barmode\":\"relative\"},                        {\"responsive\": true}                    ).then(function(){\n",
       "                            \n",
       "var gd = document.getElementById('239a6b51-f74d-4090-ad5c-98537a9b4833');\n",
       "var x = new MutationObserver(function (mutations, observer) {{\n",
       "        var display = window.getComputedStyle(gd).display;\n",
       "        if (!display || display === 'none') {{\n",
       "            console.log([gd, 'removed!']);\n",
       "            Plotly.purge(gd);\n",
       "            observer.disconnect();\n",
       "        }}\n",
       "}});\n",
       "\n",
       "// Listen for the removal of the full notebook cells\n",
       "var notebookContainer = gd.closest('#notebook-container');\n",
       "if (notebookContainer) {{\n",
       "    x.observe(notebookContainer, {childList: true});\n",
       "}}\n",
       "\n",
       "// Listen for the clearing of the current output cell\n",
       "var outputEl = gd.closest('.output');\n",
       "if (outputEl) {{\n",
       "    x.observe(outputEl, {childList: true});\n",
       "}}\n",
       "\n",
       "                        })                };                });            </script>        </div>"
      ]
     },
     "metadata": {},
     "output_type": "display_data"
    }
   ],
   "source": [
    "Gender = df[\"Gender\"].value_counts().sort_values()\n",
    "fig = px.bar(df,\n",
    "             x = Gender.index.astype(\"str\"),\n",
    "             y = Gender.values,\n",
    "             text = Gender.values,\n",
    "             color = Gender.values)\n",
    "\n",
    "fig.show()"
   ]
  },
  {
   "cell_type": "code",
   "execution_count": 137,
   "id": "bca21b12-974c-4656-ab70-542858169647",
   "metadata": {},
   "outputs": [
    {
     "data": {
      "application/vnd.plotly.v1+json": {
       "config": {
        "plotlyServerURL": "https://plot.ly"
       },
       "data": [
        {
         "hovertemplate": "App Usage Time (min/day)=%{x}<br>User Behavior Class=%{y}<extra></extra>",
         "legendgroup": "",
         "marker": {
          "color": "#636efa",
          "symbol": "circle"
         },
         "mode": "markers",
         "name": "",
         "orientation": "v",
         "showlegend": false,
         "type": "scatter",
         "x": [
          393,
          268,
          154,
          239,
          187,
          99,
          350,
          543,
          340,
          424,
          53,
          215,
          462,
          215,
          189,
          503,
          132,
          299,
          81,
          577,
          93,
          576,
          423,
          292,
          216,
          91,
          444,
          512,
          452,
          412,
          260,
          197,
          278,
          46,
          593,
          32,
          122,
          522,
          473,
          398,
          240,
          576,
          120,
          152,
          138,
          502,
          558,
          138,
          580,
          589,
          452,
          245,
          125,
          97,
          516,
          68,
          64,
          539,
          428,
          325,
          522,
          309,
          79,
          545,
          459,
          225,
          257,
          134,
          516,
          82,
          452,
          521,
          457,
          31,
          47,
          229,
          34,
          173,
          78,
          230,
          565,
          172,
          330,
          39,
          223,
          404,
          151,
          34,
          137,
          301,
          116,
          291,
          84,
          134,
          411,
          326,
          550,
          516,
          59,
          225,
          41,
          183,
          174,
          274,
          166,
          66,
          152,
          54,
          187,
          216,
          95,
          488,
          295,
          136,
          471,
          121,
          75,
          220,
          82,
          97,
          388,
          529,
          584,
          529,
          227,
          535,
          332,
          252,
          125,
          97,
          540,
          320,
          176,
          79,
          83,
          555,
          66,
          237,
          497,
          516,
          219,
          448,
          156,
          68,
          524,
          188,
          443,
          52,
          228,
          149,
          523,
          42,
          120,
          329,
          68,
          158,
          86,
          339,
          304,
          131,
          64,
          53,
          442,
          32,
          278,
          540,
          595,
          35,
          225,
          587,
          92,
          46,
          153,
          368,
          51,
          279,
          255,
          193,
          207,
          539,
          151,
          474,
          544,
          73,
          597,
          498,
          402,
          75,
          130,
          42,
          134,
          79,
          432,
          262,
          473,
          202,
          215,
          151,
          80,
          126,
          495,
          127,
          88,
          69,
          100,
          301,
          78,
          163,
          539,
          278,
          451,
          481,
          133,
          41,
          152,
          553,
          402,
          555,
          499,
          101,
          433,
          133,
          351,
          532,
          92,
          511,
          384,
          193,
          132,
          360,
          159,
          495,
          537,
          129,
          132,
          37,
          524,
          425,
          64,
          573,
          45,
          564,
          162,
          451,
          30,
          202,
          71,
          314,
          168,
          75,
          42,
          441,
          523,
          100,
          52,
          397,
          424,
          272,
          201,
          570,
          64,
          334,
          518,
          70,
          334,
          563,
          181,
          584,
          208,
          381,
          426,
          284,
          105,
          179,
          122,
          501,
          269,
          230,
          85,
          411,
          73,
          39,
          386,
          49,
          411,
          534,
          314,
          211,
          121,
          84,
          448,
          55,
          59,
          226,
          580,
          65,
          458,
          170,
          264,
          122,
          420,
          267,
          469,
          541,
          155,
          106,
          243,
          410,
          285,
          397,
          230,
          341,
          132,
          130,
          281,
          74,
          299,
          116,
          408,
          508,
          227,
          274,
          347,
          76,
          445,
          203,
          199,
          48,
          88,
          541,
          233,
          176,
          191,
          461,
          37,
          531,
          473,
          30,
          306,
          64,
          75,
          597,
          529,
          290,
          256,
          308,
          156,
          62,
          156,
          303,
          463,
          60,
          225,
          379,
          53,
          30,
          291,
          488,
          74,
          230,
          517,
          557,
          78,
          321,
          579,
          382,
          516,
          598,
          102,
          165,
          558,
          561,
          511,
          560,
          69,
          44,
          65,
          458,
          525,
          106,
          188,
          493,
          84,
          104,
          102,
          349,
          98,
          72,
          563,
          119,
          311,
          337,
          168,
          331,
          589,
          472,
          78,
          517,
          41,
          49,
          522,
          97,
          411,
          566,
          559,
          478,
          147,
          395,
          357,
          405,
          501,
          575,
          257,
          270,
          116,
          98,
          264,
          572,
          202,
          83,
          32,
          168,
          416,
          46,
          201,
          130,
          98,
          105,
          94,
          540,
          266,
          140,
          534,
          46,
          581,
          105,
          221,
          41,
          105,
          123,
          260,
          223,
          66,
          231,
          555,
          378,
          546,
          234,
          152,
          34,
          179,
          591,
          120,
          88,
          143,
          74,
          74,
          234,
          56,
          174,
          523,
          123,
          216,
          290,
          68,
          265,
          414,
          238,
          429,
          39,
          248,
          541,
          139,
          289,
          210,
          412,
          318,
          258,
          258,
          189,
          155,
          528,
          549,
          78,
          444,
          80,
          131,
          228,
          416,
          586,
          416,
          152,
          87,
          329,
          107,
          493,
          182,
          102,
          274,
          143,
          66,
          420,
          582,
          200,
          493,
          348,
          238,
          33,
          267,
          492,
          241,
          567,
          36,
          110,
          466,
          126,
          120,
          64,
          574,
          119,
          350,
          69,
          438,
          506,
          272,
          224,
          99,
          44,
          175,
          228,
          589,
          339,
          431,
          190,
          389,
          139,
          289,
          593,
          576,
          592,
          567,
          170,
          242,
          275,
          544,
          50,
          236,
          139,
          383,
          172,
          455,
          157,
          173,
          405,
          387,
          201,
          142,
          198,
          361,
          553,
          408,
          121,
          71,
          46,
          290,
          60,
          116,
          86,
          291,
          404,
          441,
          444,
          211,
          537,
          519,
          94,
          554,
          381,
          257,
          47,
          527,
          148,
          191,
          71,
          73,
          149,
          197,
          328,
          424,
          111,
          159,
          580,
          379,
          217,
          447,
          512,
          511,
          140,
          114,
          192,
          325,
          83,
          122,
          138,
          182,
          425,
          580,
          203,
          258,
          551,
          507,
          57,
          553,
          49,
          106,
          119,
          288,
          225,
          342,
          292,
          218,
          64,
          453,
          42,
          36,
          55,
          210,
          227,
          47,
          461,
          94,
          216,
          496,
          138,
          318,
          96,
          510,
          83,
          417,
          538,
          63,
          50,
          502,
          105,
          186,
          174,
          89,
          66,
          389,
          186,
          149,
          69,
          206,
          49,
          594,
          104,
          262,
          278,
          463,
          505,
          50,
          138,
          130,
          469,
          555,
          198,
          529,
          205,
          170,
          160,
          81,
          468,
          500,
          37,
          522,
          81,
          141,
          115,
          298,
          33,
          307,
          380,
          190,
          75,
          218,
          412,
          335,
          387,
          261,
          541,
          195,
          178,
          378,
          505,
          564,
          92,
          316,
          99,
          62,
          212
         ],
         "xaxis": "x",
         "y": [
          4,
          3,
          2,
          3,
          3,
          2,
          4,
          5,
          4,
          4,
          1,
          3,
          4,
          3,
          3,
          5,
          2,
          3,
          1,
          5,
          2,
          5,
          4,
          3,
          3,
          2,
          4,
          5,
          4,
          4,
          3,
          3,
          3,
          1,
          5,
          1,
          2,
          5,
          4,
          4,
          3,
          5,
          2,
          2,
          2,
          5,
          5,
          2,
          5,
          5,
          4,
          3,
          2,
          2,
          5,
          1,
          1,
          5,
          4,
          4,
          5,
          4,
          1,
          5,
          4,
          3,
          3,
          2,
          5,
          1,
          4,
          5,
          4,
          1,
          1,
          3,
          1,
          2,
          1,
          3,
          5,
          2,
          4,
          1,
          3,
          4,
          2,
          1,
          2,
          4,
          2,
          3,
          1,
          2,
          4,
          4,
          5,
          5,
          1,
          3,
          1,
          3,
          2,
          3,
          2,
          1,
          2,
          1,
          3,
          3,
          2,
          5,
          3,
          2,
          4,
          2,
          1,
          3,
          1,
          2,
          4,
          5,
          5,
          5,
          3,
          5,
          4,
          3,
          2,
          2,
          5,
          4,
          2,
          1,
          1,
          5,
          1,
          3,
          5,
          5,
          3,
          4,
          2,
          1,
          5,
          3,
          4,
          1,
          3,
          2,
          5,
          1,
          2,
          4,
          1,
          2,
          1,
          4,
          4,
          2,
          1,
          1,
          4,
          1,
          3,
          5,
          5,
          1,
          3,
          5,
          2,
          1,
          2,
          4,
          1,
          3,
          3,
          3,
          3,
          5,
          2,
          4,
          5,
          1,
          5,
          5,
          4,
          1,
          2,
          1,
          2,
          1,
          4,
          3,
          4,
          3,
          3,
          2,
          1,
          2,
          5,
          2,
          1,
          1,
          2,
          4,
          1,
          2,
          5,
          3,
          4,
          5,
          2,
          1,
          2,
          5,
          4,
          5,
          5,
          2,
          4,
          2,
          4,
          5,
          2,
          5,
          4,
          3,
          2,
          4,
          2,
          5,
          5,
          2,
          2,
          1,
          5,
          4,
          1,
          5,
          1,
          5,
          2,
          4,
          1,
          3,
          1,
          4,
          2,
          1,
          1,
          4,
          5,
          2,
          1,
          4,
          4,
          3,
          3,
          5,
          1,
          4,
          5,
          1,
          4,
          5,
          3,
          5,
          3,
          4,
          4,
          3,
          2,
          2,
          2,
          5,
          3,
          3,
          1,
          4,
          1,
          1,
          4,
          1,
          4,
          5,
          4,
          3,
          2,
          1,
          4,
          1,
          1,
          3,
          5,
          1,
          4,
          2,
          3,
          2,
          4,
          3,
          4,
          5,
          2,
          2,
          3,
          4,
          3,
          4,
          3,
          4,
          2,
          2,
          3,
          1,
          3,
          2,
          4,
          5,
          3,
          3,
          4,
          1,
          4,
          3,
          3,
          1,
          1,
          5,
          3,
          2,
          3,
          4,
          1,
          5,
          4,
          1,
          4,
          1,
          1,
          5,
          5,
          3,
          3,
          4,
          2,
          1,
          2,
          4,
          4,
          1,
          3,
          4,
          1,
          1,
          3,
          5,
          1,
          3,
          5,
          5,
          1,
          4,
          5,
          4,
          5,
          5,
          2,
          2,
          5,
          5,
          5,
          5,
          1,
          1,
          1,
          4,
          5,
          2,
          3,
          5,
          1,
          2,
          2,
          4,
          2,
          1,
          5,
          2,
          4,
          4,
          2,
          4,
          5,
          4,
          1,
          5,
          1,
          1,
          5,
          2,
          4,
          5,
          5,
          4,
          2,
          4,
          4,
          4,
          5,
          5,
          3,
          3,
          2,
          2,
          3,
          5,
          3,
          1,
          1,
          2,
          4,
          1,
          3,
          2,
          2,
          2,
          2,
          5,
          3,
          2,
          5,
          1,
          5,
          2,
          3,
          1,
          2,
          2,
          3,
          3,
          1,
          3,
          5,
          4,
          5,
          3,
          2,
          1,
          2,
          5,
          2,
          1,
          2,
          1,
          1,
          3,
          1,
          2,
          5,
          2,
          3,
          3,
          1,
          3,
          4,
          3,
          4,
          1,
          3,
          5,
          2,
          3,
          3,
          4,
          4,
          3,
          3,
          3,
          2,
          5,
          5,
          1,
          4,
          1,
          2,
          3,
          4,
          5,
          4,
          2,
          1,
          4,
          2,
          5,
          3,
          2,
          3,
          2,
          1,
          4,
          5,
          3,
          5,
          4,
          3,
          1,
          3,
          5,
          3,
          5,
          1,
          2,
          4,
          2,
          2,
          1,
          5,
          2,
          4,
          1,
          4,
          5,
          3,
          3,
          2,
          1,
          2,
          3,
          5,
          4,
          4,
          3,
          4,
          2,
          3,
          5,
          5,
          5,
          5,
          2,
          3,
          3,
          5,
          1,
          3,
          2,
          4,
          2,
          4,
          2,
          2,
          4,
          4,
          3,
          2,
          3,
          4,
          5,
          4,
          2,
          1,
          1,
          3,
          1,
          2,
          1,
          3,
          4,
          4,
          4,
          3,
          5,
          5,
          2,
          5,
          4,
          3,
          1,
          5,
          2,
          3,
          1,
          1,
          2,
          3,
          4,
          4,
          2,
          2,
          5,
          4,
          3,
          4,
          5,
          5,
          2,
          2,
          3,
          4,
          1,
          2,
          2,
          3,
          4,
          5,
          3,
          3,
          5,
          5,
          1,
          5,
          1,
          2,
          2,
          3,
          3,
          4,
          3,
          3,
          1,
          4,
          1,
          1,
          1,
          3,
          3,
          1,
          4,
          2,
          3,
          5,
          2,
          4,
          2,
          5,
          1,
          4,
          5,
          1,
          1,
          5,
          2,
          3,
          2,
          1,
          1,
          4,
          3,
          2,
          1,
          3,
          1,
          5,
          2,
          3,
          3,
          4,
          5,
          1,
          2,
          2,
          4,
          5,
          3,
          5,
          3,
          2,
          2,
          1,
          4,
          5,
          1,
          5,
          1,
          2,
          2,
          3,
          1,
          4,
          4,
          3,
          1,
          3,
          4,
          4,
          4,
          3,
          5,
          3,
          2,
          4,
          5,
          5,
          2,
          4,
          2,
          1,
          3
         ],
         "yaxis": "y"
        }
       ],
       "layout": {
        "autosize": true,
        "legend": {
         "tracegroupgap": 0
        },
        "margin": {
         "t": 60
        },
        "template": {
         "data": {
          "bar": [
           {
            "error_x": {
             "color": "#2a3f5f"
            },
            "error_y": {
             "color": "#2a3f5f"
            },
            "marker": {
             "line": {
              "color": "#E5ECF6",
              "width": 0.5
             },
             "pattern": {
              "fillmode": "overlay",
              "size": 10,
              "solidity": 0.2
             }
            },
            "type": "bar"
           }
          ],
          "barpolar": [
           {
            "marker": {
             "line": {
              "color": "#E5ECF6",
              "width": 0.5
             },
             "pattern": {
              "fillmode": "overlay",
              "size": 10,
              "solidity": 0.2
             }
            },
            "type": "barpolar"
           }
          ],
          "carpet": [
           {
            "aaxis": {
             "endlinecolor": "#2a3f5f",
             "gridcolor": "white",
             "linecolor": "white",
             "minorgridcolor": "white",
             "startlinecolor": "#2a3f5f"
            },
            "baxis": {
             "endlinecolor": "#2a3f5f",
             "gridcolor": "white",
             "linecolor": "white",
             "minorgridcolor": "white",
             "startlinecolor": "#2a3f5f"
            },
            "type": "carpet"
           }
          ],
          "choropleth": [
           {
            "colorbar": {
             "outlinewidth": 0,
             "ticks": ""
            },
            "type": "choropleth"
           }
          ],
          "contour": [
           {
            "colorbar": {
             "outlinewidth": 0,
             "ticks": ""
            },
            "colorscale": [
             [
              0,
              "#0d0887"
             ],
             [
              0.1111111111111111,
              "#46039f"
             ],
             [
              0.2222222222222222,
              "#7201a8"
             ],
             [
              0.3333333333333333,
              "#9c179e"
             ],
             [
              0.4444444444444444,
              "#bd3786"
             ],
             [
              0.5555555555555556,
              "#d8576b"
             ],
             [
              0.6666666666666666,
              "#ed7953"
             ],
             [
              0.7777777777777778,
              "#fb9f3a"
             ],
             [
              0.8888888888888888,
              "#fdca26"
             ],
             [
              1,
              "#f0f921"
             ]
            ],
            "type": "contour"
           }
          ],
          "contourcarpet": [
           {
            "colorbar": {
             "outlinewidth": 0,
             "ticks": ""
            },
            "type": "contourcarpet"
           }
          ],
          "heatmap": [
           {
            "colorbar": {
             "outlinewidth": 0,
             "ticks": ""
            },
            "colorscale": [
             [
              0,
              "#0d0887"
             ],
             [
              0.1111111111111111,
              "#46039f"
             ],
             [
              0.2222222222222222,
              "#7201a8"
             ],
             [
              0.3333333333333333,
              "#9c179e"
             ],
             [
              0.4444444444444444,
              "#bd3786"
             ],
             [
              0.5555555555555556,
              "#d8576b"
             ],
             [
              0.6666666666666666,
              "#ed7953"
             ],
             [
              0.7777777777777778,
              "#fb9f3a"
             ],
             [
              0.8888888888888888,
              "#fdca26"
             ],
             [
              1,
              "#f0f921"
             ]
            ],
            "type": "heatmap"
           }
          ],
          "heatmapgl": [
           {
            "colorbar": {
             "outlinewidth": 0,
             "ticks": ""
            },
            "colorscale": [
             [
              0,
              "#0d0887"
             ],
             [
              0.1111111111111111,
              "#46039f"
             ],
             [
              0.2222222222222222,
              "#7201a8"
             ],
             [
              0.3333333333333333,
              "#9c179e"
             ],
             [
              0.4444444444444444,
              "#bd3786"
             ],
             [
              0.5555555555555556,
              "#d8576b"
             ],
             [
              0.6666666666666666,
              "#ed7953"
             ],
             [
              0.7777777777777778,
              "#fb9f3a"
             ],
             [
              0.8888888888888888,
              "#fdca26"
             ],
             [
              1,
              "#f0f921"
             ]
            ],
            "type": "heatmapgl"
           }
          ],
          "histogram": [
           {
            "marker": {
             "pattern": {
              "fillmode": "overlay",
              "size": 10,
              "solidity": 0.2
             }
            },
            "type": "histogram"
           }
          ],
          "histogram2d": [
           {
            "colorbar": {
             "outlinewidth": 0,
             "ticks": ""
            },
            "colorscale": [
             [
              0,
              "#0d0887"
             ],
             [
              0.1111111111111111,
              "#46039f"
             ],
             [
              0.2222222222222222,
              "#7201a8"
             ],
             [
              0.3333333333333333,
              "#9c179e"
             ],
             [
              0.4444444444444444,
              "#bd3786"
             ],
             [
              0.5555555555555556,
              "#d8576b"
             ],
             [
              0.6666666666666666,
              "#ed7953"
             ],
             [
              0.7777777777777778,
              "#fb9f3a"
             ],
             [
              0.8888888888888888,
              "#fdca26"
             ],
             [
              1,
              "#f0f921"
             ]
            ],
            "type": "histogram2d"
           }
          ],
          "histogram2dcontour": [
           {
            "colorbar": {
             "outlinewidth": 0,
             "ticks": ""
            },
            "colorscale": [
             [
              0,
              "#0d0887"
             ],
             [
              0.1111111111111111,
              "#46039f"
             ],
             [
              0.2222222222222222,
              "#7201a8"
             ],
             [
              0.3333333333333333,
              "#9c179e"
             ],
             [
              0.4444444444444444,
              "#bd3786"
             ],
             [
              0.5555555555555556,
              "#d8576b"
             ],
             [
              0.6666666666666666,
              "#ed7953"
             ],
             [
              0.7777777777777778,
              "#fb9f3a"
             ],
             [
              0.8888888888888888,
              "#fdca26"
             ],
             [
              1,
              "#f0f921"
             ]
            ],
            "type": "histogram2dcontour"
           }
          ],
          "mesh3d": [
           {
            "colorbar": {
             "outlinewidth": 0,
             "ticks": ""
            },
            "type": "mesh3d"
           }
          ],
          "parcoords": [
           {
            "line": {
             "colorbar": {
              "outlinewidth": 0,
              "ticks": ""
             }
            },
            "type": "parcoords"
           }
          ],
          "pie": [
           {
            "automargin": true,
            "type": "pie"
           }
          ],
          "scatter": [
           {
            "fillpattern": {
             "fillmode": "overlay",
             "size": 10,
             "solidity": 0.2
            },
            "type": "scatter"
           }
          ],
          "scatter3d": [
           {
            "line": {
             "colorbar": {
              "outlinewidth": 0,
              "ticks": ""
             }
            },
            "marker": {
             "colorbar": {
              "outlinewidth": 0,
              "ticks": ""
             }
            },
            "type": "scatter3d"
           }
          ],
          "scattercarpet": [
           {
            "marker": {
             "colorbar": {
              "outlinewidth": 0,
              "ticks": ""
             }
            },
            "type": "scattercarpet"
           }
          ],
          "scattergeo": [
           {
            "marker": {
             "colorbar": {
              "outlinewidth": 0,
              "ticks": ""
             }
            },
            "type": "scattergeo"
           }
          ],
          "scattergl": [
           {
            "marker": {
             "colorbar": {
              "outlinewidth": 0,
              "ticks": ""
             }
            },
            "type": "scattergl"
           }
          ],
          "scattermapbox": [
           {
            "marker": {
             "colorbar": {
              "outlinewidth": 0,
              "ticks": ""
             }
            },
            "type": "scattermapbox"
           }
          ],
          "scatterpolar": [
           {
            "marker": {
             "colorbar": {
              "outlinewidth": 0,
              "ticks": ""
             }
            },
            "type": "scatterpolar"
           }
          ],
          "scatterpolargl": [
           {
            "marker": {
             "colorbar": {
              "outlinewidth": 0,
              "ticks": ""
             }
            },
            "type": "scatterpolargl"
           }
          ],
          "scatterternary": [
           {
            "marker": {
             "colorbar": {
              "outlinewidth": 0,
              "ticks": ""
             }
            },
            "type": "scatterternary"
           }
          ],
          "surface": [
           {
            "colorbar": {
             "outlinewidth": 0,
             "ticks": ""
            },
            "colorscale": [
             [
              0,
              "#0d0887"
             ],
             [
              0.1111111111111111,
              "#46039f"
             ],
             [
              0.2222222222222222,
              "#7201a8"
             ],
             [
              0.3333333333333333,
              "#9c179e"
             ],
             [
              0.4444444444444444,
              "#bd3786"
             ],
             [
              0.5555555555555556,
              "#d8576b"
             ],
             [
              0.6666666666666666,
              "#ed7953"
             ],
             [
              0.7777777777777778,
              "#fb9f3a"
             ],
             [
              0.8888888888888888,
              "#fdca26"
             ],
             [
              1,
              "#f0f921"
             ]
            ],
            "type": "surface"
           }
          ],
          "table": [
           {
            "cells": {
             "fill": {
              "color": "#EBF0F8"
             },
             "line": {
              "color": "white"
             }
            },
            "header": {
             "fill": {
              "color": "#C8D4E3"
             },
             "line": {
              "color": "white"
             }
            },
            "type": "table"
           }
          ]
         },
         "layout": {
          "annotationdefaults": {
           "arrowcolor": "#2a3f5f",
           "arrowhead": 0,
           "arrowwidth": 1
          },
          "autotypenumbers": "strict",
          "coloraxis": {
           "colorbar": {
            "outlinewidth": 0,
            "ticks": ""
           }
          },
          "colorscale": {
           "diverging": [
            [
             0,
             "#8e0152"
            ],
            [
             0.1,
             "#c51b7d"
            ],
            [
             0.2,
             "#de77ae"
            ],
            [
             0.3,
             "#f1b6da"
            ],
            [
             0.4,
             "#fde0ef"
            ],
            [
             0.5,
             "#f7f7f7"
            ],
            [
             0.6,
             "#e6f5d0"
            ],
            [
             0.7,
             "#b8e186"
            ],
            [
             0.8,
             "#7fbc41"
            ],
            [
             0.9,
             "#4d9221"
            ],
            [
             1,
             "#276419"
            ]
           ],
           "sequential": [
            [
             0,
             "#0d0887"
            ],
            [
             0.1111111111111111,
             "#46039f"
            ],
            [
             0.2222222222222222,
             "#7201a8"
            ],
            [
             0.3333333333333333,
             "#9c179e"
            ],
            [
             0.4444444444444444,
             "#bd3786"
            ],
            [
             0.5555555555555556,
             "#d8576b"
            ],
            [
             0.6666666666666666,
             "#ed7953"
            ],
            [
             0.7777777777777778,
             "#fb9f3a"
            ],
            [
             0.8888888888888888,
             "#fdca26"
            ],
            [
             1,
             "#f0f921"
            ]
           ],
           "sequentialminus": [
            [
             0,
             "#0d0887"
            ],
            [
             0.1111111111111111,
             "#46039f"
            ],
            [
             0.2222222222222222,
             "#7201a8"
            ],
            [
             0.3333333333333333,
             "#9c179e"
            ],
            [
             0.4444444444444444,
             "#bd3786"
            ],
            [
             0.5555555555555556,
             "#d8576b"
            ],
            [
             0.6666666666666666,
             "#ed7953"
            ],
            [
             0.7777777777777778,
             "#fb9f3a"
            ],
            [
             0.8888888888888888,
             "#fdca26"
            ],
            [
             1,
             "#f0f921"
            ]
           ]
          },
          "colorway": [
           "#636efa",
           "#EF553B",
           "#00cc96",
           "#ab63fa",
           "#FFA15A",
           "#19d3f3",
           "#FF6692",
           "#B6E880",
           "#FF97FF",
           "#FECB52"
          ],
          "font": {
           "color": "#2a3f5f"
          },
          "geo": {
           "bgcolor": "white",
           "lakecolor": "white",
           "landcolor": "#E5ECF6",
           "showlakes": true,
           "showland": true,
           "subunitcolor": "white"
          },
          "hoverlabel": {
           "align": "left"
          },
          "hovermode": "closest",
          "mapbox": {
           "style": "light"
          },
          "paper_bgcolor": "white",
          "plot_bgcolor": "#E5ECF6",
          "polar": {
           "angularaxis": {
            "gridcolor": "white",
            "linecolor": "white",
            "ticks": ""
           },
           "bgcolor": "#E5ECF6",
           "radialaxis": {
            "gridcolor": "white",
            "linecolor": "white",
            "ticks": ""
           }
          },
          "scene": {
           "xaxis": {
            "backgroundcolor": "#E5ECF6",
            "gridcolor": "white",
            "gridwidth": 2,
            "linecolor": "white",
            "showbackground": true,
            "ticks": "",
            "zerolinecolor": "white"
           },
           "yaxis": {
            "backgroundcolor": "#E5ECF6",
            "gridcolor": "white",
            "gridwidth": 2,
            "linecolor": "white",
            "showbackground": true,
            "ticks": "",
            "zerolinecolor": "white"
           },
           "zaxis": {
            "backgroundcolor": "#E5ECF6",
            "gridcolor": "white",
            "gridwidth": 2,
            "linecolor": "white",
            "showbackground": true,
            "ticks": "",
            "zerolinecolor": "white"
           }
          },
          "shapedefaults": {
           "line": {
            "color": "#2a3f5f"
           }
          },
          "ternary": {
           "aaxis": {
            "gridcolor": "white",
            "linecolor": "white",
            "ticks": ""
           },
           "baxis": {
            "gridcolor": "white",
            "linecolor": "white",
            "ticks": ""
           },
           "bgcolor": "#E5ECF6",
           "caxis": {
            "gridcolor": "white",
            "linecolor": "white",
            "ticks": ""
           }
          },
          "title": {
           "x": 0.05
          },
          "xaxis": {
           "automargin": true,
           "gridcolor": "white",
           "linecolor": "white",
           "ticks": "",
           "title": {
            "standoff": 15
           },
           "zerolinecolor": "white",
           "zerolinewidth": 2
          },
          "yaxis": {
           "automargin": true,
           "gridcolor": "white",
           "linecolor": "white",
           "ticks": "",
           "title": {
            "standoff": 15
           },
           "zerolinecolor": "white",
           "zerolinewidth": 2
          }
         }
        },
        "xaxis": {
         "anchor": "y",
         "autorange": true,
         "domain": [
          0,
          1
         ],
         "range": [
          -4.381088825214903,
          632.3810888252149
         ],
         "title": {
          "text": "App Usage Time (min/day)"
         },
         "type": "linear"
        },
        "yaxis": {
         "anchor": "x",
         "autorange": true,
         "domain": [
          0,
          1
         ],
         "range": [
          0.6902887139107612,
          5.309711286089239
         ],
         "title": {
          "text": "User Behavior Class"
         },
         "type": "linear"
        }
       }
      },
      "image/png": "[encoded data removed]",
      "text/html": [
       "<div>                            <div id=\"e9a24832-1eb7-4006-9138-ca52faef4617\" class=\"plotly-graph-div\" style=\"height:525px; width:100%;\"></div>            <script type=\"text/javascript\">                require([\"plotly\"], function(Plotly) {                    window.PLOTLYENV=window.PLOTLYENV || {};                                    if (document.getElementById(\"e9a24832-1eb7-4006-9138-ca52faef4617\")) {                    Plotly.newPlot(                        \"e9a24832-1eb7-4006-9138-ca52faef4617\",                        [{\"hovertemplate\":\"App Usage Time (min\\u002fday)=%{x}\\u003cbr\\u003eUser Behavior Class=%{y}\\u003cextra\\u003e\\u003c\\u002fextra\\u003e\",\"legendgroup\":\"\",\"marker\":{\"color\":\"#636efa\",\"symbol\":\"circle\"},\"mode\":\"markers\",\"name\":\"\",\"orientation\":\"v\",\"showlegend\":false,\"x\":[393,268,154,239,187,99,350,543,340,424,53,215,462,215,189,503,132,299,81,577,93,576,423,292,216,91,444,512,452,412,260,197,278,46,593,32,122,522,473,398,240,576,120,152,138,502,558,138,580,589,452,245,125,97,516,68,64,539,428,325,522,309,79,545,459,225,257,134,516,82,452,521,457,31,47,229,34,173,78,230,565,172,330,39,223,404,151,34,137,301,116,291,84,134,411,326,550,516,59,225,41,183,174,274,166,66,152,54,187,216,95,488,295,136,471,121,75,220,82,97,388,529,584,529,227,535,332,252,125,97,540,320,176,79,83,555,66,237,497,516,219,448,156,68,524,188,443,52,228,149,523,42,120,329,68,158,86,339,304,131,64,53,442,32,278,540,595,35,225,587,92,46,153,368,51,279,255,193,207,539,151,474,544,73,597,498,402,75,130,42,134,79,432,262,473,202,215,151,80,126,495,127,88,69,100,301,78,163,539,278,451,481,133,41,152,553,402,555,499,101,433,133,351,532,92,511,384,193,132,360,159,495,537,129,132,37,524,425,64,573,45,564,162,451,30,202,71,314,168,75,42,441,523,100,52,397,424,272,201,570,64,334,518,70,334,563,181,584,208,381,426,284,105,179,122,501,269,230,85,411,73,39,386,49,411,534,314,211,121,84,448,55,59,226,580,65,458,170,264,122,420,267,469,541,155,106,243,410,285,397,230,341,132,130,281,74,299,116,408,508,227,274,347,76,445,203,199,48,88,541,233,176,191,461,37,531,473,30,306,64,75,597,529,290,256,308,156,62,156,303,463,60,225,379,53,30,291,488,74,230,517,557,78,321,579,382,516,598,102,165,558,561,511,560,69,44,65,458,525,106,188,493,84,104,102,349,98,72,563,119,311,337,168,331,589,472,78,517,41,49,522,97,411,566,559,478,147,395,357,405,501,575,257,270,116,98,264,572,202,83,32,168,416,46,201,130,98,105,94,540,266,140,534,46,581,105,221,41,105,123,260,223,66,231,555,378,546,234,152,34,179,591,120,88,143,74,74,234,56,174,523,123,216,290,68,265,414,238,429,39,248,541,139,289,210,412,318,258,258,189,155,528,549,78,444,80,131,228,416,586,416,152,87,329,107,493,182,102,274,143,66,420,582,200,493,348,238,33,267,492,241,567,36,110,466,126,120,64,574,119,350,69,438,506,272,224,99,44,175,228,589,339,431,190,389,139,289,593,576,592,567,170,242,275,544,50,236,139,383,172,455,157,173,405,387,201,142,198,361,553,408,121,71,46,290,60,116,86,291,404,441,444,211,537,519,94,554,381,257,47,527,148,191,71,73,149,197,328,424,111,159,580,379,217,447,512,511,140,114,192,325,83,122,138,182,425,580,203,258,551,507,57,553,49,106,119,288,225,342,292,218,64,453,42,36,55,210,227,47,461,94,216,496,138,318,96,510,83,417,538,63,50,502,105,186,174,89,66,389,186,149,69,206,49,594,104,262,278,463,505,50,138,130,469,555,198,529,205,170,160,81,468,500,37,522,81,141,115,298,33,307,380,190,75,218,412,335,387,261,541,195,178,378,505,564,92,316,99,62,212],\"xaxis\":\"x\",\"y\":[4,3,2,3,3,2,4,5,4,4,1,3,4,3,3,5,2,3,1,5,2,5,4,3,3,2,4,5,4,4,3,3,3,1,5,1,2,5,4,4,3,5,2,2,2,5,5,2,5,5,4,3,2,2,5,1,1,5,4,4,5,4,1,5,4,3,3,2,5,1,4,5,4,1,1,3,1,2,1,3,5,2,4,1,3,4,2,1,2,4,2,3,1,2,4,4,5,5,1,3,1,3,2,3,2,1,2,1,3,3,2,5,3,2,4,2,1,3,1,2,4,5,5,5,3,5,4,3,2,2,5,4,2,1,1,5,1,3,5,5,3,4,2,1,5,3,4,1,3,2,5,1,2,4,1,2,1,4,4,2,1,1,4,1,3,5,5,1,3,5,2,1,2,4,1,3,3,3,3,5,2,4,5,1,5,5,4,1,2,1,2,1,4,3,4,3,3,2,1,2,5,2,1,1,2,4,1,2,5,3,4,5,2,1,2,5,4,5,5,2,4,2,4,5,2,5,4,3,2,4,2,5,5,2,2,1,5,4,1,5,1,5,2,4,1,3,1,4,2,1,1,4,5,2,1,4,4,3,3,5,1,4,5,1,4,5,3,5,3,4,4,3,2,2,2,5,3,3,1,4,1,1,4,1,4,5,4,3,2,1,4,1,1,3,5,1,4,2,3,2,4,3,4,5,2,2,3,4,3,4,3,4,2,2,3,1,3,2,4,5,3,3,4,1,4,3,3,1,1,5,3,2,3,4,1,5,4,1,4,1,1,5,5,3,3,4,2,1,2,4,4,1,3,4,1,1,3,5,1,3,5,5,1,4,5,4,5,5,2,2,5,5,5,5,1,1,1,4,5,2,3,5,1,2,2,4,2,1,5,2,4,4,2,4,5,4,1,5,1,1,5,2,4,5,5,4,2,4,4,4,5,5,3,3,2,2,3,5,3,1,1,2,4,1,3,2,2,2,2,5,3,2,5,1,5,2,3,1,2,2,3,3,1,3,5,4,5,3,2,1,2,5,2,1,2,1,1,3,1,2,5,2,3,3,1,3,4,3,4,1,3,5,2,3,3,4,4,3,3,3,2,5,5,1,4,1,2,3,4,5,4,2,1,4,2,5,3,2,3,2,1,4,5,3,5,4,3,1,3,5,3,5,1,2,4,2,2,1,5,2,4,1,4,5,3,3,2,1,2,3,5,4,4,3,4,2,3,5,5,5,5,2,3,3,5,1,3,2,4,2,4,2,2,4,4,3,2,3,4,5,4,2,1,1,3,1,2,1,3,4,4,4,3,5,5,2,5,4,3,1,5,2,3,1,1,2,3,4,4,2,2,5,4,3,4,5,5,2,2,3,4,1,2,2,3,4,5,3,3,5,5,1,5,1,2,2,3,3,4,3,3,1,4,1,1,1,3,3,1,4,2,3,5,2,4,2,5,1,4,5,1,1,5,2,3,2,1,1,4,3,2,1,3,1,5,2,3,3,4,5,1,2,2,4,5,3,5,3,2,2,1,4,5,1,5,1,2,2,3,1,4,4,3,1,3,4,4,4,3,5,3,2,4,5,5,2,4,2,1,3],\"yaxis\":\"y\",\"type\":\"scatter\"}],                        {\"template\":{\"data\":{\"histogram2dcontour\":[{\"type\":\"histogram2dcontour\",\"colorbar\":{\"outlinewidth\":0,\"ticks\":\"\"},\"colorscale\":[[0.0,\"#0d0887\"],[0.1111111111111111,\"#46039f\"],[0.2222222222222222,\"#7201a8\"],[0.3333333333333333,\"#9c179e\"],[0.4444444444444444,\"#bd3786\"],[0.5555555555555556,\"#d8576b\"],[0.6666666666666666,\"#ed7953\"],[0.7777777777777778,\"#fb9f3a\"],[0.8888888888888888,\"#fdca26\"],[1.0,\"#f0f921\"]]}],\"choropleth\":[{\"type\":\"choropleth\",\"colorbar\":{\"outlinewidth\":0,\"ticks\":\"\"}}],\"histogram2d\":[{\"type\":\"histogram2d\",\"colorbar\":{\"outlinewidth\":0,\"ticks\":\"\"},\"colorscale\":[[0.0,\"#0d0887\"],[0.1111111111111111,\"#46039f\"],[0.2222222222222222,\"#7201a8\"],[0.3333333333333333,\"#9c179e\"],[0.4444444444444444,\"#bd3786\"],[0.5555555555555556,\"#d8576b\"],[0.6666666666666666,\"#ed7953\"],[0.7777777777777778,\"#fb9f3a\"],[0.8888888888888888,\"#fdca26\"],[1.0,\"#f0f921\"]]}],\"heatmap\":[{\"type\":\"heatmap\",\"colorbar\":{\"outlinewidth\":0,\"ticks\":\"\"},\"colorscale\":[[0.0,\"#0d0887\"],[0.1111111111111111,\"#46039f\"],[0.2222222222222222,\"#7201a8\"],[0.3333333333333333,\"#9c179e\"],[0.4444444444444444,\"#bd3786\"],[0.5555555555555556,\"#d8576b\"],[0.6666666666666666,\"#ed7953\"],[0.7777777777777778,\"#fb9f3a\"],[0.8888888888888888,\"#fdca26\"],[1.0,\"#f0f921\"]]}],\"heatmapgl\":[{\"type\":\"heatmapgl\",\"colorbar\":{\"outlinewidth\":0,\"ticks\":\"\"},\"colorscale\":[[0.0,\"#0d0887\"],[0.1111111111111111,\"#46039f\"],[0.2222222222222222,\"#7201a8\"],[0.3333333333333333,\"#9c179e\"],[0.4444444444444444,\"#bd3786\"],[0.5555555555555556,\"#d8576b\"],[0.6666666666666666,\"#ed7953\"],[0.7777777777777778,\"#fb9f3a\"],[0.8888888888888888,\"#fdca26\"],[1.0,\"#f0f921\"]]}],\"contourcarpet\":[{\"type\":\"contourcarpet\",\"colorbar\":{\"outlinewidth\":0,\"ticks\":\"\"}}],\"contour\":[{\"type\":\"contour\",\"colorbar\":{\"outlinewidth\":0,\"ticks\":\"\"},\"colorscale\":[[0.0,\"#0d0887\"],[0.1111111111111111,\"#46039f\"],[0.2222222222222222,\"#7201a8\"],[0.3333333333333333,\"#9c179e\"],[0.4444444444444444,\"#bd3786\"],[0.5555555555555556,\"#d8576b\"],[0.6666666666666666,\"#ed7953\"],[0.7777777777777778,\"#fb9f3a\"],[0.8888888888888888,\"#fdca26\"],[1.0,\"#f0f921\"]]}],\"surface\":[{\"type\":\"surface\",\"colorbar\":{\"outlinewidth\":0,\"ticks\":\"\"},\"colorscale\":[[0.0,\"#0d0887\"],[0.1111111111111111,\"#46039f\"],[0.2222222222222222,\"#7201a8\"],[0.3333333333333333,\"#9c179e\"],[0.4444444444444444,\"#bd3786\"],[0.5555555555555556,\"#d8576b\"],[0.6666666666666666,\"#ed7953\"],[0.7777777777777778,\"#fb9f3a\"],[0.8888888888888888,\"#fdca26\"],[1.0,\"#f0f921\"]]}],\"mesh3d\":[{\"type\":\"mesh3d\",\"colorbar\":{\"outlinewidth\":0,\"ticks\":\"\"}}],\"scatter\":[{\"fillpattern\":{\"fillmode\":\"overlay\",\"size\":10,\"solidity\":0.2},\"type\":\"scatter\"}],\"parcoords\":[{\"type\":\"parcoords\",\"line\":{\"colorbar\":{\"outlinewidth\":0,\"ticks\":\"\"}}}],\"scatterpolargl\":[{\"type\":\"scatterpolargl\",\"marker\":{\"colorbar\":{\"outlinewidth\":0,\"ticks\":\"\"}}}],\"bar\":[{\"error_x\":{\"color\":\"#2a3f5f\"},\"error_y\":{\"color\":\"#2a3f5f\"},\"marker\":{\"line\":{\"color\":\"#E5ECF6\",\"width\":0.5},\"pattern\":{\"fillmode\":\"overlay\",\"size\":10,\"solidity\":0.2}},\"type\":\"bar\"}],\"scattergeo\":[{\"type\":\"scattergeo\",\"marker\":{\"colorbar\":{\"outlinewidth\":0,\"ticks\":\"\"}}}],\"scatterpolar\":[{\"type\":\"scatterpolar\",\"marker\":{\"colorbar\":{\"outlinewidth\":0,\"ticks\":\"\"}}}],\"histogram\":[{\"marker\":{\"pattern\":{\"fillmode\":\"overlay\",\"size\":10,\"solidity\":0.2}},\"type\":\"histogram\"}],\"scattergl\":[{\"type\":\"scattergl\",\"marker\":{\"colorbar\":{\"outlinewidth\":0,\"ticks\":\"\"}}}],\"scatter3d\":[{\"type\":\"scatter3d\",\"line\":{\"colorbar\":{\"outlinewidth\":0,\"ticks\":\"\"}},\"marker\":{\"colorbar\":{\"outlinewidth\":0,\"ticks\":\"\"}}}],\"scattermapbox\":[{\"type\":\"scattermapbox\",\"marker\":{\"colorbar\":{\"outlinewidth\":0,\"ticks\":\"\"}}}],\"scatterternary\":[{\"type\":\"scatterternary\",\"marker\":{\"colorbar\":{\"outlinewidth\":0,\"ticks\":\"\"}}}],\"scattercarpet\":[{\"type\":\"scattercarpet\",\"marker\":{\"colorbar\":{\"outlinewidth\":0,\"ticks\":\"\"}}}],\"carpet\":[{\"aaxis\":{\"endlinecolor\":\"#2a3f5f\",\"gridcolor\":\"white\",\"linecolor\":\"white\",\"minorgridcolor\":\"white\",\"startlinecolor\":\"#2a3f5f\"},\"baxis\":{\"endlinecolor\":\"#2a3f5f\",\"gridcolor\":\"white\",\"linecolor\":\"white\",\"minorgridcolor\":\"white\",\"startlinecolor\":\"#2a3f5f\"},\"type\":\"carpet\"}],\"table\":[{\"cells\":{\"fill\":{\"color\":\"#EBF0F8\"},\"line\":{\"color\":\"white\"}},\"header\":{\"fill\":{\"color\":\"#C8D4E3\"},\"line\":{\"color\":\"white\"}},\"type\":\"table\"}],\"barpolar\":[{\"marker\":{\"line\":{\"color\":\"#E5ECF6\",\"width\":0.5},\"pattern\":{\"fillmode\":\"overlay\",\"size\":10,\"solidity\":0.2}},\"type\":\"barpolar\"}],\"pie\":[{\"automargin\":true,\"type\":\"pie\"}]},\"layout\":{\"autotypenumbers\":\"strict\",\"colorway\":[\"#636efa\",\"#EF553B\",\"#00cc96\",\"#ab63fa\",\"#FFA15A\",\"#19d3f3\",\"#FF6692\",\"#B6E880\",\"#FF97FF\",\"#FECB52\"],\"font\":{\"color\":\"#2a3f5f\"},\"hovermode\":\"closest\",\"hoverlabel\":{\"align\":\"left\"},\"paper_bgcolor\":\"white\",\"plot_bgcolor\":\"#E5ECF6\",\"polar\":{\"bgcolor\":\"#E5ECF6\",\"angularaxis\":{\"gridcolor\":\"white\",\"linecolor\":\"white\",\"ticks\":\"\"},\"radialaxis\":{\"gridcolor\":\"white\",\"linecolor\":\"white\",\"ticks\":\"\"}},\"ternary\":{\"bgcolor\":\"#E5ECF6\",\"aaxis\":{\"gridcolor\":\"white\",\"linecolor\":\"white\",\"ticks\":\"\"},\"baxis\":{\"gridcolor\":\"white\",\"linecolor\":\"white\",\"ticks\":\"\"},\"caxis\":{\"gridcolor\":\"white\",\"linecolor\":\"white\",\"ticks\":\"\"}},\"coloraxis\":{\"colorbar\":{\"outlinewidth\":0,\"ticks\":\"\"}},\"colorscale\":{\"sequential\":[[0.0,\"#0d0887\"],[0.1111111111111111,\"#46039f\"],[0.2222222222222222,\"#7201a8\"],[0.3333333333333333,\"#9c179e\"],[0.4444444444444444,\"#bd3786\"],[0.5555555555555556,\"#d8576b\"],[0.6666666666666666,\"#ed7953\"],[0.7777777777777778,\"#fb9f3a\"],[0.8888888888888888,\"#fdca26\"],[1.0,\"#f0f921\"]],\"sequentialminus\":[[0.0,\"#0d0887\"],[0.1111111111111111,\"#46039f\"],[0.2222222222222222,\"#7201a8\"],[0.3333333333333333,\"#9c179e\"],[0.4444444444444444,\"#bd3786\"],[0.5555555555555556,\"#d8576b\"],[0.6666666666666666,\"#ed7953\"],[0.7777777777777778,\"#fb9f3a\"],[0.8888888888888888,\"#fdca26\"],[1.0,\"#f0f921\"]],\"diverging\":[[0,\"#8e0152\"],[0.1,\"#c51b7d\"],[0.2,\"#de77ae\"],[0.3,\"#f1b6da\"],[0.4,\"#fde0ef\"],[0.5,\"#f7f7f7\"],[0.6,\"#e6f5d0\"],[0.7,\"#b8e186\"],[0.8,\"#7fbc41\"],[0.9,\"#4d9221\"],[1,\"#276419\"]]},\"xaxis\":{\"gridcolor\":\"white\",\"linecolor\":\"white\",\"ticks\":\"\",\"title\":{\"standoff\":15},\"zerolinecolor\":\"white\",\"automargin\":true,\"zerolinewidth\":2},\"yaxis\":{\"gridcolor\":\"white\",\"linecolor\":\"white\",\"ticks\":\"\",\"title\":{\"standoff\":15},\"zerolinecolor\":\"white\",\"automargin\":true,\"zerolinewidth\":2},\"scene\":{\"xaxis\":{\"backgroundcolor\":\"#E5ECF6\",\"gridcolor\":\"white\",\"linecolor\":\"white\",\"showbackground\":true,\"ticks\":\"\",\"zerolinecolor\":\"white\",\"gridwidth\":2},\"yaxis\":{\"backgroundcolor\":\"#E5ECF6\",\"gridcolor\":\"white\",\"linecolor\":\"white\",\"showbackground\":true,\"ticks\":\"\",\"zerolinecolor\":\"white\",\"gridwidth\":2},\"zaxis\":{\"backgroundcolor\":\"#E5ECF6\",\"gridcolor\":\"white\",\"linecolor\":\"white\",\"showbackground\":true,\"ticks\":\"\",\"zerolinecolor\":\"white\",\"gridwidth\":2}},\"shapedefaults\":{\"line\":{\"color\":\"#2a3f5f\"}},\"annotationdefaults\":{\"arrowcolor\":\"#2a3f5f\",\"arrowhead\":0,\"arrowwidth\":1},\"geo\":{\"bgcolor\":\"white\",\"landcolor\":\"#E5ECF6\",\"subunitcolor\":\"white\",\"showland\":true,\"showlakes\":true,\"lakecolor\":\"white\"},\"title\":{\"x\":0.05},\"mapbox\":{\"style\":\"light\"}}},\"xaxis\":{\"anchor\":\"y\",\"domain\":[0.0,1.0],\"title\":{\"text\":\"App Usage Time (min\\u002fday)\"}},\"yaxis\":{\"anchor\":\"x\",\"domain\":[0.0,1.0],\"title\":{\"text\":\"User Behavior Class\"}},\"legend\":{\"tracegroupgap\":0},\"margin\":{\"t\":60}},                        {\"responsive\": true}                    ).then(function(){\n",
       "                            \n",
       "var gd = document.getElementById('e9a24832-1eb7-4006-9138-ca52faef4617');\n",
       "var x = new MutationObserver(function (mutations, observer) {{\n",
       "        var display = window.getComputedStyle(gd).display;\n",
       "        if (!display || display === 'none') {{\n",
       "            console.log([gd, 'removed!']);\n",
       "            Plotly.purge(gd);\n",
       "            observer.disconnect();\n",
       "        }}\n",
       "}});\n",
       "\n",
       "// Listen for the removal of the full notebook cells\n",
       "var notebookContainer = gd.closest('#notebook-container');\n",
       "if (notebookContainer) {{\n",
       "    x.observe(notebookContainer, {childList: true});\n",
       "}}\n",
       "\n",
       "// Listen for the clearing of the current output cell\n",
       "var outputEl = gd.closest('.output');\n",
       "if (outputEl) {{\n",
       "    x.observe(outputEl, {childList: true});\n",
       "}}\n",
       "\n",
       "                        })                };                });            </script>        </div>"
      ]
     },
     "metadata": {},
     "output_type": "display_data"
    },
    {
     "data": {
      "application/vnd.plotly.v1+json": {
       "config": {
        "plotlyServerURL": "https://plot.ly"
       },
       "data": [
        {
         "hovertemplate": "Screen On Time (hours/day)=%{x}<br>User Behavior Class=%{y}<extra></extra>",
         "legendgroup": "",
         "marker": {
          "color": "#636efa",
          "symbol": "circle"
         },
         "mode": "markers",
         "name": "",
         "orientation": "v",
         "showlegend": false,
         "type": "scatter",
         "x": [
          6.4,
          4.7,
          4,
          4.8,
          4.3,
          2,
          7.3,
          11.4,
          7.7,
          6.6,
          1.4,
          5.5,
          6.2,
          4.9,
          5.4,
          10.4,
          3.6,
          5.8,
          1.4,
          8.5,
          2.6,
          11.6,
          6.5,
          5.6,
          4,
          3.4,
          7.6,
          10.5,
          6.8,
          6.2,
          6,
          4.6,
          4.7,
          2,
          10.2,
          1.2,
          3.3,
          11.2,
          6.4,
          6.2,
          4.7,
          10.1,
          2.1,
          3.7,
          2.4,
          10.9,
          8.4,
          3.6,
          8.2,
          8.7,
          7.4,
          5.9,
          2.7,
          2.2,
          8.7,
          1.6,
          1.1,
          8.4,
          7,
          7.1,
          11.9,
          7.5,
          1.9,
          11.5,
          7,
          4,
          4.5,
          4,
          10.2,
          1.7,
          7.2,
          9,
          6.3,
          1.1,
          2,
          5.7,
          2,
          2.5,
          1.8,
          5.7,
          10.6,
          2.8,
          7.2,
          1.8,
          4.5,
          7.4,
          2.4,
          1.5,
          3.3,
          6.2,
          2.1,
          4.1,
          1.4,
          2.5,
          7.5,
          7.2,
          9.5,
          12,
          1.2,
          5.5,
          1.1,
          4.1,
          2.5,
          4.2,
          2.8,
          1.2,
          2.7,
          1.4,
          5.5,
          6,
          3.8,
          8.6,
          5.1,
          3.2,
          7.9,
          3.2,
          1.2,
          5.2,
          1.6,
          2.7,
          6.6,
          8.7,
          10,
          8.1,
          5.1,
          11.8,
          7.4,
          4.2,
          2.5,
          3.3,
          10.8,
          7.2,
          3.6,
          1,
          1.6,
          11.3,
          1.7,
          4.5,
          9.7,
          11.1,
          5.2,
          6.3,
          2.2,
          1.1,
          11.2,
          5.3,
          7.4,
          1.6,
          4.2,
          3.7,
          9.4,
          1.6,
          2,
          7.5,
          1.5,
          3.4,
          1.7,
          7.8,
          6.5,
          2.4,
          1.6,
          1.9,
          7.7,
          2,
          4.8,
          8.4,
          11.3,
          1.5,
          5.4,
          11.8,
          3.7,
          1.1,
          2.8,
          6.6,
          1.6,
          5.2,
          5.4,
          5.7,
          5.7,
          11.9,
          2.4,
          6.4,
          9.2,
          1.2,
          10.4,
          10.7,
          7.8,
          1.1,
          2,
          1.1,
          2.2,
          1.9,
          7.2,
          4.1,
          6.4,
          4.7,
          4.4,
          3.7,
          1.6,
          2.8,
          8.9,
          3.7,
          1.3,
          1.6,
          3.3,
          6.5,
          1.7,
          3.1,
          9.3,
          4.6,
          6.1,
          10.9,
          3.4,
          1.1,
          3.3,
          8.4,
          6.9,
          9.5,
          9.6,
          3.2,
          6.8,
          2,
          6.1,
          10.7,
          2.5,
          10.8,
          7,
          5.2,
          3.8,
          7.3,
          2.3,
          8.9,
          10,
          3.4,
          3.8,
          1.4,
          8.9,
          6.9,
          1.7,
          10.8,
          1.7,
          11.7,
          3.5,
          6.5,
          1.3,
          5,
          1.5,
          6.2,
          4,
          1.9,
          1.4,
          7.9,
          10.5,
          2.4,
          1.2,
          7,
          7.7,
          5,
          4,
          9,
          1.3,
          6.6,
          9.6,
          1.7,
          6.8,
          8.4,
          4.1,
          9.4,
          4.7,
          6.6,
          6.5,
          4.2,
          2.2,
          2.3,
          2.6,
          11.9,
          5.9,
          4.4,
          1.6,
          7.8,
          1.7,
          1.7,
          7.7,
          1.3,
          6.9,
          10.8,
          7.4,
          4,
          3.7,
          1.2,
          7.6,
          1.6,
          1.8,
          4.5,
          8.5,
          1.8,
          6.6,
          2.7,
          5.2,
          3.3,
          6.5,
          4.4,
          6,
          11.4,
          2.9,
          2.8,
          5,
          7.5,
          5.1,
          6.8,
          4.2,
          7.2,
          2.9,
          3,
          4.9,
          2,
          4.3,
          2.2,
          6.6,
          11.3,
          4.4,
          6,
          6.3,
          1.3,
          7.5,
          4.3,
          6,
          2,
          1.6,
          8.3,
          4.6,
          3.8,
          6,
          7.5,
          1.5,
          9.8,
          7.9,
          1.3,
          6.1,
          1.2,
          1,
          10.3,
          10.5,
          6,
          5.8,
          7.7,
          3.3,
          1.4,
          3.8,
          7.4,
          6.9,
          1.5,
          4.6,
          7.5,
          1.4,
          1.9,
          4.1,
          9.5,
          2,
          4.6,
          11.8,
          10.4,
          1.5,
          7.9,
          8.6,
          7.2,
          11.6,
          11.2,
          3.9,
          2.4,
          9.8,
          10.6,
          10.9,
          11.3,
          1.3,
          1.1,
          1.7,
          6,
          10.8,
          3,
          4.6,
          10.4,
          1.5,
          2.9,
          3,
          6.6,
          2,
          1.3,
          11.6,
          2.8,
          7.9,
          6.1,
          3.5,
          7.4,
          9.2,
          6.8,
          1.1,
          11.6,
          1.6,
          1.5,
          11.1,
          2.7,
          7.4,
          8.6,
          8.2,
          7.3,
          3.2,
          7.3,
          7.8,
          6.9,
          11.8,
          8.2,
          5.1,
          5,
          2,
          2.3,
          5.1,
          11.7,
          4.9,
          1.4,
          1.4,
          3.2,
          6.1,
          1.1,
          5,
          2.8,
          2.4,
          3.8,
          2.3,
          10.1,
          5.5,
          3.8,
          10.4,
          2,
          8.4,
          3.4,
          4.4,
          1.7,
          3,
          3.9,
          5.7,
          5.7,
          1.1,
          4,
          8.8,
          7.2,
          8.8,
          5.2,
          3,
          1.2,
          3.5,
          11.8,
          3.3,
          1.3,
          3.9,
          1.6,
          1.6,
          4.7,
          1,
          2.4,
          9,
          3.3,
          5.9,
          4.6,
          1.3,
          4.8,
          7.3,
          4,
          7.5,
          1.9,
          4.6,
          9.4,
          3,
          5,
          4.9,
          6.2,
          6.6,
          4.2,
          4.3,
          4.8,
          2.4,
          10.4,
          11.1,
          1.6,
          6,
          1.1,
          3.8,
          4.4,
          7.3,
          9.3,
          6.1,
          3.7,
          1.5,
          6.8,
          2.5,
          10.9,
          4.8,
          2.9,
          4.5,
          3.6,
          1.3,
          7.7,
          8.4,
          5.8,
          8.5,
          6.6,
          5.1,
          2,
          5.9,
          10,
          5.3,
          10.8,
          1.6,
          3.4,
          7.1,
          2.2,
          3.8,
          1.2,
          8.5,
          2.2,
          6.5,
          1.1,
          6.5,
          11.2,
          5.2,
          4.5,
          2.4,
          1.2,
          3,
          4.8,
          11.8,
          7.9,
          6.4,
          4.7,
          6.1,
          3.3,
          5.9,
          11.1,
          9.5,
          9.4,
          10.5,
          2.5,
          5.4,
          5.5,
          9.7,
          2,
          4.6,
          2.6,
          6.6,
          4,
          6.2,
          2.5,
          3.8,
          7.3,
          6.6,
          4.9,
          3.5,
          4.2,
          7.6,
          11.6,
          6.2,
          2.1,
          1.4,
          1.6,
          4.4,
          1.3,
          3.9,
          1.7,
          5.3,
          6.6,
          7.1,
          6.1,
          5.9,
          9.1,
          10.9,
          3.5,
          10.3,
          7.5,
          6,
          1.1,
          10,
          2.7,
          5.7,
          1.9,
          1.3,
          3.1,
          4.4,
          6.1,
          7.5,
          3.6,
          3.7,
          11.5,
          7.7,
          4.2,
          6.3,
          10.5,
          10.8,
          2.5,
          3,
          4.3,
          6,
          1.2,
          3,
          2.1,
          5.3,
          6,
          10.4,
          4,
          4.9,
          8.5,
          9.6,
          1.3,
          10.2,
          1.1,
          4,
          3.7,
          5.4,
          5.6,
          7,
          4.2,
          5,
          1.8,
          7.4,
          1.8,
          1.5,
          1.8,
          5,
          5.2,
          1.2,
          6.3,
          3.1,
          5.1,
          10.2,
          3.2,
          6.6,
          3.4,
          10.7,
          1.1,
          6.2,
          9.8,
          1.8,
          1.4,
          8.2,
          3.3,
          4.8,
          2.9,
          1.3,
          1.5,
          6.3,
          5.4,
          2,
          1.7,
          5.2,
          1.2,
          10.5,
          3.7,
          5.6,
          5.3,
          6.8,
          9.6,
          1.5,
          3.1,
          3.2,
          6.4,
          10.3,
          5.4,
          11.4,
          5.5,
          2.4,
          3.2,
          1.6,
          7.3,
          11.2,
          1.6,
          11.4,
          1.5,
          3.8,
          3.5,
          4.6,
          1.8,
          6.1,
          7.6,
          5.5,
          1.6,
          4,
          6.6,
          7.7,
          6.3,
          4.9,
          9.5,
          5.7,
          4,
          6.7,
          8.6,
          9.7,
          3.9,
          6.8,
          3.1,
          1.7,
          5.4
         ],
         "xaxis": "x",
         "y": [
          4,
          3,
          2,
          3,
          3,
          2,
          4,
          5,
          4,
          4,
          1,
          3,
          4,
          3,
          3,
          5,
          2,
          3,
          1,
          5,
          2,
          5,
          4,
          3,
          3,
          2,
          4,
          5,
          4,
          4,
          3,
          3,
          3,
          1,
          5,
          1,
          2,
          5,
          4,
          4,
          3,
          5,
          2,
          2,
          2,
          5,
          5,
          2,
          5,
          5,
          4,
          3,
          2,
          2,
          5,
          1,
          1,
          5,
          4,
          4,
          5,
          4,
          1,
          5,
          4,
          3,
          3,
          2,
          5,
          1,
          4,
          5,
          4,
          1,
          1,
          3,
          1,
          2,
          1,
          3,
          5,
          2,
          4,
          1,
          3,
          4,
          2,
          1,
          2,
          4,
          2,
          3,
          1,
          2,
          4,
          4,
          5,
          5,
          1,
          3,
          1,
          3,
          2,
          3,
          2,
          1,
          2,
          1,
          3,
          3,
          2,
          5,
          3,
          2,
          4,
          2,
          1,
          3,
          1,
          2,
          4,
          5,
          5,
          5,
          3,
          5,
          4,
          3,
          2,
          2,
          5,
          4,
          2,
          1,
          1,
          5,
          1,
          3,
          5,
          5,
          3,
          4,
          2,
          1,
          5,
          3,
          4,
          1,
          3,
          2,
          5,
          1,
          2,
          4,
          1,
          2,
          1,
          4,
          4,
          2,
          1,
          1,
          4,
          1,
          3,
          5,
          5,
          1,
          3,
          5,
          2,
          1,
          2,
          4,
          1,
          3,
          3,
          3,
          3,
          5,
          2,
          4,
          5,
          1,
          5,
          5,
          4,
          1,
          2,
          1,
          2,
          1,
          4,
          3,
          4,
          3,
          3,
          2,
          1,
          2,
          5,
          2,
          1,
          1,
          2,
          4,
          1,
          2,
          5,
          3,
          4,
          5,
          2,
          1,
          2,
          5,
          4,
          5,
          5,
          2,
          4,
          2,
          4,
          5,
          2,
          5,
          4,
          3,
          2,
          4,
          2,
          5,
          5,
          2,
          2,
          1,
          5,
          4,
          1,
          5,
          1,
          5,
          2,
          4,
          1,
          3,
          1,
          4,
          2,
          1,
          1,
          4,
          5,
          2,
          1,
          4,
          4,
          3,
          3,
          5,
          1,
          4,
          5,
          1,
          4,
          5,
          3,
          5,
          3,
          4,
          4,
          3,
          2,
          2,
          2,
          5,
          3,
          3,
          1,
          4,
          1,
          1,
          4,
          1,
          4,
          5,
          4,
          3,
          2,
          1,
          4,
          1,
          1,
          3,
          5,
          1,
          4,
          2,
          3,
          2,
          4,
          3,
          4,
          5,
          2,
          2,
          3,
          4,
          3,
          4,
          3,
          4,
          2,
          2,
          3,
          1,
          3,
          2,
          4,
          5,
          3,
          3,
          4,
          1,
          4,
          3,
          3,
          1,
          1,
          5,
          3,
          2,
          3,
          4,
          1,
          5,
          4,
          1,
          4,
          1,
          1,
          5,
          5,
          3,
          3,
          4,
          2,
          1,
          2,
          4,
          4,
          1,
          3,
          4,
          1,
          1,
          3,
          5,
          1,
          3,
          5,
          5,
          1,
          4,
          5,
          4,
          5,
          5,
          2,
          2,
          5,
          5,
          5,
          5,
          1,
          1,
          1,
          4,
          5,
          2,
          3,
          5,
          1,
          2,
          2,
          4,
          2,
          1,
          5,
          2,
          4,
          4,
          2,
          4,
          5,
          4,
          1,
          5,
          1,
          1,
          5,
          2,
          4,
          5,
          5,
          4,
          2,
          4,
          4,
          4,
          5,
          5,
          3,
          3,
          2,
          2,
          3,
          5,
          3,
          1,
          1,
          2,
          4,
          1,
          3,
          2,
          2,
          2,
          2,
          5,
          3,
          2,
          5,
          1,
          5,
          2,
          3,
          1,
          2,
          2,
          3,
          3,
          1,
          3,
          5,
          4,
          5,
          3,
          2,
          1,
          2,
          5,
          2,
          1,
          2,
          1,
          1,
          3,
          1,
          2,
          5,
          2,
          3,
          3,
          1,
          3,
          4,
          3,
          4,
          1,
          3,
          5,
          2,
          3,
          3,
          4,
          4,
          3,
          3,
          3,
          2,
          5,
          5,
          1,
          4,
          1,
          2,
          3,
          4,
          5,
          4,
          2,
          1,
          4,
          2,
          5,
          3,
          2,
          3,
          2,
          1,
          4,
          5,
          3,
          5,
          4,
          3,
          1,
          3,
          5,
          3,
          5,
          1,
          2,
          4,
          2,
          2,
          1,
          5,
          2,
          4,
          1,
          4,
          5,
          3,
          3,
          2,
          1,
          2,
          3,
          5,
          4,
          4,
          3,
          4,
          2,
          3,
          5,
          5,
          5,
          5,
          2,
          3,
          3,
          5,
          1,
          3,
          2,
          4,
          2,
          4,
          2,
          2,
          4,
          4,
          3,
          2,
          3,
          4,
          5,
          4,
          2,
          1,
          1,
          3,
          1,
          2,
          1,
          3,
          4,
          4,
          4,
          3,
          5,
          5,
          2,
          5,
          4,
          3,
          1,
          5,
          2,
          3,
          1,
          1,
          2,
          3,
          4,
          4,
          2,
          2,
          5,
          4,
          3,
          4,
          5,
          5,
          2,
          2,
          3,
          4,
          1,
          2,
          2,
          3,
          4,
          5,
          3,
          3,
          5,
          5,
          1,
          5,
          1,
          2,
          2,
          3,
          3,
          4,
          3,
          3,
          1,
          4,
          1,
          1,
          1,
          3,
          3,
          1,
          4,
          2,
          3,
          5,
          2,
          4,
          2,
          5,
          1,
          4,
          5,
          1,
          1,
          5,
          2,
          3,
          2,
          1,
          1,
          4,
          3,
          2,
          1,
          3,
          1,
          5,
          2,
          3,
          3,
          4,
          5,
          1,
          2,
          2,
          4,
          5,
          3,
          5,
          3,
          2,
          2,
          1,
          4,
          5,
          1,
          5,
          1,
          2,
          2,
          3,
          1,
          4,
          4,
          3,
          1,
          3,
          4,
          4,
          4,
          3,
          5,
          3,
          2,
          4,
          5,
          5,
          2,
          4,
          2,
          1,
          3
         ],
         "yaxis": "y"
        }
       ],
       "layout": {
        "autosize": true,
        "legend": {
         "tracegroupgap": 0
        },
        "margin": {
         "t": 60
        },
        "template": {
         "data": {
          "bar": [
           {
            "error_x": {
             "color": "#2a3f5f"
            },
            "error_y": {
             "color": "#2a3f5f"
            },
            "marker": {
             "line": {
              "color": "#E5ECF6",
              "width": 0.5
             },
             "pattern": {
              "fillmode": "overlay",
              "size": 10,
              "solidity": 0.2
             }
            },
            "type": "bar"
           }
          ],
          "barpolar": [
           {
            "marker": {
             "line": {
              "color": "#E5ECF6",
              "width": 0.5
             },
             "pattern": {
              "fillmode": "overlay",
              "size": 10,
              "solidity": 0.2
             }
            },
            "type": "barpolar"
           }
          ],
          "carpet": [
           {
            "aaxis": {
             "endlinecolor": "#2a3f5f",
             "gridcolor": "white",
             "linecolor": "white",
             "minorgridcolor": "white",
             "startlinecolor": "#2a3f5f"
            },
            "baxis": {
             "endlinecolor": "#2a3f5f",
             "gridcolor": "white",
             "linecolor": "white",
             "minorgridcolor": "white",
             "startlinecolor": "#2a3f5f"
            },
            "type": "carpet"
           }
          ],
          "choropleth": [
           {
            "colorbar": {
             "outlinewidth": 0,
             "ticks": ""
            },
            "type": "choropleth"
           }
          ],
          "contour": [
           {
            "colorbar": {
             "outlinewidth": 0,
             "ticks": ""
            },
            "colorscale": [
             [
              0,
              "#0d0887"
             ],
             [
              0.1111111111111111,
              "#46039f"
             ],
             [
              0.2222222222222222,
              "#7201a8"
             ],
             [
              0.3333333333333333,
              "#9c179e"
             ],
             [
              0.4444444444444444,
              "#bd3786"
             ],
             [
              0.5555555555555556,
              "#d8576b"
             ],
             [
              0.6666666666666666,
              "#ed7953"
             ],
             [
              0.7777777777777778,
              "#fb9f3a"
             ],
             [
              0.8888888888888888,
              "#fdca26"
             ],
             [
              1,
              "#f0f921"
             ]
            ],
            "type": "contour"
           }
          ],
          "contourcarpet": [
           {
            "colorbar": {
             "outlinewidth": 0,
             "ticks": ""
            },
            "type": "contourcarpet"
           }
          ],
          "heatmap": [
           {
            "colorbar": {
             "outlinewidth": 0,
             "ticks": ""
            },
            "colorscale": [
             [
              0,
              "#0d0887"
             ],
             [
              0.1111111111111111,
              "#46039f"
             ],
             [
              0.2222222222222222,
              "#7201a8"
             ],
             [
              0.3333333333333333,
              "#9c179e"
             ],
             [
              0.4444444444444444,
              "#bd3786"
             ],
             [
              0.5555555555555556,
              "#d8576b"
             ],
             [
              0.6666666666666666,
              "#ed7953"
             ],
             [
              0.7777777777777778,
              "#fb9f3a"
             ],
             [
              0.8888888888888888,
              "#fdca26"
             ],
             [
              1,
              "#f0f921"
             ]
            ],
            "type": "heatmap"
           }
          ],
          "heatmapgl": [
           {
            "colorbar": {
             "outlinewidth": 0,
             "ticks": ""
            },
            "colorscale": [
             [
              0,
              "#0d0887"
             ],
             [
              0.1111111111111111,
              "#46039f"
             ],
             [
              0.2222222222222222,
              "#7201a8"
             ],
             [
              0.3333333333333333,
              "#9c179e"
             ],
             [
              0.4444444444444444,
              "#bd3786"
             ],
             [
              0.5555555555555556,
              "#d8576b"
             ],
             [
              0.6666666666666666,
              "#ed7953"
             ],
             [
              0.7777777777777778,
              "#fb9f3a"
             ],
             [
              0.8888888888888888,
              "#fdca26"
             ],
             [
              1,
              "#f0f921"
             ]
            ],
            "type": "heatmapgl"
           }
          ],
          "histogram": [
           {
            "marker": {
             "pattern": {
              "fillmode": "overlay",
              "size": 10,
              "solidity": 0.2
             }
            },
            "type": "histogram"
           }
          ],
          "histogram2d": [
           {
            "colorbar": {
             "outlinewidth": 0,
             "ticks": ""
            },
            "colorscale": [
             [
              0,
              "#0d0887"
             ],
             [
              0.1111111111111111,
              "#46039f"
             ],
             [
              0.2222222222222222,
              "#7201a8"
             ],
             [
              0.3333333333333333,
              "#9c179e"
             ],
             [
              0.4444444444444444,
              "#bd3786"
             ],
             [
              0.5555555555555556,
              "#d8576b"
             ],
             [
              0.6666666666666666,
              "#ed7953"
             ],
             [
              0.7777777777777778,
              "#fb9f3a"
             ],
             [
              0.8888888888888888,
              "#fdca26"
             ],
             [
              1,
              "#f0f921"
             ]
            ],
            "type": "histogram2d"
           }
          ],
          "histogram2dcontour": [
           {
            "colorbar": {
             "outlinewidth": 0,
             "ticks": ""
            },
            "colorscale": [
             [
              0,
              "#0d0887"
             ],
             [
              0.1111111111111111,
              "#46039f"
             ],
             [
              0.2222222222222222,
              "#7201a8"
             ],
             [
              0.3333333333333333,
              "#9c179e"
             ],
             [
              0.4444444444444444,
              "#bd3786"
             ],
             [
              0.5555555555555556,
              "#d8576b"
             ],
             [
              0.6666666666666666,
              "#ed7953"
             ],
             [
              0.7777777777777778,
              "#fb9f3a"
             ],
             [
              0.8888888888888888,
              "#fdca26"
             ],
             [
              1,
              "#f0f921"
             ]
            ],
            "type": "histogram2dcontour"
           }
          ],
          "mesh3d": [
           {
            "colorbar": {
             "outlinewidth": 0,
             "ticks": ""
            },
            "type": "mesh3d"
           }
          ],
          "parcoords": [
           {
            "line": {
             "colorbar": {
              "outlinewidth": 0,
              "ticks": ""
             }
            },
            "type": "parcoords"
           }
          ],
          "pie": [
           {
            "automargin": true,
            "type": "pie"
           }
          ],
          "scatter": [
           {
            "fillpattern": {
             "fillmode": "overlay",
             "size": 10,
             "solidity": 0.2
            },
            "type": "scatter"
           }
          ],
          "scatter3d": [
           {
            "line": {
             "colorbar": {
              "outlinewidth": 0,
              "ticks": ""
             }
            },
            "marker": {
             "colorbar": {
              "outlinewidth": 0,
              "ticks": ""
             }
            },
            "type": "scatter3d"
           }
          ],
          "scattercarpet": [
           {
            "marker": {
             "colorbar": {
              "outlinewidth": 0,
              "ticks": ""
             }
            },
            "type": "scattercarpet"
           }
          ],
          "scattergeo": [
           {
            "marker": {
             "colorbar": {
              "outlinewidth": 0,
              "ticks": ""
             }
            },
            "type": "scattergeo"
           }
          ],
          "scattergl": [
           {
            "marker": {
             "colorbar": {
              "outlinewidth": 0,
              "ticks": ""
             }
            },
            "type": "scattergl"
           }
          ],
          "scattermapbox": [
           {
            "marker": {
             "colorbar": {
              "outlinewidth": 0,
              "ticks": ""
             }
            },
            "type": "scattermapbox"
           }
          ],
          "scatterpolar": [
           {
            "marker": {
             "colorbar": {
              "outlinewidth": 0,
              "ticks": ""
             }
            },
            "type": "scatterpolar"
           }
          ],
          "scatterpolargl": [
           {
            "marker": {
             "colorbar": {
              "outlinewidth": 0,
              "ticks": ""
             }
            },
            "type": "scatterpolargl"
           }
          ],
          "scatterternary": [
           {
            "marker": {
             "colorbar": {
              "outlinewidth": 0,
              "ticks": ""
             }
            },
            "type": "scatterternary"
           }
          ],
          "surface": [
           {
            "colorbar": {
             "outlinewidth": 0,
             "ticks": ""
            },
            "colorscale": [
             [
              0,
              "#0d0887"
             ],
             [
              0.1111111111111111,
              "#46039f"
             ],
             [
              0.2222222222222222,
              "#7201a8"
             ],
             [
              0.3333333333333333,
              "#9c179e"
             ],
             [
              0.4444444444444444,
              "#bd3786"
             ],
             [
              0.5555555555555556,
              "#d8576b"
             ],
             [
              0.6666666666666666,
              "#ed7953"
             ],
             [
              0.7777777777777778,
              "#fb9f3a"
             ],
             [
              0.8888888888888888,
              "#fdca26"
             ],
             [
              1,
              "#f0f921"
             ]
            ],
            "type": "surface"
           }
          ],
          "table": [
           {
            "cells": {
             "fill": {
              "color": "#EBF0F8"
             },
             "line": {
              "color": "white"
             }
            },
            "header": {
             "fill": {
              "color": "#C8D4E3"
             },
             "line": {
              "color": "white"
             }
            },
            "type": "table"
           }
          ]
         },
         "layout": {
          "annotationdefaults": {
           "arrowcolor": "#2a3f5f",
           "arrowhead": 0,
           "arrowwidth": 1
          },
          "autotypenumbers": "strict",
          "coloraxis": {
           "colorbar": {
            "outlinewidth": 0,
            "ticks": ""
           }
          },
          "colorscale": {
           "diverging": [
            [
             0,
             "#8e0152"
            ],
            [
             0.1,
             "#c51b7d"
            ],
            [
             0.2,
             "#de77ae"
            ],
            [
             0.3,
             "#f1b6da"
            ],
            [
             0.4,
             "#fde0ef"
            ],
            [
             0.5,
             "#f7f7f7"
            ],
            [
             0.6,
             "#e6f5d0"
            ],
            [
             0.7,
             "#b8e186"
            ],
            [
             0.8,
             "#7fbc41"
            ],
            [
             0.9,
             "#4d9221"
            ],
            [
             1,
             "#276419"
            ]
           ],
           "sequential": [
            [
             0,
             "#0d0887"
            ],
            [
             0.1111111111111111,
             "#46039f"
            ],
            [
             0.2222222222222222,
             "#7201a8"
            ],
            [
             0.3333333333333333,
             "#9c179e"
            ],
            [
             0.4444444444444444,
             "#bd3786"
            ],
            [
             0.5555555555555556,
             "#d8576b"
            ],
            [
             0.6666666666666666,
             "#ed7953"
            ],
            [
             0.7777777777777778,
             "#fb9f3a"
            ],
            [
             0.8888888888888888,
             "#fdca26"
            ],
            [
             1,
             "#f0f921"
            ]
           ],
           "sequentialminus": [
            [
             0,
             "#0d0887"
            ],
            [
             0.1111111111111111,
             "#46039f"
            ],
            [
             0.2222222222222222,
             "#7201a8"
            ],
            [
             0.3333333333333333,
             "#9c179e"
            ],
            [
             0.4444444444444444,
             "#bd3786"
            ],
            [
             0.5555555555555556,
             "#d8576b"
            ],
            [
             0.6666666666666666,
             "#ed7953"
            ],
            [
             0.7777777777777778,
             "#fb9f3a"
            ],
            [
             0.8888888888888888,
             "#fdca26"
            ],
            [
             1,
             "#f0f921"
            ]
           ]
          },
          "colorway": [
           "#636efa",
           "#EF553B",
           "#00cc96",
           "#ab63fa",
           "#FFA15A",
           "#19d3f3",
           "#FF6692",
           "#B6E880",
           "#FF97FF",
           "#FECB52"
          ],
          "font": {
           "color": "#2a3f5f"
          },
          "geo": {
           "bgcolor": "white",
           "lakecolor": "white",
           "landcolor": "#E5ECF6",
           "showlakes": true,
           "showland": true,
           "subunitcolor": "white"
          },
          "hoverlabel": {
           "align": "left"
          },
          "hovermode": "closest",
          "mapbox": {
           "style": "light"
          },
          "paper_bgcolor": "white",
          "plot_bgcolor": "#E5ECF6",
          "polar": {
           "angularaxis": {
            "gridcolor": "white",
            "linecolor": "white",
            "ticks": ""
           },
           "bgcolor": "#E5ECF6",
           "radialaxis": {
            "gridcolor": "white",
            "linecolor": "white",
            "ticks": ""
           }
          },
          "scene": {
           "xaxis": {
            "backgroundcolor": "#E5ECF6",
            "gridcolor": "white",
            "gridwidth": 2,
            "linecolor": "white",
            "showbackground": true,
            "ticks": "",
            "zerolinecolor": "white"
           },
           "yaxis": {
            "backgroundcolor": "#E5ECF6",
            "gridcolor": "white",
            "gridwidth": 2,
            "linecolor": "white",
            "showbackground": true,
            "ticks": "",
            "zerolinecolor": "white"
           },
           "zaxis": {
            "backgroundcolor": "#E5ECF6",
            "gridcolor": "white",
            "gridwidth": 2,
            "linecolor": "white",
            "showbackground": true,
            "ticks": "",
            "zerolinecolor": "white"
           }
          },
          "shapedefaults": {
           "line": {
            "color": "#2a3f5f"
           }
          },
          "ternary": {
           "aaxis": {
            "gridcolor": "white",
            "linecolor": "white",
            "ticks": ""
           },
           "baxis": {
            "gridcolor": "white",
            "linecolor": "white",
            "ticks": ""
           },
           "bgcolor": "#E5ECF6",
           "caxis": {
            "gridcolor": "white",
            "linecolor": "white",
            "ticks": ""
           }
          },
          "title": {
           "x": 0.05
          },
          "xaxis": {
           "automargin": true,
           "gridcolor": "white",
           "linecolor": "white",
           "ticks": "",
           "title": {
            "standoff": 15
           },
           "zerolinecolor": "white",
           "zerolinewidth": 2
          },
          "yaxis": {
           "automargin": true,
           "gridcolor": "white",
           "linecolor": "white",
           "ticks": "",
           "title": {
            "standoff": 15
           },
           "zerolinecolor": "white",
           "zerolinewidth": 2
          }
         }
        },
        "xaxis": {
         "anchor": "y",
         "autorange": true,
         "domain": [
          0,
          1
         ],
         "range": [
          0.33308984660336016,
          12.666910153396639
         ],
         "title": {
          "text": "Screen On Time (hours/day)"
         },
         "type": "linear"
        },
        "yaxis": {
         "anchor": "x",
         "autorange": true,
         "domain": [
          0,
          1
         ],
         "range": [
          0.6902887139107612,
          5.309711286089239
         ],
         "title": {
          "text": "User Behavior Class"
         },
         "type": "linear"
        }
       }
      },
      "image/png": "[encoded data removed]",
      "text/html": [
       "<div>                            <div id=\"3718180c-1e22-42ae-a3bb-9a87b3025e8a\" class=\"plotly-graph-div\" style=\"height:525px; width:100%;\"></div>            <script type=\"text/javascript\">                require([\"plotly\"], function(Plotly) {                    window.PLOTLYENV=window.PLOTLYENV || {};                                    if (document.getElementById(\"3718180c-1e22-42ae-a3bb-9a87b3025e8a\")) {                    Plotly.newPlot(                        \"3718180c-1e22-42ae-a3bb-9a87b3025e8a\",                        [{\"hovertemplate\":\"Screen On Time (hours\\u002fday)=%{x}\\u003cbr\\u003eUser Behavior Class=%{y}\\u003cextra\\u003e\\u003c\\u002fextra\\u003e\",\"legendgroup\":\"\",\"marker\":{\"color\":\"#636efa\",\"symbol\":\"circle\"},\"mode\":\"markers\",\"name\":\"\",\"orientation\":\"v\",\"showlegend\":false,\"x\":[6.4,4.7,4.0,4.8,4.3,2.0,7.3,11.4,7.7,6.6,1.4,5.5,6.2,4.9,5.4,10.4,3.6,5.8,1.4,8.5,2.6,11.6,6.5,5.6,4.0,3.4,7.6,10.5,6.8,6.2,6.0,4.6,4.7,2.0,10.2,1.2,3.3,11.2,6.4,6.2,4.7,10.1,2.1,3.7,2.4,10.9,8.4,3.6,8.2,8.7,7.4,5.9,2.7,2.2,8.7,1.6,1.1,8.4,7.0,7.1,11.9,7.5,1.9,11.5,7.0,4.0,4.5,4.0,10.2,1.7,7.2,9.0,6.3,1.1,2.0,5.7,2.0,2.5,1.8,5.7,10.6,2.8,7.2,1.8,4.5,7.4,2.4,1.5,3.3,6.2,2.1,4.1,1.4,2.5,7.5,7.2,9.5,12.0,1.2,5.5,1.1,4.1,2.5,4.2,2.8,1.2,2.7,1.4,5.5,6.0,3.8,8.6,5.1,3.2,7.9,3.2,1.2,5.2,1.6,2.7,6.6,8.7,10.0,8.1,5.1,11.8,7.4,4.2,2.5,3.3,10.8,7.2,3.6,1.0,1.6,11.3,1.7,4.5,9.7,11.1,5.2,6.3,2.2,1.1,11.2,5.3,7.4,1.6,4.2,3.7,9.4,1.6,2.0,7.5,1.5,3.4,1.7,7.8,6.5,2.4,1.6,1.9,7.7,2.0,4.8,8.4,11.3,1.5,5.4,11.8,3.7,1.1,2.8,6.6,1.6,5.2,5.4,5.7,5.7,11.9,2.4,6.4,9.2,1.2,10.4,10.7,7.8,1.1,2.0,1.1,2.2,1.9,7.2,4.1,6.4,4.7,4.4,3.7,1.6,2.8,8.9,3.7,1.3,1.6,3.3,6.5,1.7,3.1,9.3,4.6,6.1,10.9,3.4,1.1,3.3,8.4,6.9,9.5,9.6,3.2,6.8,2.0,6.1,10.7,2.5,10.8,7.0,5.2,3.8,7.3,2.3,8.9,10.0,3.4,3.8,1.4,8.9,6.9,1.7,10.8,1.7,11.7,3.5,6.5,1.3,5.0,1.5,6.2,4.0,1.9,1.4,7.9,10.5,2.4,1.2,7.0,7.7,5.0,4.0,9.0,1.3,6.6,9.6,1.7,6.8,8.4,4.1,9.4,4.7,6.6,6.5,4.2,2.2,2.3,2.6,11.9,5.9,4.4,1.6,7.8,1.7,1.7,7.7,1.3,6.9,10.8,7.4,4.0,3.7,1.2,7.6,1.6,1.8,4.5,8.5,1.8,6.6,2.7,5.2,3.3,6.5,4.4,6.0,11.4,2.9,2.8,5.0,7.5,5.1,6.8,4.2,7.2,2.9,3.0,4.9,2.0,4.3,2.2,6.6,11.3,4.4,6.0,6.3,1.3,7.5,4.3,6.0,2.0,1.6,8.3,4.6,3.8,6.0,7.5,1.5,9.8,7.9,1.3,6.1,1.2,1.0,10.3,10.5,6.0,5.8,7.7,3.3,1.4,3.8,7.4,6.9,1.5,4.6,7.5,1.4,1.9,4.1,9.5,2.0,4.6,11.8,10.4,1.5,7.9,8.6,7.2,11.6,11.2,3.9,2.4,9.8,10.6,10.9,11.3,1.3,1.1,1.7,6.0,10.8,3.0,4.6,10.4,1.5,2.9,3.0,6.6,2.0,1.3,11.6,2.8,7.9,6.1,3.5,7.4,9.2,6.8,1.1,11.6,1.6,1.5,11.1,2.7,7.4,8.6,8.2,7.3,3.2,7.3,7.8,6.9,11.8,8.2,5.1,5.0,2.0,2.3,5.1,11.7,4.9,1.4,1.4,3.2,6.1,1.1,5.0,2.8,2.4,3.8,2.3,10.1,5.5,3.8,10.4,2.0,8.4,3.4,4.4,1.7,3.0,3.9,5.7,5.7,1.1,4.0,8.8,7.2,8.8,5.2,3.0,1.2,3.5,11.8,3.3,1.3,3.9,1.6,1.6,4.7,1.0,2.4,9.0,3.3,5.9,4.6,1.3,4.8,7.3,4.0,7.5,1.9,4.6,9.4,3.0,5.0,4.9,6.2,6.6,4.2,4.3,4.8,2.4,10.4,11.1,1.6,6.0,1.1,3.8,4.4,7.3,9.3,6.1,3.7,1.5,6.8,2.5,10.9,4.8,2.9,4.5,3.6,1.3,7.7,8.4,5.8,8.5,6.6,5.1,2.0,5.9,10.0,5.3,10.8,1.6,3.4,7.1,2.2,3.8,1.2,8.5,2.2,6.5,1.1,6.5,11.2,5.2,4.5,2.4,1.2,3.0,4.8,11.8,7.9,6.4,4.7,6.1,3.3,5.9,11.1,9.5,9.4,10.5,2.5,5.4,5.5,9.7,2.0,4.6,2.6,6.6,4.0,6.2,2.5,3.8,7.3,6.6,4.9,3.5,4.2,7.6,11.6,6.2,2.1,1.4,1.6,4.4,1.3,3.9,1.7,5.3,6.6,7.1,6.1,5.9,9.1,10.9,3.5,10.3,7.5,6.0,1.1,10.0,2.7,5.7,1.9,1.3,3.1,4.4,6.1,7.5,3.6,3.7,11.5,7.7,4.2,6.3,10.5,10.8,2.5,3.0,4.3,6.0,1.2,3.0,2.1,5.3,6.0,10.4,4.0,4.9,8.5,9.6,1.3,10.2,1.1,4.0,3.7,5.4,5.6,7.0,4.2,5.0,1.8,7.4,1.8,1.5,1.8,5.0,5.2,1.2,6.3,3.1,5.1,10.2,3.2,6.6,3.4,10.7,1.1,6.2,9.8,1.8,1.4,8.2,3.3,4.8,2.9,1.3,1.5,6.3,5.4,2.0,1.7,5.2,1.2,10.5,3.7,5.6,5.3,6.8,9.6,1.5,3.1,3.2,6.4,10.3,5.4,11.4,5.5,2.4,3.2,1.6,7.3,11.2,1.6,11.4,1.5,3.8,3.5,4.6,1.8,6.1,7.6,5.5,1.6,4.0,6.6,7.7,6.3,4.9,9.5,5.7,4.0,6.7,8.6,9.7,3.9,6.8,3.1,1.7,5.4],\"xaxis\":\"x\",\"y\":[4,3,2,3,3,2,4,5,4,4,1,3,4,3,3,5,2,3,1,5,2,5,4,3,3,2,4,5,4,4,3,3,3,1,5,1,2,5,4,4,3,5,2,2,2,5,5,2,5,5,4,3,2,2,5,1,1,5,4,4,5,4,1,5,4,3,3,2,5,1,4,5,4,1,1,3,1,2,1,3,5,2,4,1,3,4,2,1,2,4,2,3,1,2,4,4,5,5,1,3,1,3,2,3,2,1,2,1,3,3,2,5,3,2,4,2,1,3,1,2,4,5,5,5,3,5,4,3,2,2,5,4,2,1,1,5,1,3,5,5,3,4,2,1,5,3,4,1,3,2,5,1,2,4,1,2,1,4,4,2,1,1,4,1,3,5,5,1,3,5,2,1,2,4,1,3,3,3,3,5,2,4,5,1,5,5,4,1,2,1,2,1,4,3,4,3,3,2,1,2,5,2,1,1,2,4,1,2,5,3,4,5,2,1,2,5,4,5,5,2,4,2,4,5,2,5,4,3,2,4,2,5,5,2,2,1,5,4,1,5,1,5,2,4,1,3,1,4,2,1,1,4,5,2,1,4,4,3,3,5,1,4,5,1,4,5,3,5,3,4,4,3,2,2,2,5,3,3,1,4,1,1,4,1,4,5,4,3,2,1,4,1,1,3,5,1,4,2,3,2,4,3,4,5,2,2,3,4,3,4,3,4,2,2,3,1,3,2,4,5,3,3,4,1,4,3,3,1,1,5,3,2,3,4,1,5,4,1,4,1,1,5,5,3,3,4,2,1,2,4,4,1,3,4,1,1,3,5,1,3,5,5,1,4,5,4,5,5,2,2,5,5,5,5,1,1,1,4,5,2,3,5,1,2,2,4,2,1,5,2,4,4,2,4,5,4,1,5,1,1,5,2,4,5,5,4,2,4,4,4,5,5,3,3,2,2,3,5,3,1,1,2,4,1,3,2,2,2,2,5,3,2,5,1,5,2,3,1,2,2,3,3,1,3,5,4,5,3,2,1,2,5,2,1,2,1,1,3,1,2,5,2,3,3,1,3,4,3,4,1,3,5,2,3,3,4,4,3,3,3,2,5,5,1,4,1,2,3,4,5,4,2,1,4,2,5,3,2,3,2,1,4,5,3,5,4,3,1,3,5,3,5,1,2,4,2,2,1,5,2,4,1,4,5,3,3,2,1,2,3,5,4,4,3,4,2,3,5,5,5,5,2,3,3,5,1,3,2,4,2,4,2,2,4,4,3,2,3,4,5,4,2,1,1,3,1,2,1,3,4,4,4,3,5,5,2,5,4,3,1,5,2,3,1,1,2,3,4,4,2,2,5,4,3,4,5,5,2,2,3,4,1,2,2,3,4,5,3,3,5,5,1,5,1,2,2,3,3,4,3,3,1,4,1,1,1,3,3,1,4,2,3,5,2,4,2,5,1,4,5,1,1,5,2,3,2,1,1,4,3,2,1,3,1,5,2,3,3,4,5,1,2,2,4,5,3,5,3,2,2,1,4,5,1,5,1,2,2,3,1,4,4,3,1,3,4,4,4,3,5,3,2,4,5,5,2,4,2,1,3],\"yaxis\":\"y\",\"type\":\"scatter\"}],                        {\"template\":{\"data\":{\"histogram2dcontour\":[{\"type\":\"histogram2dcontour\",\"colorbar\":{\"outlinewidth\":0,\"ticks\":\"\"},\"colorscale\":[[0.0,\"#0d0887\"],[0.1111111111111111,\"#46039f\"],[0.2222222222222222,\"#7201a8\"],[0.3333333333333333,\"#9c179e\"],[0.4444444444444444,\"#bd3786\"],[0.5555555555555556,\"#d8576b\"],[0.6666666666666666,\"#ed7953\"],[0.7777777777777778,\"#fb9f3a\"],[0.8888888888888888,\"#fdca26\"],[1.0,\"#f0f921\"]]}],\"choropleth\":[{\"type\":\"choropleth\",\"colorbar\":{\"outlinewidth\":0,\"ticks\":\"\"}}],\"histogram2d\":[{\"type\":\"histogram2d\",\"colorbar\":{\"outlinewidth\":0,\"ticks\":\"\"},\"colorscale\":[[0.0,\"#0d0887\"],[0.1111111111111111,\"#46039f\"],[0.2222222222222222,\"#7201a8\"],[0.3333333333333333,\"#9c179e\"],[0.4444444444444444,\"#bd3786\"],[0.5555555555555556,\"#d8576b\"],[0.6666666666666666,\"#ed7953\"],[0.7777777777777778,\"#fb9f3a\"],[0.8888888888888888,\"#fdca26\"],[1.0,\"#f0f921\"]]}],\"heatmap\":[{\"type\":\"heatmap\",\"colorbar\":{\"outlinewidth\":0,\"ticks\":\"\"},\"colorscale\":[[0.0,\"#0d0887\"],[0.1111111111111111,\"#46039f\"],[0.2222222222222222,\"#7201a8\"],[0.3333333333333333,\"#9c179e\"],[0.4444444444444444,\"#bd3786\"],[0.5555555555555556,\"#d8576b\"],[0.6666666666666666,\"#ed7953\"],[0.7777777777777778,\"#fb9f3a\"],[0.8888888888888888,\"#fdca26\"],[1.0,\"#f0f921\"]]}],\"heatmapgl\":[{\"type\":\"heatmapgl\",\"colorbar\":{\"outlinewidth\":0,\"ticks\":\"\"},\"colorscale\":[[0.0,\"#0d0887\"],[0.1111111111111111,\"#46039f\"],[0.2222222222222222,\"#7201a8\"],[0.3333333333333333,\"#9c179e\"],[0.4444444444444444,\"#bd3786\"],[0.5555555555555556,\"#d8576b\"],[0.6666666666666666,\"#ed7953\"],[0.7777777777777778,\"#fb9f3a\"],[0.8888888888888888,\"#fdca26\"],[1.0,\"#f0f921\"]]}],\"contourcarpet\":[{\"type\":\"contourcarpet\",\"colorbar\":{\"outlinewidth\":0,\"ticks\":\"\"}}],\"contour\":[{\"type\":\"contour\",\"colorbar\":{\"outlinewidth\":0,\"ticks\":\"\"},\"colorscale\":[[0.0,\"#0d0887\"],[0.1111111111111111,\"#46039f\"],[0.2222222222222222,\"#7201a8\"],[0.3333333333333333,\"#9c179e\"],[0.4444444444444444,\"#bd3786\"],[0.5555555555555556,\"#d8576b\"],[0.6666666666666666,\"#ed7953\"],[0.7777777777777778,\"#fb9f3a\"],[0.8888888888888888,\"#fdca26\"],[1.0,\"#f0f921\"]]}],\"surface\":[{\"type\":\"surface\",\"colorbar\":{\"outlinewidth\":0,\"ticks\":\"\"},\"colorscale\":[[0.0,\"#0d0887\"],[0.1111111111111111,\"#46039f\"],[0.2222222222222222,\"#7201a8\"],[0.3333333333333333,\"#9c179e\"],[0.4444444444444444,\"#bd3786\"],[0.5555555555555556,\"#d8576b\"],[0.6666666666666666,\"#ed7953\"],[0.7777777777777778,\"#fb9f3a\"],[0.8888888888888888,\"#fdca26\"],[1.0,\"#f0f921\"]]}],\"mesh3d\":[{\"type\":\"mesh3d\",\"colorbar\":{\"outlinewidth\":0,\"ticks\":\"\"}}],\"scatter\":[{\"fillpattern\":{\"fillmode\":\"overlay\",\"size\":10,\"solidity\":0.2},\"type\":\"scatter\"}],\"parcoords\":[{\"type\":\"parcoords\",\"line\":{\"colorbar\":{\"outlinewidth\":0,\"ticks\":\"\"}}}],\"scatterpolargl\":[{\"type\":\"scatterpolargl\",\"marker\":{\"colorbar\":{\"outlinewidth\":0,\"ticks\":\"\"}}}],\"bar\":[{\"error_x\":{\"color\":\"#2a3f5f\"},\"error_y\":{\"color\":\"#2a3f5f\"},\"marker\":{\"line\":{\"color\":\"#E5ECF6\",\"width\":0.5},\"pattern\":{\"fillmode\":\"overlay\",\"size\":10,\"solidity\":0.2}},\"type\":\"bar\"}],\"scattergeo\":[{\"type\":\"scattergeo\",\"marker\":{\"colorbar\":{\"outlinewidth\":0,\"ticks\":\"\"}}}],\"scatterpolar\":[{\"type\":\"scatterpolar\",\"marker\":{\"colorbar\":{\"outlinewidth\":0,\"ticks\":\"\"}}}],\"histogram\":[{\"marker\":{\"pattern\":{\"fillmode\":\"overlay\",\"size\":10,\"solidity\":0.2}},\"type\":\"histogram\"}],\"scattergl\":[{\"type\":\"scattergl\",\"marker\":{\"colorbar\":{\"outlinewidth\":0,\"ticks\":\"\"}}}],\"scatter3d\":[{\"type\":\"scatter3d\",\"line\":{\"colorbar\":{\"outlinewidth\":0,\"ticks\":\"\"}},\"marker\":{\"colorbar\":{\"outlinewidth\":0,\"ticks\":\"\"}}}],\"scattermapbox\":[{\"type\":\"scattermapbox\",\"marker\":{\"colorbar\":{\"outlinewidth\":0,\"ticks\":\"\"}}}],\"scatterternary\":[{\"type\":\"scatterternary\",\"marker\":{\"colorbar\":{\"outlinewidth\":0,\"ticks\":\"\"}}}],\"scattercarpet\":[{\"type\":\"scattercarpet\",\"marker\":{\"colorbar\":{\"outlinewidth\":0,\"ticks\":\"\"}}}],\"carpet\":[{\"aaxis\":{\"endlinecolor\":\"#2a3f5f\",\"gridcolor\":\"white\",\"linecolor\":\"white\",\"minorgridcolor\":\"white\",\"startlinecolor\":\"#2a3f5f\"},\"baxis\":{\"endlinecolor\":\"#2a3f5f\",\"gridcolor\":\"white\",\"linecolor\":\"white\",\"minorgridcolor\":\"white\",\"startlinecolor\":\"#2a3f5f\"},\"type\":\"carpet\"}],\"table\":[{\"cells\":{\"fill\":{\"color\":\"#EBF0F8\"},\"line\":{\"color\":\"white\"}},\"header\":{\"fill\":{\"color\":\"#C8D4E3\"},\"line\":{\"color\":\"white\"}},\"type\":\"table\"}],\"barpolar\":[{\"marker\":{\"line\":{\"color\":\"#E5ECF6\",\"width\":0.5},\"pattern\":{\"fillmode\":\"overlay\",\"size\":10,\"solidity\":0.2}},\"type\":\"barpolar\"}],\"pie\":[{\"automargin\":true,\"type\":\"pie\"}]},\"layout\":{\"autotypenumbers\":\"strict\",\"colorway\":[\"#636efa\",\"#EF553B\",\"#00cc96\",\"#ab63fa\",\"#FFA15A\",\"#19d3f3\",\"#FF6692\",\"#B6E880\",\"#FF97FF\",\"#FECB52\"],\"font\":{\"color\":\"#2a3f5f\"},\"hovermode\":\"closest\",\"hoverlabel\":{\"align\":\"left\"},\"paper_bgcolor\":\"white\",\"plot_bgcolor\":\"#E5ECF6\",\"polar\":{\"bgcolor\":\"#E5ECF6\",\"angularaxis\":{\"gridcolor\":\"white\",\"linecolor\":\"white\",\"ticks\":\"\"},\"radialaxis\":{\"gridcolor\":\"white\",\"linecolor\":\"white\",\"ticks\":\"\"}},\"ternary\":{\"bgcolor\":\"#E5ECF6\",\"aaxis\":{\"gridcolor\":\"white\",\"linecolor\":\"white\",\"ticks\":\"\"},\"baxis\":{\"gridcolor\":\"white\",\"linecolor\":\"white\",\"ticks\":\"\"},\"caxis\":{\"gridcolor\":\"white\",\"linecolor\":\"white\",\"ticks\":\"\"}},\"coloraxis\":{\"colorbar\":{\"outlinewidth\":0,\"ticks\":\"\"}},\"colorscale\":{\"sequential\":[[0.0,\"#0d0887\"],[0.1111111111111111,\"#46039f\"],[0.2222222222222222,\"#7201a8\"],[0.3333333333333333,\"#9c179e\"],[0.4444444444444444,\"#bd3786\"],[0.5555555555555556,\"#d8576b\"],[0.6666666666666666,\"#ed7953\"],[0.7777777777777778,\"#fb9f3a\"],[0.8888888888888888,\"#fdca26\"],[1.0,\"#f0f921\"]],\"sequentialminus\":[[0.0,\"#0d0887\"],[0.1111111111111111,\"#46039f\"],[0.2222222222222222,\"#7201a8\"],[0.3333333333333333,\"#9c179e\"],[0.4444444444444444,\"#bd3786\"],[0.5555555555555556,\"#d8576b\"],[0.6666666666666666,\"#ed7953\"],[0.7777777777777778,\"#fb9f3a\"],[0.8888888888888888,\"#fdca26\"],[1.0,\"#f0f921\"]],\"diverging\":[[0,\"#8e0152\"],[0.1,\"#c51b7d\"],[0.2,\"#de77ae\"],[0.3,\"#f1b6da\"],[0.4,\"#fde0ef\"],[0.5,\"#f7f7f7\"],[0.6,\"#e6f5d0\"],[0.7,\"#b8e186\"],[0.8,\"#7fbc41\"],[0.9,\"#4d9221\"],[1,\"#276419\"]]},\"xaxis\":{\"gridcolor\":\"white\",\"linecolor\":\"white\",\"ticks\":\"\",\"title\":{\"standoff\":15},\"zerolinecolor\":\"white\",\"automargin\":true,\"zerolinewidth\":2},\"yaxis\":{\"gridcolor\":\"white\",\"linecolor\":\"white\",\"ticks\":\"\",\"title\":{\"standoff\":15},\"zerolinecolor\":\"white\",\"automargin\":true,\"zerolinewidth\":2},\"scene\":{\"xaxis\":{\"backgroundcolor\":\"#E5ECF6\",\"gridcolor\":\"white\",\"linecolor\":\"white\",\"showbackground\":true,\"ticks\":\"\",\"zerolinecolor\":\"white\",\"gridwidth\":2},\"yaxis\":{\"backgroundcolor\":\"#E5ECF6\",\"gridcolor\":\"white\",\"linecolor\":\"white\",\"showbackground\":true,\"ticks\":\"\",\"zerolinecolor\":\"white\",\"gridwidth\":2},\"zaxis\":{\"backgroundcolor\":\"#E5ECF6\",\"gridcolor\":\"white\",\"linecolor\":\"white\",\"showbackground\":true,\"ticks\":\"\",\"zerolinecolor\":\"white\",\"gridwidth\":2}},\"shapedefaults\":{\"line\":{\"color\":\"#2a3f5f\"}},\"annotationdefaults\":{\"arrowcolor\":\"#2a3f5f\",\"arrowhead\":0,\"arrowwidth\":1},\"geo\":{\"bgcolor\":\"white\",\"landcolor\":\"#E5ECF6\",\"subunitcolor\":\"white\",\"showland\":true,\"showlakes\":true,\"lakecolor\":\"white\"},\"title\":{\"x\":0.05},\"mapbox\":{\"style\":\"light\"}}},\"xaxis\":{\"anchor\":\"y\",\"domain\":[0.0,1.0],\"title\":{\"text\":\"Screen On Time (hours\\u002fday)\"}},\"yaxis\":{\"anchor\":\"x\",\"domain\":[0.0,1.0],\"title\":{\"text\":\"User Behavior Class\"}},\"legend\":{\"tracegroupgap\":0},\"margin\":{\"t\":60}},                        {\"responsive\": true}                    ).then(function(){\n",
       "                            \n",
       "var gd = document.getElementById('3718180c-1e22-42ae-a3bb-9a87b3025e8a');\n",
       "var x = new MutationObserver(function (mutations, observer) {{\n",
       "        var display = window.getComputedStyle(gd).display;\n",
       "        if (!display || display === 'none') {{\n",
       "            console.log([gd, 'removed!']);\n",
       "            Plotly.purge(gd);\n",
       "            observer.disconnect();\n",
       "        }}\n",
       "}});\n",
       "\n",
       "// Listen for the removal of the full notebook cells\n",
       "var notebookContainer = gd.closest('#notebook-container');\n",
       "if (notebookContainer) {{\n",
       "    x.observe(notebookContainer, {childList: true});\n",
       "}}\n",
       "\n",
       "// Listen for the clearing of the current output cell\n",
       "var outputEl = gd.closest('.output');\n",
       "if (outputEl) {{\n",
       "    x.observe(outputEl, {childList: true});\n",
       "}}\n",
       "\n",
       "                        })                };                });            </script>        </div>"
      ]
     },
     "metadata": {},
     "output_type": "display_data"
    },
    {
     "data": {
      "application/vnd.plotly.v1+json": {
       "config": {
        "plotlyServerURL": "https://plot.ly"
       },
       "data": [
        {
         "hovertemplate": "Battery Drain (mAh/day)=%{x}<br>User Behavior Class=%{y}<extra></extra>",
         "legendgroup": "",
         "marker": {
          "color": "#636efa",
          "symbol": "circle"
         },
         "mode": "markers",
         "name": "",
         "orientation": "v",
         "showlegend": false,
         "type": "scatter",
         "x": [
          1872,
          1331,
          761,
          1676,
          1367,
          940,
          1802,
          2956,
          2138,
          1957,
          435,
          1690,
          2303,
          1662,
          1754,
          2571,
          628,
          1431,
          558,
          2774,
          681,
          2803,
          2094,
          1401,
          1711,
          1073,
          2372,
          2409,
          2387,
          1899,
          1361,
          1660,
          1484,
          457,
          2499,
          580,
          755,
          2808,
          2312,
          1851,
          1464,
          2447,
          720,
          993,
          837,
          2476,
          2447,
          889,
          2623,
          2736,
          2180,
          1243,
          690,
          1101,
          2857,
          450,
          572,
          2796,
          2306,
          2269,
          2798,
          2292,
          493,
          2911,
          1982,
          1420,
          1705,
          773,
          2932,
          558,
          1808,
          2902,
          2347,
          585,
          476,
          1305,
          558,
          678,
          333,
          1254,
          2475,
          1035,
          2363,
          368,
          1311,
          2081,
          1003,
          345,
          839,
          2053,
          912,
          1474,
          501,
          1125,
          2169,
          2243,
          2916,
          2406,
          361,
          1526,
          389,
          1210,
          929,
          1781,
          1113,
          585,
          642,
          403,
          1754,
          1641,
          718,
          2447,
          1483,
          818,
          2156,
          651,
          409,
          1631,
          590,
          1018,
          2085,
          2484,
          2541,
          2686,
          1702,
          2858,
          2149,
          1439,
          678,
          751,
          2923,
          2056,
          1193,
          313,
          303,
          2528,
          375,
          1368,
          2876,
          2429,
          1510,
          2044,
          896,
          528,
          2417,
          1281,
          2289,
          385,
          1677,
          873,
          2583,
          315,
          741,
          2277,
          364,
          893,
          439,
          2102,
          2375,
          859,
          540,
          526,
          2067,
          469,
          1238,
          2993,
          2968,
          467,
          1370,
          2431,
          1124,
          487,
          935,
          1817,
          509,
          1660,
          1738,
          1471,
          1582,
          2853,
          1124,
          2109,
          2936,
          308,
          2984,
          2738,
          2014,
          379,
          602,
          402,
          917,
          477,
          1822,
          1287,
          2109,
          1512,
          1407,
          1116,
          549,
          971,
          2920,
          1153,
          327,
          463,
          961,
          2084,
          455,
          620,
          2606,
          1385,
          2108,
          2752,
          714,
          588,
          1175,
          2559,
          2282,
          2855,
          2873,
          603,
          2093,
          1007,
          1941,
          2556,
          690,
          2712,
          2185,
          1318,
          649,
          1946,
          1083,
          2855,
          2720,
          1059,
          636,
          369,
          2549,
          2142,
          585,
          2711,
          302,
          2764,
          761,
          2378,
          479,
          1542,
          590,
          2205,
          866,
          537,
          324,
          2332,
          2460,
          982,
          398,
          2352,
          1863,
          1655,
          1791,
          2613,
          490,
          2394,
          2954,
          359,
          2000,
          2849,
          1608,
          2766,
          1642,
          2160,
          1969,
          1360,
          1002,
          1014,
          639,
          2702,
          1666,
          1607,
          417,
          2029,
          403,
          530,
          2114,
          542,
          1820,
          2805,
          2136,
          1519,
          619,
          415,
          2199,
          360,
          497,
          1781,
          2660,
          481,
          2214,
          805,
          1641,
          748,
          2113,
          1505,
          2290,
          2443,
          1117,
          686,
          1232,
          2176,
          1226,
          2027,
          1507,
          2397,
          1054,
          820,
          1566,
          320,
          1737,
          827,
          2026,
          2590,
          1275,
          1489,
          2001,
          490,
          2007,
          1554,
          1707,
          574,
          420,
          2865,
          1534,
          727,
          1762,
          2001,
          375,
          2905,
          2292,
          561,
          2267,
          590,
          435,
          2718,
          2971,
          1533,
          1309,
          1974,
          1020,
          542,
          866,
          2314,
          2111,
          593,
          1230,
          1823,
          455,
          574,
          1326,
          2840,
          366,
          1325,
          2435,
          2900,
          341,
          2159,
          2539,
          1965,
          2464,
          2876,
          747,
          816,
          2765,
          2547,
          2514,
          2947,
          434,
          531,
          490,
          1875,
          2445,
          922,
          1767,
          2453,
          373,
          653,
          890,
          2041,
          925,
          461,
          2968,
          775,
          2231,
          1901,
          1055,
          2129,
          2663,
          2288,
          437,
          2798,
          323,
          571,
          2821,
          612,
          1960,
          2595,
          2618,
          2340,
          994,
          2291,
          2289,
          2366,
          2790,
          2918,
          1692,
          1532,
          1171,
          608,
          1293,
          2655,
          1549,
          454,
          416,
          716,
          2115,
          536,
          1482,
          1062,
          747,
          967,
          1033,
          2757,
          1238,
          1137,
          2672,
          309,
          2591,
          798,
          1341,
          408,
          728,
          915,
          1725,
          1295,
          505,
          1664,
          2540,
          1859,
          2852,
          1604,
          617,
          518,
          1114,
          2953,
          734,
          557,
          1160,
          436,
          587,
          1707,
          547,
          639,
          2696,
          938,
          1789,
          1694,
          583,
          1770,
          2349,
          1414,
          1921,
          541,
          1396,
          2452,
          697,
          1625,
          1657,
          2201,
          2089,
          1315,
          1759,
          1681,
          954,
          2717,
          2851,
          470,
          1873,
          417,
          739,
          1734,
          1882,
          2403,
          2279,
          948,
          594,
          1892,
          1176,
          2928,
          1500,
          918,
          1356,
          988,
          369,
          2017,
          2664,
          1291,
          2859,
          2398,
          1408,
          318,
          1740,
          2513,
          1767,
          2911,
          442,
          975,
          1984,
          1187,
          940,
          592,
          2780,
          1123,
          2364,
          535,
          1849,
          2623,
          1390,
          1646,
          689,
          466,
          801,
          1639,
          2629,
          1987,
          2206,
          1276,
          2087,
          937,
          1528,
          2672,
          2638,
          2867,
          2817,
          740,
          1307,
          1616,
          2633,
          362,
          1750,
          658,
          2155,
          1047,
          1984,
          1110,
          605,
          2082,
          2168,
          1633,
          625,
          1392,
          2037,
          2914,
          2245,
          1188,
          508,
          440,
          1272,
          462,
          1132,
          312,
          1537,
          2181,
          1928,
          2229,
          1757,
          2858,
          2571,
          606,
          2776,
          2216,
          1715,
          532,
          2430,
          625,
          1414,
          571,
          538,
          1191,
          1665,
          1975,
          1995,
          627,
          630,
          2767,
          1809,
          1500,
          1959,
          2538,
          2529,
          825,
          1131,
          1382,
          2244,
          545,
          922,
          660,
          1278,
          1928,
          2496,
          1323,
          1596,
          2927,
          2606,
          489,
          2911,
          395,
          1158,
          608,
          1476,
          1388,
          1826,
          1407,
          1475,
          351,
          2363,
          417,
          310,
          328,
          1614,
          1446,
          437,
          1988,
          1078,
          1483,
          2587,
          1142,
          2055,
          1198,
          2433,
          546,
          2074,
          2778,
          321,
          443,
          2597,
          723,
          1494,
          1197,
          314,
          565,
          2294,
          1627,
          1041,
          519,
          1632,
          365,
          2839,
          1028,
          1489,
          1368,
          2358,
          2464,
          387,
          947,
          1189,
          1858,
          2568,
          1544,
          2891,
          1699,
          1039,
          648,
          387,
          1937,
          2925,
          490,
          2776,
          545,
          689,
          706,
          1525,
          334,
          2105,
          2354,
          1718,
          325,
          1221,
          1859,
          2037,
          2098,
          1589,
          2424,
          1447,
          856,
          1898,
          2792,
          2422,
          1082,
          1965,
          942,
          431,
          1306
         ],
         "xaxis": "x",
         "y": [
          4,
          3,
          2,
          3,
          3,
          2,
          4,
          5,
          4,
          4,
          1,
          3,
          4,
          3,
          3,
          5,
          2,
          3,
          1,
          5,
          2,
          5,
          4,
          3,
          3,
          2,
          4,
          5,
          4,
          4,
          3,
          3,
          3,
          1,
          5,
          1,
          2,
          5,
          4,
          4,
          3,
          5,
          2,
          2,
          2,
          5,
          5,
          2,
          5,
          5,
          4,
          3,
          2,
          2,
          5,
          1,
          1,
          5,
          4,
          4,
          5,
          4,
          1,
          5,
          4,
          3,
          3,
          2,
          5,
          1,
          4,
          5,
          4,
          1,
          1,
          3,
          1,
          2,
          1,
          3,
          5,
          2,
          4,
          1,
          3,
          4,
          2,
          1,
          2,
          4,
          2,
          3,
          1,
          2,
          4,
          4,
          5,
          5,
          1,
          3,
          1,
          3,
          2,
          3,
          2,
          1,
          2,
          1,
          3,
          3,
          2,
          5,
          3,
          2,
          4,
          2,
          1,
          3,
          1,
          2,
          4,
          5,
          5,
          5,
          3,
          5,
          4,
          3,
          2,
          2,
          5,
          4,
          2,
          1,
          1,
          5,
          1,
          3,
          5,
          5,
          3,
          4,
          2,
          1,
          5,
          3,
          4,
          1,
          3,
          2,
          5,
          1,
          2,
          4,
          1,
          2,
          1,
          4,
          4,
          2,
          1,
          1,
          4,
          1,
          3,
          5,
          5,
          1,
          3,
          5,
          2,
          1,
          2,
          4,
          1,
          3,
          3,
          3,
          3,
          5,
          2,
          4,
          5,
          1,
          5,
          5,
          4,
          1,
          2,
          1,
          2,
          1,
          4,
          3,
          4,
          3,
          3,
          2,
          1,
          2,
          5,
          2,
          1,
          1,
          2,
          4,
          1,
          2,
          5,
          3,
          4,
          5,
          2,
          1,
          2,
          5,
          4,
          5,
          5,
          2,
          4,
          2,
          4,
          5,
          2,
          5,
          4,
          3,
          2,
          4,
          2,
          5,
          5,
          2,
          2,
          1,
          5,
          4,
          1,
          5,
          1,
          5,
          2,
          4,
          1,
          3,
          1,
          4,
          2,
          1,
          1,
          4,
          5,
          2,
          1,
          4,
          4,
          3,
          3,
          5,
          1,
          4,
          5,
          1,
          4,
          5,
          3,
          5,
          3,
          4,
          4,
          3,
          2,
          2,
          2,
          5,
          3,
          3,
          1,
          4,
          1,
          1,
          4,
          1,
          4,
          5,
          4,
          3,
          2,
          1,
          4,
          1,
          1,
          3,
          5,
          1,
          4,
          2,
          3,
          2,
          4,
          3,
          4,
          5,
          2,
          2,
          3,
          4,
          3,
          4,
          3,
          4,
          2,
          2,
          3,
          1,
          3,
          2,
          4,
          5,
          3,
          3,
          4,
          1,
          4,
          3,
          3,
          1,
          1,
          5,
          3,
          2,
          3,
          4,
          1,
          5,
          4,
          1,
          4,
          1,
          1,
          5,
          5,
          3,
          3,
          4,
          2,
          1,
          2,
          4,
          4,
          1,
          3,
          4,
          1,
          1,
          3,
          5,
          1,
          3,
          5,
          5,
          1,
          4,
          5,
          4,
          5,
          5,
          2,
          2,
          5,
          5,
          5,
          5,
          1,
          1,
          1,
          4,
          5,
          2,
          3,
          5,
          1,
          2,
          2,
          4,
          2,
          1,
          5,
          2,
          4,
          4,
          2,
          4,
          5,
          4,
          1,
          5,
          1,
          1,
          5,
          2,
          4,
          5,
          5,
          4,
          2,
          4,
          4,
          4,
          5,
          5,
          3,
          3,
          2,
          2,
          3,
          5,
          3,
          1,
          1,
          2,
          4,
          1,
          3,
          2,
          2,
          2,
          2,
          5,
          3,
          2,
          5,
          1,
          5,
          2,
          3,
          1,
          2,
          2,
          3,
          3,
          1,
          3,
          5,
          4,
          5,
          3,
          2,
          1,
          2,
          5,
          2,
          1,
          2,
          1,
          1,
          3,
          1,
          2,
          5,
          2,
          3,
          3,
          1,
          3,
          4,
          3,
          4,
          1,
          3,
          5,
          2,
          3,
          3,
          4,
          4,
          3,
          3,
          3,
          2,
          5,
          5,
          1,
          4,
          1,
          2,
          3,
          4,
          5,
          4,
          2,
          1,
          4,
          2,
          5,
          3,
          2,
          3,
          2,
          1,
          4,
          5,
          3,
          5,
          4,
          3,
          1,
          3,
          5,
          3,
          5,
          1,
          2,
          4,
          2,
          2,
          1,
          5,
          2,
          4,
          1,
          4,
          5,
          3,
          3,
          2,
          1,
          2,
          3,
          5,
          4,
          4,
          3,
          4,
          2,
          3,
          5,
          5,
          5,
          5,
          2,
          3,
          3,
          5,
          1,
          3,
          2,
          4,
          2,
          4,
          2,
          2,
          4,
          4,
          3,
          2,
          3,
          4,
          5,
          4,
          2,
          1,
          1,
          3,
          1,
          2,
          1,
          3,
          4,
          4,
          4,
          3,
          5,
          5,
          2,
          5,
          4,
          3,
          1,
          5,
          2,
          3,
          1,
          1,
          2,
          3,
          4,
          4,
          2,
          2,
          5,
          4,
          3,
          4,
          5,
          5,
          2,
          2,
          3,
          4,
          1,
          2,
          2,
          3,
          4,
          5,
          3,
          3,
          5,
          5,
          1,
          5,
          1,
          2,
          2,
          3,
          3,
          4,
          3,
          3,
          1,
          4,
          1,
          1,
          1,
          3,
          3,
          1,
          4,
          2,
          3,
          5,
          2,
          4,
          2,
          5,
          1,
          4,
          5,
          1,
          1,
          5,
          2,
          3,
          2,
          1,
          1,
          4,
          3,
          2,
          1,
          3,
          1,
          5,
          2,
          3,
          3,
          4,
          5,
          1,
          2,
          2,
          4,
          5,
          3,
          5,
          3,
          2,
          2,
          1,
          4,
          5,
          1,
          5,
          1,
          2,
          2,
          3,
          1,
          4,
          4,
          3,
          1,
          3,
          4,
          4,
          4,
          3,
          5,
          3,
          2,
          4,
          5,
          5,
          2,
          4,
          2,
          1,
          3
         ],
         "yaxis": "y"
        }
       ],
       "layout": {
        "autosize": true,
        "legend": {
         "tracegroupgap": 0
        },
        "margin": {
         "t": 60
        },
        "template": {
         "data": {
          "bar": [
           {
            "error_x": {
             "color": "#2a3f5f"
            },
            "error_y": {
             "color": "#2a3f5f"
            },
            "marker": {
             "line": {
              "color": "#E5ECF6",
              "width": 0.5
             },
             "pattern": {
              "fillmode": "overlay",
              "size": 10,
              "solidity": 0.2
             }
            },
            "type": "bar"
           }
          ],
          "barpolar": [
           {
            "marker": {
             "line": {
              "color": "#E5ECF6",
              "width": 0.5
             },
             "pattern": {
              "fillmode": "overlay",
              "size": 10,
              "solidity": 0.2
             }
            },
            "type": "barpolar"
           }
          ],
          "carpet": [
           {
            "aaxis": {
             "endlinecolor": "#2a3f5f",
             "gridcolor": "white",
             "linecolor": "white",
             "minorgridcolor": "white",
             "startlinecolor": "#2a3f5f"
            },
            "baxis": {
             "endlinecolor": "#2a3f5f",
             "gridcolor": "white",
             "linecolor": "white",
             "minorgridcolor": "white",
             "startlinecolor": "#2a3f5f"
            },
            "type": "carpet"
           }
          ],
          "choropleth": [
           {
            "colorbar": {
             "outlinewidth": 0,
             "ticks": ""
            },
            "type": "choropleth"
           }
          ],
          "contour": [
           {
            "colorbar": {
             "outlinewidth": 0,
             "ticks": ""
            },
            "colorscale": [
             [
              0,
              "#0d0887"
             ],
             [
              0.1111111111111111,
              "#46039f"
             ],
             [
              0.2222222222222222,
              "#7201a8"
             ],
             [
              0.3333333333333333,
              "#9c179e"
             ],
             [
              0.4444444444444444,
              "#bd3786"
             ],
             [
              0.5555555555555556,
              "#d8576b"
             ],
             [
              0.6666666666666666,
              "#ed7953"
             ],
             [
              0.7777777777777778,
              "#fb9f3a"
             ],
             [
              0.8888888888888888,
              "#fdca26"
             ],
             [
              1,
              "#f0f921"
             ]
            ],
            "type": "contour"
           }
          ],
          "contourcarpet": [
           {
            "colorbar": {
             "outlinewidth": 0,
             "ticks": ""
            },
            "type": "contourcarpet"
           }
          ],
          "heatmap": [
           {
            "colorbar": {
             "outlinewidth": 0,
             "ticks": ""
            },
            "colorscale": [
             [
              0,
              "#0d0887"
             ],
             [
              0.1111111111111111,
              "#46039f"
             ],
             [
              0.2222222222222222,
              "#7201a8"
             ],
             [
              0.3333333333333333,
              "#9c179e"
             ],
             [
              0.4444444444444444,
              "#bd3786"
             ],
             [
              0.5555555555555556,
              "#d8576b"
             ],
             [
              0.6666666666666666,
              "#ed7953"
             ],
             [
              0.7777777777777778,
              "#fb9f3a"
             ],
             [
              0.8888888888888888,
              "#fdca26"
             ],
             [
              1,
              "#f0f921"
             ]
            ],
            "type": "heatmap"
           }
          ],
          "heatmapgl": [
           {
            "colorbar": {
             "outlinewidth": 0,
             "ticks": ""
            },
            "colorscale": [
             [
              0,
              "#0d0887"
             ],
             [
              0.1111111111111111,
              "#46039f"
             ],
             [
              0.2222222222222222,
              "#7201a8"
             ],
             [
              0.3333333333333333,
              "#9c179e"
             ],
             [
              0.4444444444444444,
              "#bd3786"
             ],
             [
              0.5555555555555556,
              "#d8576b"
             ],
             [
              0.6666666666666666,
              "#ed7953"
             ],
             [
              0.7777777777777778,
              "#fb9f3a"
             ],
             [
              0.8888888888888888,
              "#fdca26"
             ],
             [
              1,
              "#f0f921"
             ]
            ],
            "type": "heatmapgl"
           }
          ],
          "histogram": [
           {
            "marker": {
             "pattern": {
              "fillmode": "overlay",
              "size": 10,
              "solidity": 0.2
             }
            },
            "type": "histogram"
           }
          ],
          "histogram2d": [
           {
            "colorbar": {
             "outlinewidth": 0,
             "ticks": ""
            },
            "colorscale": [
             [
              0,
              "#0d0887"
             ],
             [
              0.1111111111111111,
              "#46039f"
             ],
             [
              0.2222222222222222,
              "#7201a8"
             ],
             [
              0.3333333333333333,
              "#9c179e"
             ],
             [
              0.4444444444444444,
              "#bd3786"
             ],
             [
              0.5555555555555556,
              "#d8576b"
             ],
             [
              0.6666666666666666,
              "#ed7953"
             ],
             [
              0.7777777777777778,
              "#fb9f3a"
             ],
             [
              0.8888888888888888,
              "#fdca26"
             ],
             [
              1,
              "#f0f921"
             ]
            ],
            "type": "histogram2d"
           }
          ],
          "histogram2dcontour": [
           {
            "colorbar": {
             "outlinewidth": 0,
             "ticks": ""
            },
            "colorscale": [
             [
              0,
              "#0d0887"
             ],
             [
              0.1111111111111111,
              "#46039f"
             ],
             [
              0.2222222222222222,
              "#7201a8"
             ],
             [
              0.3333333333333333,
              "#9c179e"
             ],
             [
              0.4444444444444444,
              "#bd3786"
             ],
             [
              0.5555555555555556,
              "#d8576b"
             ],
             [
              0.6666666666666666,
              "#ed7953"
             ],
             [
              0.7777777777777778,
              "#fb9f3a"
             ],
             [
              0.8888888888888888,
              "#fdca26"
             ],
             [
              1,
              "#f0f921"
             ]
            ],
            "type": "histogram2dcontour"
           }
          ],
          "mesh3d": [
           {
            "colorbar": {
             "outlinewidth": 0,
             "ticks": ""
            },
            "type": "mesh3d"
           }
          ],
          "parcoords": [
           {
            "line": {
             "colorbar": {
              "outlinewidth": 0,
              "ticks": ""
             }
            },
            "type": "parcoords"
           }
          ],
          "pie": [
           {
            "automargin": true,
            "type": "pie"
           }
          ],
          "scatter": [
           {
            "fillpattern": {
             "fillmode": "overlay",
             "size": 10,
             "solidity": 0.2
            },
            "type": "scatter"
           }
          ],
          "scatter3d": [
           {
            "line": {
             "colorbar": {
              "outlinewidth": 0,
              "ticks": ""
             }
            },
            "marker": {
             "colorbar": {
              "outlinewidth": 0,
              "ticks": ""
             }
            },
            "type": "scatter3d"
           }
          ],
          "scattercarpet": [
           {
            "marker": {
             "colorbar": {
              "outlinewidth": 0,
              "ticks": ""
             }
            },
            "type": "scattercarpet"
           }
          ],
          "scattergeo": [
           {
            "marker": {
             "colorbar": {
              "outlinewidth": 0,
              "ticks": ""
             }
            },
            "type": "scattergeo"
           }
          ],
          "scattergl": [
           {
            "marker": {
             "colorbar": {
              "outlinewidth": 0,
              "ticks": ""
             }
            },
            "type": "scattergl"
           }
          ],
          "scattermapbox": [
           {
            "marker": {
             "colorbar": {
              "outlinewidth": 0,
              "ticks": ""
             }
            },
            "type": "scattermapbox"
           }
          ],
          "scatterpolar": [
           {
            "marker": {
             "colorbar": {
              "outlinewidth": 0,
              "ticks": ""
             }
            },
            "type": "scatterpolar"
           }
          ],
          "scatterpolargl": [
           {
            "marker": {
             "colorbar": {
              "outlinewidth": 0,
              "ticks": ""
             }
            },
            "type": "scatterpolargl"
           }
          ],
          "scatterternary": [
           {
            "marker": {
             "colorbar": {
              "outlinewidth": 0,
              "ticks": ""
             }
            },
            "type": "scatterternary"
           }
          ],
          "surface": [
           {
            "colorbar": {
             "outlinewidth": 0,
             "ticks": ""
            },
            "colorscale": [
             [
              0,
              "#0d0887"
             ],
             [
              0.1111111111111111,
              "#46039f"
             ],
             [
              0.2222222222222222,
              "#7201a8"
             ],
             [
              0.3333333333333333,
              "#9c179e"
             ],
             [
              0.4444444444444444,
              "#bd3786"
             ],
             [
              0.5555555555555556,
              "#d8576b"
             ],
             [
              0.6666666666666666,
              "#ed7953"
             ],
             [
              0.7777777777777778,
              "#fb9f3a"
             ],
             [
              0.8888888888888888,
              "#fdca26"
             ],
             [
              1,
              "#f0f921"
             ]
            ],
            "type": "surface"
           }
          ],
          "table": [
           {
            "cells": {
             "fill": {
              "color": "#EBF0F8"
             },
             "line": {
              "color": "white"
             }
            },
            "header": {
             "fill": {
              "color": "#C8D4E3"
             },
             "line": {
              "color": "white"
             }
            },
            "type": "table"
           }
          ]
         },
         "layout": {
          "annotationdefaults": {
           "arrowcolor": "#2a3f5f",
           "arrowhead": 0,
           "arrowwidth": 1
          },
          "autotypenumbers": "strict",
          "coloraxis": {
           "colorbar": {
            "outlinewidth": 0,
            "ticks": ""
           }
          },
          "colorscale": {
           "diverging": [
            [
             0,
             "#8e0152"
            ],
            [
             0.1,
             "#c51b7d"
            ],
            [
             0.2,
             "#de77ae"
            ],
            [
             0.3,
             "#f1b6da"
            ],
            [
             0.4,
             "#fde0ef"
            ],
            [
             0.5,
             "#f7f7f7"
            ],
            [
             0.6,
             "#e6f5d0"
            ],
            [
             0.7,
             "#b8e186"
            ],
            [
             0.8,
             "#7fbc41"
            ],
            [
             0.9,
             "#4d9221"
            ],
            [
             1,
             "#276419"
            ]
           ],
           "sequential": [
            [
             0,
             "#0d0887"
            ],
            [
             0.1111111111111111,
             "#46039f"
            ],
            [
             0.2222222222222222,
             "#7201a8"
            ],
            [
             0.3333333333333333,
             "#9c179e"
            ],
            [
             0.4444444444444444,
             "#bd3786"
            ],
            [
             0.5555555555555556,
             "#d8576b"
            ],
            [
             0.6666666666666666,
             "#ed7953"
            ],
            [
             0.7777777777777778,
             "#fb9f3a"
            ],
            [
             0.8888888888888888,
             "#fdca26"
            ],
            [
             1,
             "#f0f921"
            ]
           ],
           "sequentialminus": [
            [
             0,
             "#0d0887"
            ],
            [
             0.1111111111111111,
             "#46039f"
            ],
            [
             0.2222222222222222,
             "#7201a8"
            ],
            [
             0.3333333333333333,
             "#9c179e"
            ],
            [
             0.4444444444444444,
             "#bd3786"
            ],
            [
             0.5555555555555556,
             "#d8576b"
            ],
            [
             0.6666666666666666,
             "#ed7953"
            ],
            [
             0.7777777777777778,
             "#fb9f3a"
            ],
            [
             0.8888888888888888,
             "#fdca26"
            ],
            [
             1,
             "#f0f921"
            ]
           ]
          },
          "colorway": [
           "#636efa",
           "#EF553B",
           "#00cc96",
           "#ab63fa",
           "#FFA15A",
           "#19d3f3",
           "#FF6692",
           "#B6E880",
           "#FF97FF",
           "#FECB52"
          ],
          "font": {
           "color": "#2a3f5f"
          },
          "geo": {
           "bgcolor": "white",
           "lakecolor": "white",
           "landcolor": "#E5ECF6",
           "showlakes": true,
           "showland": true,
           "subunitcolor": "white"
          },
          "hoverlabel": {
           "align": "left"
          },
          "hovermode": "closest",
          "mapbox": {
           "style": "light"
          },
          "paper_bgcolor": "white",
          "plot_bgcolor": "#E5ECF6",
          "polar": {
           "angularaxis": {
            "gridcolor": "white",
            "linecolor": "white",
            "ticks": ""
           },
           "bgcolor": "#E5ECF6",
           "radialaxis": {
            "gridcolor": "white",
            "linecolor": "white",
            "ticks": ""
           }
          },
          "scene": {
           "xaxis": {
            "backgroundcolor": "#E5ECF6",
            "gridcolor": "white",
            "gridwidth": 2,
            "linecolor": "white",
            "showbackground": true,
            "ticks": "",
            "zerolinecolor": "white"
           },
           "yaxis": {
            "backgroundcolor": "#E5ECF6",
            "gridcolor": "white",
            "gridwidth": 2,
            "linecolor": "white",
            "showbackground": true,
            "ticks": "",
            "zerolinecolor": "white"
           },
           "zaxis": {
            "backgroundcolor": "#E5ECF6",
            "gridcolor": "white",
            "gridwidth": 2,
            "linecolor": "white",
            "showbackground": true,
            "ticks": "",
            "zerolinecolor": "white"
           }
          },
          "shapedefaults": {
           "line": {
            "color": "#2a3f5f"
           }
          },
          "ternary": {
           "aaxis": {
            "gridcolor": "white",
            "linecolor": "white",
            "ticks": ""
           },
           "baxis": {
            "gridcolor": "white",
            "linecolor": "white",
            "ticks": ""
           },
           "bgcolor": "#E5ECF6",
           "caxis": {
            "gridcolor": "white",
            "linecolor": "white",
            "ticks": ""
           }
          },
          "title": {
           "x": 0.05
          },
          "xaxis": {
           "automargin": true,
           "gridcolor": "white",
           "linecolor": "white",
           "ticks": "",
           "title": {
            "standoff": 15
           },
           "zerolinecolor": "white",
           "zerolinewidth": 2
          },
          "yaxis": {
           "automargin": true,
           "gridcolor": "white",
           "linecolor": "white",
           "ticks": "",
           "title": {
            "standoff": 15
           },
           "zerolinecolor": "white",
           "zerolinewidth": 2
          }
         }
        },
        "xaxis": {
         "anchor": "y",
         "autorange": true,
         "domain": [
          0,
          1
         ],
         "range": [
          138.84952520087654,
          3156.1504747991235
         ],
         "title": {
          "text": "Battery Drain (mAh/day)"
         },
         "type": "linear"
        },
        "yaxis": {
         "anchor": "x",
         "autorange": true,
         "domain": [
          0,
          1
         ],
         "range": [
          0.6902887139107612,
          5.309711286089239
         ],
         "title": {
          "text": "User Behavior Class"
         },
         "type": "linear"
        }
       }
      },
      "image/png": "[encoded data removed]",
      "text/html": [
       "<div>                            <div id=\"fb75d11a-e111-41b3-85b5-eeb79cc68a15\" class=\"plotly-graph-div\" style=\"height:525px; width:100%;\"></div>            <script type=\"text/javascript\">                require([\"plotly\"], function(Plotly) {                    window.PLOTLYENV=window.PLOTLYENV || {};                                    if (document.getElementById(\"fb75d11a-e111-41b3-85b5-eeb79cc68a15\")) {                    Plotly.newPlot(                        \"fb75d11a-e111-41b3-85b5-eeb79cc68a15\",                        [{\"hovertemplate\":\"Battery Drain (mAh\\u002fday)=%{x}\\u003cbr\\u003eUser Behavior Class=%{y}\\u003cextra\\u003e\\u003c\\u002fextra\\u003e\",\"legendgroup\":\"\",\"marker\":{\"color\":\"#636efa\",\"symbol\":\"circle\"},\"mode\":\"markers\",\"name\":\"\",\"orientation\":\"v\",\"showlegend\":false,\"x\":[1872,1331,761,1676,1367,940,1802,2956,2138,1957,435,1690,2303,1662,1754,2571,628,1431,558,2774,681,2803,2094,1401,1711,1073,2372,2409,2387,1899,1361,1660,1484,457,2499,580,755,2808,2312,1851,1464,2447,720,993,837,2476,2447,889,2623,2736,2180,1243,690,1101,2857,450,572,2796,2306,2269,2798,2292,493,2911,1982,1420,1705,773,2932,558,1808,2902,2347,585,476,1305,558,678,333,1254,2475,1035,2363,368,1311,2081,1003,345,839,2053,912,1474,501,1125,2169,2243,2916,2406,361,1526,389,1210,929,1781,1113,585,642,403,1754,1641,718,2447,1483,818,2156,651,409,1631,590,1018,2085,2484,2541,2686,1702,2858,2149,1439,678,751,2923,2056,1193,313,303,2528,375,1368,2876,2429,1510,2044,896,528,2417,1281,2289,385,1677,873,2583,315,741,2277,364,893,439,2102,2375,859,540,526,2067,469,1238,2993,2968,467,1370,2431,1124,487,935,1817,509,1660,1738,1471,1582,2853,1124,2109,2936,308,2984,2738,2014,379,602,402,917,477,1822,1287,2109,1512,1407,1116,549,971,2920,1153,327,463,961,2084,455,620,2606,1385,2108,2752,714,588,1175,2559,2282,2855,2873,603,2093,1007,1941,2556,690,2712,2185,1318,649,1946,1083,2855,2720,1059,636,369,2549,2142,585,2711,302,2764,761,2378,479,1542,590,2205,866,537,324,2332,2460,982,398,2352,1863,1655,1791,2613,490,2394,2954,359,2000,2849,1608,2766,1642,2160,1969,1360,1002,1014,639,2702,1666,1607,417,2029,403,530,2114,542,1820,2805,2136,1519,619,415,2199,360,497,1781,2660,481,2214,805,1641,748,2113,1505,2290,2443,1117,686,1232,2176,1226,2027,1507,2397,1054,820,1566,320,1737,827,2026,2590,1275,1489,2001,490,2007,1554,1707,574,420,2865,1534,727,1762,2001,375,2905,2292,561,2267,590,435,2718,2971,1533,1309,1974,1020,542,866,2314,2111,593,1230,1823,455,574,1326,2840,366,1325,2435,2900,341,2159,2539,1965,2464,2876,747,816,2765,2547,2514,2947,434,531,490,1875,2445,922,1767,2453,373,653,890,2041,925,461,2968,775,2231,1901,1055,2129,2663,2288,437,2798,323,571,2821,612,1960,2595,2618,2340,994,2291,2289,2366,2790,2918,1692,1532,1171,608,1293,2655,1549,454,416,716,2115,536,1482,1062,747,967,1033,2757,1238,1137,2672,309,2591,798,1341,408,728,915,1725,1295,505,1664,2540,1859,2852,1604,617,518,1114,2953,734,557,1160,436,587,1707,547,639,2696,938,1789,1694,583,1770,2349,1414,1921,541,1396,2452,697,1625,1657,2201,2089,1315,1759,1681,954,2717,2851,470,1873,417,739,1734,1882,2403,2279,948,594,1892,1176,2928,1500,918,1356,988,369,2017,2664,1291,2859,2398,1408,318,1740,2513,1767,2911,442,975,1984,1187,940,592,2780,1123,2364,535,1849,2623,1390,1646,689,466,801,1639,2629,1987,2206,1276,2087,937,1528,2672,2638,2867,2817,740,1307,1616,2633,362,1750,658,2155,1047,1984,1110,605,2082,2168,1633,625,1392,2037,2914,2245,1188,508,440,1272,462,1132,312,1537,2181,1928,2229,1757,2858,2571,606,2776,2216,1715,532,2430,625,1414,571,538,1191,1665,1975,1995,627,630,2767,1809,1500,1959,2538,2529,825,1131,1382,2244,545,922,660,1278,1928,2496,1323,1596,2927,2606,489,2911,395,1158,608,1476,1388,1826,1407,1475,351,2363,417,310,328,1614,1446,437,1988,1078,1483,2587,1142,2055,1198,2433,546,2074,2778,321,443,2597,723,1494,1197,314,565,2294,1627,1041,519,1632,365,2839,1028,1489,1368,2358,2464,387,947,1189,1858,2568,1544,2891,1699,1039,648,387,1937,2925,490,2776,545,689,706,1525,334,2105,2354,1718,325,1221,1859,2037,2098,1589,2424,1447,856,1898,2792,2422,1082,1965,942,431,1306],\"xaxis\":\"x\",\"y\":[4,3,2,3,3,2,4,5,4,4,1,3,4,3,3,5,2,3,1,5,2,5,4,3,3,2,4,5,4,4,3,3,3,1,5,1,2,5,4,4,3,5,2,2,2,5,5,2,5,5,4,3,2,2,5,1,1,5,4,4,5,4,1,5,4,3,3,2,5,1,4,5,4,1,1,3,1,2,1,3,5,2,4,1,3,4,2,1,2,4,2,3,1,2,4,4,5,5,1,3,1,3,2,3,2,1,2,1,3,3,2,5,3,2,4,2,1,3,1,2,4,5,5,5,3,5,4,3,2,2,5,4,2,1,1,5,1,3,5,5,3,4,2,1,5,3,4,1,3,2,5,1,2,4,1,2,1,4,4,2,1,1,4,1,3,5,5,1,3,5,2,1,2,4,1,3,3,3,3,5,2,4,5,1,5,5,4,1,2,1,2,1,4,3,4,3,3,2,1,2,5,2,1,1,2,4,1,2,5,3,4,5,2,1,2,5,4,5,5,2,4,2,4,5,2,5,4,3,2,4,2,5,5,2,2,1,5,4,1,5,1,5,2,4,1,3,1,4,2,1,1,4,5,2,1,4,4,3,3,5,1,4,5,1,4,5,3,5,3,4,4,3,2,2,2,5,3,3,1,4,1,1,4,1,4,5,4,3,2,1,4,1,1,3,5,1,4,2,3,2,4,3,4,5,2,2,3,4,3,4,3,4,2,2,3,1,3,2,4,5,3,3,4,1,4,3,3,1,1,5,3,2,3,4,1,5,4,1,4,1,1,5,5,3,3,4,2,1,2,4,4,1,3,4,1,1,3,5,1,3,5,5,1,4,5,4,5,5,2,2,5,5,5,5,1,1,1,4,5,2,3,5,1,2,2,4,2,1,5,2,4,4,2,4,5,4,1,5,1,1,5,2,4,5,5,4,2,4,4,4,5,5,3,3,2,2,3,5,3,1,1,2,4,1,3,2,2,2,2,5,3,2,5,1,5,2,3,1,2,2,3,3,1,3,5,4,5,3,2,1,2,5,2,1,2,1,1,3,1,2,5,2,3,3,1,3,4,3,4,1,3,5,2,3,3,4,4,3,3,3,2,5,5,1,4,1,2,3,4,5,4,2,1,4,2,5,3,2,3,2,1,4,5,3,5,4,3,1,3,5,3,5,1,2,4,2,2,1,5,2,4,1,4,5,3,3,2,1,2,3,5,4,4,3,4,2,3,5,5,5,5,2,3,3,5,1,3,2,4,2,4,2,2,4,4,3,2,3,4,5,4,2,1,1,3,1,2,1,3,4,4,4,3,5,5,2,5,4,3,1,5,2,3,1,1,2,3,4,4,2,2,5,4,3,4,5,5,2,2,3,4,1,2,2,3,4,5,3,3,5,5,1,5,1,2,2,3,3,4,3,3,1,4,1,1,1,3,3,1,4,2,3,5,2,4,2,5,1,4,5,1,1,5,2,3,2,1,1,4,3,2,1,3,1,5,2,3,3,4,5,1,2,2,4,5,3,5,3,2,2,1,4,5,1,5,1,2,2,3,1,4,4,3,1,3,4,4,4,3,5,3,2,4,5,5,2,4,2,1,3],\"yaxis\":\"y\",\"type\":\"scatter\"}],                        {\"template\":{\"data\":{\"histogram2dcontour\":[{\"type\":\"histogram2dcontour\",\"colorbar\":{\"outlinewidth\":0,\"ticks\":\"\"},\"colorscale\":[[0.0,\"#0d0887\"],[0.1111111111111111,\"#46039f\"],[0.2222222222222222,\"#7201a8\"],[0.3333333333333333,\"#9c179e\"],[0.4444444444444444,\"#bd3786\"],[0.5555555555555556,\"#d8576b\"],[0.6666666666666666,\"#ed7953\"],[0.7777777777777778,\"#fb9f3a\"],[0.8888888888888888,\"#fdca26\"],[1.0,\"#f0f921\"]]}],\"choropleth\":[{\"type\":\"choropleth\",\"colorbar\":{\"outlinewidth\":0,\"ticks\":\"\"}}],\"histogram2d\":[{\"type\":\"histogram2d\",\"colorbar\":{\"outlinewidth\":0,\"ticks\":\"\"},\"colorscale\":[[0.0,\"#0d0887\"],[0.1111111111111111,\"#46039f\"],[0.2222222222222222,\"#7201a8\"],[0.3333333333333333,\"#9c179e\"],[0.4444444444444444,\"#bd3786\"],[0.5555555555555556,\"#d8576b\"],[0.6666666666666666,\"#ed7953\"],[0.7777777777777778,\"#fb9f3a\"],[0.8888888888888888,\"#fdca26\"],[1.0,\"#f0f921\"]]}],\"heatmap\":[{\"type\":\"heatmap\",\"colorbar\":{\"outlinewidth\":0,\"ticks\":\"\"},\"colorscale\":[[0.0,\"#0d0887\"],[0.1111111111111111,\"#46039f\"],[0.2222222222222222,\"#7201a8\"],[0.3333333333333333,\"#9c179e\"],[0.4444444444444444,\"#bd3786\"],[0.5555555555555556,\"#d8576b\"],[0.6666666666666666,\"#ed7953\"],[0.7777777777777778,\"#fb9f3a\"],[0.8888888888888888,\"#fdca26\"],[1.0,\"#f0f921\"]]}],\"heatmapgl\":[{\"type\":\"heatmapgl\",\"colorbar\":{\"outlinewidth\":0,\"ticks\":\"\"},\"colorscale\":[[0.0,\"#0d0887\"],[0.1111111111111111,\"#46039f\"],[0.2222222222222222,\"#7201a8\"],[0.3333333333333333,\"#9c179e\"],[0.4444444444444444,\"#bd3786\"],[0.5555555555555556,\"#d8576b\"],[0.6666666666666666,\"#ed7953\"],[0.7777777777777778,\"#fb9f3a\"],[0.8888888888888888,\"#fdca26\"],[1.0,\"#f0f921\"]]}],\"contourcarpet\":[{\"type\":\"contourcarpet\",\"colorbar\":{\"outlinewidth\":0,\"ticks\":\"\"}}],\"contour\":[{\"type\":\"contour\",\"colorbar\":{\"outlinewidth\":0,\"ticks\":\"\"},\"colorscale\":[[0.0,\"#0d0887\"],[0.1111111111111111,\"#46039f\"],[0.2222222222222222,\"#7201a8\"],[0.3333333333333333,\"#9c179e\"],[0.4444444444444444,\"#bd3786\"],[0.5555555555555556,\"#d8576b\"],[0.6666666666666666,\"#ed7953\"],[0.7777777777777778,\"#fb9f3a\"],[0.8888888888888888,\"#fdca26\"],[1.0,\"#f0f921\"]]}],\"surface\":[{\"type\":\"surface\",\"colorbar\":{\"outlinewidth\":0,\"ticks\":\"\"},\"colorscale\":[[0.0,\"#0d0887\"],[0.1111111111111111,\"#46039f\"],[0.2222222222222222,\"#7201a8\"],[0.3333333333333333,\"#9c179e\"],[0.4444444444444444,\"#bd3786\"],[0.5555555555555556,\"#d8576b\"],[0.6666666666666666,\"#ed7953\"],[0.7777777777777778,\"#fb9f3a\"],[0.8888888888888888,\"#fdca26\"],[1.0,\"#f0f921\"]]}],\"mesh3d\":[{\"type\":\"mesh3d\",\"colorbar\":{\"outlinewidth\":0,\"ticks\":\"\"}}],\"scatter\":[{\"fillpattern\":{\"fillmode\":\"overlay\",\"size\":10,\"solidity\":0.2},\"type\":\"scatter\"}],\"parcoords\":[{\"type\":\"parcoords\",\"line\":{\"colorbar\":{\"outlinewidth\":0,\"ticks\":\"\"}}}],\"scatterpolargl\":[{\"type\":\"scatterpolargl\",\"marker\":{\"colorbar\":{\"outlinewidth\":0,\"ticks\":\"\"}}}],\"bar\":[{\"error_x\":{\"color\":\"#2a3f5f\"},\"error_y\":{\"color\":\"#2a3f5f\"},\"marker\":{\"line\":{\"color\":\"#E5ECF6\",\"width\":0.5},\"pattern\":{\"fillmode\":\"overlay\",\"size\":10,\"solidity\":0.2}},\"type\":\"bar\"}],\"scattergeo\":[{\"type\":\"scattergeo\",\"marker\":{\"colorbar\":{\"outlinewidth\":0,\"ticks\":\"\"}}}],\"scatterpolar\":[{\"type\":\"scatterpolar\",\"marker\":{\"colorbar\":{\"outlinewidth\":0,\"ticks\":\"\"}}}],\"histogram\":[{\"marker\":{\"pattern\":{\"fillmode\":\"overlay\",\"size\":10,\"solidity\":0.2}},\"type\":\"histogram\"}],\"scattergl\":[{\"type\":\"scattergl\",\"marker\":{\"colorbar\":{\"outlinewidth\":0,\"ticks\":\"\"}}}],\"scatter3d\":[{\"type\":\"scatter3d\",\"line\":{\"colorbar\":{\"outlinewidth\":0,\"ticks\":\"\"}},\"marker\":{\"colorbar\":{\"outlinewidth\":0,\"ticks\":\"\"}}}],\"scattermapbox\":[{\"type\":\"scattermapbox\",\"marker\":{\"colorbar\":{\"outlinewidth\":0,\"ticks\":\"\"}}}],\"scatterternary\":[{\"type\":\"scatterternary\",\"marker\":{\"colorbar\":{\"outlinewidth\":0,\"ticks\":\"\"}}}],\"scattercarpet\":[{\"type\":\"scattercarpet\",\"marker\":{\"colorbar\":{\"outlinewidth\":0,\"ticks\":\"\"}}}],\"carpet\":[{\"aaxis\":{\"endlinecolor\":\"#2a3f5f\",\"gridcolor\":\"white\",\"linecolor\":\"white\",\"minorgridcolor\":\"white\",\"startlinecolor\":\"#2a3f5f\"},\"baxis\":{\"endlinecolor\":\"#2a3f5f\",\"gridcolor\":\"white\",\"linecolor\":\"white\",\"minorgridcolor\":\"white\",\"startlinecolor\":\"#2a3f5f\"},\"type\":\"carpet\"}],\"table\":[{\"cells\":{\"fill\":{\"color\":\"#EBF0F8\"},\"line\":{\"color\":\"white\"}},\"header\":{\"fill\":{\"color\":\"#C8D4E3\"},\"line\":{\"color\":\"white\"}},\"type\":\"table\"}],\"barpolar\":[{\"marker\":{\"line\":{\"color\":\"#E5ECF6\",\"width\":0.5},\"pattern\":{\"fillmode\":\"overlay\",\"size\":10,\"solidity\":0.2}},\"type\":\"barpolar\"}],\"pie\":[{\"automargin\":true,\"type\":\"pie\"}]},\"layout\":{\"autotypenumbers\":\"strict\",\"colorway\":[\"#636efa\",\"#EF553B\",\"#00cc96\",\"#ab63fa\",\"#FFA15A\",\"#19d3f3\",\"#FF6692\",\"#B6E880\",\"#FF97FF\",\"#FECB52\"],\"font\":{\"color\":\"#2a3f5f\"},\"hovermode\":\"closest\",\"hoverlabel\":{\"align\":\"left\"},\"paper_bgcolor\":\"white\",\"plot_bgcolor\":\"#E5ECF6\",\"polar\":{\"bgcolor\":\"#E5ECF6\",\"angularaxis\":{\"gridcolor\":\"white\",\"linecolor\":\"white\",\"ticks\":\"\"},\"radialaxis\":{\"gridcolor\":\"white\",\"linecolor\":\"white\",\"ticks\":\"\"}},\"ternary\":{\"bgcolor\":\"#E5ECF6\",\"aaxis\":{\"gridcolor\":\"white\",\"linecolor\":\"white\",\"ticks\":\"\"},\"baxis\":{\"gridcolor\":\"white\",\"linecolor\":\"white\",\"ticks\":\"\"},\"caxis\":{\"gridcolor\":\"white\",\"linecolor\":\"white\",\"ticks\":\"\"}},\"coloraxis\":{\"colorbar\":{\"outlinewidth\":0,\"ticks\":\"\"}},\"colorscale\":{\"sequential\":[[0.0,\"#0d0887\"],[0.1111111111111111,\"#46039f\"],[0.2222222222222222,\"#7201a8\"],[0.3333333333333333,\"#9c179e\"],[0.4444444444444444,\"#bd3786\"],[0.5555555555555556,\"#d8576b\"],[0.6666666666666666,\"#ed7953\"],[0.7777777777777778,\"#fb9f3a\"],[0.8888888888888888,\"#fdca26\"],[1.0,\"#f0f921\"]],\"sequentialminus\":[[0.0,\"#0d0887\"],[0.1111111111111111,\"#46039f\"],[0.2222222222222222,\"#7201a8\"],[0.3333333333333333,\"#9c179e\"],[0.4444444444444444,\"#bd3786\"],[0.5555555555555556,\"#d8576b\"],[0.6666666666666666,\"#ed7953\"],[0.7777777777777778,\"#fb9f3a\"],[0.8888888888888888,\"#fdca26\"],[1.0,\"#f0f921\"]],\"diverging\":[[0,\"#8e0152\"],[0.1,\"#c51b7d\"],[0.2,\"#de77ae\"],[0.3,\"#f1b6da\"],[0.4,\"#fde0ef\"],[0.5,\"#f7f7f7\"],[0.6,\"#e6f5d0\"],[0.7,\"#b8e186\"],[0.8,\"#7fbc41\"],[0.9,\"#4d9221\"],[1,\"#276419\"]]},\"xaxis\":{\"gridcolor\":\"white\",\"linecolor\":\"white\",\"ticks\":\"\",\"title\":{\"standoff\":15},\"zerolinecolor\":\"white\",\"automargin\":true,\"zerolinewidth\":2},\"yaxis\":{\"gridcolor\":\"white\",\"linecolor\":\"white\",\"ticks\":\"\",\"title\":{\"standoff\":15},\"zerolinecolor\":\"white\",\"automargin\":true,\"zerolinewidth\":2},\"scene\":{\"xaxis\":{\"backgroundcolor\":\"#E5ECF6\",\"gridcolor\":\"white\",\"linecolor\":\"white\",\"showbackground\":true,\"ticks\":\"\",\"zerolinecolor\":\"white\",\"gridwidth\":2},\"yaxis\":{\"backgroundcolor\":\"#E5ECF6\",\"gridcolor\":\"white\",\"linecolor\":\"white\",\"showbackground\":true,\"ticks\":\"\",\"zerolinecolor\":\"white\",\"gridwidth\":2},\"zaxis\":{\"backgroundcolor\":\"#E5ECF6\",\"gridcolor\":\"white\",\"linecolor\":\"white\",\"showbackground\":true,\"ticks\":\"\",\"zerolinecolor\":\"white\",\"gridwidth\":2}},\"shapedefaults\":{\"line\":{\"color\":\"#2a3f5f\"}},\"annotationdefaults\":{\"arrowcolor\":\"#2a3f5f\",\"arrowhead\":0,\"arrowwidth\":1},\"geo\":{\"bgcolor\":\"white\",\"landcolor\":\"#E5ECF6\",\"subunitcolor\":\"white\",\"showland\":true,\"showlakes\":true,\"lakecolor\":\"white\"},\"title\":{\"x\":0.05},\"mapbox\":{\"style\":\"light\"}}},\"xaxis\":{\"anchor\":\"y\",\"domain\":[0.0,1.0],\"title\":{\"text\":\"Battery Drain (mAh\\u002fday)\"}},\"yaxis\":{\"anchor\":\"x\",\"domain\":[0.0,1.0],\"title\":{\"text\":\"User Behavior Class\"}},\"legend\":{\"tracegroupgap\":0},\"margin\":{\"t\":60}},                        {\"responsive\": true}                    ).then(function(){\n",
       "                            \n",
       "var gd = document.getElementById('fb75d11a-e111-41b3-85b5-eeb79cc68a15');\n",
       "var x = new MutationObserver(function (mutations, observer) {{\n",
       "        var display = window.getComputedStyle(gd).display;\n",
       "        if (!display || display === 'none') {{\n",
       "            console.log([gd, 'removed!']);\n",
       "            Plotly.purge(gd);\n",
       "            observer.disconnect();\n",
       "        }}\n",
       "}});\n",
       "\n",
       "// Listen for the removal of the full notebook cells\n",
       "var notebookContainer = gd.closest('#notebook-container');\n",
       "if (notebookContainer) {{\n",
       "    x.observe(notebookContainer, {childList: true});\n",
       "}}\n",
       "\n",
       "// Listen for the clearing of the current output cell\n",
       "var outputEl = gd.closest('.output');\n",
       "if (outputEl) {{\n",
       "    x.observe(outputEl, {childList: true});\n",
       "}}\n",
       "\n",
       "                        })                };                });            </script>        </div>"
      ]
     },
     "metadata": {},
     "output_type": "display_data"
    },
    {
     "data": {
      "application/vnd.plotly.v1+json": {
       "config": {
        "plotlyServerURL": "https://plot.ly"
       },
       "data": [
        {
         "hovertemplate": "Number of Apps Installed=%{x}<br>User Behavior Class=%{y}<extra></extra>",
         "legendgroup": "",
         "marker": {
          "color": "#636efa",
          "symbol": "circle"
         },
         "mode": "markers",
         "name": "",
         "orientation": "v",
         "showlegend": false,
         "type": "scatter",
         "x": [
          67,
          42,
          32,
          56,
          58,
          35,
          66,
          82,
          75,
          75,
          17,
          47,
          65,
          43,
          53,
          84,
          32,
          41,
          16,
          89,
          37,
          82,
          65,
          46,
          59,
          38,
          77,
          89,
          77,
          78,
          44,
          59,
          55,
          14,
          81,
          19,
          30,
          93,
          74,
          77,
          52,
          83,
          39,
          32,
          21,
          96,
          97,
          25,
          90,
          82,
          61,
          52,
          28,
          38,
          83,
          14,
          10,
          89,
          75,
          64,
          85,
          77,
          14,
          87,
          67,
          48,
          57,
          35,
          98,
          16,
          64,
          97,
          66,
          11,
          14,
          43,
          14,
          29,
          17,
          52,
          99,
          22,
          77,
          11,
          56,
          63,
          25,
          11,
          31,
          75,
          39,
          46,
          16,
          24,
          72,
          73,
          91,
          82,
          18,
          44,
          15,
          45,
          37,
          52,
          28,
          12,
          38,
          17,
          55,
          41,
          26,
          84,
          45,
          33,
          76,
          34,
          13,
          49,
          13,
          37,
          71,
          89,
          99,
          96,
          57,
          99,
          68,
          45,
          34,
          39,
          90,
          69,
          30,
          18,
          19,
          90,
          16,
          42,
          94,
          91,
          42,
          71,
          37,
          12,
          90,
          45,
          73,
          19,
          58,
          34,
          92,
          19,
          38,
          72,
          10,
          36,
          19,
          71,
          79,
          26,
          19,
          15,
          69,
          18,
          48,
          98,
          88,
          10,
          44,
          90,
          27,
          17,
          25,
          72,
          11,
          47,
          42,
          51,
          52,
          83,
          38,
          68,
          83,
          15,
          91,
          94,
          79,
          15,
          21,
          11,
          23,
          13,
          63,
          52,
          79,
          49,
          41,
          32,
          14,
          32,
          84,
          35,
          11,
          16,
          21,
          71,
          15,
          21,
          92,
          47,
          76,
          86,
          38,
          10,
          29,
          89,
          78,
          95,
          81,
          28,
          75,
          31,
          79,
          83,
          31,
          97,
          72,
          49,
          25,
          79,
          32,
          91,
          83,
          27,
          28,
          18,
          88,
          66,
          13,
          96,
          16,
          81,
          36,
          69,
          16,
          45,
          17,
          63,
          22,
          13,
          13,
          78,
          99,
          31,
          14,
          77,
          65,
          45,
          50,
          98,
          14,
          68,
          93,
          10,
          77,
          85,
          43,
          84,
          45,
          69,
          78,
          56,
          29,
          32,
          37,
          88,
          42,
          52,
          12,
          75,
          12,
          11,
          72,
          16,
          70,
          90,
          64,
          54,
          36,
          10,
          66,
          19,
          10,
          45,
          87,
          18,
          67,
          26,
          44,
          35,
          65,
          59,
          67,
          89,
          22,
          32,
          47,
          68,
          57,
          66,
          51,
          68,
          32,
          21,
          59,
          11,
          43,
          29,
          63,
          81,
          56,
          56,
          61,
          14,
          78,
          54,
          57,
          18,
          12,
          89,
          49,
          36,
          45,
          69,
          18,
          99,
          62,
          15,
          70,
          13,
          13,
          90,
          87,
          54,
          52,
          73,
          38,
          18,
          34,
          66,
          73,
          14,
          52,
          68,
          14,
          19,
          51,
          92,
          13,
          55,
          86,
          97,
          11,
          64,
          84,
          67,
          82,
          85,
          36,
          35,
          83,
          86,
          91,
          95,
          12,
          17,
          17,
          63,
          99,
          22,
          47,
          99,
          19,
          35,
          38,
          78,
          32,
          13,
          92,
          31,
          69,
          76,
          29,
          66,
          84,
          61,
          14,
          90,
          18,
          10,
          86,
          36,
          71,
          89,
          84,
          69,
          33,
          61,
          74,
          61,
          86,
          88,
          46,
          51,
          22,
          24,
          52,
          91,
          43,
          11,
          12,
          38,
          71,
          18,
          59,
          24,
          36,
          28,
          33,
          90,
          59,
          36,
          90,
          15,
          99,
          21,
          46,
          16,
          24,
          39,
          56,
          44,
          17,
          48,
          97,
          61,
          81,
          58,
          22,
          10,
          30,
          92,
          35,
          13,
          24,
          13,
          15,
          55,
          10,
          37,
          91,
          36,
          54,
          50,
          10,
          51,
          75,
          47,
          61,
          16,
          52,
          93,
          37,
          45,
          55,
          68,
          77,
          44,
          59,
          59,
          39,
          87,
          87,
          18,
          61,
          18,
          34,
          46,
          62,
          94,
          71,
          22,
          19,
          69,
          24,
          88,
          51,
          37,
          54,
          26,
          14,
          74,
          91,
          50,
          99,
          66,
          45,
          11,
          45,
          90,
          58,
          89,
          17,
          31,
          73,
          28,
          36,
          19,
          87,
          22,
          75,
          17,
          64,
          98,
          45,
          57,
          36,
          10,
          32,
          47,
          86,
          66,
          66,
          57,
          67,
          24,
          48,
          82,
          98,
          95,
          89,
          21,
          48,
          48,
          97,
          17,
          45,
          33,
          74,
          32,
          72,
          30,
          23,
          75,
          61,
          41,
          25,
          43,
          65,
          81,
          69,
          21,
          15,
          10,
          55,
          15,
          26,
          16,
          43,
          77,
          74,
          73,
          42,
          86,
          93,
          30,
          83,
          66,
          49,
          18,
          82,
          34,
          53,
          10,
          19,
          28,
          44,
          72,
          75,
          26,
          33,
          84,
          64,
          42,
          63,
          82,
          91,
          31,
          31,
          42,
          70,
          15,
          32,
          22,
          42,
          72,
          81,
          56,
          56,
          92,
          95,
          16,
          82,
          16,
          23,
          36,
          49,
          55,
          71,
          54,
          46,
          15,
          65,
          15,
          15,
          12,
          53,
          46,
          18,
          62,
          38,
          54,
          84,
          31,
          67,
          39,
          90,
          10,
          63,
          91,
          11,
          16,
          90,
          35,
          53,
          23,
          16,
          17,
          76,
          58,
          39,
          10,
          47,
          19,
          91,
          29,
          59,
          56,
          68,
          91,
          12,
          29,
          37,
          78,
          83,
          53,
          82,
          49,
          38,
          31,
          13,
          64,
          84,
          18,
          93,
          17,
          38,
          26,
          59,
          16,
          76,
          77,
          58,
          12,
          47,
          67,
          68,
          61,
          56,
          98,
          48,
          37,
          78,
          82,
          83,
          26,
          68,
          22,
          13,
          49
         ],
         "xaxis": "x",
         "y": [
          4,
          3,
          2,
          3,
          3,
          2,
          4,
          5,
          4,
          4,
          1,
          3,
          4,
          3,
          3,
          5,
          2,
          3,
          1,
          5,
          2,
          5,
          4,
          3,
          3,
          2,
          4,
          5,
          4,
          4,
          3,
          3,
          3,
          1,
          5,
          1,
          2,
          5,
          4,
          4,
          3,
          5,
          2,
          2,
          2,
          5,
          5,
          2,
          5,
          5,
          4,
          3,
          2,
          2,
          5,
          1,
          1,
          5,
          4,
          4,
          5,
          4,
          1,
          5,
          4,
          3,
          3,
          2,
          5,
          1,
          4,
          5,
          4,
          1,
          1,
          3,
          1,
          2,
          1,
          3,
          5,
          2,
          4,
          1,
          3,
          4,
          2,
          1,
          2,
          4,
          2,
          3,
          1,
          2,
          4,
          4,
          5,
          5,
          1,
          3,
          1,
          3,
          2,
          3,
          2,
          1,
          2,
          1,
          3,
          3,
          2,
          5,
          3,
          2,
          4,
          2,
          1,
          3,
          1,
          2,
          4,
          5,
          5,
          5,
          3,
          5,
          4,
          3,
          2,
          2,
          5,
          4,
          2,
          1,
          1,
          5,
          1,
          3,
          5,
          5,
          3,
          4,
          2,
          1,
          5,
          3,
          4,
          1,
          3,
          2,
          5,
          1,
          2,
          4,
          1,
          2,
          1,
          4,
          4,
          2,
          1,
          1,
          4,
          1,
          3,
          5,
          5,
          1,
          3,
          5,
          2,
          1,
          2,
          4,
          1,
          3,
          3,
          3,
          3,
          5,
          2,
          4,
          5,
          1,
          5,
          5,
          4,
          1,
          2,
          1,
          2,
          1,
          4,
          3,
          4,
          3,
          3,
          2,
          1,
          2,
          5,
          2,
          1,
          1,
          2,
          4,
          1,
          2,
          5,
          3,
          4,
          5,
          2,
          1,
          2,
          5,
          4,
          5,
          5,
          2,
          4,
          2,
          4,
          5,
          2,
          5,
          4,
          3,
          2,
          4,
          2,
          5,
          5,
          2,
          2,
          1,
          5,
          4,
          1,
          5,
          1,
          5,
          2,
          4,
          1,
          3,
          1,
          4,
          2,
          1,
          1,
          4,
          5,
          2,
          1,
          4,
          4,
          3,
          3,
          5,
          1,
          4,
          5,
          1,
          4,
          5,
          3,
          5,
          3,
          4,
          4,
          3,
          2,
          2,
          2,
          5,
          3,
          3,
          1,
          4,
          1,
          1,
          4,
          1,
          4,
          5,
          4,
          3,
          2,
          1,
          4,
          1,
          1,
          3,
          5,
          1,
          4,
          2,
          3,
          2,
          4,
          3,
          4,
          5,
          2,
          2,
          3,
          4,
          3,
          4,
          3,
          4,
          2,
          2,
          3,
          1,
          3,
          2,
          4,
          5,
          3,
          3,
          4,
          1,
          4,
          3,
          3,
          1,
          1,
          5,
          3,
          2,
          3,
          4,
          1,
          5,
          4,
          1,
          4,
          1,
          1,
          5,
          5,
          3,
          3,
          4,
          2,
          1,
          2,
          4,
          4,
          1,
          3,
          4,
          1,
          1,
          3,
          5,
          1,
          3,
          5,
          5,
          1,
          4,
          5,
          4,
          5,
          5,
          2,
          2,
          5,
          5,
          5,
          5,
          1,
          1,
          1,
          4,
          5,
          2,
          3,
          5,
          1,
          2,
          2,
          4,
          2,
          1,
          5,
          2,
          4,
          4,
          2,
          4,
          5,
          4,
          1,
          5,
          1,
          1,
          5,
          2,
          4,
          5,
          5,
          4,
          2,
          4,
          4,
          4,
          5,
          5,
          3,
          3,
          2,
          2,
          3,
          5,
          3,
          1,
          1,
          2,
          4,
          1,
          3,
          2,
          2,
          2,
          2,
          5,
          3,
          2,
          5,
          1,
          5,
          2,
          3,
          1,
          2,
          2,
          3,
          3,
          1,
          3,
          5,
          4,
          5,
          3,
          2,
          1,
          2,
          5,
          2,
          1,
          2,
          1,
          1,
          3,
          1,
          2,
          5,
          2,
          3,
          3,
          1,
          3,
          4,
          3,
          4,
          1,
          3,
          5,
          2,
          3,
          3,
          4,
          4,
          3,
          3,
          3,
          2,
          5,
          5,
          1,
          4,
          1,
          2,
          3,
          4,
          5,
          4,
          2,
          1,
          4,
          2,
          5,
          3,
          2,
          3,
          2,
          1,
          4,
          5,
          3,
          5,
          4,
          3,
          1,
          3,
          5,
          3,
          5,
          1,
          2,
          4,
          2,
          2,
          1,
          5,
          2,
          4,
          1,
          4,
          5,
          3,
          3,
          2,
          1,
          2,
          3,
          5,
          4,
          4,
          3,
          4,
          2,
          3,
          5,
          5,
          5,
          5,
          2,
          3,
          3,
          5,
          1,
          3,
          2,
          4,
          2,
          4,
          2,
          2,
          4,
          4,
          3,
          2,
          3,
          4,
          5,
          4,
          2,
          1,
          1,
          3,
          1,
          2,
          1,
          3,
          4,
          4,
          4,
          3,
          5,
          5,
          2,
          5,
          4,
          3,
          1,
          5,
          2,
          3,
          1,
          1,
          2,
          3,
          4,
          4,
          2,
          2,
          5,
          4,
          3,
          4,
          5,
          5,
          2,
          2,
          3,
          4,
          1,
          2,
          2,
          3,
          4,
          5,
          3,
          3,
          5,
          5,
          1,
          5,
          1,
          2,
          2,
          3,
          3,
          4,
          3,
          3,
          1,
          4,
          1,
          1,
          1,
          3,
          3,
          1,
          4,
          2,
          3,
          5,
          2,
          4,
          2,
          5,
          1,
          4,
          5,
          1,
          1,
          5,
          2,
          3,
          2,
          1,
          1,
          4,
          3,
          2,
          1,
          3,
          1,
          5,
          2,
          3,
          3,
          4,
          5,
          1,
          2,
          2,
          4,
          5,
          3,
          5,
          3,
          2,
          2,
          1,
          4,
          5,
          1,
          5,
          1,
          2,
          2,
          3,
          1,
          4,
          4,
          3,
          1,
          3,
          4,
          4,
          4,
          3,
          5,
          3,
          2,
          4,
          5,
          5,
          2,
          4,
          2,
          1,
          3
         ],
         "yaxis": "y"
        }
       ],
       "layout": {
        "autosize": true,
        "legend": {
         "tracegroupgap": 0
        },
        "margin": {
         "t": 60
        },
        "template": {
         "data": {
          "bar": [
           {
            "error_x": {
             "color": "#2a3f5f"
            },
            "error_y": {
             "color": "#2a3f5f"
            },
            "marker": {
             "line": {
              "color": "#E5ECF6",
              "width": 0.5
             },
             "pattern": {
              "fillmode": "overlay",
              "size": 10,
              "solidity": 0.2
             }
            },
            "type": "bar"
           }
          ],
          "barpolar": [
           {
            "marker": {
             "line": {
              "color": "#E5ECF6",
              "width": 0.5
             },
             "pattern": {
              "fillmode": "overlay",
              "size": 10,
              "solidity": 0.2
             }
            },
            "type": "barpolar"
           }
          ],
          "carpet": [
           {
            "aaxis": {
             "endlinecolor": "#2a3f5f",
             "gridcolor": "white",
             "linecolor": "white",
             "minorgridcolor": "white",
             "startlinecolor": "#2a3f5f"
            },
            "baxis": {
             "endlinecolor": "#2a3f5f",
             "gridcolor": "white",
             "linecolor": "white",
             "minorgridcolor": "white",
             "startlinecolor": "#2a3f5f"
            },
            "type": "carpet"
           }
          ],
          "choropleth": [
           {
            "colorbar": {
             "outlinewidth": 0,
             "ticks": ""
            },
            "type": "choropleth"
           }
          ],
          "contour": [
           {
            "colorbar": {
             "outlinewidth": 0,
             "ticks": ""
            },
            "colorscale": [
             [
              0,
              "#0d0887"
             ],
             [
              0.1111111111111111,
              "#46039f"
             ],
             [
              0.2222222222222222,
              "#7201a8"
             ],
             [
              0.3333333333333333,
              "#9c179e"
             ],
             [
              0.4444444444444444,
              "#bd3786"
             ],
             [
              0.5555555555555556,
              "#d8576b"
             ],
             [
              0.6666666666666666,
              "#ed7953"
             ],
             [
              0.7777777777777778,
              "#fb9f3a"
             ],
             [
              0.8888888888888888,
              "#fdca26"
             ],
             [
              1,
              "#f0f921"
             ]
            ],
            "type": "contour"
           }
          ],
          "contourcarpet": [
           {
            "colorbar": {
             "outlinewidth": 0,
             "ticks": ""
            },
            "type": "contourcarpet"
           }
          ],
          "heatmap": [
           {
            "colorbar": {
             "outlinewidth": 0,
             "ticks": ""
            },
            "colorscale": [
             [
              0,
              "#0d0887"
             ],
             [
              0.1111111111111111,
              "#46039f"
             ],
             [
              0.2222222222222222,
              "#7201a8"
             ],
             [
              0.3333333333333333,
              "#9c179e"
             ],
             [
              0.4444444444444444,
              "#bd3786"
             ],
             [
              0.5555555555555556,
              "#d8576b"
             ],
             [
              0.6666666666666666,
              "#ed7953"
             ],
             [
              0.7777777777777778,
              "#fb9f3a"
             ],
             [
              0.8888888888888888,
              "#fdca26"
             ],
             [
              1,
              "#f0f921"
             ]
            ],
            "type": "heatmap"
           }
          ],
          "heatmapgl": [
           {
            "colorbar": {
             "outlinewidth": 0,
             "ticks": ""
            },
            "colorscale": [
             [
              0,
              "#0d0887"
             ],
             [
              0.1111111111111111,
              "#46039f"
             ],
             [
              0.2222222222222222,
              "#7201a8"
             ],
             [
              0.3333333333333333,
              "#9c179e"
             ],
             [
              0.4444444444444444,
              "#bd3786"
             ],
             [
              0.5555555555555556,
              "#d8576b"
             ],
             [
              0.6666666666666666,
              "#ed7953"
             ],
             [
              0.7777777777777778,
              "#fb9f3a"
             ],
             [
              0.8888888888888888,
              "#fdca26"
             ],
             [
              1,
              "#f0f921"
             ]
            ],
            "type": "heatmapgl"
           }
          ],
          "histogram": [
           {
            "marker": {
             "pattern": {
              "fillmode": "overlay",
              "size": 10,
              "solidity": 0.2
             }
            },
            "type": "histogram"
           }
          ],
          "histogram2d": [
           {
            "colorbar": {
             "outlinewidth": 0,
             "ticks": ""
            },
            "colorscale": [
             [
              0,
              "#0d0887"
             ],
             [
              0.1111111111111111,
              "#46039f"
             ],
             [
              0.2222222222222222,
              "#7201a8"
             ],
             [
              0.3333333333333333,
              "#9c179e"
             ],
             [
              0.4444444444444444,
              "#bd3786"
             ],
             [
              0.5555555555555556,
              "#d8576b"
             ],
             [
              0.6666666666666666,
              "#ed7953"
             ],
             [
              0.7777777777777778,
              "#fb9f3a"
             ],
             [
              0.8888888888888888,
              "#fdca26"
             ],
             [
              1,
              "#f0f921"
             ]
            ],
            "type": "histogram2d"
           }
          ],
          "histogram2dcontour": [
           {
            "colorbar": {
             "outlinewidth": 0,
             "ticks": ""
            },
            "colorscale": [
             [
              0,
              "#0d0887"
             ],
             [
              0.1111111111111111,
              "#46039f"
             ],
             [
              0.2222222222222222,
              "#7201a8"
             ],
             [
              0.3333333333333333,
              "#9c179e"
             ],
             [
              0.4444444444444444,
              "#bd3786"
             ],
             [
              0.5555555555555556,
              "#d8576b"
             ],
             [
              0.6666666666666666,
              "#ed7953"
             ],
             [
              0.7777777777777778,
              "#fb9f3a"
             ],
             [
              0.8888888888888888,
              "#fdca26"
             ],
             [
              1,
              "#f0f921"
             ]
            ],
            "type": "histogram2dcontour"
           }
          ],
          "mesh3d": [
           {
            "colorbar": {
             "outlinewidth": 0,
             "ticks": ""
            },
            "type": "mesh3d"
           }
          ],
          "parcoords": [
           {
            "line": {
             "colorbar": {
              "outlinewidth": 0,
              "ticks": ""
             }
            },
            "type": "parcoords"
           }
          ],
          "pie": [
           {
            "automargin": true,
            "type": "pie"
           }
          ],
          "scatter": [
           {
            "fillpattern": {
             "fillmode": "overlay",
             "size": 10,
             "solidity": 0.2
            },
            "type": "scatter"
           }
          ],
          "scatter3d": [
           {
            "line": {
             "colorbar": {
              "outlinewidth": 0,
              "ticks": ""
             }
            },
            "marker": {
             "colorbar": {
              "outlinewidth": 0,
              "ticks": ""
             }
            },
            "type": "scatter3d"
           }
          ],
          "scattercarpet": [
           {
            "marker": {
             "colorbar": {
              "outlinewidth": 0,
              "ticks": ""
             }
            },
            "type": "scattercarpet"
           }
          ],
          "scattergeo": [
           {
            "marker": {
             "colorbar": {
              "outlinewidth": 0,
              "ticks": ""
             }
            },
            "type": "scattergeo"
           }
          ],
          "scattergl": [
           {
            "marker": {
             "colorbar": {
              "outlinewidth": 0,
              "ticks": ""
             }
            },
            "type": "scattergl"
           }
          ],
          "scattermapbox": [
           {
            "marker": {
             "colorbar": {
              "outlinewidth": 0,
              "ticks": ""
             }
            },
            "type": "scattermapbox"
           }
          ],
          "scatterpolar": [
           {
            "marker": {
             "colorbar": {
              "outlinewidth": 0,
              "ticks": ""
             }
            },
            "type": "scatterpolar"
           }
          ],
          "scatterpolargl": [
           {
            "marker": {
             "colorbar": {
              "outlinewidth": 0,
              "ticks": ""
             }
            },
            "type": "scatterpolargl"
           }
          ],
          "scatterternary": [
           {
            "marker": {
             "colorbar": {
              "outlinewidth": 0,
              "ticks": ""
             }
            },
            "type": "scatterternary"
           }
          ],
          "surface": [
           {
            "colorbar": {
             "outlinewidth": 0,
             "ticks": ""
            },
            "colorscale": [
             [
              0,
              "#0d0887"
             ],
             [
              0.1111111111111111,
              "#46039f"
             ],
             [
              0.2222222222222222,
              "#7201a8"
             ],
             [
              0.3333333333333333,
              "#9c179e"
             ],
             [
              0.4444444444444444,
              "#bd3786"
             ],
             [
              0.5555555555555556,
              "#d8576b"
             ],
             [
              0.6666666666666666,
              "#ed7953"
             ],
             [
              0.7777777777777778,
              "#fb9f3a"
             ],
             [
              0.8888888888888888,
              "#fdca26"
             ],
             [
              1,
              "#f0f921"
             ]
            ],
            "type": "surface"
           }
          ],
          "table": [
           {
            "cells": {
             "fill": {
              "color": "#EBF0F8"
             },
             "line": {
              "color": "white"
             }
            },
            "header": {
             "fill": {
              "color": "#C8D4E3"
             },
             "line": {
              "color": "white"
             }
            },
            "type": "table"
           }
          ]
         },
         "layout": {
          "annotationdefaults": {
           "arrowcolor": "#2a3f5f",
           "arrowhead": 0,
           "arrowwidth": 1
          },
          "autotypenumbers": "strict",
          "coloraxis": {
           "colorbar": {
            "outlinewidth": 0,
            "ticks": ""
           }
          },
          "colorscale": {
           "diverging": [
            [
             0,
             "#8e0152"
            ],
            [
             0.1,
             "#c51b7d"
            ],
            [
             0.2,
             "#de77ae"
            ],
            [
             0.3,
             "#f1b6da"
            ],
            [
             0.4,
             "#fde0ef"
            ],
            [
             0.5,
             "#f7f7f7"
            ],
            [
             0.6,
             "#e6f5d0"
            ],
            [
             0.7,
             "#b8e186"
            ],
            [
             0.8,
             "#7fbc41"
            ],
            [
             0.9,
             "#4d9221"
            ],
            [
             1,
             "#276419"
            ]
           ],
           "sequential": [
            [
             0,
             "#0d0887"
            ],
            [
             0.1111111111111111,
             "#46039f"
            ],
            [
             0.2222222222222222,
             "#7201a8"
            ],
            [
             0.3333333333333333,
             "#9c179e"
            ],
            [
             0.4444444444444444,
             "#bd3786"
            ],
            [
             0.5555555555555556,
             "#d8576b"
            ],
            [
             0.6666666666666666,
             "#ed7953"
            ],
            [
             0.7777777777777778,
             "#fb9f3a"
            ],
            [
             0.8888888888888888,
             "#fdca26"
            ],
            [
             1,
             "#f0f921"
            ]
           ],
           "sequentialminus": [
            [
             0,
             "#0d0887"
            ],
            [
             0.1111111111111111,
             "#46039f"
            ],
            [
             0.2222222222222222,
             "#7201a8"
            ],
            [
             0.3333333333333333,
             "#9c179e"
            ],
            [
             0.4444444444444444,
             "#bd3786"
            ],
            [
             0.5555555555555556,
             "#d8576b"
            ],
            [
             0.6666666666666666,
             "#ed7953"
            ],
            [
             0.7777777777777778,
             "#fb9f3a"
            ],
            [
             0.8888888888888888,
             "#fdca26"
            ],
            [
             1,
             "#f0f921"
            ]
           ]
          },
          "colorway": [
           "#636efa",
           "#EF553B",
           "#00cc96",
           "#ab63fa",
           "#FFA15A",
           "#19d3f3",
           "#FF6692",
           "#B6E880",
           "#FF97FF",
           "#FECB52"
          ],
          "font": {
           "color": "#2a3f5f"
          },
          "geo": {
           "bgcolor": "white",
           "lakecolor": "white",
           "landcolor": "#E5ECF6",
           "showlakes": true,
           "showland": true,
           "subunitcolor": "white"
          },
          "hoverlabel": {
           "align": "left"
          },
          "hovermode": "closest",
          "mapbox": {
           "style": "light"
          },
          "paper_bgcolor": "white",
          "plot_bgcolor": "#E5ECF6",
          "polar": {
           "angularaxis": {
            "gridcolor": "white",
            "linecolor": "white",
            "ticks": ""
           },
           "bgcolor": "#E5ECF6",
           "radialaxis": {
            "gridcolor": "white",
            "linecolor": "white",
            "ticks": ""
           }
          },
          "scene": {
           "xaxis": {
            "backgroundcolor": "#E5ECF6",
            "gridcolor": "white",
            "gridwidth": 2,
            "linecolor": "white",
            "showbackground": true,
            "ticks": "",
            "zerolinecolor": "white"
           },
           "yaxis": {
            "backgroundcolor": "#E5ECF6",
            "gridcolor": "white",
            "gridwidth": 2,
            "linecolor": "white",
            "showbackground": true,
            "ticks": "",
            "zerolinecolor": "white"
           },
           "zaxis": {
            "backgroundcolor": "#E5ECF6",
            "gridcolor": "white",
            "gridwidth": 2,
            "linecolor": "white",
            "showbackground": true,
            "ticks": "",
            "zerolinecolor": "white"
           }
          },
          "shapedefaults": {
           "line": {
            "color": "#2a3f5f"
           }
          },
          "ternary": {
           "aaxis": {
            "gridcolor": "white",
            "linecolor": "white",
            "ticks": ""
           },
           "baxis": {
            "gridcolor": "white",
            "linecolor": "white",
            "ticks": ""
           },
           "bgcolor": "#E5ECF6",
           "caxis": {
            "gridcolor": "white",
            "linecolor": "white",
            "ticks": ""
           }
          },
          "title": {
           "x": 0.05
          },
          "xaxis": {
           "automargin": true,
           "gridcolor": "white",
           "linecolor": "white",
           "ticks": "",
           "title": {
            "standoff": 15
           },
           "zerolinecolor": "white",
           "zerolinewidth": 2
          },
          "yaxis": {
           "automargin": true,
           "gridcolor": "white",
           "linecolor": "white",
           "ticks": "",
           "title": {
            "standoff": 15
           },
           "zerolinecolor": "white",
           "zerolinewidth": 2
          }
         }
        },
        "xaxis": {
         "anchor": "y",
         "autorange": true,
         "domain": [
          0,
          1
         ],
         "range": [
          4.60409057706355,
          104.39590942293646
         ],
         "title": {
          "text": "Number of Apps Installed"
         },
         "type": "linear"
        },
        "yaxis": {
         "anchor": "x",
         "autorange": true,
         "domain": [
          0,
          1
         ],
         "range": [
          0.6902887139107612,
          5.309711286089239
         ],
         "title": {
          "text": "User Behavior Class"
         },
         "type": "linear"
        }
       }
      },
      "image/png": "[encoded data removed]",
      "text/html": [
       "<div>                            <div id=\"deb058de-0c3c-4e75-a6b6-c272962dfb49\" class=\"plotly-graph-div\" style=\"height:525px; width:100%;\"></div>            <script type=\"text/javascript\">                require([\"plotly\"], function(Plotly) {                    window.PLOTLYENV=window.PLOTLYENV || {};                                    if (document.getElementById(\"deb058de-0c3c-4e75-a6b6-c272962dfb49\")) {                    Plotly.newPlot(                        \"deb058de-0c3c-4e75-a6b6-c272962dfb49\",                        [{\"hovertemplate\":\"Number of Apps Installed=%{x}\\u003cbr\\u003eUser Behavior Class=%{y}\\u003cextra\\u003e\\u003c\\u002fextra\\u003e\",\"legendgroup\":\"\",\"marker\":{\"color\":\"#636efa\",\"symbol\":\"circle\"},\"mode\":\"markers\",\"name\":\"\",\"orientation\":\"v\",\"showlegend\":false,\"x\":[67,42,32,56,58,35,66,82,75,75,17,47,65,43,53,84,32,41,16,89,37,82,65,46,59,38,77,89,77,78,44,59,55,14,81,19,30,93,74,77,52,83,39,32,21,96,97,25,90,82,61,52,28,38,83,14,10,89,75,64,85,77,14,87,67,48,57,35,98,16,64,97,66,11,14,43,14,29,17,52,99,22,77,11,56,63,25,11,31,75,39,46,16,24,72,73,91,82,18,44,15,45,37,52,28,12,38,17,55,41,26,84,45,33,76,34,13,49,13,37,71,89,99,96,57,99,68,45,34,39,90,69,30,18,19,90,16,42,94,91,42,71,37,12,90,45,73,19,58,34,92,19,38,72,10,36,19,71,79,26,19,15,69,18,48,98,88,10,44,90,27,17,25,72,11,47,42,51,52,83,38,68,83,15,91,94,79,15,21,11,23,13,63,52,79,49,41,32,14,32,84,35,11,16,21,71,15,21,92,47,76,86,38,10,29,89,78,95,81,28,75,31,79,83,31,97,72,49,25,79,32,91,83,27,28,18,88,66,13,96,16,81,36,69,16,45,17,63,22,13,13,78,99,31,14,77,65,45,50,98,14,68,93,10,77,85,43,84,45,69,78,56,29,32,37,88,42,52,12,75,12,11,72,16,70,90,64,54,36,10,66,19,10,45,87,18,67,26,44,35,65,59,67,89,22,32,47,68,57,66,51,68,32,21,59,11,43,29,63,81,56,56,61,14,78,54,57,18,12,89,49,36,45,69,18,99,62,15,70,13,13,90,87,54,52,73,38,18,34,66,73,14,52,68,14,19,51,92,13,55,86,97,11,64,84,67,82,85,36,35,83,86,91,95,12,17,17,63,99,22,47,99,19,35,38,78,32,13,92,31,69,76,29,66,84,61,14,90,18,10,86,36,71,89,84,69,33,61,74,61,86,88,46,51,22,24,52,91,43,11,12,38,71,18,59,24,36,28,33,90,59,36,90,15,99,21,46,16,24,39,56,44,17,48,97,61,81,58,22,10,30,92,35,13,24,13,15,55,10,37,91,36,54,50,10,51,75,47,61,16,52,93,37,45,55,68,77,44,59,59,39,87,87,18,61,18,34,46,62,94,71,22,19,69,24,88,51,37,54,26,14,74,91,50,99,66,45,11,45,90,58,89,17,31,73,28,36,19,87,22,75,17,64,98,45,57,36,10,32,47,86,66,66,57,67,24,48,82,98,95,89,21,48,48,97,17,45,33,74,32,72,30,23,75,61,41,25,43,65,81,69,21,15,10,55,15,26,16,43,77,74,73,42,86,93,30,83,66,49,18,82,34,53,10,19,28,44,72,75,26,33,84,64,42,63,82,91,31,31,42,70,15,32,22,42,72,81,56,56,92,95,16,82,16,23,36,49,55,71,54,46,15,65,15,15,12,53,46,18,62,38,54,84,31,67,39,90,10,63,91,11,16,90,35,53,23,16,17,76,58,39,10,47,19,91,29,59,56,68,91,12,29,37,78,83,53,82,49,38,31,13,64,84,18,93,17,38,26,59,16,76,77,58,12,47,67,68,61,56,98,48,37,78,82,83,26,68,22,13,49],\"xaxis\":\"x\",\"y\":[4,3,2,3,3,2,4,5,4,4,1,3,4,3,3,5,2,3,1,5,2,5,4,3,3,2,4,5,4,4,3,3,3,1,5,1,2,5,4,4,3,5,2,2,2,5,5,2,5,5,4,3,2,2,5,1,1,5,4,4,5,4,1,5,4,3,3,2,5,1,4,5,4,1,1,3,1,2,1,3,5,2,4,1,3,4,2,1,2,4,2,3,1,2,4,4,5,5,1,3,1,3,2,3,2,1,2,1,3,3,2,5,3,2,4,2,1,3,1,2,4,5,5,5,3,5,4,3,2,2,5,4,2,1,1,5,1,3,5,5,3,4,2,1,5,3,4,1,3,2,5,1,2,4,1,2,1,4,4,2,1,1,4,1,3,5,5,1,3,5,2,1,2,4,1,3,3,3,3,5,2,4,5,1,5,5,4,1,2,1,2,1,4,3,4,3,3,2,1,2,5,2,1,1,2,4,1,2,5,3,4,5,2,1,2,5,4,5,5,2,4,2,4,5,2,5,4,3,2,4,2,5,5,2,2,1,5,4,1,5,1,5,2,4,1,3,1,4,2,1,1,4,5,2,1,4,4,3,3,5,1,4,5,1,4,5,3,5,3,4,4,3,2,2,2,5,3,3,1,4,1,1,4,1,4,5,4,3,2,1,4,1,1,3,5,1,4,2,3,2,4,3,4,5,2,2,3,4,3,4,3,4,2,2,3,1,3,2,4,5,3,3,4,1,4,3,3,1,1,5,3,2,3,4,1,5,4,1,4,1,1,5,5,3,3,4,2,1,2,4,4,1,3,4,1,1,3,5,1,3,5,5,1,4,5,4,5,5,2,2,5,5,5,5,1,1,1,4,5,2,3,5,1,2,2,4,2,1,5,2,4,4,2,4,5,4,1,5,1,1,5,2,4,5,5,4,2,4,4,4,5,5,3,3,2,2,3,5,3,1,1,2,4,1,3,2,2,2,2,5,3,2,5,1,5,2,3,1,2,2,3,3,1,3,5,4,5,3,2,1,2,5,2,1,2,1,1,3,1,2,5,2,3,3,1,3,4,3,4,1,3,5,2,3,3,4,4,3,3,3,2,5,5,1,4,1,2,3,4,5,4,2,1,4,2,5,3,2,3,2,1,4,5,3,5,4,3,1,3,5,3,5,1,2,4,2,2,1,5,2,4,1,4,5,3,3,2,1,2,3,5,4,4,3,4,2,3,5,5,5,5,2,3,3,5,1,3,2,4,2,4,2,2,4,4,3,2,3,4,5,4,2,1,1,3,1,2,1,3,4,4,4,3,5,5,2,5,4,3,1,5,2,3,1,1,2,3,4,4,2,2,5,4,3,4,5,5,2,2,3,4,1,2,2,3,4,5,3,3,5,5,1,5,1,2,2,3,3,4,3,3,1,4,1,1,1,3,3,1,4,2,3,5,2,4,2,5,1,4,5,1,1,5,2,3,2,1,1,4,3,2,1,3,1,5,2,3,3,4,5,1,2,2,4,5,3,5,3,2,2,1,4,5,1,5,1,2,2,3,1,4,4,3,1,3,4,4,4,3,5,3,2,4,5,5,2,4,2,1,3],\"yaxis\":\"y\",\"type\":\"scatter\"}],                        {\"template\":{\"data\":{\"histogram2dcontour\":[{\"type\":\"histogram2dcontour\",\"colorbar\":{\"outlinewidth\":0,\"ticks\":\"\"},\"colorscale\":[[0.0,\"#0d0887\"],[0.1111111111111111,\"#46039f\"],[0.2222222222222222,\"#7201a8\"],[0.3333333333333333,\"#9c179e\"],[0.4444444444444444,\"#bd3786\"],[0.5555555555555556,\"#d8576b\"],[0.6666666666666666,\"#ed7953\"],[0.7777777777777778,\"#fb9f3a\"],[0.8888888888888888,\"#fdca26\"],[1.0,\"#f0f921\"]]}],\"choropleth\":[{\"type\":\"choropleth\",\"colorbar\":{\"outlinewidth\":0,\"ticks\":\"\"}}],\"histogram2d\":[{\"type\":\"histogram2d\",\"colorbar\":{\"outlinewidth\":0,\"ticks\":\"\"},\"colorscale\":[[0.0,\"#0d0887\"],[0.1111111111111111,\"#46039f\"],[0.2222222222222222,\"#7201a8\"],[0.3333333333333333,\"#9c179e\"],[0.4444444444444444,\"#bd3786\"],[0.5555555555555556,\"#d8576b\"],[0.6666666666666666,\"#ed7953\"],[0.7777777777777778,\"#fb9f3a\"],[0.8888888888888888,\"#fdca26\"],[1.0,\"#f0f921\"]]}],\"heatmap\":[{\"type\":\"heatmap\",\"colorbar\":{\"outlinewidth\":0,\"ticks\":\"\"},\"colorscale\":[[0.0,\"#0d0887\"],[0.1111111111111111,\"#46039f\"],[0.2222222222222222,\"#7201a8\"],[0.3333333333333333,\"#9c179e\"],[0.4444444444444444,\"#bd3786\"],[0.5555555555555556,\"#d8576b\"],[0.6666666666666666,\"#ed7953\"],[0.7777777777777778,\"#fb9f3a\"],[0.8888888888888888,\"#fdca26\"],[1.0,\"#f0f921\"]]}],\"heatmapgl\":[{\"type\":\"heatmapgl\",\"colorbar\":{\"outlinewidth\":0,\"ticks\":\"\"},\"colorscale\":[[0.0,\"#0d0887\"],[0.1111111111111111,\"#46039f\"],[0.2222222222222222,\"#7201a8\"],[0.3333333333333333,\"#9c179e\"],[0.4444444444444444,\"#bd3786\"],[0.5555555555555556,\"#d8576b\"],[0.6666666666666666,\"#ed7953\"],[0.7777777777777778,\"#fb9f3a\"],[0.8888888888888888,\"#fdca26\"],[1.0,\"#f0f921\"]]}],\"contourcarpet\":[{\"type\":\"contourcarpet\",\"colorbar\":{\"outlinewidth\":0,\"ticks\":\"\"}}],\"contour\":[{\"type\":\"contour\",\"colorbar\":{\"outlinewidth\":0,\"ticks\":\"\"},\"colorscale\":[[0.0,\"#0d0887\"],[0.1111111111111111,\"#46039f\"],[0.2222222222222222,\"#7201a8\"],[0.3333333333333333,\"#9c179e\"],[0.4444444444444444,\"#bd3786\"],[0.5555555555555556,\"#d8576b\"],[0.6666666666666666,\"#ed7953\"],[0.7777777777777778,\"#fb9f3a\"],[0.8888888888888888,\"#fdca26\"],[1.0,\"#f0f921\"]]}],\"surface\":[{\"type\":\"surface\",\"colorbar\":{\"outlinewidth\":0,\"ticks\":\"\"},\"colorscale\":[[0.0,\"#0d0887\"],[0.1111111111111111,\"#46039f\"],[0.2222222222222222,\"#7201a8\"],[0.3333333333333333,\"#9c179e\"],[0.4444444444444444,\"#bd3786\"],[0.5555555555555556,\"#d8576b\"],[0.6666666666666666,\"#ed7953\"],[0.7777777777777778,\"#fb9f3a\"],[0.8888888888888888,\"#fdca26\"],[1.0,\"#f0f921\"]]}],\"mesh3d\":[{\"type\":\"mesh3d\",\"colorbar\":{\"outlinewidth\":0,\"ticks\":\"\"}}],\"scatter\":[{\"fillpattern\":{\"fillmode\":\"overlay\",\"size\":10,\"solidity\":0.2},\"type\":\"scatter\"}],\"parcoords\":[{\"type\":\"parcoords\",\"line\":{\"colorbar\":{\"outlinewidth\":0,\"ticks\":\"\"}}}],\"scatterpolargl\":[{\"type\":\"scatterpolargl\",\"marker\":{\"colorbar\":{\"outlinewidth\":0,\"ticks\":\"\"}}}],\"bar\":[{\"error_x\":{\"color\":\"#2a3f5f\"},\"error_y\":{\"color\":\"#2a3f5f\"},\"marker\":{\"line\":{\"color\":\"#E5ECF6\",\"width\":0.5},\"pattern\":{\"fillmode\":\"overlay\",\"size\":10,\"solidity\":0.2}},\"type\":\"bar\"}],\"scattergeo\":[{\"type\":\"scattergeo\",\"marker\":{\"colorbar\":{\"outlinewidth\":0,\"ticks\":\"\"}}}],\"scatterpolar\":[{\"type\":\"scatterpolar\",\"marker\":{\"colorbar\":{\"outlinewidth\":0,\"ticks\":\"\"}}}],\"histogram\":[{\"marker\":{\"pattern\":{\"fillmode\":\"overlay\",\"size\":10,\"solidity\":0.2}},\"type\":\"histogram\"}],\"scattergl\":[{\"type\":\"scattergl\",\"marker\":{\"colorbar\":{\"outlinewidth\":0,\"ticks\":\"\"}}}],\"scatter3d\":[{\"type\":\"scatter3d\",\"line\":{\"colorbar\":{\"outlinewidth\":0,\"ticks\":\"\"}},\"marker\":{\"colorbar\":{\"outlinewidth\":0,\"ticks\":\"\"}}}],\"scattermapbox\":[{\"type\":\"scattermapbox\",\"marker\":{\"colorbar\":{\"outlinewidth\":0,\"ticks\":\"\"}}}],\"scatterternary\":[{\"type\":\"scatterternary\",\"marker\":{\"colorbar\":{\"outlinewidth\":0,\"ticks\":\"\"}}}],\"scattercarpet\":[{\"type\":\"scattercarpet\",\"marker\":{\"colorbar\":{\"outlinewidth\":0,\"ticks\":\"\"}}}],\"carpet\":[{\"aaxis\":{\"endlinecolor\":\"#2a3f5f\",\"gridcolor\":\"white\",\"linecolor\":\"white\",\"minorgridcolor\":\"white\",\"startlinecolor\":\"#2a3f5f\"},\"baxis\":{\"endlinecolor\":\"#2a3f5f\",\"gridcolor\":\"white\",\"linecolor\":\"white\",\"minorgridcolor\":\"white\",\"startlinecolor\":\"#2a3f5f\"},\"type\":\"carpet\"}],\"table\":[{\"cells\":{\"fill\":{\"color\":\"#EBF0F8\"},\"line\":{\"color\":\"white\"}},\"header\":{\"fill\":{\"color\":\"#C8D4E3\"},\"line\":{\"color\":\"white\"}},\"type\":\"table\"}],\"barpolar\":[{\"marker\":{\"line\":{\"color\":\"#E5ECF6\",\"width\":0.5},\"pattern\":{\"fillmode\":\"overlay\",\"size\":10,\"solidity\":0.2}},\"type\":\"barpolar\"}],\"pie\":[{\"automargin\":true,\"type\":\"pie\"}]},\"layout\":{\"autotypenumbers\":\"strict\",\"colorway\":[\"#636efa\",\"#EF553B\",\"#00cc96\",\"#ab63fa\",\"#FFA15A\",\"#19d3f3\",\"#FF6692\",\"#B6E880\",\"#FF97FF\",\"#FECB52\"],\"font\":{\"color\":\"#2a3f5f\"},\"hovermode\":\"closest\",\"hoverlabel\":{\"align\":\"left\"},\"paper_bgcolor\":\"white\",\"plot_bgcolor\":\"#E5ECF6\",\"polar\":{\"bgcolor\":\"#E5ECF6\",\"angularaxis\":{\"gridcolor\":\"white\",\"linecolor\":\"white\",\"ticks\":\"\"},\"radialaxis\":{\"gridcolor\":\"white\",\"linecolor\":\"white\",\"ticks\":\"\"}},\"ternary\":{\"bgcolor\":\"#E5ECF6\",\"aaxis\":{\"gridcolor\":\"white\",\"linecolor\":\"white\",\"ticks\":\"\"},\"baxis\":{\"gridcolor\":\"white\",\"linecolor\":\"white\",\"ticks\":\"\"},\"caxis\":{\"gridcolor\":\"white\",\"linecolor\":\"white\",\"ticks\":\"\"}},\"coloraxis\":{\"colorbar\":{\"outlinewidth\":0,\"ticks\":\"\"}},\"colorscale\":{\"sequential\":[[0.0,\"#0d0887\"],[0.1111111111111111,\"#46039f\"],[0.2222222222222222,\"#7201a8\"],[0.3333333333333333,\"#9c179e\"],[0.4444444444444444,\"#bd3786\"],[0.5555555555555556,\"#d8576b\"],[0.6666666666666666,\"#ed7953\"],[0.7777777777777778,\"#fb9f3a\"],[0.8888888888888888,\"#fdca26\"],[1.0,\"#f0f921\"]],\"sequentialminus\":[[0.0,\"#0d0887\"],[0.1111111111111111,\"#46039f\"],[0.2222222222222222,\"#7201a8\"],[0.3333333333333333,\"#9c179e\"],[0.4444444444444444,\"#bd3786\"],[0.5555555555555556,\"#d8576b\"],[0.6666666666666666,\"#ed7953\"],[0.7777777777777778,\"#fb9f3a\"],[0.8888888888888888,\"#fdca26\"],[1.0,\"#f0f921\"]],\"diverging\":[[0,\"#8e0152\"],[0.1,\"#c51b7d\"],[0.2,\"#de77ae\"],[0.3,\"#f1b6da\"],[0.4,\"#fde0ef\"],[0.5,\"#f7f7f7\"],[0.6,\"#e6f5d0\"],[0.7,\"#b8e186\"],[0.8,\"#7fbc41\"],[0.9,\"#4d9221\"],[1,\"#276419\"]]},\"xaxis\":{\"gridcolor\":\"white\",\"linecolor\":\"white\",\"ticks\":\"\",\"title\":{\"standoff\":15},\"zerolinecolor\":\"white\",\"automargin\":true,\"zerolinewidth\":2},\"yaxis\":{\"gridcolor\":\"white\",\"linecolor\":\"white\",\"ticks\":\"\",\"title\":{\"standoff\":15},\"zerolinecolor\":\"white\",\"automargin\":true,\"zerolinewidth\":2},\"scene\":{\"xaxis\":{\"backgroundcolor\":\"#E5ECF6\",\"gridcolor\":\"white\",\"linecolor\":\"white\",\"showbackground\":true,\"ticks\":\"\",\"zerolinecolor\":\"white\",\"gridwidth\":2},\"yaxis\":{\"backgroundcolor\":\"#E5ECF6\",\"gridcolor\":\"white\",\"linecolor\":\"white\",\"showbackground\":true,\"ticks\":\"\",\"zerolinecolor\":\"white\",\"gridwidth\":2},\"zaxis\":{\"backgroundcolor\":\"#E5ECF6\",\"gridcolor\":\"white\",\"linecolor\":\"white\",\"showbackground\":true,\"ticks\":\"\",\"zerolinecolor\":\"white\",\"gridwidth\":2}},\"shapedefaults\":{\"line\":{\"color\":\"#2a3f5f\"}},\"annotationdefaults\":{\"arrowcolor\":\"#2a3f5f\",\"arrowhead\":0,\"arrowwidth\":1},\"geo\":{\"bgcolor\":\"white\",\"landcolor\":\"#E5ECF6\",\"subunitcolor\":\"white\",\"showland\":true,\"showlakes\":true,\"lakecolor\":\"white\"},\"title\":{\"x\":0.05},\"mapbox\":{\"style\":\"light\"}}},\"xaxis\":{\"anchor\":\"y\",\"domain\":[0.0,1.0],\"title\":{\"text\":\"Number of Apps Installed\"}},\"yaxis\":{\"anchor\":\"x\",\"domain\":[0.0,1.0],\"title\":{\"text\":\"User Behavior Class\"}},\"legend\":{\"tracegroupgap\":0},\"margin\":{\"t\":60}},                        {\"responsive\": true}                    ).then(function(){\n",
       "                            \n",
       "var gd = document.getElementById('deb058de-0c3c-4e75-a6b6-c272962dfb49');\n",
       "var x = new MutationObserver(function (mutations, observer) {{\n",
       "        var display = window.getComputedStyle(gd).display;\n",
       "        if (!display || display === 'none') {{\n",
       "            console.log([gd, 'removed!']);\n",
       "            Plotly.purge(gd);\n",
       "            observer.disconnect();\n",
       "        }}\n",
       "}});\n",
       "\n",
       "// Listen for the removal of the full notebook cells\n",
       "var notebookContainer = gd.closest('#notebook-container');\n",
       "if (notebookContainer) {{\n",
       "    x.observe(notebookContainer, {childList: true});\n",
       "}}\n",
       "\n",
       "// Listen for the clearing of the current output cell\n",
       "var outputEl = gd.closest('.output');\n",
       "if (outputEl) {{\n",
       "    x.observe(outputEl, {childList: true});\n",
       "}}\n",
       "\n",
       "                        })                };                });            </script>        </div>"
      ]
     },
     "metadata": {},
     "output_type": "display_data"
    },
    {
     "data": {
      "application/vnd.plotly.v1+json": {
       "config": {
        "plotlyServerURL": "https://plot.ly"
       },
       "data": [
        {
         "hovertemplate": "Data Usage (MB/day)=%{x}<br>User Behavior Class=%{y}<extra></extra>",
         "legendgroup": "",
         "marker": {
          "color": "#636efa",
          "symbol": "circle"
         },
         "mode": "markers",
         "name": "",
         "orientation": "v",
         "showlegend": false,
         "type": "scatter",
         "x": [
          1122,
          944,
          322,
          871,
          988,
          564,
          1054,
          1702,
          1053,
          1301,
          162,
          641,
          1099,
          857,
          779,
          2025,
          344,
          985,
          297,
          2192,
          302,
          1553,
          1372,
          949,
          748,
          451,
          1002,
          1599,
          1456,
          1384,
          889,
          975,
          917,
          105,
          1616,
          153,
          573,
          2328,
          1400,
          1180,
          708,
          2323,
          392,
          429,
          572,
          1935,
          1594,
          323,
          2262,
          1997,
          1417,
          885,
          393,
          375,
          2189,
          111,
          161,
          2415,
          1144,
          1053,
          1663,
          1253,
          128,
          1717,
          1091,
          917,
          912,
          449,
          1547,
          284,
          1090,
          1701,
          1082,
          208,
          125,
          985,
          122,
          301,
          138,
          989,
          1603,
          549,
          1133,
          105,
          695,
          1352,
          392,
          276,
          348,
          1303,
          307,
          827,
          284,
          367,
          1083,
          1454,
          1946,
          1968,
          293,
          875,
          136,
          738,
          565,
          934,
          360,
          264,
          596,
          278,
          711,
          889,
          459,
          2344,
          748,
          404,
          1324,
          596,
          281,
          909,
          124,
          428,
          1150,
          2189,
          2391,
          1924,
          714,
          2378,
          1321,
          667,
          465,
          412,
          1886,
          1226,
          458,
          139,
          285,
          1856,
          216,
          868,
          2076,
          1796,
          655,
          1337,
          429,
          201,
          2069,
          974,
          1026,
          234,
          823,
          459,
          1539,
          207,
          396,
          1185,
          102,
          493,
          136,
          1062,
          1493,
          305,
          262,
          112,
          1440,
          139,
          851,
          1540,
          2366,
          158,
          791,
          1894,
          524,
          208,
          578,
          1406,
          113,
          629,
          826,
          972,
          692,
          2007,
          571,
          1079,
          2416,
          275,
          1564,
          1995,
          1088,
          185,
          589,
          265,
          423,
          161,
          1127,
          997,
          1300,
          659,
          991,
          320,
          197,
          431,
          2252,
          314,
          262,
          146,
          433,
          1421,
          207,
          419,
          1990,
          823,
          1434,
          2017,
          445,
          246,
          461,
          2471,
          1397,
          1565,
          1805,
          417,
          1300,
          417,
          1290,
          2148,
          563,
          2438,
          1376,
          626,
          368,
          1164,
          526,
          2150,
          1763,
          580,
          529,
          295,
          1730,
          1130,
          107,
          2118,
          191,
          2133,
          338,
          1341,
          253,
          844,
          257,
          1066,
          581,
          230,
          272,
          1477,
          1787,
          478,
          172,
          1101,
          1116,
          686,
          914,
          2497,
          151,
          1227,
          2125,
          109,
          1079,
          1508,
          752,
          2151,
          861,
          1450,
          1266,
          888,
          453,
          588,
          568,
          1738,
          629,
          878,
          122,
          1136,
          163,
          268,
          1209,
          169,
          1024,
          1538,
          1376,
          811,
          473,
          146,
          1047,
          149,
          208,
          649,
          1795,
          130,
          1163,
          344,
          778,
          499,
          1314,
          971,
          1086,
          1923,
          322,
          594,
          877,
          1213,
          666,
          1167,
          868,
          1055,
          563,
          308,
          632,
          103,
          953,
          434,
          1076,
          2481,
          984,
          666,
          1456,
          156,
          1115,
          638,
          881,
          127,
          274,
          1820,
          796,
          362,
          904,
          1324,
          246,
          1632,
          1472,
          252,
          1449,
          155,
          223,
          1863,
          1683,
          645,
          840,
          1431,
          447,
          266,
          510,
          1387,
          1463,
          281,
          954,
          1075,
          106,
          287,
          905,
          1986,
          253,
          845,
          2208,
          1609,
          259,
          1499,
          1935,
          1341,
          1767,
          2477,
          408,
          503,
          1548,
          1823,
          2335,
          1663,
          164,
          232,
          122,
          1072,
          1623,
          313,
          653,
          1813,
          299,
          322,
          548,
          1096,
          457,
          199,
          2191,
          313,
          1021,
          1359,
          313,
          1459,
          1774,
          1356,
          143,
          2175,
          221,
          203,
          1891,
          508,
          1264,
          1657,
          2102,
          1017,
          567,
          1049,
          1242,
          1434,
          2074,
          1928,
          769,
          957,
          573,
          394,
          737,
          2481,
          964,
          228,
          198,
          414,
          1041,
          167,
          709,
          579,
          403,
          489,
          369,
          2180,
          839,
          506,
          1702,
          116,
          2304,
          467,
          862,
          291,
          343,
          468,
          920,
          751,
          218,
          724,
          2402,
          1318,
          1641,
          919,
          306,
          170,
          466,
          1903,
          583,
          164,
          398,
          182,
          275,
          871,
          142,
          545,
          1561,
          438,
          987,
          809,
          281,
          723,
          1092,
          661,
          1102,
          294,
          883,
          1811,
          513,
          687,
          765,
          1085,
          1126,
          762,
          718,
          795,
          441,
          2140,
          1814,
          230,
          1093,
          298,
          330,
          804,
          1333,
          2332,
          1096,
          507,
          198,
          1383,
          545,
          2116,
          807,
          362,
          869,
          504,
          195,
          1187,
          2493,
          965,
          2450,
          1415,
          941,
          173,
          791,
          1968,
          976,
          1682,
          249,
          507,
          1461,
          599,
          535,
          218,
          1809,
          371,
          1485,
          250,
          1125,
          2460,
          792,
          665,
          318,
          131,
          338,
          796,
          2479,
          1191,
          1200,
          915,
          1383,
          573,
          915,
          2258,
          2281,
          1701,
          2194,
          537,
          642,
          656,
          1727,
          182,
          971,
          358,
          1360,
          508,
          1287,
          373,
          583,
          1162,
          1246,
          972,
          370,
          640,
          1056,
          1860,
          1103,
          578,
          265,
          265,
          910,
          296,
          498,
          227,
          700,
          1327,
          1421,
          1194,
          864,
          2158,
          2163,
          446,
          1606,
          1291,
          916,
          122,
          1737,
          416,
          991,
          117,
          175,
          563,
          608,
          1101,
          1228,
          464,
          575,
          2341,
          1050,
          677,
          1441,
          1694,
          2387,
          347,
          596,
          905,
          1296,
          284,
          373,
          424,
          885,
          1150,
          2441,
          787,
          937,
          1901,
          1543,
          131,
          2441,
          153,
          493,
          461,
          767,
          965,
          1077,
          867,
          972,
          274,
          1046,
          284,
          272,
          196,
          679,
          920,
          234,
          1004,
          489,
          977,
          1921,
          366,
          1253,
          401,
          1729,
          289,
          1135,
          2080,
          271,
          255,
          1553,
          566,
          949,
          345,
          201,
          283,
          1334,
          790,
          356,
          167,
          694,
          144,
          1647,
          493,
          628,
          894,
          1236,
          2375,
          146,
          545,
          448,
          1297,
          2003,
          635,
          1845,
          729,
          334,
          339,
          224,
          1209,
          2438,
          216,
          1768,
          159,
          576,
          495,
          814,
          113,
          1111,
          1191,
          815,
          225,
          822,
          1393,
          1007,
          1178,
          824,
          1550,
          679,
          569,
          1455,
          1709,
          1985,
          381,
          1201,
          457,
          224,
          828
         ],
         "xaxis": "x",
         "y": [
          4,
          3,
          2,
          3,
          3,
          2,
          4,
          5,
          4,
          4,
          1,
          3,
          4,
          3,
          3,
          5,
          2,
          3,
          1,
          5,
          2,
          5,
          4,
          3,
          3,
          2,
          4,
          5,
          4,
          4,
          3,
          3,
          3,
          1,
          5,
          1,
          2,
          5,
          4,
          4,
          3,
          5,
          2,
          2,
          2,
          5,
          5,
          2,
          5,
          5,
          4,
          3,
          2,
          2,
          5,
          1,
          1,
          5,
          4,
          4,
          5,
          4,
          1,
          5,
          4,
          3,
          3,
          2,
          5,
          1,
          4,
          5,
          4,
          1,
          1,
          3,
          1,
          2,
          1,
          3,
          5,
          2,
          4,
          1,
          3,
          4,
          2,
          1,
          2,
          4,
          2,
          3,
          1,
          2,
          4,
          4,
          5,
          5,
          1,
          3,
          1,
          3,
          2,
          3,
          2,
          1,
          2,
          1,
          3,
          3,
          2,
          5,
          3,
          2,
          4,
          2,
          1,
          3,
          1,
          2,
          4,
          5,
          5,
          5,
          3,
          5,
          4,
          3,
          2,
          2,
          5,
          4,
          2,
          1,
          1,
          5,
          1,
          3,
          5,
          5,
          3,
          4,
          2,
          1,
          5,
          3,
          4,
          1,
          3,
          2,
          5,
          1,
          2,
          4,
          1,
          2,
          1,
          4,
          4,
          2,
          1,
          1,
          4,
          1,
          3,
          5,
          5,
          1,
          3,
          5,
          2,
          1,
          2,
          4,
          1,
          3,
          3,
          3,
          3,
          5,
          2,
          4,
          5,
          1,
          5,
          5,
          4,
          1,
          2,
          1,
          2,
          1,
          4,
          3,
          4,
          3,
          3,
          2,
          1,
          2,
          5,
          2,
          1,
          1,
          2,
          4,
          1,
          2,
          5,
          3,
          4,
          5,
          2,
          1,
          2,
          5,
          4,
          5,
          5,
          2,
          4,
          2,
          4,
          5,
          2,
          5,
          4,
          3,
          2,
          4,
          2,
          5,
          5,
          2,
          2,
          1,
          5,
          4,
          1,
          5,
          1,
          5,
          2,
          4,
          1,
          3,
          1,
          4,
          2,
          1,
          1,
          4,
          5,
          2,
          1,
          4,
          4,
          3,
          3,
          5,
          1,
          4,
          5,
          1,
          4,
          5,
          3,
          5,
          3,
          4,
          4,
          3,
          2,
          2,
          2,
          5,
          3,
          3,
          1,
          4,
          1,
          1,
          4,
          1,
          4,
          5,
          4,
          3,
          2,
          1,
          4,
          1,
          1,
          3,
          5,
          1,
          4,
          2,
          3,
          2,
          4,
          3,
          4,
          5,
          2,
          2,
          3,
          4,
          3,
          4,
          3,
          4,
          2,
          2,
          3,
          1,
          3,
          2,
          4,
          5,
          3,
          3,
          4,
          1,
          4,
          3,
          3,
          1,
          1,
          5,
          3,
          2,
          3,
          4,
          1,
          5,
          4,
          1,
          4,
          1,
          1,
          5,
          5,
          3,
          3,
          4,
          2,
          1,
          2,
          4,
          4,
          1,
          3,
          4,
          1,
          1,
          3,
          5,
          1,
          3,
          5,
          5,
          1,
          4,
          5,
          4,
          5,
          5,
          2,
          2,
          5,
          5,
          5,
          5,
          1,
          1,
          1,
          4,
          5,
          2,
          3,
          5,
          1,
          2,
          2,
          4,
          2,
          1,
          5,
          2,
          4,
          4,
          2,
          4,
          5,
          4,
          1,
          5,
          1,
          1,
          5,
          2,
          4,
          5,
          5,
          4,
          2,
          4,
          4,
          4,
          5,
          5,
          3,
          3,
          2,
          2,
          3,
          5,
          3,
          1,
          1,
          2,
          4,
          1,
          3,
          2,
          2,
          2,
          2,
          5,
          3,
          2,
          5,
          1,
          5,
          2,
          3,
          1,
          2,
          2,
          3,
          3,
          1,
          3,
          5,
          4,
          5,
          3,
          2,
          1,
          2,
          5,
          2,
          1,
          2,
          1,
          1,
          3,
          1,
          2,
          5,
          2,
          3,
          3,
          1,
          3,
          4,
          3,
          4,
          1,
          3,
          5,
          2,
          3,
          3,
          4,
          4,
          3,
          3,
          3,
          2,
          5,
          5,
          1,
          4,
          1,
          2,
          3,
          4,
          5,
          4,
          2,
          1,
          4,
          2,
          5,
          3,
          2,
          3,
          2,
          1,
          4,
          5,
          3,
          5,
          4,
          3,
          1,
          3,
          5,
          3,
          5,
          1,
          2,
          4,
          2,
          2,
          1,
          5,
          2,
          4,
          1,
          4,
          5,
          3,
          3,
          2,
          1,
          2,
          3,
          5,
          4,
          4,
          3,
          4,
          2,
          3,
          5,
          5,
          5,
          5,
          2,
          3,
          3,
          5,
          1,
          3,
          2,
          4,
          2,
          4,
          2,
          2,
          4,
          4,
          3,
          2,
          3,
          4,
          5,
          4,
          2,
          1,
          1,
          3,
          1,
          2,
          1,
          3,
          4,
          4,
          4,
          3,
          5,
          5,
          2,
          5,
          4,
          3,
          1,
          5,
          2,
          3,
          1,
          1,
          2,
          3,
          4,
          4,
          2,
          2,
          5,
          4,
          3,
          4,
          5,
          5,
          2,
          2,
          3,
          4,
          1,
          2,
          2,
          3,
          4,
          5,
          3,
          3,
          5,
          5,
          1,
          5,
          1,
          2,
          2,
          3,
          3,
          4,
          3,
          3,
          1,
          4,
          1,
          1,
          1,
          3,
          3,
          1,
          4,
          2,
          3,
          5,
          2,
          4,
          2,
          5,
          1,
          4,
          5,
          1,
          1,
          5,
          2,
          3,
          2,
          1,
          1,
          4,
          3,
          2,
          1,
          3,
          1,
          5,
          2,
          3,
          3,
          4,
          5,
          1,
          2,
          2,
          4,
          5,
          3,
          5,
          3,
          2,
          2,
          1,
          4,
          5,
          1,
          5,
          1,
          2,
          2,
          3,
          1,
          4,
          4,
          3,
          1,
          3,
          4,
          4,
          4,
          3,
          5,
          3,
          2,
          4,
          5,
          5,
          2,
          4,
          2,
          1,
          3
         ],
         "yaxis": "y"
        }
       ],
       "layout": {
        "autosize": true,
        "legend": {
         "tracegroupgap": 0
        },
        "margin": {
         "t": 60
        },
        "template": {
         "data": {
          "bar": [
           {
            "error_x": {
             "color": "#2a3f5f"
            },
            "error_y": {
             "color": "#2a3f5f"
            },
            "marker": {
             "line": {
              "color": "#E5ECF6",
              "width": 0.5
             },
             "pattern": {
              "fillmode": "overlay",
              "size": 10,
              "solidity": 0.2
             }
            },
            "type": "bar"
           }
          ],
          "barpolar": [
           {
            "marker": {
             "line": {
              "color": "#E5ECF6",
              "width": 0.5
             },
             "pattern": {
              "fillmode": "overlay",
              "size": 10,
              "solidity": 0.2
             }
            },
            "type": "barpolar"
           }
          ],
          "carpet": [
           {
            "aaxis": {
             "endlinecolor": "#2a3f5f",
             "gridcolor": "white",
             "linecolor": "white",
             "minorgridcolor": "white",
             "startlinecolor": "#2a3f5f"
            },
            "baxis": {
             "endlinecolor": "#2a3f5f",
             "gridcolor": "white",
             "linecolor": "white",
             "minorgridcolor": "white",
             "startlinecolor": "#2a3f5f"
            },
            "type": "carpet"
           }
          ],
          "choropleth": [
           {
            "colorbar": {
             "outlinewidth": 0,
             "ticks": ""
            },
            "type": "choropleth"
           }
          ],
          "contour": [
           {
            "colorbar": {
             "outlinewidth": 0,
             "ticks": ""
            },
            "colorscale": [
             [
              0,
              "#0d0887"
             ],
             [
              0.1111111111111111,
              "#46039f"
             ],
             [
              0.2222222222222222,
              "#7201a8"
             ],
             [
              0.3333333333333333,
              "#9c179e"
             ],
             [
              0.4444444444444444,
              "#bd3786"
             ],
             [
              0.5555555555555556,
              "#d8576b"
             ],
             [
              0.6666666666666666,
              "#ed7953"
             ],
             [
              0.7777777777777778,
              "#fb9f3a"
             ],
             [
              0.8888888888888888,
              "#fdca26"
             ],
             [
              1,
              "#f0f921"
             ]
            ],
            "type": "contour"
           }
          ],
          "contourcarpet": [
           {
            "colorbar": {
             "outlinewidth": 0,
             "ticks": ""
            },
            "type": "contourcarpet"
           }
          ],
          "heatmap": [
           {
            "colorbar": {
             "outlinewidth": 0,
             "ticks": ""
            },
            "colorscale": [
             [
              0,
              "#0d0887"
             ],
             [
              0.1111111111111111,
              "#46039f"
             ],
             [
              0.2222222222222222,
              "#7201a8"
             ],
             [
              0.3333333333333333,
              "#9c179e"
             ],
             [
              0.4444444444444444,
              "#bd3786"
             ],
             [
              0.5555555555555556,
              "#d8576b"
             ],
             [
              0.6666666666666666,
              "#ed7953"
             ],
             [
              0.7777777777777778,
              "#fb9f3a"
             ],
             [
              0.8888888888888888,
              "#fdca26"
             ],
             [
              1,
              "#f0f921"
             ]
            ],
            "type": "heatmap"
           }
          ],
          "heatmapgl": [
           {
            "colorbar": {
             "outlinewidth": 0,
             "ticks": ""
            },
            "colorscale": [
             [
              0,
              "#0d0887"
             ],
             [
              0.1111111111111111,
              "#46039f"
             ],
             [
              0.2222222222222222,
              "#7201a8"
             ],
             [
              0.3333333333333333,
              "#9c179e"
             ],
             [
              0.4444444444444444,
              "#bd3786"
             ],
             [
              0.5555555555555556,
              "#d8576b"
             ],
             [
              0.6666666666666666,
              "#ed7953"
             ],
             [
              0.7777777777777778,
              "#fb9f3a"
             ],
             [
              0.8888888888888888,
              "#fdca26"
             ],
             [
              1,
              "#f0f921"
             ]
            ],
            "type": "heatmapgl"
           }
          ],
          "histogram": [
           {
            "marker": {
             "pattern": {
              "fillmode": "overlay",
              "size": 10,
              "solidity": 0.2
             }
            },
            "type": "histogram"
           }
          ],
          "histogram2d": [
           {
            "colorbar": {
             "outlinewidth": 0,
             "ticks": ""
            },
            "colorscale": [
             [
              0,
              "#0d0887"
             ],
             [
              0.1111111111111111,
              "#46039f"
             ],
             [
              0.2222222222222222,
              "#7201a8"
             ],
             [
              0.3333333333333333,
              "#9c179e"
             ],
             [
              0.4444444444444444,
              "#bd3786"
             ],
             [
              0.5555555555555556,
              "#d8576b"
             ],
             [
              0.6666666666666666,
              "#ed7953"
             ],
             [
              0.7777777777777778,
              "#fb9f3a"
             ],
             [
              0.8888888888888888,
              "#fdca26"
             ],
             [
              1,
              "#f0f921"
             ]
            ],
            "type": "histogram2d"
           }
          ],
          "histogram2dcontour": [
           {
            "colorbar": {
             "outlinewidth": 0,
             "ticks": ""
            },
            "colorscale": [
             [
              0,
              "#0d0887"
             ],
             [
              0.1111111111111111,
              "#46039f"
             ],
             [
              0.2222222222222222,
              "#7201a8"
             ],
             [
              0.3333333333333333,
              "#9c179e"
             ],
             [
              0.4444444444444444,
              "#bd3786"
             ],
             [
              0.5555555555555556,
              "#d8576b"
             ],
             [
              0.6666666666666666,
              "#ed7953"
             ],
             [
              0.7777777777777778,
              "#fb9f3a"
             ],
             [
              0.8888888888888888,
              "#fdca26"
             ],
             [
              1,
              "#f0f921"
             ]
            ],
            "type": "histogram2dcontour"
           }
          ],
          "mesh3d": [
           {
            "colorbar": {
             "outlinewidth": 0,
             "ticks": ""
            },
            "type": "mesh3d"
           }
          ],
          "parcoords": [
           {
            "line": {
             "colorbar": {
              "outlinewidth": 0,
              "ticks": ""
             }
            },
            "type": "parcoords"
           }
          ],
          "pie": [
           {
            "automargin": true,
            "type": "pie"
           }
          ],
          "scatter": [
           {
            "fillpattern": {
             "fillmode": "overlay",
             "size": 10,
             "solidity": 0.2
            },
            "type": "scatter"
           }
          ],
          "scatter3d": [
           {
            "line": {
             "colorbar": {
              "outlinewidth": 0,
              "ticks": ""
             }
            },
            "marker": {
             "colorbar": {
              "outlinewidth": 0,
              "ticks": ""
             }
            },
            "type": "scatter3d"
           }
          ],
          "scattercarpet": [
           {
            "marker": {
             "colorbar": {
              "outlinewidth": 0,
              "ticks": ""
             }
            },
            "type": "scattercarpet"
           }
          ],
          "scattergeo": [
           {
            "marker": {
             "colorbar": {
              "outlinewidth": 0,
              "ticks": ""
             }
            },
            "type": "scattergeo"
           }
          ],
          "scattergl": [
           {
            "marker": {
             "colorbar": {
              "outlinewidth": 0,
              "ticks": ""
             }
            },
            "type": "scattergl"
           }
          ],
          "scattermapbox": [
           {
            "marker": {
             "colorbar": {
              "outlinewidth": 0,
              "ticks": ""
             }
            },
            "type": "scattermapbox"
           }
          ],
          "scatterpolar": [
           {
            "marker": {
             "colorbar": {
              "outlinewidth": 0,
              "ticks": ""
             }
            },
            "type": "scatterpolar"
           }
          ],
          "scatterpolargl": [
           {
            "marker": {
             "colorbar": {
              "outlinewidth": 0,
              "ticks": ""
             }
            },
            "type": "scatterpolargl"
           }
          ],
          "scatterternary": [
           {
            "marker": {
             "colorbar": {
              "outlinewidth": 0,
              "ticks": ""
             }
            },
            "type": "scatterternary"
           }
          ],
          "surface": [
           {
            "colorbar": {
             "outlinewidth": 0,
             "ticks": ""
            },
            "colorscale": [
             [
              0,
              "#0d0887"
             ],
             [
              0.1111111111111111,
              "#46039f"
             ],
             [
              0.2222222222222222,
              "#7201a8"
             ],
             [
              0.3333333333333333,
              "#9c179e"
             ],
             [
              0.4444444444444444,
              "#bd3786"
             ],
             [
              0.5555555555555556,
              "#d8576b"
             ],
             [
              0.6666666666666666,
              "#ed7953"
             ],
             [
              0.7777777777777778,
              "#fb9f3a"
             ],
             [
              0.8888888888888888,
              "#fdca26"
             ],
             [
              1,
              "#f0f921"
             ]
            ],
            "type": "surface"
           }
          ],
          "table": [
           {
            "cells": {
             "fill": {
              "color": "#EBF0F8"
             },
             "line": {
              "color": "white"
             }
            },
            "header": {
             "fill": {
              "color": "#C8D4E3"
             },
             "line": {
              "color": "white"
             }
            },
            "type": "table"
           }
          ]
         },
         "layout": {
          "annotationdefaults": {
           "arrowcolor": "#2a3f5f",
           "arrowhead": 0,
           "arrowwidth": 1
          },
          "autotypenumbers": "strict",
          "coloraxis": {
           "colorbar": {
            "outlinewidth": 0,
            "ticks": ""
           }
          },
          "colorscale": {
           "diverging": [
            [
             0,
             "#8e0152"
            ],
            [
             0.1,
             "#c51b7d"
            ],
            [
             0.2,
             "#de77ae"
            ],
            [
             0.3,
             "#f1b6da"
            ],
            [
             0.4,
             "#fde0ef"
            ],
            [
             0.5,
             "#f7f7f7"
            ],
            [
             0.6,
             "#e6f5d0"
            ],
            [
             0.7,
             "#b8e186"
            ],
            [
             0.8,
             "#7fbc41"
            ],
            [
             0.9,
             "#4d9221"
            ],
            [
             1,
             "#276419"
            ]
           ],
           "sequential": [
            [
             0,
             "#0d0887"
            ],
            [
             0.1111111111111111,
             "#46039f"
            ],
            [
             0.2222222222222222,
             "#7201a8"
            ],
            [
             0.3333333333333333,
             "#9c179e"
            ],
            [
             0.4444444444444444,
             "#bd3786"
            ],
            [
             0.5555555555555556,
             "#d8576b"
            ],
            [
             0.6666666666666666,
             "#ed7953"
            ],
            [
             0.7777777777777778,
             "#fb9f3a"
            ],
            [
             0.8888888888888888,
             "#fdca26"
            ],
            [
             1,
             "#f0f921"
            ]
           ],
           "sequentialminus": [
            [
             0,
             "#0d0887"
            ],
            [
             0.1111111111111111,
             "#46039f"
            ],
            [
             0.2222222222222222,
             "#7201a8"
            ],
            [
             0.3333333333333333,
             "#9c179e"
            ],
            [
             0.4444444444444444,
             "#bd3786"
            ],
            [
             0.5555555555555556,
             "#d8576b"
            ],
            [
             0.6666666666666666,
             "#ed7953"
            ],
            [
             0.7777777777777778,
             "#fb9f3a"
            ],
            [
             0.8888888888888888,
             "#fdca26"
            ],
            [
             1,
             "#f0f921"
            ]
           ]
          },
          "colorway": [
           "#636efa",
           "#EF553B",
           "#00cc96",
           "#ab63fa",
           "#FFA15A",
           "#19d3f3",
           "#FF6692",
           "#B6E880",
           "#FF97FF",
           "#FECB52"
          ],
          "font": {
           "color": "#2a3f5f"
          },
          "geo": {
           "bgcolor": "white",
           "lakecolor": "white",
           "landcolor": "#E5ECF6",
           "showlakes": true,
           "showland": true,
           "subunitcolor": "white"
          },
          "hoverlabel": {
           "align": "left"
          },
          "hovermode": "closest",
          "mapbox": {
           "style": "light"
          },
          "paper_bgcolor": "white",
          "plot_bgcolor": "#E5ECF6",
          "polar": {
           "angularaxis": {
            "gridcolor": "white",
            "linecolor": "white",
            "ticks": ""
           },
           "bgcolor": "#E5ECF6",
           "radialaxis": {
            "gridcolor": "white",
            "linecolor": "white",
            "ticks": ""
           }
          },
          "scene": {
           "xaxis": {
            "backgroundcolor": "#E5ECF6",
            "gridcolor": "white",
            "gridwidth": 2,
            "linecolor": "white",
            "showbackground": true,
            "ticks": "",
            "zerolinecolor": "white"
           },
           "yaxis": {
            "backgroundcolor": "#E5ECF6",
            "gridcolor": "white",
            "gridwidth": 2,
            "linecolor": "white",
            "showbackground": true,
            "ticks": "",
            "zerolinecolor": "white"
           },
           "zaxis": {
            "backgroundcolor": "#E5ECF6",
            "gridcolor": "white",
            "gridwidth": 2,
            "linecolor": "white",
            "showbackground": true,
            "ticks": "",
            "zerolinecolor": "white"
           }
          },
          "shapedefaults": {
           "line": {
            "color": "#2a3f5f"
           }
          },
          "ternary": {
           "aaxis": {
            "gridcolor": "white",
            "linecolor": "white",
            "ticks": ""
           },
           "baxis": {
            "gridcolor": "white",
            "linecolor": "white",
            "ticks": ""
           },
           "bgcolor": "#E5ECF6",
           "caxis": {
            "gridcolor": "white",
            "linecolor": "white",
            "ticks": ""
           }
          },
          "title": {
           "x": 0.05
          },
          "xaxis": {
           "automargin": true,
           "gridcolor": "white",
           "linecolor": "white",
           "ticks": "",
           "title": {
            "standoff": 15
           },
           "zerolinecolor": "white",
           "zerolinewidth": 2
          },
          "yaxis": {
           "automargin": true,
           "gridcolor": "white",
           "linecolor": "white",
           "ticks": "",
           "title": {
            "standoff": 15
           },
           "zerolinecolor": "white",
           "zerolinewidth": 2
          }
         }
        },
        "xaxis": {
         "anchor": "y",
         "autorange": true,
         "domain": [
          0,
          1
         ],
         "range": [
          -43.20452885317749,
          2642.2045288531776
         ],
         "title": {
          "text": "Data Usage (MB/day)"
         },
         "type": "linear"
        },
        "yaxis": {
         "anchor": "x",
         "autorange": true,
         "domain": [
          0,
          1
         ],
         "range": [
          0.6902887139107612,
          5.309711286089239
         ],
         "title": {
          "text": "User Behavior Class"
         },
         "type": "linear"
        }
       }
      },
      "image/png": "[encoded data removed]",
      "text/html": [
       "<div>                            <div id=\"638638d8-85b8-46be-86fc-d81477608c0b\" class=\"plotly-graph-div\" style=\"height:525px; width:100%;\"></div>            <script type=\"text/javascript\">                require([\"plotly\"], function(Plotly) {                    window.PLOTLYENV=window.PLOTLYENV || {};                                    if (document.getElementById(\"638638d8-85b8-46be-86fc-d81477608c0b\")) {                    Plotly.newPlot(                        \"638638d8-85b8-46be-86fc-d81477608c0b\",                        [{\"hovertemplate\":\"Data Usage (MB\\u002fday)=%{x}\\u003cbr\\u003eUser Behavior Class=%{y}\\u003cextra\\u003e\\u003c\\u002fextra\\u003e\",\"legendgroup\":\"\",\"marker\":{\"color\":\"#636efa\",\"symbol\":\"circle\"},\"mode\":\"markers\",\"name\":\"\",\"orientation\":\"v\",\"showlegend\":false,\"x\":[1122,944,322,871,988,564,1054,1702,1053,1301,162,641,1099,857,779,2025,344,985,297,2192,302,1553,1372,949,748,451,1002,1599,1456,1384,889,975,917,105,1616,153,573,2328,1400,1180,708,2323,392,429,572,1935,1594,323,2262,1997,1417,885,393,375,2189,111,161,2415,1144,1053,1663,1253,128,1717,1091,917,912,449,1547,284,1090,1701,1082,208,125,985,122,301,138,989,1603,549,1133,105,695,1352,392,276,348,1303,307,827,284,367,1083,1454,1946,1968,293,875,136,738,565,934,360,264,596,278,711,889,459,2344,748,404,1324,596,281,909,124,428,1150,2189,2391,1924,714,2378,1321,667,465,412,1886,1226,458,139,285,1856,216,868,2076,1796,655,1337,429,201,2069,974,1026,234,823,459,1539,207,396,1185,102,493,136,1062,1493,305,262,112,1440,139,851,1540,2366,158,791,1894,524,208,578,1406,113,629,826,972,692,2007,571,1079,2416,275,1564,1995,1088,185,589,265,423,161,1127,997,1300,659,991,320,197,431,2252,314,262,146,433,1421,207,419,1990,823,1434,2017,445,246,461,2471,1397,1565,1805,417,1300,417,1290,2148,563,2438,1376,626,368,1164,526,2150,1763,580,529,295,1730,1130,107,2118,191,2133,338,1341,253,844,257,1066,581,230,272,1477,1787,478,172,1101,1116,686,914,2497,151,1227,2125,109,1079,1508,752,2151,861,1450,1266,888,453,588,568,1738,629,878,122,1136,163,268,1209,169,1024,1538,1376,811,473,146,1047,149,208,649,1795,130,1163,344,778,499,1314,971,1086,1923,322,594,877,1213,666,1167,868,1055,563,308,632,103,953,434,1076,2481,984,666,1456,156,1115,638,881,127,274,1820,796,362,904,1324,246,1632,1472,252,1449,155,223,1863,1683,645,840,1431,447,266,510,1387,1463,281,954,1075,106,287,905,1986,253,845,2208,1609,259,1499,1935,1341,1767,2477,408,503,1548,1823,2335,1663,164,232,122,1072,1623,313,653,1813,299,322,548,1096,457,199,2191,313,1021,1359,313,1459,1774,1356,143,2175,221,203,1891,508,1264,1657,2102,1017,567,1049,1242,1434,2074,1928,769,957,573,394,737,2481,964,228,198,414,1041,167,709,579,403,489,369,2180,839,506,1702,116,2304,467,862,291,343,468,920,751,218,724,2402,1318,1641,919,306,170,466,1903,583,164,398,182,275,871,142,545,1561,438,987,809,281,723,1092,661,1102,294,883,1811,513,687,765,1085,1126,762,718,795,441,2140,1814,230,1093,298,330,804,1333,2332,1096,507,198,1383,545,2116,807,362,869,504,195,1187,2493,965,2450,1415,941,173,791,1968,976,1682,249,507,1461,599,535,218,1809,371,1485,250,1125,2460,792,665,318,131,338,796,2479,1191,1200,915,1383,573,915,2258,2281,1701,2194,537,642,656,1727,182,971,358,1360,508,1287,373,583,1162,1246,972,370,640,1056,1860,1103,578,265,265,910,296,498,227,700,1327,1421,1194,864,2158,2163,446,1606,1291,916,122,1737,416,991,117,175,563,608,1101,1228,464,575,2341,1050,677,1441,1694,2387,347,596,905,1296,284,373,424,885,1150,2441,787,937,1901,1543,131,2441,153,493,461,767,965,1077,867,972,274,1046,284,272,196,679,920,234,1004,489,977,1921,366,1253,401,1729,289,1135,2080,271,255,1553,566,949,345,201,283,1334,790,356,167,694,144,1647,493,628,894,1236,2375,146,545,448,1297,2003,635,1845,729,334,339,224,1209,2438,216,1768,159,576,495,814,113,1111,1191,815,225,822,1393,1007,1178,824,1550,679,569,1455,1709,1985,381,1201,457,224,828],\"xaxis\":\"x\",\"y\":[4,3,2,3,3,2,4,5,4,4,1,3,4,3,3,5,2,3,1,5,2,5,4,3,3,2,4,5,4,4,3,3,3,1,5,1,2,5,4,4,3,5,2,2,2,5,5,2,5,5,4,3,2,2,5,1,1,5,4,4,5,4,1,5,4,3,3,2,5,1,4,5,4,1,1,3,1,2,1,3,5,2,4,1,3,4,2,1,2,4,2,3,1,2,4,4,5,5,1,3,1,3,2,3,2,1,2,1,3,3,2,5,3,2,4,2,1,3,1,2,4,5,5,5,3,5,4,3,2,2,5,4,2,1,1,5,1,3,5,5,3,4,2,1,5,3,4,1,3,2,5,1,2,4,1,2,1,4,4,2,1,1,4,1,3,5,5,1,3,5,2,1,2,4,1,3,3,3,3,5,2,4,5,1,5,5,4,1,2,1,2,1,4,3,4,3,3,2,1,2,5,2,1,1,2,4,1,2,5,3,4,5,2,1,2,5,4,5,5,2,4,2,4,5,2,5,4,3,2,4,2,5,5,2,2,1,5,4,1,5,1,5,2,4,1,3,1,4,2,1,1,4,5,2,1,4,4,3,3,5,1,4,5,1,4,5,3,5,3,4,4,3,2,2,2,5,3,3,1,4,1,1,4,1,4,5,4,3,2,1,4,1,1,3,5,1,4,2,3,2,4,3,4,5,2,2,3,4,3,4,3,4,2,2,3,1,3,2,4,5,3,3,4,1,4,3,3,1,1,5,3,2,3,4,1,5,4,1,4,1,1,5,5,3,3,4,2,1,2,4,4,1,3,4,1,1,3,5,1,3,5,5,1,4,5,4,5,5,2,2,5,5,5,5,1,1,1,4,5,2,3,5,1,2,2,4,2,1,5,2,4,4,2,4,5,4,1,5,1,1,5,2,4,5,5,4,2,4,4,4,5,5,3,3,2,2,3,5,3,1,1,2,4,1,3,2,2,2,2,5,3,2,5,1,5,2,3,1,2,2,3,3,1,3,5,4,5,3,2,1,2,5,2,1,2,1,1,3,1,2,5,2,3,3,1,3,4,3,4,1,3,5,2,3,3,4,4,3,3,3,2,5,5,1,4,1,2,3,4,5,4,2,1,4,2,5,3,2,3,2,1,4,5,3,5,4,3,1,3,5,3,5,1,2,4,2,2,1,5,2,4,1,4,5,3,3,2,1,2,3,5,4,4,3,4,2,3,5,5,5,5,2,3,3,5,1,3,2,4,2,4,2,2,4,4,3,2,3,4,5,4,2,1,1,3,1,2,1,3,4,4,4,3,5,5,2,5,4,3,1,5,2,3,1,1,2,3,4,4,2,2,5,4,3,4,5,5,2,2,3,4,1,2,2,3,4,5,3,3,5,5,1,5,1,2,2,3,3,4,3,3,1,4,1,1,1,3,3,1,4,2,3,5,2,4,2,5,1,4,5,1,1,5,2,3,2,1,1,4,3,2,1,3,1,5,2,3,3,4,5,1,2,2,4,5,3,5,3,2,2,1,4,5,1,5,1,2,2,3,1,4,4,3,1,3,4,4,4,3,5,3,2,4,5,5,2,4,2,1,3],\"yaxis\":\"y\",\"type\":\"scatter\"}],                        {\"template\":{\"data\":{\"histogram2dcontour\":[{\"type\":\"histogram2dcontour\",\"colorbar\":{\"outlinewidth\":0,\"ticks\":\"\"},\"colorscale\":[[0.0,\"#0d0887\"],[0.1111111111111111,\"#46039f\"],[0.2222222222222222,\"#7201a8\"],[0.3333333333333333,\"#9c179e\"],[0.4444444444444444,\"#bd3786\"],[0.5555555555555556,\"#d8576b\"],[0.6666666666666666,\"#ed7953\"],[0.7777777777777778,\"#fb9f3a\"],[0.8888888888888888,\"#fdca26\"],[1.0,\"#f0f921\"]]}],\"choropleth\":[{\"type\":\"choropleth\",\"colorbar\":{\"outlinewidth\":0,\"ticks\":\"\"}}],\"histogram2d\":[{\"type\":\"histogram2d\",\"colorbar\":{\"outlinewidth\":0,\"ticks\":\"\"},\"colorscale\":[[0.0,\"#0d0887\"],[0.1111111111111111,\"#46039f\"],[0.2222222222222222,\"#7201a8\"],[0.3333333333333333,\"#9c179e\"],[0.4444444444444444,\"#bd3786\"],[0.5555555555555556,\"#d8576b\"],[0.6666666666666666,\"#ed7953\"],[0.7777777777777778,\"#fb9f3a\"],[0.8888888888888888,\"#fdca26\"],[1.0,\"#f0f921\"]]}],\"heatmap\":[{\"type\":\"heatmap\",\"colorbar\":{\"outlinewidth\":0,\"ticks\":\"\"},\"colorscale\":[[0.0,\"#0d0887\"],[0.1111111111111111,\"#46039f\"],[0.2222222222222222,\"#7201a8\"],[0.3333333333333333,\"#9c179e\"],[0.4444444444444444,\"#bd3786\"],[0.5555555555555556,\"#d8576b\"],[0.6666666666666666,\"#ed7953\"],[0.7777777777777778,\"#fb9f3a\"],[0.8888888888888888,\"#fdca26\"],[1.0,\"#f0f921\"]]}],\"heatmapgl\":[{\"type\":\"heatmapgl\",\"colorbar\":{\"outlinewidth\":0,\"ticks\":\"\"},\"colorscale\":[[0.0,\"#0d0887\"],[0.1111111111111111,\"#46039f\"],[0.2222222222222222,\"#7201a8\"],[0.3333333333333333,\"#9c179e\"],[0.4444444444444444,\"#bd3786\"],[0.5555555555555556,\"#d8576b\"],[0.6666666666666666,\"#ed7953\"],[0.7777777777777778,\"#fb9f3a\"],[0.8888888888888888,\"#fdca26\"],[1.0,\"#f0f921\"]]}],\"contourcarpet\":[{\"type\":\"contourcarpet\",\"colorbar\":{\"outlinewidth\":0,\"ticks\":\"\"}}],\"contour\":[{\"type\":\"contour\",\"colorbar\":{\"outlinewidth\":0,\"ticks\":\"\"},\"colorscale\":[[0.0,\"#0d0887\"],[0.1111111111111111,\"#46039f\"],[0.2222222222222222,\"#7201a8\"],[0.3333333333333333,\"#9c179e\"],[0.4444444444444444,\"#bd3786\"],[0.5555555555555556,\"#d8576b\"],[0.6666666666666666,\"#ed7953\"],[0.7777777777777778,\"#fb9f3a\"],[0.8888888888888888,\"#fdca26\"],[1.0,\"#f0f921\"]]}],\"surface\":[{\"type\":\"surface\",\"colorbar\":{\"outlinewidth\":0,\"ticks\":\"\"},\"colorscale\":[[0.0,\"#0d0887\"],[0.1111111111111111,\"#46039f\"],[0.2222222222222222,\"#7201a8\"],[0.3333333333333333,\"#9c179e\"],[0.4444444444444444,\"#bd3786\"],[0.5555555555555556,\"#d8576b\"],[0.6666666666666666,\"#ed7953\"],[0.7777777777777778,\"#fb9f3a\"],[0.8888888888888888,\"#fdca26\"],[1.0,\"#f0f921\"]]}],\"mesh3d\":[{\"type\":\"mesh3d\",\"colorbar\":{\"outlinewidth\":0,\"ticks\":\"\"}}],\"scatter\":[{\"fillpattern\":{\"fillmode\":\"overlay\",\"size\":10,\"solidity\":0.2},\"type\":\"scatter\"}],\"parcoords\":[{\"type\":\"parcoords\",\"line\":{\"colorbar\":{\"outlinewidth\":0,\"ticks\":\"\"}}}],\"scatterpolargl\":[{\"type\":\"scatterpolargl\",\"marker\":{\"colorbar\":{\"outlinewidth\":0,\"ticks\":\"\"}}}],\"bar\":[{\"error_x\":{\"color\":\"#2a3f5f\"},\"error_y\":{\"color\":\"#2a3f5f\"},\"marker\":{\"line\":{\"color\":\"#E5ECF6\",\"width\":0.5},\"pattern\":{\"fillmode\":\"overlay\",\"size\":10,\"solidity\":0.2}},\"type\":\"bar\"}],\"scattergeo\":[{\"type\":\"scattergeo\",\"marker\":{\"colorbar\":{\"outlinewidth\":0,\"ticks\":\"\"}}}],\"scatterpolar\":[{\"type\":\"scatterpolar\",\"marker\":{\"colorbar\":{\"outlinewidth\":0,\"ticks\":\"\"}}}],\"histogram\":[{\"marker\":{\"pattern\":{\"fillmode\":\"overlay\",\"size\":10,\"solidity\":0.2}},\"type\":\"histogram\"}],\"scattergl\":[{\"type\":\"scattergl\",\"marker\":{\"colorbar\":{\"outlinewidth\":0,\"ticks\":\"\"}}}],\"scatter3d\":[{\"type\":\"scatter3d\",\"line\":{\"colorbar\":{\"outlinewidth\":0,\"ticks\":\"\"}},\"marker\":{\"colorbar\":{\"outlinewidth\":0,\"ticks\":\"\"}}}],\"scattermapbox\":[{\"type\":\"scattermapbox\",\"marker\":{\"colorbar\":{\"outlinewidth\":0,\"ticks\":\"\"}}}],\"scatterternary\":[{\"type\":\"scatterternary\",\"marker\":{\"colorbar\":{\"outlinewidth\":0,\"ticks\":\"\"}}}],\"scattercarpet\":[{\"type\":\"scattercarpet\",\"marker\":{\"colorbar\":{\"outlinewidth\":0,\"ticks\":\"\"}}}],\"carpet\":[{\"aaxis\":{\"endlinecolor\":\"#2a3f5f\",\"gridcolor\":\"white\",\"linecolor\":\"white\",\"minorgridcolor\":\"white\",\"startlinecolor\":\"#2a3f5f\"},\"baxis\":{\"endlinecolor\":\"#2a3f5f\",\"gridcolor\":\"white\",\"linecolor\":\"white\",\"minorgridcolor\":\"white\",\"startlinecolor\":\"#2a3f5f\"},\"type\":\"carpet\"}],\"table\":[{\"cells\":{\"fill\":{\"color\":\"#EBF0F8\"},\"line\":{\"color\":\"white\"}},\"header\":{\"fill\":{\"color\":\"#C8D4E3\"},\"line\":{\"color\":\"white\"}},\"type\":\"table\"}],\"barpolar\":[{\"marker\":{\"line\":{\"color\":\"#E5ECF6\",\"width\":0.5},\"pattern\":{\"fillmode\":\"overlay\",\"size\":10,\"solidity\":0.2}},\"type\":\"barpolar\"}],\"pie\":[{\"automargin\":true,\"type\":\"pie\"}]},\"layout\":{\"autotypenumbers\":\"strict\",\"colorway\":[\"#636efa\",\"#EF553B\",\"#00cc96\",\"#ab63fa\",\"#FFA15A\",\"#19d3f3\",\"#FF6692\",\"#B6E880\",\"#FF97FF\",\"#FECB52\"],\"font\":{\"color\":\"#2a3f5f\"},\"hovermode\":\"closest\",\"hoverlabel\":{\"align\":\"left\"},\"paper_bgcolor\":\"white\",\"plot_bgcolor\":\"#E5ECF6\",\"polar\":{\"bgcolor\":\"#E5ECF6\",\"angularaxis\":{\"gridcolor\":\"white\",\"linecolor\":\"white\",\"ticks\":\"\"},\"radialaxis\":{\"gridcolor\":\"white\",\"linecolor\":\"white\",\"ticks\":\"\"}},\"ternary\":{\"bgcolor\":\"#E5ECF6\",\"aaxis\":{\"gridcolor\":\"white\",\"linecolor\":\"white\",\"ticks\":\"\"},\"baxis\":{\"gridcolor\":\"white\",\"linecolor\":\"white\",\"ticks\":\"\"},\"caxis\":{\"gridcolor\":\"white\",\"linecolor\":\"white\",\"ticks\":\"\"}},\"coloraxis\":{\"colorbar\":{\"outlinewidth\":0,\"ticks\":\"\"}},\"colorscale\":{\"sequential\":[[0.0,\"#0d0887\"],[0.1111111111111111,\"#46039f\"],[0.2222222222222222,\"#7201a8\"],[0.3333333333333333,\"#9c179e\"],[0.4444444444444444,\"#bd3786\"],[0.5555555555555556,\"#d8576b\"],[0.6666666666666666,\"#ed7953\"],[0.7777777777777778,\"#fb9f3a\"],[0.8888888888888888,\"#fdca26\"],[1.0,\"#f0f921\"]],\"sequentialminus\":[[0.0,\"#0d0887\"],[0.1111111111111111,\"#46039f\"],[0.2222222222222222,\"#7201a8\"],[0.3333333333333333,\"#9c179e\"],[0.4444444444444444,\"#bd3786\"],[0.5555555555555556,\"#d8576b\"],[0.6666666666666666,\"#ed7953\"],[0.7777777777777778,\"#fb9f3a\"],[0.8888888888888888,\"#fdca26\"],[1.0,\"#f0f921\"]],\"diverging\":[[0,\"#8e0152\"],[0.1,\"#c51b7d\"],[0.2,\"#de77ae\"],[0.3,\"#f1b6da\"],[0.4,\"#fde0ef\"],[0.5,\"#f7f7f7\"],[0.6,\"#e6f5d0\"],[0.7,\"#b8e186\"],[0.8,\"#7fbc41\"],[0.9,\"#4d9221\"],[1,\"#276419\"]]},\"xaxis\":{\"gridcolor\":\"white\",\"linecolor\":\"white\",\"ticks\":\"\",\"title\":{\"standoff\":15},\"zerolinecolor\":\"white\",\"automargin\":true,\"zerolinewidth\":2},\"yaxis\":{\"gridcolor\":\"white\",\"linecolor\":\"white\",\"ticks\":\"\",\"title\":{\"standoff\":15},\"zerolinecolor\":\"white\",\"automargin\":true,\"zerolinewidth\":2},\"scene\":{\"xaxis\":{\"backgroundcolor\":\"#E5ECF6\",\"gridcolor\":\"white\",\"linecolor\":\"white\",\"showbackground\":true,\"ticks\":\"\",\"zerolinecolor\":\"white\",\"gridwidth\":2},\"yaxis\":{\"backgroundcolor\":\"#E5ECF6\",\"gridcolor\":\"white\",\"linecolor\":\"white\",\"showbackground\":true,\"ticks\":\"\",\"zerolinecolor\":\"white\",\"gridwidth\":2},\"zaxis\":{\"backgroundcolor\":\"#E5ECF6\",\"gridcolor\":\"white\",\"linecolor\":\"white\",\"showbackground\":true,\"ticks\":\"\",\"zerolinecolor\":\"white\",\"gridwidth\":2}},\"shapedefaults\":{\"line\":{\"color\":\"#2a3f5f\"}},\"annotationdefaults\":{\"arrowcolor\":\"#2a3f5f\",\"arrowhead\":0,\"arrowwidth\":1},\"geo\":{\"bgcolor\":\"white\",\"landcolor\":\"#E5ECF6\",\"subunitcolor\":\"white\",\"showland\":true,\"showlakes\":true,\"lakecolor\":\"white\"},\"title\":{\"x\":0.05},\"mapbox\":{\"style\":\"light\"}}},\"xaxis\":{\"anchor\":\"y\",\"domain\":[0.0,1.0],\"title\":{\"text\":\"Data Usage (MB\\u002fday)\"}},\"yaxis\":{\"anchor\":\"x\",\"domain\":[0.0,1.0],\"title\":{\"text\":\"User Behavior Class\"}},\"legend\":{\"tracegroupgap\":0},\"margin\":{\"t\":60}},                        {\"responsive\": true}                    ).then(function(){\n",
       "                            \n",
       "var gd = document.getElementById('638638d8-85b8-46be-86fc-d81477608c0b');\n",
       "var x = new MutationObserver(function (mutations, observer) {{\n",
       "        var display = window.getComputedStyle(gd).display;\n",
       "        if (!display || display === 'none') {{\n",
       "            console.log([gd, 'removed!']);\n",
       "            Plotly.purge(gd);\n",
       "            observer.disconnect();\n",
       "        }}\n",
       "}});\n",
       "\n",
       "// Listen for the removal of the full notebook cells\n",
       "var notebookContainer = gd.closest('#notebook-container');\n",
       "if (notebookContainer) {{\n",
       "    x.observe(notebookContainer, {childList: true});\n",
       "}}\n",
       "\n",
       "// Listen for the clearing of the current output cell\n",
       "var outputEl = gd.closest('.output');\n",
       "if (outputEl) {{\n",
       "    x.observe(outputEl, {childList: true});\n",
       "}}\n",
       "\n",
       "                        })                };                });            </script>        </div>"
      ]
     },
     "metadata": {},
     "output_type": "display_data"
    },
    {
     "data": {
      "application/vnd.plotly.v1+json": {
       "config": {
        "plotlyServerURL": "https://plot.ly"
       },
       "data": [
        {
         "hovertemplate": "User Behavior Class=%{y}<extra></extra>",
         "legendgroup": "",
         "marker": {
          "color": "#636efa",
          "symbol": "circle"
         },
         "mode": "markers",
         "name": "",
         "orientation": "v",
         "showlegend": false,
         "type": "scatter",
         "x": [
          4,
          3,
          2,
          3,
          3,
          2,
          4,
          5,
          4,
          4,
          1,
          3,
          4,
          3,
          3,
          5,
          2,
          3,
          1,
          5,
          2,
          5,
          4,
          3,
          3,
          2,
          4,
          5,
          4,
          4,
          3,
          3,
          3,
          1,
          5,
          1,
          2,
          5,
          4,
          4,
          3,
          5,
          2,
          2,
          2,
          5,
          5,
          2,
          5,
          5,
          4,
          3,
          2,
          2,
          5,
          1,
          1,
          5,
          4,
          4,
          5,
          4,
          1,
          5,
          4,
          3,
          3,
          2,
          5,
          1,
          4,
          5,
          4,
          1,
          1,
          3,
          1,
          2,
          1,
          3,
          5,
          2,
          4,
          1,
          3,
          4,
          2,
          1,
          2,
          4,
          2,
          3,
          1,
          2,
          4,
          4,
          5,
          5,
          1,
          3,
          1,
          3,
          2,
          3,
          2,
          1,
          2,
          1,
          3,
          3,
          2,
          5,
          3,
          2,
          4,
          2,
          1,
          3,
          1,
          2,
          4,
          5,
          5,
          5,
          3,
          5,
          4,
          3,
          2,
          2,
          5,
          4,
          2,
          1,
          1,
          5,
          1,
          3,
          5,
          5,
          3,
          4,
          2,
          1,
          5,
          3,
          4,
          1,
          3,
          2,
          5,
          1,
          2,
          4,
          1,
          2,
          1,
          4,
          4,
          2,
          1,
          1,
          4,
          1,
          3,
          5,
          5,
          1,
          3,
          5,
          2,
          1,
          2,
          4,
          1,
          3,
          3,
          3,
          3,
          5,
          2,
          4,
          5,
          1,
          5,
          5,
          4,
          1,
          2,
          1,
          2,
          1,
          4,
          3,
          4,
          3,
          3,
          2,
          1,
          2,
          5,
          2,
          1,
          1,
          2,
          4,
          1,
          2,
          5,
          3,
          4,
          5,
          2,
          1,
          2,
          5,
          4,
          5,
          5,
          2,
          4,
          2,
          4,
          5,
          2,
          5,
          4,
          3,
          2,
          4,
          2,
          5,
          5,
          2,
          2,
          1,
          5,
          4,
          1,
          5,
          1,
          5,
          2,
          4,
          1,
          3,
          1,
          4,
          2,
          1,
          1,
          4,
          5,
          2,
          1,
          4,
          4,
          3,
          3,
          5,
          1,
          4,
          5,
          1,
          4,
          5,
          3,
          5,
          3,
          4,
          4,
          3,
          2,
          2,
          2,
          5,
          3,
          3,
          1,
          4,
          1,
          1,
          4,
          1,
          4,
          5,
          4,
          3,
          2,
          1,
          4,
          1,
          1,
          3,
          5,
          1,
          4,
          2,
          3,
          2,
          4,
          3,
          4,
          5,
          2,
          2,
          3,
          4,
          3,
          4,
          3,
          4,
          2,
          2,
          3,
          1,
          3,
          2,
          4,
          5,
          3,
          3,
          4,
          1,
          4,
          3,
          3,
          1,
          1,
          5,
          3,
          2,
          3,
          4,
          1,
          5,
          4,
          1,
          4,
          1,
          1,
          5,
          5,
          3,
          3,
          4,
          2,
          1,
          2,
          4,
          4,
          1,
          3,
          4,
          1,
          1,
          3,
          5,
          1,
          3,
          5,
          5,
          1,
          4,
          5,
          4,
          5,
          5,
          2,
          2,
          5,
          5,
          5,
          5,
          1,
          1,
          1,
          4,
          5,
          2,
          3,
          5,
          1,
          2,
          2,
          4,
          2,
          1,
          5,
          2,
          4,
          4,
          2,
          4,
          5,
          4,
          1,
          5,
          1,
          1,
          5,
          2,
          4,
          5,
          5,
          4,
          2,
          4,
          4,
          4,
          5,
          5,
          3,
          3,
          2,
          2,
          3,
          5,
          3,
          1,
          1,
          2,
          4,
          1,
          3,
          2,
          2,
          2,
          2,
          5,
          3,
          2,
          5,
          1,
          5,
          2,
          3,
          1,
          2,
          2,
          3,
          3,
          1,
          3,
          5,
          4,
          5,
          3,
          2,
          1,
          2,
          5,
          2,
          1,
          2,
          1,
          1,
          3,
          1,
          2,
          5,
          2,
          3,
          3,
          1,
          3,
          4,
          3,
          4,
          1,
          3,
          5,
          2,
          3,
          3,
          4,
          4,
          3,
          3,
          3,
          2,
          5,
          5,
          1,
          4,
          1,
          2,
          3,
          4,
          5,
          4,
          2,
          1,
          4,
          2,
          5,
          3,
          2,
          3,
          2,
          1,
          4,
          5,
          3,
          5,
          4,
          3,
          1,
          3,
          5,
          3,
          5,
          1,
          2,
          4,
          2,
          2,
          1,
          5,
          2,
          4,
          1,
          4,
          5,
          3,
          3,
          2,
          1,
          2,
          3,
          5,
          4,
          4,
          3,
          4,
          2,
          3,
          5,
          5,
          5,
          5,
          2,
          3,
          3,
          5,
          1,
          3,
          2,
          4,
          2,
          4,
          2,
          2,
          4,
          4,
          3,
          2,
          3,
          4,
          5,
          4,
          2,
          1,
          1,
          3,
          1,
          2,
          1,
          3,
          4,
          4,
          4,
          3,
          5,
          5,
          2,
          5,
          4,
          3,
          1,
          5,
          2,
          3,
          1,
          1,
          2,
          3,
          4,
          4,
          2,
          2,
          5,
          4,
          3,
          4,
          5,
          5,
          2,
          2,
          3,
          4,
          1,
          2,
          2,
          3,
          4,
          5,
          3,
          3,
          5,
          5,
          1,
          5,
          1,
          2,
          2,
          3,
          3,
          4,
          3,
          3,
          1,
          4,
          1,
          1,
          1,
          3,
          3,
          1,
          4,
          2,
          3,
          5,
          2,
          4,
          2,
          5,
          1,
          4,
          5,
          1,
          1,
          5,
          2,
          3,
          2,
          1,
          1,
          4,
          3,
          2,
          1,
          3,
          1,
          5,
          2,
          3,
          3,
          4,
          5,
          1,
          2,
          2,
          4,
          5,
          3,
          5,
          3,
          2,
          2,
          1,
          4,
          5,
          1,
          5,
          1,
          2,
          2,
          3,
          1,
          4,
          4,
          3,
          1,
          3,
          4,
          4,
          4,
          3,
          5,
          3,
          2,
          4,
          5,
          5,
          2,
          4,
          2,
          1,
          3
         ],
         "xaxis": "x",
         "y": [
          4,
          3,
          2,
          3,
          3,
          2,
          4,
          5,
          4,
          4,
          1,
          3,
          4,
          3,
          3,
          5,
          2,
          3,
          1,
          5,
          2,
          5,
          4,
          3,
          3,
          2,
          4,
          5,
          4,
          4,
          3,
          3,
          3,
          1,
          5,
          1,
          2,
          5,
          4,
          4,
          3,
          5,
          2,
          2,
          2,
          5,
          5,
          2,
          5,
          5,
          4,
          3,
          2,
          2,
          5,
          1,
          1,
          5,
          4,
          4,
          5,
          4,
          1,
          5,
          4,
          3,
          3,
          2,
          5,
          1,
          4,
          5,
          4,
          1,
          1,
          3,
          1,
          2,
          1,
          3,
          5,
          2,
          4,
          1,
          3,
          4,
          2,
          1,
          2,
          4,
          2,
          3,
          1,
          2,
          4,
          4,
          5,
          5,
          1,
          3,
          1,
          3,
          2,
          3,
          2,
          1,
          2,
          1,
          3,
          3,
          2,
          5,
          3,
          2,
          4,
          2,
          1,
          3,
          1,
          2,
          4,
          5,
          5,
          5,
          3,
          5,
          4,
          3,
          2,
          2,
          5,
          4,
          2,
          1,
          1,
          5,
          1,
          3,
          5,
          5,
          3,
          4,
          2,
          1,
          5,
          3,
          4,
          1,
          3,
          2,
          5,
          1,
          2,
          4,
          1,
          2,
          1,
          4,
          4,
          2,
          1,
          1,
          4,
          1,
          3,
          5,
          5,
          1,
          3,
          5,
          2,
          1,
          2,
          4,
          1,
          3,
          3,
          3,
          3,
          5,
          2,
          4,
          5,
          1,
          5,
          5,
          4,
          1,
          2,
          1,
          2,
          1,
          4,
          3,
          4,
          3,
          3,
          2,
          1,
          2,
          5,
          2,
          1,
          1,
          2,
          4,
          1,
          2,
          5,
          3,
          4,
          5,
          2,
          1,
          2,
          5,
          4,
          5,
          5,
          2,
          4,
          2,
          4,
          5,
          2,
          5,
          4,
          3,
          2,
          4,
          2,
          5,
          5,
          2,
          2,
          1,
          5,
          4,
          1,
          5,
          1,
          5,
          2,
          4,
          1,
          3,
          1,
          4,
          2,
          1,
          1,
          4,
          5,
          2,
          1,
          4,
          4,
          3,
          3,
          5,
          1,
          4,
          5,
          1,
          4,
          5,
          3,
          5,
          3,
          4,
          4,
          3,
          2,
          2,
          2,
          5,
          3,
          3,
          1,
          4,
          1,
          1,
          4,
          1,
          4,
          5,
          4,
          3,
          2,
          1,
          4,
          1,
          1,
          3,
          5,
          1,
          4,
          2,
          3,
          2,
          4,
          3,
          4,
          5,
          2,
          2,
          3,
          4,
          3,
          4,
          3,
          4,
          2,
          2,
          3,
          1,
          3,
          2,
          4,
          5,
          3,
          3,
          4,
          1,
          4,
          3,
          3,
          1,
          1,
          5,
          3,
          2,
          3,
          4,
          1,
          5,
          4,
          1,
          4,
          1,
          1,
          5,
          5,
          3,
          3,
          4,
          2,
          1,
          2,
          4,
          4,
          1,
          3,
          4,
          1,
          1,
          3,
          5,
          1,
          3,
          5,
          5,
          1,
          4,
          5,
          4,
          5,
          5,
          2,
          2,
          5,
          5,
          5,
          5,
          1,
          1,
          1,
          4,
          5,
          2,
          3,
          5,
          1,
          2,
          2,
          4,
          2,
          1,
          5,
          2,
          4,
          4,
          2,
          4,
          5,
          4,
          1,
          5,
          1,
          1,
          5,
          2,
          4,
          5,
          5,
          4,
          2,
          4,
          4,
          4,
          5,
          5,
          3,
          3,
          2,
          2,
          3,
          5,
          3,
          1,
          1,
          2,
          4,
          1,
          3,
          2,
          2,
          2,
          2,
          5,
          3,
          2,
          5,
          1,
          5,
          2,
          3,
          1,
          2,
          2,
          3,
          3,
          1,
          3,
          5,
          4,
          5,
          3,
          2,
          1,
          2,
          5,
          2,
          1,
          2,
          1,
          1,
          3,
          1,
          2,
          5,
          2,
          3,
          3,
          1,
          3,
          4,
          3,
          4,
          1,
          3,
          5,
          2,
          3,
          3,
          4,
          4,
          3,
          3,
          3,
          2,
          5,
          5,
          1,
          4,
          1,
          2,
          3,
          4,
          5,
          4,
          2,
          1,
          4,
          2,
          5,
          3,
          2,
          3,
          2,
          1,
          4,
          5,
          3,
          5,
          4,
          3,
          1,
          3,
          5,
          3,
          5,
          1,
          2,
          4,
          2,
          2,
          1,
          5,
          2,
          4,
          1,
          4,
          5,
          3,
          3,
          2,
          1,
          2,
          3,
          5,
          4,
          4,
          3,
          4,
          2,
          3,
          5,
          5,
          5,
          5,
          2,
          3,
          3,
          5,
          1,
          3,
          2,
          4,
          2,
          4,
          2,
          2,
          4,
          4,
          3,
          2,
          3,
          4,
          5,
          4,
          2,
          1,
          1,
          3,
          1,
          2,
          1,
          3,
          4,
          4,
          4,
          3,
          5,
          5,
          2,
          5,
          4,
          3,
          1,
          5,
          2,
          3,
          1,
          1,
          2,
          3,
          4,
          4,
          2,
          2,
          5,
          4,
          3,
          4,
          5,
          5,
          2,
          2,
          3,
          4,
          1,
          2,
          2,
          3,
          4,
          5,
          3,
          3,
          5,
          5,
          1,
          5,
          1,
          2,
          2,
          3,
          3,
          4,
          3,
          3,
          1,
          4,
          1,
          1,
          1,
          3,
          3,
          1,
          4,
          2,
          3,
          5,
          2,
          4,
          2,
          5,
          1,
          4,
          5,
          1,
          1,
          5,
          2,
          3,
          2,
          1,
          1,
          4,
          3,
          2,
          1,
          3,
          1,
          5,
          2,
          3,
          3,
          4,
          5,
          1,
          2,
          2,
          4,
          5,
          3,
          5,
          3,
          2,
          2,
          1,
          4,
          5,
          1,
          5,
          1,
          2,
          2,
          3,
          1,
          4,
          4,
          3,
          1,
          3,
          4,
          4,
          4,
          3,
          5,
          3,
          2,
          4,
          5,
          5,
          2,
          4,
          2,
          1,
          3
         ],
         "yaxis": "y"
        }
       ],
       "layout": {
        "autosize": true,
        "legend": {
         "tracegroupgap": 0
        },
        "margin": {
         "t": 60
        },
        "template": {
         "data": {
          "bar": [
           {
            "error_x": {
             "color": "#2a3f5f"
            },
            "error_y": {
             "color": "#2a3f5f"
            },
            "marker": {
             "line": {
              "color": "#E5ECF6",
              "width": 0.5
             },
             "pattern": {
              "fillmode": "overlay",
              "size": 10,
              "solidity": 0.2
             }
            },
            "type": "bar"
           }
          ],
          "barpolar": [
           {
            "marker": {
             "line": {
              "color": "#E5ECF6",
              "width": 0.5
             },
             "pattern": {
              "fillmode": "overlay",
              "size": 10,
              "solidity": 0.2
             }
            },
            "type": "barpolar"
           }
          ],
          "carpet": [
           {
            "aaxis": {
             "endlinecolor": "#2a3f5f",
             "gridcolor": "white",
             "linecolor": "white",
             "minorgridcolor": "white",
             "startlinecolor": "#2a3f5f"
            },
            "baxis": {
             "endlinecolor": "#2a3f5f",
             "gridcolor": "white",
             "linecolor": "white",
             "minorgridcolor": "white",
             "startlinecolor": "#2a3f5f"
            },
            "type": "carpet"
           }
          ],
          "choropleth": [
           {
            "colorbar": {
             "outlinewidth": 0,
             "ticks": ""
            },
            "type": "choropleth"
           }
          ],
          "contour": [
           {
            "colorbar": {
             "outlinewidth": 0,
             "ticks": ""
            },
            "colorscale": [
             [
              0,
              "#0d0887"
             ],
             [
              0.1111111111111111,
              "#46039f"
             ],
             [
              0.2222222222222222,
              "#7201a8"
             ],
             [
              0.3333333333333333,
              "#9c179e"
             ],
             [
              0.4444444444444444,
              "#bd3786"
             ],
             [
              0.5555555555555556,
              "#d8576b"
             ],
             [
              0.6666666666666666,
              "#ed7953"
             ],
             [
              0.7777777777777778,
              "#fb9f3a"
             ],
             [
              0.8888888888888888,
              "#fdca26"
             ],
             [
              1,
              "#f0f921"
             ]
            ],
            "type": "contour"
           }
          ],
          "contourcarpet": [
           {
            "colorbar": {
             "outlinewidth": 0,
             "ticks": ""
            },
            "type": "contourcarpet"
           }
          ],
          "heatmap": [
           {
            "colorbar": {
             "outlinewidth": 0,
             "ticks": ""
            },
            "colorscale": [
             [
              0,
              "#0d0887"
             ],
             [
              0.1111111111111111,
              "#46039f"
             ],
             [
              0.2222222222222222,
              "#7201a8"
             ],
             [
              0.3333333333333333,
              "#9c179e"
             ],
             [
              0.4444444444444444,
              "#bd3786"
             ],
             [
              0.5555555555555556,
              "#d8576b"
             ],
             [
              0.6666666666666666,
              "#ed7953"
             ],
             [
              0.7777777777777778,
              "#fb9f3a"
             ],
             [
              0.8888888888888888,
              "#fdca26"
             ],
             [
              1,
              "#f0f921"
             ]
            ],
            "type": "heatmap"
           }
          ],
          "heatmapgl": [
           {
            "colorbar": {
             "outlinewidth": 0,
             "ticks": ""
            },
            "colorscale": [
             [
              0,
              "#0d0887"
             ],
             [
              0.1111111111111111,
              "#46039f"
             ],
             [
              0.2222222222222222,
              "#7201a8"
             ],
             [
              0.3333333333333333,
              "#9c179e"
             ],
             [
              0.4444444444444444,
              "#bd3786"
             ],
             [
              0.5555555555555556,
              "#d8576b"
             ],
             [
              0.6666666666666666,
              "#ed7953"
             ],
             [
              0.7777777777777778,
              "#fb9f3a"
             ],
             [
              0.8888888888888888,
              "#fdca26"
             ],
             [
              1,
              "#f0f921"
             ]
            ],
            "type": "heatmapgl"
           }
          ],
          "histogram": [
           {
            "marker": {
             "pattern": {
              "fillmode": "overlay",
              "size": 10,
              "solidity": 0.2
             }
            },
            "type": "histogram"
           }
          ],
          "histogram2d": [
           {
            "colorbar": {
             "outlinewidth": 0,
             "ticks": ""
            },
            "colorscale": [
             [
              0,
              "#0d0887"
             ],
             [
              0.1111111111111111,
              "#46039f"
             ],
             [
              0.2222222222222222,
              "#7201a8"
             ],
             [
              0.3333333333333333,
              "#9c179e"
             ],
             [
              0.4444444444444444,
              "#bd3786"
             ],
             [
              0.5555555555555556,
              "#d8576b"
             ],
             [
              0.6666666666666666,
              "#ed7953"
             ],
             [
              0.7777777777777778,
              "#fb9f3a"
             ],
             [
              0.8888888888888888,
              "#fdca26"
             ],
             [
              1,
              "#f0f921"
             ]
            ],
            "type": "histogram2d"
           }
          ],
          "histogram2dcontour": [
           {
            "colorbar": {
             "outlinewidth": 0,
             "ticks": ""
            },
            "colorscale": [
             [
              0,
              "#0d0887"
             ],
             [
              0.1111111111111111,
              "#46039f"
             ],
             [
              0.2222222222222222,
              "#7201a8"
             ],
             [
              0.3333333333333333,
              "#9c179e"
             ],
             [
              0.4444444444444444,
              "#bd3786"
             ],
             [
              0.5555555555555556,
              "#d8576b"
             ],
             [
              0.6666666666666666,
              "#ed7953"
             ],
             [
              0.7777777777777778,
              "#fb9f3a"
             ],
             [
              0.8888888888888888,
              "#fdca26"
             ],
             [
              1,
              "#f0f921"
             ]
            ],
            "type": "histogram2dcontour"
           }
          ],
          "mesh3d": [
           {
            "colorbar": {
             "outlinewidth": 0,
             "ticks": ""
            },
            "type": "mesh3d"
           }
          ],
          "parcoords": [
           {
            "line": {
             "colorbar": {
              "outlinewidth": 0,
              "ticks": ""
             }
            },
            "type": "parcoords"
           }
          ],
          "pie": [
           {
            "automargin": true,
            "type": "pie"
           }
          ],
          "scatter": [
           {
            "fillpattern": {
             "fillmode": "overlay",
             "size": 10,
             "solidity": 0.2
            },
            "type": "scatter"
           }
          ],
          "scatter3d": [
           {
            "line": {
             "colorbar": {
              "outlinewidth": 0,
              "ticks": ""
             }
            },
            "marker": {
             "colorbar": {
              "outlinewidth": 0,
              "ticks": ""
             }
            },
            "type": "scatter3d"
           }
          ],
          "scattercarpet": [
           {
            "marker": {
             "colorbar": {
              "outlinewidth": 0,
              "ticks": ""
             }
            },
            "type": "scattercarpet"
           }
          ],
          "scattergeo": [
           {
            "marker": {
             "colorbar": {
              "outlinewidth": 0,
              "ticks": ""
             }
            },
            "type": "scattergeo"
           }
          ],
          "scattergl": [
           {
            "marker": {
             "colorbar": {
              "outlinewidth": 0,
              "ticks": ""
             }
            },
            "type": "scattergl"
           }
          ],
          "scattermapbox": [
           {
            "marker": {
             "colorbar": {
              "outlinewidth": 0,
              "ticks": ""
             }
            },
            "type": "scattermapbox"
           }
          ],
          "scatterpolar": [
           {
            "marker": {
             "colorbar": {
              "outlinewidth": 0,
              "ticks": ""
             }
            },
            "type": "scatterpolar"
           }
          ],
          "scatterpolargl": [
           {
            "marker": {
             "colorbar": {
              "outlinewidth": 0,
              "ticks": ""
             }
            },
            "type": "scatterpolargl"
           }
          ],
          "scatterternary": [
           {
            "marker": {
             "colorbar": {
              "outlinewidth": 0,
              "ticks": ""
             }
            },
            "type": "scatterternary"
           }
          ],
          "surface": [
           {
            "colorbar": {
             "outlinewidth": 0,
             "ticks": ""
            },
            "colorscale": [
             [
              0,
              "#0d0887"
             ],
             [
              0.1111111111111111,
              "#46039f"
             ],
             [
              0.2222222222222222,
              "#7201a8"
             ],
             [
              0.3333333333333333,
              "#9c179e"
             ],
             [
              0.4444444444444444,
              "#bd3786"
             ],
             [
              0.5555555555555556,
              "#d8576b"
             ],
             [
              0.6666666666666666,
              "#ed7953"
             ],
             [
              0.7777777777777778,
              "#fb9f3a"
             ],
             [
              0.8888888888888888,
              "#fdca26"
             ],
             [
              1,
              "#f0f921"
             ]
            ],
            "type": "surface"
           }
          ],
          "table": [
           {
            "cells": {
             "fill": {
              "color": "#EBF0F8"
             },
             "line": {
              "color": "white"
             }
            },
            "header": {
             "fill": {
              "color": "#C8D4E3"
             },
             "line": {
              "color": "white"
             }
            },
            "type": "table"
           }
          ]
         },
         "layout": {
          "annotationdefaults": {
           "arrowcolor": "#2a3f5f",
           "arrowhead": 0,
           "arrowwidth": 1
          },
          "autotypenumbers": "strict",
          "coloraxis": {
           "colorbar": {
            "outlinewidth": 0,
            "ticks": ""
           }
          },
          "colorscale": {
           "diverging": [
            [
             0,
             "#8e0152"
            ],
            [
             0.1,
             "#c51b7d"
            ],
            [
             0.2,
             "#de77ae"
            ],
            [
             0.3,
             "#f1b6da"
            ],
            [
             0.4,
             "#fde0ef"
            ],
            [
             0.5,
             "#f7f7f7"
            ],
            [
             0.6,
             "#e6f5d0"
            ],
            [
             0.7,
             "#b8e186"
            ],
            [
             0.8,
             "#7fbc41"
            ],
            [
             0.9,
             "#4d9221"
            ],
            [
             1,
             "#276419"
            ]
           ],
           "sequential": [
            [
             0,
             "#0d0887"
            ],
            [
             0.1111111111111111,
             "#46039f"
            ],
            [
             0.2222222222222222,
             "#7201a8"
            ],
            [
             0.3333333333333333,
             "#9c179e"
            ],
            [
             0.4444444444444444,
             "#bd3786"
            ],
            [
             0.5555555555555556,
             "#d8576b"
            ],
            [
             0.6666666666666666,
             "#ed7953"
            ],
            [
             0.7777777777777778,
             "#fb9f3a"
            ],
            [
             0.8888888888888888,
             "#fdca26"
            ],
            [
             1,
             "#f0f921"
            ]
           ],
           "sequentialminus": [
            [
             0,
             "#0d0887"
            ],
            [
             0.1111111111111111,
             "#46039f"
            ],
            [
             0.2222222222222222,
             "#7201a8"
            ],
            [
             0.3333333333333333,
             "#9c179e"
            ],
            [
             0.4444444444444444,
             "#bd3786"
            ],
            [
             0.5555555555555556,
             "#d8576b"
            ],
            [
             0.6666666666666666,
             "#ed7953"
            ],
            [
             0.7777777777777778,
             "#fb9f3a"
            ],
            [
             0.8888888888888888,
             "#fdca26"
            ],
            [
             1,
             "#f0f921"
            ]
           ]
          },
          "colorway": [
           "#636efa",
           "#EF553B",
           "#00cc96",
           "#ab63fa",
           "#FFA15A",
           "#19d3f3",
           "#FF6692",
           "#B6E880",
           "#FF97FF",
           "#FECB52"
          ],
          "font": {
           "color": "#2a3f5f"
          },
          "geo": {
           "bgcolor": "white",
           "lakecolor": "white",
           "landcolor": "#E5ECF6",
           "showlakes": true,
           "showland": true,
           "subunitcolor": "white"
          },
          "hoverlabel": {
           "align": "left"
          },
          "hovermode": "closest",
          "mapbox": {
           "style": "light"
          },
          "paper_bgcolor": "white",
          "plot_bgcolor": "#E5ECF6",
          "polar": {
           "angularaxis": {
            "gridcolor": "white",
            "linecolor": "white",
            "ticks": ""
           },
           "bgcolor": "#E5ECF6",
           "radialaxis": {
            "gridcolor": "white",
            "linecolor": "white",
            "ticks": ""
           }
          },
          "scene": {
           "xaxis": {
            "backgroundcolor": "#E5ECF6",
            "gridcolor": "white",
            "gridwidth": 2,
            "linecolor": "white",
            "showbackground": true,
            "ticks": "",
            "zerolinecolor": "white"
           },
           "yaxis": {
            "backgroundcolor": "#E5ECF6",
            "gridcolor": "white",
            "gridwidth": 2,
            "linecolor": "white",
            "showbackground": true,
            "ticks": "",
            "zerolinecolor": "white"
           },
           "zaxis": {
            "backgroundcolor": "#E5ECF6",
            "gridcolor": "white",
            "gridwidth": 2,
            "linecolor": "white",
            "showbackground": true,
            "ticks": "",
            "zerolinecolor": "white"
           }
          },
          "shapedefaults": {
           "line": {
            "color": "#2a3f5f"
           }
          },
          "ternary": {
           "aaxis": {
            "gridcolor": "white",
            "linecolor": "white",
            "ticks": ""
           },
           "baxis": {
            "gridcolor": "white",
            "linecolor": "white",
            "ticks": ""
           },
           "bgcolor": "#E5ECF6",
           "caxis": {
            "gridcolor": "white",
            "linecolor": "white",
            "ticks": ""
           }
          },
          "title": {
           "x": 0.05
          },
          "xaxis": {
           "automargin": true,
           "gridcolor": "white",
           "linecolor": "white",
           "ticks": "",
           "title": {
            "standoff": 15
           },
           "zerolinecolor": "white",
           "zerolinewidth": 2
          },
          "yaxis": {
           "automargin": true,
           "gridcolor": "white",
           "linecolor": "white",
           "ticks": "",
           "title": {
            "standoff": 15
           },
           "zerolinecolor": "white",
           "zerolinewidth": 2
          }
         }
        },
        "xaxis": {
         "anchor": "y",
         "autorange": true,
         "domain": [
          0,
          1
         ],
         "range": [
          0.7574872169466764,
          5.242512783053323
         ],
         "title": {
          "text": "User Behavior Class"
         },
         "type": "linear"
        },
        "yaxis": {
         "anchor": "x",
         "autorange": true,
         "domain": [
          0,
          1
         ],
         "range": [
          0.6902887139107612,
          5.309711286089239
         ],
         "title": {
          "text": "User Behavior Class"
         },
         "type": "linear"
        }
       }
      },
      "image/png": "[encoded data removed]",
      "text/html": [
       "<div>                            <div id=\"c4ce6fc1-2647-46cd-b1ac-b1431e8cd97b\" class=\"plotly-graph-div\" style=\"height:525px; width:100%;\"></div>            <script type=\"text/javascript\">                require([\"plotly\"], function(Plotly) {                    window.PLOTLYENV=window.PLOTLYENV || {};                                    if (document.getElementById(\"c4ce6fc1-2647-46cd-b1ac-b1431e8cd97b\")) {                    Plotly.newPlot(                        \"c4ce6fc1-2647-46cd-b1ac-b1431e8cd97b\",                        [{\"hovertemplate\":\"User Behavior Class=%{y}\\u003cextra\\u003e\\u003c\\u002fextra\\u003e\",\"legendgroup\":\"\",\"marker\":{\"color\":\"#636efa\",\"symbol\":\"circle\"},\"mode\":\"markers\",\"name\":\"\",\"orientation\":\"v\",\"showlegend\":false,\"x\":[4,3,2,3,3,2,4,5,4,4,1,3,4,3,3,5,2,3,1,5,2,5,4,3,3,2,4,5,4,4,3,3,3,1,5,1,2,5,4,4,3,5,2,2,2,5,5,2,5,5,4,3,2,2,5,1,1,5,4,4,5,4,1,5,4,3,3,2,5,1,4,5,4,1,1,3,1,2,1,3,5,2,4,1,3,4,2,1,2,4,2,3,1,2,4,4,5,5,1,3,1,3,2,3,2,1,2,1,3,3,2,5,3,2,4,2,1,3,1,2,4,5,5,5,3,5,4,3,2,2,5,4,2,1,1,5,1,3,5,5,3,4,2,1,5,3,4,1,3,2,5,1,2,4,1,2,1,4,4,2,1,1,4,1,3,5,5,1,3,5,2,1,2,4,1,3,3,3,3,5,2,4,5,1,5,5,4,1,2,1,2,1,4,3,4,3,3,2,1,2,5,2,1,1,2,4,1,2,5,3,4,5,2,1,2,5,4,5,5,2,4,2,4,5,2,5,4,3,2,4,2,5,5,2,2,1,5,4,1,5,1,5,2,4,1,3,1,4,2,1,1,4,5,2,1,4,4,3,3,5,1,4,5,1,4,5,3,5,3,4,4,3,2,2,2,5,3,3,1,4,1,1,4,1,4,5,4,3,2,1,4,1,1,3,5,1,4,2,3,2,4,3,4,5,2,2,3,4,3,4,3,4,2,2,3,1,3,2,4,5,3,3,4,1,4,3,3,1,1,5,3,2,3,4,1,5,4,1,4,1,1,5,5,3,3,4,2,1,2,4,4,1,3,4,1,1,3,5,1,3,5,5,1,4,5,4,5,5,2,2,5,5,5,5,1,1,1,4,5,2,3,5,1,2,2,4,2,1,5,2,4,4,2,4,5,4,1,5,1,1,5,2,4,5,5,4,2,4,4,4,5,5,3,3,2,2,3,5,3,1,1,2,4,1,3,2,2,2,2,5,3,2,5,1,5,2,3,1,2,2,3,3,1,3,5,4,5,3,2,1,2,5,2,1,2,1,1,3,1,2,5,2,3,3,1,3,4,3,4,1,3,5,2,3,3,4,4,3,3,3,2,5,5,1,4,1,2,3,4,5,4,2,1,4,2,5,3,2,3,2,1,4,5,3,5,4,3,1,3,5,3,5,1,2,4,2,2,1,5,2,4,1,4,5,3,3,2,1,2,3,5,4,4,3,4,2,3,5,5,5,5,2,3,3,5,1,3,2,4,2,4,2,2,4,4,3,2,3,4,5,4,2,1,1,3,1,2,1,3,4,4,4,3,5,5,2,5,4,3,1,5,2,3,1,1,2,3,4,4,2,2,5,4,3,4,5,5,2,2,3,4,1,2,2,3,4,5,3,3,5,5,1,5,1,2,2,3,3,4,3,3,1,4,1,1,1,3,3,1,4,2,3,5,2,4,2,5,1,4,5,1,1,5,2,3,2,1,1,4,3,2,1,3,1,5,2,3,3,4,5,1,2,2,4,5,3,5,3,2,2,1,4,5,1,5,1,2,2,3,1,4,4,3,1,3,4,4,4,3,5,3,2,4,5,5,2,4,2,1,3],\"xaxis\":\"x\",\"y\":[4,3,2,3,3,2,4,5,4,4,1,3,4,3,3,5,2,3,1,5,2,5,4,3,3,2,4,5,4,4,3,3,3,1,5,1,2,5,4,4,3,5,2,2,2,5,5,2,5,5,4,3,2,2,5,1,1,5,4,4,5,4,1,5,4,3,3,2,5,1,4,5,4,1,1,3,1,2,1,3,5,2,4,1,3,4,2,1,2,4,2,3,1,2,4,4,5,5,1,3,1,3,2,3,2,1,2,1,3,3,2,5,3,2,4,2,1,3,1,2,4,5,5,5,3,5,4,3,2,2,5,4,2,1,1,5,1,3,5,5,3,4,2,1,5,3,4,1,3,2,5,1,2,4,1,2,1,4,4,2,1,1,4,1,3,5,5,1,3,5,2,1,2,4,1,3,3,3,3,5,2,4,5,1,5,5,4,1,2,1,2,1,4,3,4,3,3,2,1,2,5,2,1,1,2,4,1,2,5,3,4,5,2,1,2,5,4,5,5,2,4,2,4,5,2,5,4,3,2,4,2,5,5,2,2,1,5,4,1,5,1,5,2,4,1,3,1,4,2,1,1,4,5,2,1,4,4,3,3,5,1,4,5,1,4,5,3,5,3,4,4,3,2,2,2,5,3,3,1,4,1,1,4,1,4,5,4,3,2,1,4,1,1,3,5,1,4,2,3,2,4,3,4,5,2,2,3,4,3,4,3,4,2,2,3,1,3,2,4,5,3,3,4,1,4,3,3,1,1,5,3,2,3,4,1,5,4,1,4,1,1,5,5,3,3,4,2,1,2,4,4,1,3,4,1,1,3,5,1,3,5,5,1,4,5,4,5,5,2,2,5,5,5,5,1,1,1,4,5,2,3,5,1,2,2,4,2,1,5,2,4,4,2,4,5,4,1,5,1,1,5,2,4,5,5,4,2,4,4,4,5,5,3,3,2,2,3,5,3,1,1,2,4,1,3,2,2,2,2,5,3,2,5,1,5,2,3,1,2,2,3,3,1,3,5,4,5,3,2,1,2,5,2,1,2,1,1,3,1,2,5,2,3,3,1,3,4,3,4,1,3,5,2,3,3,4,4,3,3,3,2,5,5,1,4,1,2,3,4,5,4,2,1,4,2,5,3,2,3,2,1,4,5,3,5,4,3,1,3,5,3,5,1,2,4,2,2,1,5,2,4,1,4,5,3,3,2,1,2,3,5,4,4,3,4,2,3,5,5,5,5,2,3,3,5,1,3,2,4,2,4,2,2,4,4,3,2,3,4,5,4,2,1,1,3,1,2,1,3,4,4,4,3,5,5,2,5,4,3,1,5,2,3,1,1,2,3,4,4,2,2,5,4,3,4,5,5,2,2,3,4,1,2,2,3,4,5,3,3,5,5,1,5,1,2,2,3,3,4,3,3,1,4,1,1,1,3,3,1,4,2,3,5,2,4,2,5,1,4,5,1,1,5,2,3,2,1,1,4,3,2,1,3,1,5,2,3,3,4,5,1,2,2,4,5,3,5,3,2,2,1,4,5,1,5,1,2,2,3,1,4,4,3,1,3,4,4,4,3,5,3,2,4,5,5,2,4,2,1,3],\"yaxis\":\"y\",\"type\":\"scatter\"}],                        {\"template\":{\"data\":{\"histogram2dcontour\":[{\"type\":\"histogram2dcontour\",\"colorbar\":{\"outlinewidth\":0,\"ticks\":\"\"},\"colorscale\":[[0.0,\"#0d0887\"],[0.1111111111111111,\"#46039f\"],[0.2222222222222222,\"#7201a8\"],[0.3333333333333333,\"#9c179e\"],[0.4444444444444444,\"#bd3786\"],[0.5555555555555556,\"#d8576b\"],[0.6666666666666666,\"#ed7953\"],[0.7777777777777778,\"#fb9f3a\"],[0.8888888888888888,\"#fdca26\"],[1.0,\"#f0f921\"]]}],\"choropleth\":[{\"type\":\"choropleth\",\"colorbar\":{\"outlinewidth\":0,\"ticks\":\"\"}}],\"histogram2d\":[{\"type\":\"histogram2d\",\"colorbar\":{\"outlinewidth\":0,\"ticks\":\"\"},\"colorscale\":[[0.0,\"#0d0887\"],[0.1111111111111111,\"#46039f\"],[0.2222222222222222,\"#7201a8\"],[0.3333333333333333,\"#9c179e\"],[0.4444444444444444,\"#bd3786\"],[0.5555555555555556,\"#d8576b\"],[0.6666666666666666,\"#ed7953\"],[0.7777777777777778,\"#fb9f3a\"],[0.8888888888888888,\"#fdca26\"],[1.0,\"#f0f921\"]]}],\"heatmap\":[{\"type\":\"heatmap\",\"colorbar\":{\"outlinewidth\":0,\"ticks\":\"\"},\"colorscale\":[[0.0,\"#0d0887\"],[0.1111111111111111,\"#46039f\"],[0.2222222222222222,\"#7201a8\"],[0.3333333333333333,\"#9c179e\"],[0.4444444444444444,\"#bd3786\"],[0.5555555555555556,\"#d8576b\"],[0.6666666666666666,\"#ed7953\"],[0.7777777777777778,\"#fb9f3a\"],[0.8888888888888888,\"#fdca26\"],[1.0,\"#f0f921\"]]}],\"heatmapgl\":[{\"type\":\"heatmapgl\",\"colorbar\":{\"outlinewidth\":0,\"ticks\":\"\"},\"colorscale\":[[0.0,\"#0d0887\"],[0.1111111111111111,\"#46039f\"],[0.2222222222222222,\"#7201a8\"],[0.3333333333333333,\"#9c179e\"],[0.4444444444444444,\"#bd3786\"],[0.5555555555555556,\"#d8576b\"],[0.6666666666666666,\"#ed7953\"],[0.7777777777777778,\"#fb9f3a\"],[0.8888888888888888,\"#fdca26\"],[1.0,\"#f0f921\"]]}],\"contourcarpet\":[{\"type\":\"contourcarpet\",\"colorbar\":{\"outlinewidth\":0,\"ticks\":\"\"}}],\"contour\":[{\"type\":\"contour\",\"colorbar\":{\"outlinewidth\":0,\"ticks\":\"\"},\"colorscale\":[[0.0,\"#0d0887\"],[0.1111111111111111,\"#46039f\"],[0.2222222222222222,\"#7201a8\"],[0.3333333333333333,\"#9c179e\"],[0.4444444444444444,\"#bd3786\"],[0.5555555555555556,\"#d8576b\"],[0.6666666666666666,\"#ed7953\"],[0.7777777777777778,\"#fb9f3a\"],[0.8888888888888888,\"#fdca26\"],[1.0,\"#f0f921\"]]}],\"surface\":[{\"type\":\"surface\",\"colorbar\":{\"outlinewidth\":0,\"ticks\":\"\"},\"colorscale\":[[0.0,\"#0d0887\"],[0.1111111111111111,\"#46039f\"],[0.2222222222222222,\"#7201a8\"],[0.3333333333333333,\"#9c179e\"],[0.4444444444444444,\"#bd3786\"],[0.5555555555555556,\"#d8576b\"],[0.6666666666666666,\"#ed7953\"],[0.7777777777777778,\"#fb9f3a\"],[0.8888888888888888,\"#fdca26\"],[1.0,\"#f0f921\"]]}],\"mesh3d\":[{\"type\":\"mesh3d\",\"colorbar\":{\"outlinewidth\":0,\"ticks\":\"\"}}],\"scatter\":[{\"fillpattern\":{\"fillmode\":\"overlay\",\"size\":10,\"solidity\":0.2},\"type\":\"scatter\"}],\"parcoords\":[{\"type\":\"parcoords\",\"line\":{\"colorbar\":{\"outlinewidth\":0,\"ticks\":\"\"}}}],\"scatterpolargl\":[{\"type\":\"scatterpolargl\",\"marker\":{\"colorbar\":{\"outlinewidth\":0,\"ticks\":\"\"}}}],\"bar\":[{\"error_x\":{\"color\":\"#2a3f5f\"},\"error_y\":{\"color\":\"#2a3f5f\"},\"marker\":{\"line\":{\"color\":\"#E5ECF6\",\"width\":0.5},\"pattern\":{\"fillmode\":\"overlay\",\"size\":10,\"solidity\":0.2}},\"type\":\"bar\"}],\"scattergeo\":[{\"type\":\"scattergeo\",\"marker\":{\"colorbar\":{\"outlinewidth\":0,\"ticks\":\"\"}}}],\"scatterpolar\":[{\"type\":\"scatterpolar\",\"marker\":{\"colorbar\":{\"outlinewidth\":0,\"ticks\":\"\"}}}],\"histogram\":[{\"marker\":{\"pattern\":{\"fillmode\":\"overlay\",\"size\":10,\"solidity\":0.2}},\"type\":\"histogram\"}],\"scattergl\":[{\"type\":\"scattergl\",\"marker\":{\"colorbar\":{\"outlinewidth\":0,\"ticks\":\"\"}}}],\"scatter3d\":[{\"type\":\"scatter3d\",\"line\":{\"colorbar\":{\"outlinewidth\":0,\"ticks\":\"\"}},\"marker\":{\"colorbar\":{\"outlinewidth\":0,\"ticks\":\"\"}}}],\"scattermapbox\":[{\"type\":\"scattermapbox\",\"marker\":{\"colorbar\":{\"outlinewidth\":0,\"ticks\":\"\"}}}],\"scatterternary\":[{\"type\":\"scatterternary\",\"marker\":{\"colorbar\":{\"outlinewidth\":0,\"ticks\":\"\"}}}],\"scattercarpet\":[{\"type\":\"scattercarpet\",\"marker\":{\"colorbar\":{\"outlinewidth\":0,\"ticks\":\"\"}}}],\"carpet\":[{\"aaxis\":{\"endlinecolor\":\"#2a3f5f\",\"gridcolor\":\"white\",\"linecolor\":\"white\",\"minorgridcolor\":\"white\",\"startlinecolor\":\"#2a3f5f\"},\"baxis\":{\"endlinecolor\":\"#2a3f5f\",\"gridcolor\":\"white\",\"linecolor\":\"white\",\"minorgridcolor\":\"white\",\"startlinecolor\":\"#2a3f5f\"},\"type\":\"carpet\"}],\"table\":[{\"cells\":{\"fill\":{\"color\":\"#EBF0F8\"},\"line\":{\"color\":\"white\"}},\"header\":{\"fill\":{\"color\":\"#C8D4E3\"},\"line\":{\"color\":\"white\"}},\"type\":\"table\"}],\"barpolar\":[{\"marker\":{\"line\":{\"color\":\"#E5ECF6\",\"width\":0.5},\"pattern\":{\"fillmode\":\"overlay\",\"size\":10,\"solidity\":0.2}},\"type\":\"barpolar\"}],\"pie\":[{\"automargin\":true,\"type\":\"pie\"}]},\"layout\":{\"autotypenumbers\":\"strict\",\"colorway\":[\"#636efa\",\"#EF553B\",\"#00cc96\",\"#ab63fa\",\"#FFA15A\",\"#19d3f3\",\"#FF6692\",\"#B6E880\",\"#FF97FF\",\"#FECB52\"],\"font\":{\"color\":\"#2a3f5f\"},\"hovermode\":\"closest\",\"hoverlabel\":{\"align\":\"left\"},\"paper_bgcolor\":\"white\",\"plot_bgcolor\":\"#E5ECF6\",\"polar\":{\"bgcolor\":\"#E5ECF6\",\"angularaxis\":{\"gridcolor\":\"white\",\"linecolor\":\"white\",\"ticks\":\"\"},\"radialaxis\":{\"gridcolor\":\"white\",\"linecolor\":\"white\",\"ticks\":\"\"}},\"ternary\":{\"bgcolor\":\"#E5ECF6\",\"aaxis\":{\"gridcolor\":\"white\",\"linecolor\":\"white\",\"ticks\":\"\"},\"baxis\":{\"gridcolor\":\"white\",\"linecolor\":\"white\",\"ticks\":\"\"},\"caxis\":{\"gridcolor\":\"white\",\"linecolor\":\"white\",\"ticks\":\"\"}},\"coloraxis\":{\"colorbar\":{\"outlinewidth\":0,\"ticks\":\"\"}},\"colorscale\":{\"sequential\":[[0.0,\"#0d0887\"],[0.1111111111111111,\"#46039f\"],[0.2222222222222222,\"#7201a8\"],[0.3333333333333333,\"#9c179e\"],[0.4444444444444444,\"#bd3786\"],[0.5555555555555556,\"#d8576b\"],[0.6666666666666666,\"#ed7953\"],[0.7777777777777778,\"#fb9f3a\"],[0.8888888888888888,\"#fdca26\"],[1.0,\"#f0f921\"]],\"sequentialminus\":[[0.0,\"#0d0887\"],[0.1111111111111111,\"#46039f\"],[0.2222222222222222,\"#7201a8\"],[0.3333333333333333,\"#9c179e\"],[0.4444444444444444,\"#bd3786\"],[0.5555555555555556,\"#d8576b\"],[0.6666666666666666,\"#ed7953\"],[0.7777777777777778,\"#fb9f3a\"],[0.8888888888888888,\"#fdca26\"],[1.0,\"#f0f921\"]],\"diverging\":[[0,\"#8e0152\"],[0.1,\"#c51b7d\"],[0.2,\"#de77ae\"],[0.3,\"#f1b6da\"],[0.4,\"#fde0ef\"],[0.5,\"#f7f7f7\"],[0.6,\"#e6f5d0\"],[0.7,\"#b8e186\"],[0.8,\"#7fbc41\"],[0.9,\"#4d9221\"],[1,\"#276419\"]]},\"xaxis\":{\"gridcolor\":\"white\",\"linecolor\":\"white\",\"ticks\":\"\",\"title\":{\"standoff\":15},\"zerolinecolor\":\"white\",\"automargin\":true,\"zerolinewidth\":2},\"yaxis\":{\"gridcolor\":\"white\",\"linecolor\":\"white\",\"ticks\":\"\",\"title\":{\"standoff\":15},\"zerolinecolor\":\"white\",\"automargin\":true,\"zerolinewidth\":2},\"scene\":{\"xaxis\":{\"backgroundcolor\":\"#E5ECF6\",\"gridcolor\":\"white\",\"linecolor\":\"white\",\"showbackground\":true,\"ticks\":\"\",\"zerolinecolor\":\"white\",\"gridwidth\":2},\"yaxis\":{\"backgroundcolor\":\"#E5ECF6\",\"gridcolor\":\"white\",\"linecolor\":\"white\",\"showbackground\":true,\"ticks\":\"\",\"zerolinecolor\":\"white\",\"gridwidth\":2},\"zaxis\":{\"backgroundcolor\":\"#E5ECF6\",\"gridcolor\":\"white\",\"linecolor\":\"white\",\"showbackground\":true,\"ticks\":\"\",\"zerolinecolor\":\"white\",\"gridwidth\":2}},\"shapedefaults\":{\"line\":{\"color\":\"#2a3f5f\"}},\"annotationdefaults\":{\"arrowcolor\":\"#2a3f5f\",\"arrowhead\":0,\"arrowwidth\":1},\"geo\":{\"bgcolor\":\"white\",\"landcolor\":\"#E5ECF6\",\"subunitcolor\":\"white\",\"showland\":true,\"showlakes\":true,\"lakecolor\":\"white\"},\"title\":{\"x\":0.05},\"mapbox\":{\"style\":\"light\"}}},\"xaxis\":{\"anchor\":\"y\",\"domain\":[0.0,1.0],\"title\":{\"text\":\"User Behavior Class\"}},\"yaxis\":{\"anchor\":\"x\",\"domain\":[0.0,1.0],\"title\":{\"text\":\"User Behavior Class\"}},\"legend\":{\"tracegroupgap\":0},\"margin\":{\"t\":60}},                        {\"responsive\": true}                    ).then(function(){\n",
       "                            \n",
       "var gd = document.getElementById('c4ce6fc1-2647-46cd-b1ac-b1431e8cd97b');\n",
       "var x = new MutationObserver(function (mutations, observer) {{\n",
       "        var display = window.getComputedStyle(gd).display;\n",
       "        if (!display || display === 'none') {{\n",
       "            console.log([gd, 'removed!']);\n",
       "            Plotly.purge(gd);\n",
       "            observer.disconnect();\n",
       "        }}\n",
       "}});\n",
       "\n",
       "// Listen for the removal of the full notebook cells\n",
       "var notebookContainer = gd.closest('#notebook-container');\n",
       "if (notebookContainer) {{\n",
       "    x.observe(notebookContainer, {childList: true});\n",
       "}}\n",
       "\n",
       "// Listen for the clearing of the current output cell\n",
       "var outputEl = gd.closest('.output');\n",
       "if (outputEl) {{\n",
       "    x.observe(outputEl, {childList: true});\n",
       "}}\n",
       "\n",
       "                        })                };                });            </script>        </div>"
      ]
     },
     "metadata": {},
     "output_type": "display_data"
    }
   ],
   "source": [
    "for i in df.select_dtypes(include = \"number\").columns:\n",
    "    fig = px.scatter(df,\n",
    "                 y = df['User Behavior Class'],\n",
    "                 x = df[i])\n",
    "    \n",
    "    fig.show()"
   ]
  },
  {
   "cell_type": "markdown",
   "id": "77126df8-b390-480f-b462-74322efaae40",
   "metadata": {},
   "source": [
    "# outlires"
   ]
  },
  {
   "cell_type": "code",
   "execution_count": 139,
   "id": "6991b99b-092e-4cd9-b3a1-3e8115965ee1",
   "metadata": {},
   "outputs": [
    {
     "data": {
      "image/png": "[encoded data removed]",
      "text/plain": [
       "<Figure size 1500x1000 with 6 Axes>"
      ]
     },
     "metadata": {},
     "output_type": "display_data"
    }
   ],
   "source": [
    "plt.figure(figsize = (15,10))\n",
    "for i, col in enumerate(df.select_dtypes(include = \"number\").columns):\n",
    "    plt.subplot(2,4,i+1)\n",
    "    sns.boxplot(data = df[col],orient = \"h\")\n",
    "    #plt.title(col)\n",
    "plt.show()"
   ]
  },
  {
   "cell_type": "markdown",
   "id": "cb4f1ea5-a232-4068-88f8-3efdc4ce1893",
   "metadata": {},
   "source": [
    "# object issue"
   ]
  },
  {
   "cell_type": "code",
   "execution_count": 141,
   "id": "a5603810-3ae1-4f96-b613-7d4eb8aa2ee3",
   "metadata": {},
   "outputs": [
    {
     "name": "stdout",
     "output_type": "stream",
     "text": [
      "<class 'pandas.core.frame.DataFrame'>\n",
      "RangeIndex: 700 entries, 0 to 699\n",
      "Data columns (total 9 columns):\n",
      " #   Column                      Non-Null Count  Dtype  \n",
      "---  ------                      --------------  -----  \n",
      " 0   Device Model                700 non-null    object \n",
      " 1   Operating System            700 non-null    object \n",
      " 2   App Usage Time (min/day)    700 non-null    int64  \n",
      " 3   Screen On Time (hours/day)  700 non-null    float64\n",
      " 4   Battery Drain (mAh/day)     700 non-null    int64  \n",
      " 5   Number of Apps Installed    700 non-null    int64  \n",
      " 6   Data Usage (MB/day)         700 non-null    int64  \n",
      " 7   Gender                      700 non-null    object \n",
      " 8   User Behavior Class         700 non-null    int64  \n",
      "dtypes: float64(1), int64(5), object(3)\n",
      "memory usage: 49.3+ KB\n"
     ]
    }
   ],
   "source": [
    "df.info()"
   ]
  },
  {
   "cell_type": "code",
   "execution_count": 142,
   "id": "a54771ba-636f-419b-b328-f58e282d1b57",
   "metadata": {},
   "outputs": [
    {
     "data": {
      "text/plain": [
       "Device Model                    5\n",
       "Operating System                2\n",
       "App Usage Time (min/day)      387\n",
       "Screen On Time (hours/day)    108\n",
       "Battery Drain (mAh/day)       628\n",
       "Number of Apps Installed       86\n",
       "Data Usage (MB/day)           585\n",
       "Gender                          2\n",
       "User Behavior Class             5\n",
       "dtype: int64"
      ]
     },
     "execution_count": 142,
     "metadata": {},
     "output_type": "execute_result"
    }
   ],
   "source": [
    "df.nunique()"
   ]
  },
  {
   "cell_type": "markdown",
   "id": "e55764c9-f9a9-4586-a6c0-fd12c2ecc3e5",
   "metadata": {},
   "source": [
    "### one hot encoder"
   ]
  },
  {
   "cell_type": "code",
   "execution_count": 144,
   "id": "8d1d43de-2975-4261-8f17-92356a26f620",
   "metadata": {},
   "outputs": [
    {
     "data": {
      "text/plain": [
       "Index(['Device Model', 'Operating System', 'Gender'], dtype='object')"
      ]
     },
     "execution_count": 144,
     "metadata": {},
     "output_type": "execute_result"
    }
   ],
   "source": [
    "encoding = df.select_dtypes(include = \"object\").columns\n",
    "encoding"
   ]
  },
  {
   "cell_type": "code",
   "execution_count": 145,
   "id": "e96f251d-a3bd-48e5-aa82-54194510badd",
   "metadata": {},
   "outputs": [],
   "source": [
    "df = pd.get_dummies(data = df, columns = encoding, drop_first = True)\n",
    "bool_columns = df.select_dtypes(include = \"bool\").columns\n",
    "for i in bool_columns:\n",
    "    df[i] = df[i].apply(lambda x : x * 1)"
   ]
  },
  {
   "cell_type": "code",
   "execution_count": 166,
   "id": "fc55f29e-e368-4d6c-9458-1ec5b4044a34",
   "metadata": {},
   "outputs": [
    {
     "name": "stdout",
     "output_type": "stream",
     "text": [
      "<class 'pandas.core.frame.DataFrame'>\n",
      "RangeIndex: 700 entries, 0 to 699\n",
      "Data columns (total 12 columns):\n",
      " #   Column                           Non-Null Count  Dtype  \n",
      "---  ------                           --------------  -----  \n",
      " 0   App Usage Time (min/day)         700 non-null    int64  \n",
      " 1   Screen On Time (hours/day)       700 non-null    float64\n",
      " 2   Battery Drain (mAh/day)          700 non-null    int64  \n",
      " 3   Number of Apps Installed         700 non-null    int64  \n",
      " 4   Data Usage (MB/day)              700 non-null    int64  \n",
      " 5   User Behavior Class              700 non-null    int64  \n",
      " 6   Device Model_OnePlus 9           700 non-null    int64  \n",
      " 7   Device Model_Samsung Galaxy S21  700 non-null    int64  \n",
      " 8   Device Model_Xiaomi Mi 11        700 non-null    int64  \n",
      " 9   Device Model_iPhone 12           700 non-null    int64  \n",
      " 10  Operating System_iOS             700 non-null    int64  \n",
      " 11  Gender_Male                      700 non-null    int64  \n",
      "dtypes: float64(1), int64(11)\n",
      "memory usage: 65.8 KB\n"
     ]
    }
   ],
   "source": [
    "df.info()"
   ]
  },
  {
   "cell_type": "markdown",
   "id": "298bc5f4-0393-4814-a04f-39ec344513a3",
   "metadata": {},
   "source": [
    "#  split the data"
   ]
  },
  {
   "cell_type": "code",
   "execution_count": 168,
   "id": "5bb9a412-101e-4234-9bc2-32e88fb660a7",
   "metadata": {},
   "outputs": [],
   "source": [
    "x = df.drop(\"User Behavior Class\", axis = 1)\n",
    "y = df[\"User Behavior Class\"]"
   ]
  },
  {
   "cell_type": "markdown",
   "id": "1dba2759-366c-49ab-a8ab-944d9826860f",
   "metadata": {},
   "source": [
    "# Standardization"
   ]
  },
  {
   "cell_type": "code",
   "execution_count": 171,
   "id": "f5a198f4-458a-4833-a815-47e178296de4",
   "metadata": {},
   "outputs": [],
   "source": [
    "from sklearn.preprocessing import StandardScaler, MinMaxScaler\n",
    "sc = MinMaxScaler()\n",
    "x_sc = sc.fit_transform(x)"
   ]
  },
  {
   "cell_type": "code",
   "execution_count": 173,
   "id": "fb855004-741d-4099-a700-38d87a2f8043",
   "metadata": {},
   "outputs": [],
   "source": [
    "from sklearn.model_selection import train_test_split"
   ]
  },
  {
   "cell_type": "code",
   "execution_count": 175,
   "id": "fd3f03af-15c2-4465-bea8-9852a8d97f83",
   "metadata": {},
   "outputs": [],
   "source": [
    "X_train, X_test, y_train, y_test = train_test_split(x_sc, y, test_size=0.30, random_state=0, stratify=y)"
   ]
  },
  {
   "cell_type": "markdown",
   "id": "ef46db44-157d-4ef4-9c1a-04ec75d4f449",
   "metadata": {},
   "source": [
    "# logistic regression"
   ]
  },
  {
   "cell_type": "code",
   "execution_count": 178,
   "id": "3934d011-daaa-4df4-b0cf-dd8e4c7fcd01",
   "metadata": {},
   "outputs": [],
   "source": [
    "from sklearn.linear_model import LogisticRegression"
   ]
  },
  {
   "cell_type": "code",
   "execution_count": 184,
   "id": "c0f1da9b-6b38-48b2-9a90-153cf2fde3fb",
   "metadata": {},
   "outputs": [],
   "source": [
    "lr = LogisticRegression(max_iter=100)"
   ]
  },
  {
   "cell_type": "code",
   "execution_count": 186,
   "id": "45dc54fd-ad55-437c-91a6-c281763b10cf",
   "metadata": {},
   "outputs": [
    {
     "data": {
      "text/html": [
       "<style>#sk-container-id-1 {\n",
       "  /* Definition of color scheme common for light and dark mode */\n",
       "  --sklearn-color-text: black;\n",
       "  --sklearn-color-line: gray;\n",
       "  /* Definition of color scheme for unfitted estimators */\n",
       "  --sklearn-color-unfitted-level-0: #fff5e6;\n",
       "  --sklearn-color-unfitted-level-1: #f6e4d2;\n",
       "  --sklearn-color-unfitted-level-2: #ffe0b3;\n",
       "  --sklearn-color-unfitted-level-3: chocolate;\n",
       "  /* Definition of color scheme for fitted estimators */\n",
       "  --sklearn-color-fitted-level-0: #f0f8ff;\n",
       "  --sklearn-color-fitted-level-1: #d4ebff;\n",
       "  --sklearn-color-fitted-level-2: #b3dbfd;\n",
       "  --sklearn-color-fitted-level-3: cornflowerblue;\n",
       "\n",
       "  /* Specific color for light theme */\n",
       "  --sklearn-color-text-on-default-background: var(--sg-text-color, var(--theme-code-foreground, var(--jp-content-font-color1, black)));\n",
       "  --sklearn-color-background: var(--sg-background-color, var(--theme-background, var(--jp-layout-color0, white)));\n",
       "  --sklearn-color-border-box: var(--sg-text-color, var(--theme-code-foreground, var(--jp-content-font-color1, black)));\n",
       "  --sklearn-color-icon: #696969;\n",
       "\n",
       "  @media (prefers-color-scheme: dark) {\n",
       "    /* Redefinition of color scheme for dark theme */\n",
       "    --sklearn-color-text-on-default-background: var(--sg-text-color, var(--theme-code-foreground, var(--jp-content-font-color1, white)));\n",
       "    --sklearn-color-background: var(--sg-background-color, var(--theme-background, var(--jp-layout-color0, #111)));\n",
       "    --sklearn-color-border-box: var(--sg-text-color, var(--theme-code-foreground, var(--jp-content-font-color1, white)));\n",
       "    --sklearn-color-icon: #878787;\n",
       "  }\n",
       "}\n",
       "\n",
       "#sk-container-id-1 {\n",
       "  color: var(--sklearn-color-text);\n",
       "}\n",
       "\n",
       "#sk-container-id-1 pre {\n",
       "  padding: 0;\n",
       "}\n",
       "\n",
       "#sk-container-id-1 input.sk-hidden--visually {\n",
       "  border: 0;\n",
       "  clip: rect(1px 1px 1px 1px);\n",
       "  clip: rect(1px, 1px, 1px, 1px);\n",
       "  height: 1px;\n",
       "  margin: -1px;\n",
       "  overflow: hidden;\n",
       "  padding: 0;\n",
       "  position: absolute;\n",
       "  width: 1px;\n",
       "}\n",
       "\n",
       "#sk-container-id-1 div.sk-dashed-wrapped {\n",
       "  border: 1px dashed var(--sklearn-color-line);\n",
       "  margin: 0 0.4em 0.5em 0.4em;\n",
       "  box-sizing: border-box;\n",
       "  padding-bottom: 0.4em;\n",
       "  background-color: var(--sklearn-color-background);\n",
       "}\n",
       "\n",
       "#sk-container-id-1 div.sk-container {\n",
       "  /* jupyter's `normalize.less` sets `[hidden] { display: none; }`\n",
       "     but bootstrap.min.css set `[hidden] { display: none !important; }`\n",
       "     so we also need the `!important` here to be able to override the\n",
       "     default hidden behavior on the sphinx rendered scikit-learn.org.\n",
       "     See: https://github.com/scikit-learn/scikit-learn/issues/21755 */\n",
       "  display: inline-block !important;\n",
       "  position: relative;\n",
       "}\n",
       "\n",
       "#sk-container-id-1 div.sk-text-repr-fallback {\n",
       "  display: none;\n",
       "}\n",
       "\n",
       "div.sk-parallel-item,\n",
       "div.sk-serial,\n",
       "div.sk-item {\n",
       "  /* draw centered vertical line to link estimators */\n",
       "  background-image: linear-gradient(var(--sklearn-color-text-on-default-background), var(--sklearn-color-text-on-default-background));\n",
       "  background-size: 2px 100%;\n",
       "  background-repeat: no-repeat;\n",
       "  background-position: center center;\n",
       "}\n",
       "\n",
       "/* Parallel-specific style estimator block */\n",
       "\n",
       "#sk-container-id-1 div.sk-parallel-item::after {\n",
       "  content: \"\";\n",
       "  width: 100%;\n",
       "  border-bottom: 2px solid var(--sklearn-color-text-on-default-background);\n",
       "  flex-grow: 1;\n",
       "}\n",
       "\n",
       "#sk-container-id-1 div.sk-parallel {\n",
       "  display: flex;\n",
       "  align-items: stretch;\n",
       "  justify-content: center;\n",
       "  background-color: var(--sklearn-color-background);\n",
       "  position: relative;\n",
       "}\n",
       "\n",
       "#sk-container-id-1 div.sk-parallel-item {\n",
       "  display: flex;\n",
       "  flex-direction: column;\n",
       "}\n",
       "\n",
       "#sk-container-id-1 div.sk-parallel-item:first-child::after {\n",
       "  align-self: flex-end;\n",
       "  width: 50%;\n",
       "}\n",
       "\n",
       "#sk-container-id-1 div.sk-parallel-item:last-child::after {\n",
       "  align-self: flex-start;\n",
       "  width: 50%;\n",
       "}\n",
       "\n",
       "#sk-container-id-1 div.sk-parallel-item:only-child::after {\n",
       "  width: 0;\n",
       "}\n",
       "\n",
       "/* Serial-specific style estimator block */\n",
       "\n",
       "#sk-container-id-1 div.sk-serial {\n",
       "  display: flex;\n",
       "  flex-direction: column;\n",
       "  align-items: center;\n",
       "  background-color: var(--sklearn-color-background);\n",
       "  padding-right: 1em;\n",
       "  padding-left: 1em;\n",
       "}\n",
       "\n",
       "\n",
       "/* Toggleable style: style used for estimator/Pipeline/ColumnTransformer box that is\n",
       "clickable and can be expanded/collapsed.\n",
       "- Pipeline and ColumnTransformer use this feature and define the default style\n",
       "- Estimators will overwrite some part of the style using the `sk-estimator` class\n",
       "*/\n",
       "\n",
       "/* Pipeline and ColumnTransformer style (default) */\n",
       "\n",
       "#sk-container-id-1 div.sk-toggleable {\n",
       "  /* Default theme specific background. It is overwritten whether we have a\n",
       "  specific estimator or a Pipeline/ColumnTransformer */\n",
       "  background-color: var(--sklearn-color-background);\n",
       "}\n",
       "\n",
       "/* Toggleable label */\n",
       "#sk-container-id-1 label.sk-toggleable__label {\n",
       "  cursor: pointer;\n",
       "  display: block;\n",
       "  width: 100%;\n",
       "  margin-bottom: 0;\n",
       "  padding: 0.5em;\n",
       "  box-sizing: border-box;\n",
       "  text-align: center;\n",
       "}\n",
       "\n",
       "#sk-container-id-1 label.sk-toggleable__label-arrow:before {\n",
       "  /* Arrow on the left of the label */\n",
       "  content: \"▸\";\n",
       "  float: left;\n",
       "  margin-right: 0.25em;\n",
       "  color: var(--sklearn-color-icon);\n",
       "}\n",
       "\n",
       "#sk-container-id-1 label.sk-toggleable__label-arrow:hover:before {\n",
       "  color: var(--sklearn-color-text);\n",
       "}\n",
       "\n",
       "/* Toggleable content - dropdown */\n",
       "\n",
       "#sk-container-id-1 div.sk-toggleable__content {\n",
       "  max-height: 0;\n",
       "  max-width: 0;\n",
       "  overflow: hidden;\n",
       "  text-align: left;\n",
       "  /* unfitted */\n",
       "  background-color: var(--sklearn-color-unfitted-level-0);\n",
       "}\n",
       "\n",
       "#sk-container-id-1 div.sk-toggleable__content.fitted {\n",
       "  /* fitted */\n",
       "  background-color: var(--sklearn-color-fitted-level-0);\n",
       "}\n",
       "\n",
       "#sk-container-id-1 div.sk-toggleable__content pre {\n",
       "  margin: 0.2em;\n",
       "  border-radius: 0.25em;\n",
       "  color: var(--sklearn-color-text);\n",
       "  /* unfitted */\n",
       "  background-color: var(--sklearn-color-unfitted-level-0);\n",
       "}\n",
       "\n",
       "#sk-container-id-1 div.sk-toggleable__content.fitted pre {\n",
       "  /* unfitted */\n",
       "  background-color: var(--sklearn-color-fitted-level-0);\n",
       "}\n",
       "\n",
       "#sk-container-id-1 input.sk-toggleable__control:checked~div.sk-toggleable__content {\n",
       "  /* Expand drop-down */\n",
       "  max-height: 200px;\n",
       "  max-width: 100%;\n",
       "  overflow: auto;\n",
       "}\n",
       "\n",
       "#sk-container-id-1 input.sk-toggleable__control:checked~label.sk-toggleable__label-arrow:before {\n",
       "  content: \"▾\";\n",
       "}\n",
       "\n",
       "/* Pipeline/ColumnTransformer-specific style */\n",
       "\n",
       "#sk-container-id-1 div.sk-label input.sk-toggleable__control:checked~label.sk-toggleable__label {\n",
       "  color: var(--sklearn-color-text);\n",
       "  background-color: var(--sklearn-color-unfitted-level-2);\n",
       "}\n",
       "\n",
       "#sk-container-id-1 div.sk-label.fitted input.sk-toggleable__control:checked~label.sk-toggleable__label {\n",
       "  background-color: var(--sklearn-color-fitted-level-2);\n",
       "}\n",
       "\n",
       "/* Estimator-specific style */\n",
       "\n",
       "/* Colorize estimator box */\n",
       "#sk-container-id-1 div.sk-estimator input.sk-toggleable__control:checked~label.sk-toggleable__label {\n",
       "  /* unfitted */\n",
       "  background-color: var(--sklearn-color-unfitted-level-2);\n",
       "}\n",
       "\n",
       "#sk-container-id-1 div.sk-estimator.fitted input.sk-toggleable__control:checked~label.sk-toggleable__label {\n",
       "  /* fitted */\n",
       "  background-color: var(--sklearn-color-fitted-level-2);\n",
       "}\n",
       "\n",
       "#sk-container-id-1 div.sk-label label.sk-toggleable__label,\n",
       "#sk-container-id-1 div.sk-label label {\n",
       "  /* The background is the default theme color */\n",
       "  color: var(--sklearn-color-text-on-default-background);\n",
       "}\n",
       "\n",
       "/* On hover, darken the color of the background */\n",
       "#sk-container-id-1 div.sk-label:hover label.sk-toggleable__label {\n",
       "  color: var(--sklearn-color-text);\n",
       "  background-color: var(--sklearn-color-unfitted-level-2);\n",
       "}\n",
       "\n",
       "/* Label box, darken color on hover, fitted */\n",
       "#sk-container-id-1 div.sk-label.fitted:hover label.sk-toggleable__label.fitted {\n",
       "  color: var(--sklearn-color-text);\n",
       "  background-color: var(--sklearn-color-fitted-level-2);\n",
       "}\n",
       "\n",
       "/* Estimator label */\n",
       "\n",
       "#sk-container-id-1 div.sk-label label {\n",
       "  font-family: monospace;\n",
       "  font-weight: bold;\n",
       "  display: inline-block;\n",
       "  line-height: 1.2em;\n",
       "}\n",
       "\n",
       "#sk-container-id-1 div.sk-label-container {\n",
       "  text-align: center;\n",
       "}\n",
       "\n",
       "/* Estimator-specific */\n",
       "#sk-container-id-1 div.sk-estimator {\n",
       "  font-family: monospace;\n",
       "  border: 1px dotted var(--sklearn-color-border-box);\n",
       "  border-radius: 0.25em;\n",
       "  box-sizing: border-box;\n",
       "  margin-bottom: 0.5em;\n",
       "  /* unfitted */\n",
       "  background-color: var(--sklearn-color-unfitted-level-0);\n",
       "}\n",
       "\n",
       "#sk-container-id-1 div.sk-estimator.fitted {\n",
       "  /* fitted */\n",
       "  background-color: var(--sklearn-color-fitted-level-0);\n",
       "}\n",
       "\n",
       "/* on hover */\n",
       "#sk-container-id-1 div.sk-estimator:hover {\n",
       "  /* unfitted */\n",
       "  background-color: var(--sklearn-color-unfitted-level-2);\n",
       "}\n",
       "\n",
       "#sk-container-id-1 div.sk-estimator.fitted:hover {\n",
       "  /* fitted */\n",
       "  background-color: var(--sklearn-color-fitted-level-2);\n",
       "}\n",
       "\n",
       "/* Specification for estimator info (e.g. \"i\" and \"?\") */\n",
       "\n",
       "/* Common style for \"i\" and \"?\" */\n",
       "\n",
       ".sk-estimator-doc-link,\n",
       "a:link.sk-estimator-doc-link,\n",
       "a:visited.sk-estimator-doc-link {\n",
       "  float: right;\n",
       "  font-size: smaller;\n",
       "  line-height: 1em;\n",
       "  font-family: monospace;\n",
       "  background-color: var(--sklearn-color-background);\n",
       "  border-radius: 1em;\n",
       "  height: 1em;\n",
       "  width: 1em;\n",
       "  text-decoration: none !important;\n",
       "  margin-left: 1ex;\n",
       "  /* unfitted */\n",
       "  border: var(--sklearn-color-unfitted-level-1) 1pt solid;\n",
       "  color: var(--sklearn-color-unfitted-level-1);\n",
       "}\n",
       "\n",
       ".sk-estimator-doc-link.fitted,\n",
       "a:link.sk-estimator-doc-link.fitted,\n",
       "a:visited.sk-estimator-doc-link.fitted {\n",
       "  /* fitted */\n",
       "  border: var(--sklearn-color-fitted-level-1) 1pt solid;\n",
       "  color: var(--sklearn-color-fitted-level-1);\n",
       "}\n",
       "\n",
       "/* On hover */\n",
       "div.sk-estimator:hover .sk-estimator-doc-link:hover,\n",
       ".sk-estimator-doc-link:hover,\n",
       "div.sk-label-container:hover .sk-estimator-doc-link:hover,\n",
       ".sk-estimator-doc-link:hover {\n",
       "  /* unfitted */\n",
       "  background-color: var(--sklearn-color-unfitted-level-3);\n",
       "  color: var(--sklearn-color-background);\n",
       "  text-decoration: none;\n",
       "}\n",
       "\n",
       "div.sk-estimator.fitted:hover .sk-estimator-doc-link.fitted:hover,\n",
       ".sk-estimator-doc-link.fitted:hover,\n",
       "div.sk-label-container:hover .sk-estimator-doc-link.fitted:hover,\n",
       ".sk-estimator-doc-link.fitted:hover {\n",
       "  /* fitted */\n",
       "  background-color: var(--sklearn-color-fitted-level-3);\n",
       "  color: var(--sklearn-color-background);\n",
       "  text-decoration: none;\n",
       "}\n",
       "\n",
       "/* Span, style for the box shown on hovering the info icon */\n",
       ".sk-estimator-doc-link span {\n",
       "  display: none;\n",
       "  z-index: 9999;\n",
       "  position: relative;\n",
       "  font-weight: normal;\n",
       "  right: .2ex;\n",
       "  padding: .5ex;\n",
       "  margin: .5ex;\n",
       "  width: min-content;\n",
       "  min-width: 20ex;\n",
       "  max-width: 50ex;\n",
       "  color: var(--sklearn-color-text);\n",
       "  box-shadow: 2pt 2pt 4pt #999;\n",
       "  /* unfitted */\n",
       "  background: var(--sklearn-color-unfitted-level-0);\n",
       "  border: .5pt solid var(--sklearn-color-unfitted-level-3);\n",
       "}\n",
       "\n",
       ".sk-estimator-doc-link.fitted span {\n",
       "  /* fitted */\n",
       "  background: var(--sklearn-color-fitted-level-0);\n",
       "  border: var(--sklearn-color-fitted-level-3);\n",
       "}\n",
       "\n",
       ".sk-estimator-doc-link:hover span {\n",
       "  display: block;\n",
       "}\n",
       "\n",
       "/* \"?\"-specific style due to the `<a>` HTML tag */\n",
       "\n",
       "#sk-container-id-1 a.estimator_doc_link {\n",
       "  float: right;\n",
       "  font-size: 1rem;\n",
       "  line-height: 1em;\n",
       "  font-family: monospace;\n",
       "  background-color: var(--sklearn-color-background);\n",
       "  border-radius: 1rem;\n",
       "  height: 1rem;\n",
       "  width: 1rem;\n",
       "  text-decoration: none;\n",
       "  /* unfitted */\n",
       "  color: var(--sklearn-color-unfitted-level-1);\n",
       "  border: var(--sklearn-color-unfitted-level-1) 1pt solid;\n",
       "}\n",
       "\n",
       "#sk-container-id-1 a.estimator_doc_link.fitted {\n",
       "  /* fitted */\n",
       "  border: var(--sklearn-color-fitted-level-1) 1pt solid;\n",
       "  color: var(--sklearn-color-fitted-level-1);\n",
       "}\n",
       "\n",
       "/* On hover */\n",
       "#sk-container-id-1 a.estimator_doc_link:hover {\n",
       "  /* unfitted */\n",
       "  background-color: var(--sklearn-color-unfitted-level-3);\n",
       "  color: var(--sklearn-color-background);\n",
       "  text-decoration: none;\n",
       "}\n",
       "\n",
       "#sk-container-id-1 a.estimator_doc_link.fitted:hover {\n",
       "  /* fitted */\n",
       "  background-color: var(--sklearn-color-fitted-level-3);\n",
       "}\n",
       "</style><div id=\"sk-container-id-1\" class=\"sk-top-container\"><div class=\"sk-text-repr-fallback\"><pre>LogisticRegression()</pre><b>In a Jupyter environment, please rerun this cell to show the HTML representation or trust the notebook. <br />On GitHub, the HTML representation is unable to render, please try loading this page with nbviewer.org.</b></div><div class=\"sk-container\" hidden><div class=\"sk-item\"><div class=\"sk-estimator fitted sk-toggleable\"><input class=\"sk-toggleable__control sk-hidden--visually\" id=\"sk-estimator-id-1\" type=\"checkbox\" checked><label for=\"sk-estimator-id-1\" class=\"sk-toggleable__label fitted sk-toggleable__label-arrow fitted\">&nbsp;&nbsp;LogisticRegression<a class=\"sk-estimator-doc-link fitted\" rel=\"noreferrer\" target=\"_blank\" href=\"https://scikit-learn.org/1.4/modules/generated/sklearn.linear_model.LogisticRegression.html\">?<span>Documentation for LogisticRegression</span></a><span class=\"sk-estimator-doc-link fitted\">i<span>Fitted</span></span></label><div class=\"sk-toggleable__content fitted\"><pre>LogisticRegression()</pre></div> </div></div></div></div>"
      ],
      "text/plain": [
       "LogisticRegression()"
      ]
     },
     "execution_count": 186,
     "metadata": {},
     "output_type": "execute_result"
    }
   ],
   "source": [
    "lr.fit(X_train, y_train)"
   ]
  },
  {
   "cell_type": "code",
   "execution_count": 188,
   "id": "8c5c3722-1fdf-41fa-8982-acb467a852c5",
   "metadata": {},
   "outputs": [
    {
     "data": {
      "text/plain": [
       "0.9775510204081632"
      ]
     },
     "execution_count": 188,
     "metadata": {},
     "output_type": "execute_result"
    }
   ],
   "source": [
    "lr.score(X_train, y_train)"
   ]
  },
  {
   "cell_type": "code",
   "execution_count": 190,
   "id": "94a14f72-6e59-4799-af16-a4fba6857919",
   "metadata": {},
   "outputs": [
    {
     "data": {
      "text/plain": [
       "0.9333333333333333"
      ]
     },
     "execution_count": 190,
     "metadata": {},
     "output_type": "execute_result"
    }
   ],
   "source": [
    "lr.score(X_test, y_test)"
   ]
  },
  {
   "cell_type": "code",
   "execution_count": 192,
   "id": "37b73e08-a59c-447a-90dd-41ad0c1bb33d",
   "metadata": {},
   "outputs": [],
   "source": [
    "y_pred = lr.predict(X_test)"
   ]
  },
  {
   "cell_type": "markdown",
   "id": "fa5cde7a-8e87-4f62-8090-383c34f37354",
   "metadata": {},
   "source": [
    "# Evaluate the model"
   ]
  },
  {
   "cell_type": "code",
   "execution_count": 201,
   "id": "f46b035b-14b6-442a-b356-7a3171e6f553",
   "metadata": {},
   "outputs": [
    {
     "name": "stdout",
     "output_type": "stream",
     "text": [
      "confusion_matrix \n",
      "[[41  5  0  0  0]\n",
      " [ 0 39  7  0  0]\n",
      " [ 0  0 34  0  0]\n",
      " [ 0  0  2 41  0]\n",
      " [ 0  0  0  0 41]]\n",
      "-------------------------------------------\n",
      "accuracy_score \n",
      "0.9333333333333333\n",
      "-------------------------------------------\n",
      "precision_score \n",
      "0.9333333333333333\n",
      "-------------------------------------------\n",
      "recall_score \n",
      "0.9333333333333333\n",
      "-------------------------------------------\n",
      "f1_score \n",
      "0.9333333333333333\n",
      "-------------------------------------------\n"
     ]
    }
   ],
   "source": [
    "from sklearn.metrics import confusion_matrix, accuracy_score, precision_score, recall_score,f1_score\n",
    "print(f\"confusion_matrix \\n{confusion_matrix(y_pred, y_test)}\")\n",
    "print(\"-------------------------------------------\")\n",
    "print(f\"accuracy_score \\n{accuracy_score(y_pred, y_test)}\")\n",
    "print(\"-------------------------------------------\")\n",
    "print(f\"precision_score \\n{precision_score(y_pred, y_test, average='micro')}\")\n",
    "print(\"-------------------------------------------\")\n",
    "print(f\"recall_score \\n{recall_score(y_pred, y_test, average='micro')}\")\n",
    "print(\"-------------------------------------------\")\n",
    "print(f\"f1_score \\n{f1_score(y_pred, y_test, average='micro')}\")\n",
    "print(\"-------------------------------------------\")"
   ]
  },
  {
   "cell_type": "code",
   "execution_count": null,
   "id": "f4999abf-662c-4a91-b8e0-7b6444b4fc07",
   "metadata": {},
   "outputs": [],
   "source": []
  }
 ],
 "metadata": {
  "kernelspec": {
   "display_name": "Python 3 (ipykernel)",
   "language": "python",
   "name": "python3"
  },
  "language_info": {
   "codemirror_mode": {
    "name": "ipython",
    "version": 3
   },
   "file_extension": ".py",
   "mimetype": "text/x-python",
   "name": "python",
   "nbconvert_exporter": "python",
   "pygments_lexer": "ipython3",
   "version": "3.12.4"
  }
 },
 "nbformat": 4,
 "nbformat_minor": 5
}
