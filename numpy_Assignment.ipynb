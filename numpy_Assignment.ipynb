{
 "cells": [
  {
   "cell_type": "code",
   "execution_count": 2,
   "id": "c11b88f8-0d70-428d-a92b-aa5210db7933",
   "metadata": {},
   "outputs": [],
   "source": [
    "import numpy as np"
   ]
  },
  {
   "cell_type": "markdown",
   "id": "42fb1de3-e36d-4d64-a091-867d868506a2",
   "metadata": {},
   "source": [
    "### Write a NumPy program to test whether none of the elements of a given array is zero."
   ]
  },
  {
   "cell_type": "code",
   "execution_count": 9,
   "id": "f3b92812-d88b-4374-ba4c-6782fb2b4e1c",
   "metadata": {},
   "outputs": [],
   "source": [
    "arr1 = np.array([1,2,3,4])\n",
    "arr2 = np.array([1,0,3,4])\n",
    "arr3 = np.array([0,0,0,0])"
   ]
  },
  {
   "cell_type": "code",
   "execution_count": 11,
   "id": "eb0a8b56-62d2-4df2-a143-16a2c4521872",
   "metadata": {},
   "outputs": [],
   "source": [
    "def is_any_zeros(arr):\n",
    "    if np.all(arr) == True:\n",
    "        print(\"no zeros in the array\")\n",
    "    else:\n",
    "        print(\"there is zeros in the array\")"
   ]
  },
  {
   "cell_type": "code",
   "execution_count": 13,
   "id": "09e6c93f-be09-42ed-bad2-5c6e5f7bd736",
   "metadata": {},
   "outputs": [
    {
     "name": "stdout",
     "output_type": "stream",
     "text": [
      "no zeros in the array\n",
      "there is zeros in the array\n",
      "there is zeros in the array\n"
     ]
    }
   ],
   "source": [
    "is_any_zeros(arr1)\n",
    "is_any_zeros(arr2)\n",
    "is_any_zeros(arr3)"
   ]
  },
  {
   "cell_type": "markdown",
   "id": "56433f68-a465-40ca-b075-adb946ea3f69",
   "metadata": {},
   "source": [
    "### Write a NumPy program to create an element-wise comparison (equal, equal within a tolerance) of two given"
   ]
  },
  {
   "cell_type": "code",
   "execution_count": null,
   "id": "ac16c360-c51a-407c-acb5-1dbd052ca136",
   "metadata": {},
   "outputs": [],
   "source": []
  },
  {
   "cell_type": "markdown",
   "id": "5c3e7237-f215-4d4e-8f56-ec897b596c08",
   "metadata": {},
   "source": [
    "### Write a NumPy program to create an array of 10 zeros,10 ones, 10 fives."
   ]
  },
  {
   "cell_type": "code",
   "execution_count": 38,
   "id": "59a316bd-7361-4f7d-95f3-8b66f1484bcd",
   "metadata": {},
   "outputs": [],
   "source": [
    "def _10zeros_10ones_10fives():\n",
    "    a = np.zeros(10)\n",
    "    b = np.ones(10)\n",
    "    c = np.ones(10) * 5\n",
    "    d = np.hstack((a,b,c))\n",
    "    return d"
   ]
  },
  {
   "cell_type": "code",
   "execution_count": 40,
   "id": "76581a30-d31a-4ed9-ac14-39db14472448",
   "metadata": {},
   "outputs": [
    {
     "data": {
      "text/plain": [
       "array([0., 0., 0., 0., 0., 0., 0., 0., 0., 0., 1., 1., 1., 1., 1., 1., 1.,\n",
       "       1., 1., 1., 5., 5., 5., 5., 5., 5., 5., 5., 5., 5.])"
      ]
     },
     "execution_count": 40,
     "metadata": {},
     "output_type": "execute_result"
    }
   ],
   "source": [
    "_10zeros_10ones_10fives()"
   ]
  },
  {
   "cell_type": "markdown",
   "id": "812635c1-9ea3-4e6f-8f62-24a5ddeec676",
   "metadata": {},
   "source": [
    "### Write a NumPy program to create an array of the integers from 30 to70"
   ]
  },
  {
   "cell_type": "code",
   "execution_count": 43,
   "id": "b629527f-fbd2-42a7-aa7b-83b387010150",
   "metadata": {},
   "outputs": [],
   "source": [
    "def arr_30_to_70():\n",
    "    a = np.arange(30,71)\n",
    "    return a"
   ]
  },
  {
   "cell_type": "code",
   "execution_count": 45,
   "id": "b70fd2ec-8463-4c72-bb49-39c76956a1ff",
   "metadata": {},
   "outputs": [
    {
     "data": {
      "text/plain": [
       "array([30, 31, 32, 33, 34, 35, 36, 37, 38, 39, 40, 41, 42, 43, 44, 45, 46,\n",
       "       47, 48, 49, 50, 51, 52, 53, 54, 55, 56, 57, 58, 59, 60, 61, 62, 63,\n",
       "       64, 65, 66, 67, 68, 69, 70])"
      ]
     },
     "execution_count": 45,
     "metadata": {},
     "output_type": "execute_result"
    }
   ],
   "source": [
    "arr_30_to_70()"
   ]
  },
  {
   "cell_type": "markdown",
   "id": "ddfd8bed-b1f5-46a1-82ce-dcc43a632e8a",
   "metadata": {},
   "source": [
    "### Write a NumPy program to create a 3x3 identity matrix"
   ]
  },
  {
   "cell_type": "code",
   "execution_count": 48,
   "id": "c0d680ce-1a79-4832-80e1-ea14ff0d4884",
   "metadata": {},
   "outputs": [],
   "source": [
    "def _3x3_identity_matrix():\n",
    "    a = np.identity(3)\n",
    "    return a"
   ]
  },
  {
   "cell_type": "code",
   "execution_count": 52,
   "id": "305c65fd-a4d3-4c69-bd90-2087632cd079",
   "metadata": {},
   "outputs": [
    {
     "data": {
      "text/plain": [
       "array([[1., 0., 0.],\n",
       "       [0., 1., 0.],\n",
       "       [0., 0., 1.]])"
      ]
     },
     "execution_count": 52,
     "metadata": {},
     "output_type": "execute_result"
    }
   ],
   "source": [
    "_3x3_identity_matrix()"
   ]
  },
  {
   "cell_type": "markdown",
   "id": "d7e0d2e5-0c34-44da-b3a3-f35849e29061",
   "metadata": {},
   "source": [
    "### Write a NumPy program to generate a random number between 0 and 1"
   ]
  },
  {
   "cell_type": "code",
   "execution_count": 55,
   "id": "d6f81fbb-9be7-4503-90ac-d51d193c1916",
   "metadata": {},
   "outputs": [],
   "source": [
    "def random_number_between_0_and_1():\n",
    "    a = np.random.rand(1)\n",
    "    return a"
   ]
  },
  {
   "cell_type": "code",
   "execution_count": 63,
   "id": "db06e734-1d1f-42b0-8747-29085fa9cf31",
   "metadata": {},
   "outputs": [
    {
     "data": {
      "text/plain": [
       "array([0.97285707])"
      ]
     },
     "execution_count": 63,
     "metadata": {},
     "output_type": "execute_result"
    }
   ],
   "source": [
    "random_number_between_0_and_1()"
   ]
  },
  {
   "cell_type": "markdown",
   "id": "6812b85a-fca1-41b2-98cd-e28326ba2e29",
   "metadata": {},
   "source": [
    "### Write a NumPy program to generate an array of 15 random numbers from a standard normal distribution"
   ]
  },
  {
   "cell_type": "code",
   "execution_count": 68,
   "id": "a5b6d267-6882-4727-b90e-d5c56ba36c50",
   "metadata": {},
   "outputs": [],
   "source": [
    "def _15random_number_standard_normal_distribution():\n",
    "    a = np.random.randn(15)\n",
    "    return a"
   ]
  },
  {
   "cell_type": "code",
   "execution_count": 70,
   "id": "d0003f44-a323-4b48-ade0-5fd44114b1ce",
   "metadata": {},
   "outputs": [
    {
     "data": {
      "text/plain": [
       "array([-1.1740274 , -0.93239525,  0.21821172, -0.54329653,  0.44954327,\n",
       "       -0.04114661, -0.87538557,  0.92061444, -0.32014653, -1.2326642 ,\n",
       "       -0.58767673,  0.97959822,  0.45435681,  0.77674056,  0.05448449])"
      ]
     },
     "execution_count": 70,
     "metadata": {},
     "output_type": "execute_result"
    }
   ],
   "source": [
    "_15random_number_standard_normal_distribution()"
   ]
  },
  {
   "cell_type": "markdown",
   "id": "1c73ae84-446c-4a7c-b002-642324aec33d",
   "metadata": {},
   "source": [
    "### Write a NumPy program to create a vector with values ranging from 15 to 55 and print all values except the first and last."
   ]
  },
  {
   "cell_type": "code",
   "execution_count": 73,
   "id": "6a1c0195-4782-4fe9-bc40-132c555e759a",
   "metadata": {},
   "outputs": [],
   "source": [
    "def from_15_to_55():\n",
    "    a = np.arange(16,55)\n",
    "    return a"
   ]
  },
  {
   "cell_type": "code",
   "execution_count": 75,
   "id": "3e1baa36-7b13-4369-822b-8c4bea304bd0",
   "metadata": {},
   "outputs": [
    {
     "data": {
      "text/plain": [
       "array([16, 17, 18, 19, 20, 21, 22, 23, 24, 25, 26, 27, 28, 29, 30, 31, 32,\n",
       "       33, 34, 35, 36, 37, 38, 39, 40, 41, 42, 43, 44, 45, 46, 47, 48, 49,\n",
       "       50, 51, 52, 53, 54])"
      ]
     },
     "execution_count": 75,
     "metadata": {},
     "output_type": "execute_result"
    }
   ],
   "source": [
    "from_15_to_55()"
   ]
  },
  {
   "cell_type": "markdown",
   "id": "8e77c572-2041-4a25-a3fa-362b55e4dd8d",
   "metadata": {},
   "source": [
    "### Write a NumPy program to create a vector of length 5 filled with arbitrary integers from 0 to 10"
   ]
  },
  {
   "cell_type": "code",
   "execution_count": 104,
   "id": "ca043526-0b6e-4dc2-aa59-5071cefddb8e",
   "metadata": {},
   "outputs": [],
   "source": [
    "def from_0_to_10():\n",
    "    a = np.arange(0,10,(2))\n",
    "    return a"
   ]
  },
  {
   "cell_type": "code",
   "execution_count": 106,
   "id": "f1b16224-a841-4393-87e2-de8f28eaf021",
   "metadata": {},
   "outputs": [
    {
     "data": {
      "text/plain": [
       "array([0, 2, 4, 6, 8])"
      ]
     },
     "execution_count": 106,
     "metadata": {},
     "output_type": "execute_result"
    }
   ],
   "source": [
    "from_0_to_10()"
   ]
  },
  {
   "cell_type": "markdown",
   "id": "25ab83da-1253-43c2-823f-bb9ec3668d38",
   "metadata": {},
   "source": [
    "### Write a NumPy program to create a 10x10 matrix, in which the elements on the borders will be equal to 1, and inside 0."
   ]
  },
  {
   "cell_type": "code",
   "execution_count": 150,
   "id": "aa513a01-28f2-4a78-87e2-c87411a415f1",
   "metadata": {},
   "outputs": [],
   "source": [
    "#def borders1_inside0():\n",
    "a = np.ones((10,10))\n",
    "a[1:-1,1:-1] = 0"
   ]
  },
  {
   "cell_type": "code",
   "execution_count": 152,
   "id": "94c155d0-8bea-4f64-92a9-c343599827b5",
   "metadata": {},
   "outputs": [
    {
     "data": {
      "text/plain": [
       "array([[1., 1., 1., 1., 1., 1., 1., 1., 1., 1.],\n",
       "       [1., 0., 0., 0., 0., 0., 0., 0., 0., 1.],\n",
       "       [1., 0., 0., 0., 0., 0., 0., 0., 0., 1.],\n",
       "       [1., 0., 0., 0., 0., 0., 0., 0., 0., 1.],\n",
       "       [1., 0., 0., 0., 0., 0., 0., 0., 0., 1.],\n",
       "       [1., 0., 0., 0., 0., 0., 0., 0., 0., 1.],\n",
       "       [1., 0., 0., 0., 0., 0., 0., 0., 0., 1.],\n",
       "       [1., 0., 0., 0., 0., 0., 0., 0., 0., 1.],\n",
       "       [1., 0., 0., 0., 0., 0., 0., 0., 0., 1.],\n",
       "       [1., 1., 1., 1., 1., 1., 1., 1., 1., 1.]])"
      ]
     },
     "execution_count": 152,
     "metadata": {},
     "output_type": "execute_result"
    }
   ],
   "source": [
    "a"
   ]
  },
  {
   "cell_type": "markdown",
   "id": "3467c7ee-69a2-48ba-b9b2-ac4ff71d819f",
   "metadata": {},
   "source": [
    "### Write a NumPy program to create a 5x5 zero matrix with elements on the main diagonal equal to 1, 2, 3, 4, 5."
   ]
  },
  {
   "cell_type": "code",
   "execution_count": 155,
   "id": "14af6b07-98e9-4720-b3df-4c23be6e80a3",
   "metadata": {},
   "outputs": [],
   "source": [
    "def zero_diag():\n",
    "    diag = np.array([1,2,3,4,5])\n",
    "    arr = np.diag(diag)\n",
    "    return arr"
   ]
  },
  {
   "cell_type": "code",
   "execution_count": 157,
   "id": "5f9f792f-5cb3-4678-8c35-9a399902ed68",
   "metadata": {},
   "outputs": [
    {
     "data": {
      "text/plain": [
       "array([[1, 0, 0, 0, 0],\n",
       "       [0, 2, 0, 0, 0],\n",
       "       [0, 0, 3, 0, 0],\n",
       "       [0, 0, 0, 4, 0],\n",
       "       [0, 0, 0, 0, 5]])"
      ]
     },
     "execution_count": 157,
     "metadata": {},
     "output_type": "execute_result"
    }
   ],
   "source": [
    "zero_diag()"
   ]
  },
  {
   "cell_type": "markdown",
   "id": "898d5e45-2121-4339-be4f-2f55da51ea0d",
   "metadata": {},
   "source": [
    "### Write a NumPy program to create a 4x4 matrix in which 0 and 1 are staggered, with zeros on the main diagonal."
   ]
  },
  {
   "cell_type": "code",
   "execution_count": 36,
   "id": "27d4e5d5-4de2-4d2d-ac75-06f8cc7738cb",
   "metadata": {},
   "outputs": [],
   "source": [
    "def diagonal():\n",
    "    arr = np.ones((4,4))\n",
    "    \n",
    "    for i in range(2):\n",
    "        arr[1::2,1::2] = 0\n",
    "        arr[:3:2,:3:2] = 0\n",
    "    return arr"
   ]
  },
  {
   "cell_type": "code",
   "execution_count": 38,
   "id": "a7221b05-79ab-4e9f-8eda-6857039ab86a",
   "metadata": {},
   "outputs": [
    {
     "data": {
      "text/plain": [
       "array([[0., 1., 0., 1.],\n",
       "       [1., 0., 1., 0.],\n",
       "       [0., 1., 0., 1.],\n",
       "       [1., 0., 1., 0.]])"
      ]
     },
     "execution_count": 38,
     "metadata": {},
     "output_type": "execute_result"
    }
   ],
   "source": [
    "diagonal()"
   ]
  },
  {
   "cell_type": "markdown",
   "id": "b4599562-6a9f-45cc-ab4f-a7020f5ab2c5",
   "metadata": {},
   "source": [
    "### Write a NumPy program to create a one-dimensional array of forty pseudo-randomly generated values. Select."
   ]
  },
  {
   "cell_type": "code",
   "execution_count": 68,
   "id": "1ef7c1d8-89a0-41f6-bbf2-2b102911e3e9",
   "metadata": {},
   "outputs": [],
   "source": [
    "def forty_random():\n",
    "    arr = np.random.random(40)\n",
    "    return arr"
   ]
  },
  {
   "cell_type": "code",
   "execution_count": 70,
   "id": "aed08bb5-c16a-4233-8341-d2ba519a9855",
   "metadata": {},
   "outputs": [
    {
     "data": {
      "text/plain": [
       "array([0.48479809, 0.78435618, 0.86896312, 0.63319229, 0.69481484,\n",
       "       0.3496814 , 0.85439748, 0.51008491, 0.84321096, 0.53687677,\n",
       "       0.38041104, 0.53784992, 0.62442625, 0.15665866, 0.18077394,\n",
       "       0.678847  , 0.59042861, 0.52041511, 0.82570165, 0.18960223,\n",
       "       0.55691273, 0.88666105, 0.17478702, 0.43664138, 0.98812559,\n",
       "       0.23742357, 0.47711769, 0.80976593, 0.04360707, 0.84029235,\n",
       "       0.50260215, 0.72167379, 0.56446744, 0.74605686, 0.27716088,\n",
       "       0.64474206, 0.46448155, 0.74485144, 0.83834667, 0.97737291])"
      ]
     },
     "execution_count": 70,
     "metadata": {},
     "output_type": "execute_result"
    }
   ],
   "source": [
    "forty_random()"
   ]
  },
  {
   "cell_type": "markdown",
   "id": "e940d596-9b2c-402e-b132-85657077c731",
   "metadata": {},
   "source": [
    "### Write a NumPy program to extract all numbers from a given array which are less and greater than a specified number."
   ]
  },
  {
   "cell_type": "code",
   "execution_count": 75,
   "id": "09f5e40e-9170-43f7-872e-8cc460567f0c",
   "metadata": {},
   "outputs": [],
   "source": [
    "def less_more(arr,num):\n",
    "    numbers = list(filter(lambda x : x > num or x < num, arr))\n",
    "    return numbers\n",
    "    \n",
    "    "
   ]
  },
  {
   "cell_type": "code",
   "execution_count": 82,
   "id": "f19272bd-095e-4860-841c-aacc5c767951",
   "metadata": {},
   "outputs": [
    {
     "data": {
      "text/plain": [
       "[0, 1, 2, 4]"
      ]
     },
     "execution_count": 82,
     "metadata": {},
     "output_type": "execute_result"
    }
   ],
   "source": [
    "arr1 = np.arange(5)\n",
    "number = 3\n",
    "less_more(arr1,number)"
   ]
  },
  {
   "cell_type": "code",
   "execution_count": null,
   "id": "301f55fd-2dae-40d1-8790-704d2a4b1fbe",
   "metadata": {},
   "outputs": [],
   "source": []
  }
 ],
 "metadata": {
  "kernelspec": {
   "display_name": "Python 3 (ipykernel)",
   "language": "python",
   "name": "python3"
  },
  "language_info": {
   "codemirror_mode": {
    "name": "ipython",
    "version": 3
   },
   "file_extension": ".py",
   "mimetype": "text/x-python",
   "name": "python",
   "nbconvert_exporter": "python",
   "pygments_lexer": "ipython3",
   "version": "3.12.4"
  }
 },
 "nbformat": 4,
 "nbformat_minor": 5
}
